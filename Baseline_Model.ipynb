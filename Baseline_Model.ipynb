{
 "cells": [
  {
   "cell_type": "markdown",
   "metadata": {},
   "source": [
    "# Baseline Model \n",
    "\n",
    "- Author: Israel Oliveira [\\[e-mail\\]](mailto:'Israel%20Oliveira%20'<prof.israel@gmail.com>)"
   ]
  },
  {
   "cell_type": "code",
   "execution_count": 1,
   "metadata": {
    "execution": {
     "iopub.execute_input": "2021-08-13T10:47:25.930219Z",
     "iopub.status.busy": "2021-08-13T10:47:25.929483Z",
     "iopub.status.idle": "2021-08-13T10:47:25.972172Z",
     "shell.execute_reply": "2021-08-13T10:47:25.971177Z",
     "shell.execute_reply.started": "2021-08-13T10:47:25.930089Z"
    },
    "tags": []
   },
   "outputs": [],
   "source": [
    "%load_ext watermark"
   ]
  },
  {
   "cell_type": "code",
   "execution_count": 30,
   "metadata": {
    "execution": {
     "iopub.execute_input": "2021-08-13T11:19:09.311354Z",
     "iopub.status.busy": "2021-08-13T11:19:09.310466Z",
     "iopub.status.idle": "2021-08-13T11:19:09.316458Z",
     "shell.execute_reply": "2021-08-13T11:19:09.315464Z",
     "shell.execute_reply.started": "2021-08-13T11:19:09.311311Z"
    },
    "tags": []
   },
   "outputs": [],
   "source": [
    "import pandas as pd\n",
    "import numpy as np\n",
    "\n",
    "from sklearn.model_selection import train_test_split, ParameterGrid\n",
    "from sklearn.ensemble import RandomForestClassifier"
   ]
  },
  {
   "cell_type": "code",
   "execution_count": 3,
   "metadata": {
    "execution": {
     "iopub.execute_input": "2021-08-13T10:47:28.130431Z",
     "iopub.status.busy": "2021-08-13T10:47:28.130060Z",
     "iopub.status.idle": "2021-08-13T10:47:28.154762Z",
     "shell.execute_reply": "2021-08-13T10:47:28.154152Z",
     "shell.execute_reply.started": "2021-08-13T10:47:28.130408Z"
    },
    "tags": []
   },
   "outputs": [],
   "source": [
    "from tqdm import tqdm\n",
    "\n",
    "from glob import glob\n",
    "\n",
    "# import matplotlib.pyplot as plt\n",
    "# %matplotlib inline\n",
    "# from matplotlib import rcParams\n",
    "# from cycler import cycler\n",
    "\n",
    "# rcParams['figure.figsize'] = 12, 8 # 18, 5\n",
    "# rcParams['axes.spines.top'] = False\n",
    "# rcParams['axes.spines.right'] = False\n",
    "# rcParams['axes.grid'] = True\n",
    "# rcParams['axes.prop_cycle'] = cycler(color=['#365977'])\n",
    "# rcParams['lines.linewidth'] = 2.5\n",
    "\n",
    "# import seaborn as sns\n",
    "# sns.set_theme()\n",
    "\n",
    "# pd.set_option(\"max_columns\", None)\n",
    "# pd.set_option(\"max_rows\", None)\n",
    "# pd.set_option('display.max_colwidth', None)\n",
    "\n",
    "from IPython.display import Markdown, display\n",
    "def md(arg):\n",
    "    display(Markdown(arg))\n",
    "\n",
    "# from pandas_profiling import ProfileReport\n",
    "# #report = ProfileReport(#DataFrame here#, minimal=True)\n",
    "# #report.to\n",
    "\n",
    "# import pyarrow.parquet as pq\n",
    "# #df = pq.ParquetDataset(path_to_folder_with_parquets, filesystem=None).read_pandas().to_pandas()\n",
    "\n",
    "# import json\n",
    "# def open_file_json(path,mode='r',var=None):\n",
    "#     if mode == 'w':\n",
    "#         with open(path,'w') as f:\n",
    "#             json.dump(var, f)\n",
    "#     if mode == 'r':\n",
    "#         with open(path,'r') as f:\n",
    "#             return json.load(f)\n",
    "\n",
    "# import functools\n",
    "# import operator\n",
    "# def flat(a):\n",
    "#     return functools.reduce(operator.iconcat, a, [])\n",
    "\n",
    "# import json\n",
    "# from glob import glob\n",
    "# from typing import NewType\n",
    "\n",
    "\n",
    "# DictsPathType = NewType(\"DictsPath\", str)\n",
    "\n",
    "\n",
    "# def open_file_json(path):\n",
    "#     with open(path, \"r\") as f:\n",
    "#         return json.load(f)\n",
    "\n",
    "# class LoadDicts:\n",
    "#     def __init__(self, dict_path: DictsPathType = \"./data\"):\n",
    "#         Dicts_glob = glob(f\"{dict_path}/*.json\")\n",
    "#         self.List = []\n",
    "#         self.Dict = {}\n",
    "#         for path_json in Dicts_glob:\n",
    "#             name = path_json.split(\"/\")[-1].replace(\".json\", \"\")\n",
    "#             self.List.append(name)\n",
    "#             self.Dict[name] = open_file_json(path_json)\n",
    "#             setattr(self, name, self.Dict[name])\n"
   ]
  },
  {
   "cell_type": "code",
   "execution_count": 4,
   "metadata": {
    "execution": {
     "iopub.execute_input": "2021-08-13T10:47:28.159313Z",
     "iopub.status.busy": "2021-08-13T10:47:28.157273Z",
     "iopub.status.idle": "2021-08-13T10:47:29.477953Z",
     "shell.execute_reply": "2021-08-13T10:47:29.473508Z",
     "shell.execute_reply.started": "2021-08-13T10:47:28.159270Z"
    },
    "tags": []
   },
   "outputs": [
    {
     "name": "stdout",
     "output_type": "stream",
     "text": [
      "Python implementation: CPython\n",
      "Python version       : 3.9.6\n",
      "IPython version      : 7.25.0\n",
      "\n",
      "Compiler    : GCC 8.3.0\n",
      "OS          : Linux\n",
      "Release     : 5.11.0-7620-generic\n",
      "Machine     : x86_64\n",
      "Processor   : \n",
      "CPU cores   : 4\n",
      "Architecture: 64bit\n",
      "\n",
      "Git hash: 4ec9e068fe7c2fd08871f668270f1ff8fdda018c\n",
      "\n",
      "Git repo: https://github.com/ysraell/creditcardfraud.git\n",
      "\n",
      "Git branch: main\n",
      "\n",
      "pandas: 1.3.1\n",
      "numpy : 1.19.5\n",
      "\n",
      "CPU\t: Intel(R) Core(TM) i7-7500U CPU @ 2.70GHz\n",
      "Mem:           15G\n",
      "Swap:         4.0G\n"
     ]
    }
   ],
   "source": [
    "# Run this cell before close.\n",
    "%watermark -d --iversion -b -r -g -m -v\n",
    "!cat /proc/cpuinfo |grep 'model name'|head -n 1 |sed -e 's/model\\ name/CPU/'\n",
    "!free -h |cut -d'i' -f1  |grep -v total"
   ]
  },
  {
   "cell_type": "markdown",
   "metadata": {},
   "source": [
    "# Initial search"
   ]
  },
  {
   "cell_type": "code",
   "execution_count": 70,
   "metadata": {
    "execution": {
     "iopub.execute_input": "2021-08-13T12:11:35.084587Z",
     "iopub.status.busy": "2021-08-13T12:11:35.081453Z",
     "iopub.status.idle": "2021-08-13T12:11:35.134880Z",
     "shell.execute_reply": "2021-08-13T12:11:35.132172Z",
     "shell.execute_reply.started": "2021-08-13T12:11:35.084436Z"
    },
    "tags": []
   },
   "outputs": [
    {
     "name": "stdout",
     "output_type": "stream",
     "text": [
      "{'n_estimators': [200, 400, 600, 800, 1000], 'max_features': ['auto', 'sqrt'], 'min_samples_split': [2, 8], 'min_samples_leaf': [1, 4], 'bootstrap': [True, False]}\n"
     ]
    }
   ],
   "source": [
    "#\n",
    "N_fraud_test = 200\n",
    "N_truth_test = int(1e3)\n",
    "N_truth_train = int(1e3)\n",
    "\n",
    "#\n",
    "split_seeds = [13, 17, 19, 23]\n",
    "\n",
    "# random_state used by RandomForestClassifier\n",
    "random_state = 42\n",
    "\n",
    "# Number of trees in random forest\n",
    "n_estimators = [int(x) for x in range(200,1100,200)]\n",
    "\n",
    "# Number of features to consider at every split\n",
    "max_features = ['auto', 'sqrt']\n",
    "\n",
    "# Minimum number of samples required to split a node\n",
    "min_samples_split = [2, 8]\n",
    "\n",
    "# Minimum number of samples required at each leaf node\n",
    "min_samples_leaf = [1, 4]\n",
    "\n",
    "# Method of selecting samples for training each tree\n",
    "bootstrap = [True, False]\n",
    "\n",
    "# Create the random grid\n",
    "search_grid = {'n_estimators': n_estimators,\n",
    "               'max_features': max_features,\n",
    "               'min_samples_split': min_samples_split,\n",
    "               'min_samples_leaf': min_samples_leaf,\n",
    "               'bootstrap': bootstrap}\n",
    "\n",
    "print(search_grid)"
   ]
  },
  {
   "cell_type": "code",
   "execution_count": 71,
   "metadata": {
    "execution": {
     "iopub.execute_input": "2021-08-13T12:11:39.443554Z",
     "iopub.status.busy": "2021-08-13T12:11:39.440948Z",
     "iopub.status.idle": "2021-08-13T12:11:39.460614Z",
     "shell.execute_reply": "2021-08-13T12:11:39.455831Z",
     "shell.execute_reply.started": "2021-08-13T12:11:39.443410Z"
    },
    "tags": []
   },
   "outputs": [],
   "source": [
    "n_id = 0"
   ]
  },
  {
   "cell_type": "code",
   "execution_count": 73,
   "metadata": {
    "execution": {
     "iopub.execute_input": "2021-08-13T12:11:48.569279Z",
     "iopub.status.busy": "2021-08-13T12:11:48.568784Z",
     "iopub.status.idle": "2021-08-13T12:16:59.142340Z",
     "shell.execute_reply": "2021-08-13T12:16:59.141594Z",
     "shell.execute_reply.started": "2021-08-13T12:11:48.569234Z"
    },
    "tags": []
   },
   "outputs": [
    {
     "name": "stderr",
     "output_type": "stream",
     "text": [
      "100%|██████████| 80/80 [05:10<00:00,  3.88s/it]\n"
     ]
    }
   ],
   "source": [
    "out = {}\n",
    "for params in tqdm(ParameterGrid(search_grid)):\n",
    "    params['random_state'] = random_state\n",
    "    rf = RandomForestClassifier(**params)\n",
    "    rf.fit(df_train[ds_cols].to_numpy(), df_train[target_col].to_numpy())\n",
    "    probs = rf.predict_proba(df_test[ds_cols].to_numpy())\n",
    "    exp_id = f\"id_{n_id}\"\n",
    "    n_id +=1\n",
    "    exp = {\n",
    "        exp_id: {\n",
    "            'probs' : probs,\n",
    "            'rf_classes': rf.classes_,\n",
    "            'params': params\n",
    "        }\n",
    "    }\n",
    "    out.update(exp)"
   ]
  },
  {
   "cell_type": "code",
   "execution_count": null,
   "metadata": {},
   "outputs": [],
   "source": [
    "def SearchGrid(df_train, df_test, random_state):\n",
    "    "
   ]
  },
  {
   "cell_type": "code",
   "execution_count": 6,
   "metadata": {
    "execution": {
     "iopub.execute_input": "2021-08-13T10:48:22.090664Z",
     "iopub.status.busy": "2021-08-13T10:48:22.089950Z",
     "iopub.status.idle": "2021-08-13T10:48:24.641934Z",
     "shell.execute_reply": "2021-08-13T10:48:24.641306Z",
     "shell.execute_reply.started": "2021-08-13T10:48:22.090601Z"
    },
    "tags": []
   },
   "outputs": [],
   "source": [
    "n_id = 0\n",
    "\n",
    "for ds_path in glob('/work/data/creditcard*.csv'):\n",
    "    df = pd.read_csv(ds_path)\n",
    "    target_col = 'Class'\n",
    "    ds_cols = [col for col in df.columns if 'V' in col]+['Amount']\n",
    "    df = df[ds_cols+[target_col]]\n",
    "    df_fraud = df.query('Class == 1').reset_index(drop=True).copy()\n",
    "    df_truth = df.query('Class == 0').reset_index(drop=True).copy()\n",
    "    del df\n",
    "    for seed in split_seeds:\n",
    "        df_fraud_train, df_fraud_test = train_test_split(df_fraud, test_size=N_fraud_test, random_state=seed)\n",
    "        df_truth_train, df_truth_test = train_test_split(df_truth, train_size=N_truth_train, test_size=N_truth_test, random_state=seed)\n",
    "        df_train = pd.concat([df_fraud_train, df_truth_train]).reset_index(drop=True)\n",
    "        df_test = pd.concat([df_fraud_test, df_truth_test]).reset_index(drop=True)\n",
    "\n",
    "        break\n",
    "    break"
   ]
  },
  {
   "cell_type": "code",
   "execution_count": 20,
   "metadata": {
    "execution": {
     "iopub.execute_input": "2021-08-13T10:54:46.129889Z",
     "iopub.status.busy": "2021-08-13T10:54:46.128830Z",
     "iopub.status.idle": "2021-08-13T10:54:46.160433Z",
     "shell.execute_reply": "2021-08-13T10:54:46.159491Z",
     "shell.execute_reply.started": "2021-08-13T10:54:46.129793Z"
    }
   },
   "outputs": [
    {
     "data": {
      "text/html": [
       "<div>\n",
       "<style scoped>\n",
       "    .dataframe tbody tr th:only-of-type {\n",
       "        vertical-align: middle;\n",
       "    }\n",
       "\n",
       "    .dataframe tbody tr th {\n",
       "        vertical-align: top;\n",
       "    }\n",
       "\n",
       "    .dataframe thead th {\n",
       "        text-align: right;\n",
       "    }\n",
       "</style>\n",
       "<table border=\"1\" class=\"dataframe\">\n",
       "  <thead>\n",
       "    <tr style=\"text-align: right;\">\n",
       "      <th></th>\n",
       "      <th>0</th>\n",
       "      <th>1</th>\n",
       "      <th>Class</th>\n",
       "    </tr>\n",
       "  </thead>\n",
       "  <tbody>\n",
       "    <tr>\n",
       "      <th>0</th>\n",
       "      <td>0.01</td>\n",
       "      <td>0.99</td>\n",
       "      <td>1</td>\n",
       "    </tr>\n",
       "    <tr>\n",
       "      <th>1</th>\n",
       "      <td>0.97</td>\n",
       "      <td>0.03</td>\n",
       "      <td>1</td>\n",
       "    </tr>\n",
       "    <tr>\n",
       "      <th>2</th>\n",
       "      <td>0.00</td>\n",
       "      <td>1.00</td>\n",
       "      <td>1</td>\n",
       "    </tr>\n",
       "    <tr>\n",
       "      <th>3</th>\n",
       "      <td>0.01</td>\n",
       "      <td>0.99</td>\n",
       "      <td>1</td>\n",
       "    </tr>\n",
       "    <tr>\n",
       "      <th>4</th>\n",
       "      <td>0.00</td>\n",
       "      <td>1.00</td>\n",
       "      <td>1</td>\n",
       "    </tr>\n",
       "    <tr>\n",
       "      <th>...</th>\n",
       "      <td>...</td>\n",
       "      <td>...</td>\n",
       "      <td>...</td>\n",
       "    </tr>\n",
       "    <tr>\n",
       "      <th>1195</th>\n",
       "      <td>1.00</td>\n",
       "      <td>0.00</td>\n",
       "      <td>0</td>\n",
       "    </tr>\n",
       "    <tr>\n",
       "      <th>1196</th>\n",
       "      <td>1.00</td>\n",
       "      <td>0.00</td>\n",
       "      <td>0</td>\n",
       "    </tr>\n",
       "    <tr>\n",
       "      <th>1197</th>\n",
       "      <td>0.87</td>\n",
       "      <td>0.13</td>\n",
       "      <td>0</td>\n",
       "    </tr>\n",
       "    <tr>\n",
       "      <th>1198</th>\n",
       "      <td>1.00</td>\n",
       "      <td>0.00</td>\n",
       "      <td>0</td>\n",
       "    </tr>\n",
       "    <tr>\n",
       "      <th>1199</th>\n",
       "      <td>0.97</td>\n",
       "      <td>0.03</td>\n",
       "      <td>0</td>\n",
       "    </tr>\n",
       "  </tbody>\n",
       "</table>\n",
       "<p>1200 rows × 3 columns</p>\n",
       "</div>"
      ],
      "text/plain": [
       "         0     1  Class\n",
       "0     0.01  0.99      1\n",
       "1     0.97  0.03      1\n",
       "2     0.00  1.00      1\n",
       "3     0.01  0.99      1\n",
       "4     0.00  1.00      1\n",
       "...    ...   ...    ...\n",
       "1195  1.00  0.00      0\n",
       "1196  1.00  0.00      0\n",
       "1197  0.87  0.13      0\n",
       "1198  1.00  0.00      0\n",
       "1199  0.97  0.03      0\n",
       "\n",
       "[1200 rows x 3 columns]"
      ]
     },
     "execution_count": 20,
     "metadata": {},
     "output_type": "execute_result"
    }
   ],
   "source": [
    "df_results"
   ]
  },
  {
   "cell_type": "markdown",
   "metadata": {},
   "source": [
    "# Full search."
   ]
  },
  {
   "cell_type": "code",
   "execution_count": null,
   "metadata": {},
   "outputs": [],
   "source": [
    "#\n",
    "N_fraud_test = 200\n",
    "N_truth_test = int(1e3)\n",
    "N_truth_train = int(1e3)\n",
    "\n",
    "#\n",
    "split_seeds = [13, 17, 19, 23, 29, 31, 37, 41, 43, 47, 53]\n",
    "\n",
    "# random_state used by RandomForestClassifier\n",
    "random_state = 42\n",
    "\n",
    "# Number of trees in random forest\n",
    "n_estimators = [int(x) for x in np.linspace(start = 200, stop = 2000, num = 10)]\n",
    "\n",
    "# Number of features to consider at every split\n",
    "max_features = ['auto', 'sqrt']\n",
    "\n",
    "# Maximum number of levels in tree\n",
    "max_depth = [int(x) for x in np.linspace(10, 110, num = 11)]\n",
    "max_depth.append(None)\n",
    "\n",
    "# Minimum number of samples required to split a node\n",
    "min_samples_split = [2, 5, 10]\n",
    "\n",
    "# Minimum number of samples required at each leaf node\n",
    "min_samples_leaf = [1, 2, 4]\n",
    "\n",
    "# Method of selecting samples for training each tree\n",
    "bootstrap = [True, False]\n",
    "\n",
    "# Create the random grid\n",
    "search_grid = {'n_estimators': n_estimators,\n",
    "               'max_features': max_features,\n",
    "               'max_depth': max_depth,\n",
    "               'min_samples_split': min_samples_split,\n",
    "               'min_samples_leaf': min_samples_leaf,\n",
    "               'bootstrap': bootstrap}\n",
    "\n",
    "print(search_grid)"
   ]
  }
 ],
 "metadata": {
  "kernelspec": {
   "display_name": "Python 3 (ipykernel)",
   "language": "python",
   "name": "python3"
  },
  "language_info": {
   "codemirror_mode": {
    "name": "ipython",
    "version": 3
   },
   "file_extension": ".py",
   "mimetype": "text/x-python",
   "name": "python",
   "nbconvert_exporter": "python",
   "pygments_lexer": "ipython3",
   "version": "3.9.6"
  }
 },
 "nbformat": 4,
 "nbformat_minor": 4
}
