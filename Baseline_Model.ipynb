{
 "cells": [
  {
   "cell_type": "markdown",
   "metadata": {},
   "source": [
    "# Baseline Model \n",
    "\n",
    "- Author: Israel Oliveira [\\[e-mail\\]](mailto:'Israel%20Oliveira%20'<prof.israel@gmail.com>)"
   ]
  },
  {
   "cell_type": "code",
   "execution_count": 1,
   "metadata": {
    "execution": {
     "iopub.execute_input": "2021-08-14T02:35:45.417644Z",
     "iopub.status.busy": "2021-08-14T02:35:45.416854Z",
     "iopub.status.idle": "2021-08-14T02:35:45.471548Z",
     "shell.execute_reply": "2021-08-14T02:35:45.470957Z",
     "shell.execute_reply.started": "2021-08-14T02:35:45.417437Z"
    },
    "tags": []
   },
   "outputs": [],
   "source": [
    "%load_ext watermark"
   ]
  },
  {
   "cell_type": "code",
   "execution_count": 2,
   "metadata": {
    "execution": {
     "iopub.execute_input": "2021-08-14T02:35:45.564580Z",
     "iopub.status.busy": "2021-08-14T02:35:45.564065Z",
     "iopub.status.idle": "2021-08-14T02:35:46.422062Z",
     "shell.execute_reply": "2021-08-14T02:35:46.421325Z",
     "shell.execute_reply.started": "2021-08-14T02:35:45.564554Z"
    },
    "tags": []
   },
   "outputs": [],
   "source": [
    "import pandas as pd\n",
    "import numpy as np\n",
    "\n",
    "from sklearn.model_selection import train_test_split, ParameterGrid\n",
    "from sklearn.ensemble import RandomForestClassifier\n",
    "from sklearn.metrics import f1_score, roc_auc_score"
   ]
  },
  {
   "cell_type": "code",
   "execution_count": 3,
   "metadata": {
    "execution": {
     "iopub.execute_input": "2021-08-14T02:35:46.423804Z",
     "iopub.status.busy": "2021-08-14T02:35:46.423337Z",
     "iopub.status.idle": "2021-08-14T02:35:46.435857Z",
     "shell.execute_reply": "2021-08-14T02:35:46.435217Z",
     "shell.execute_reply.started": "2021-08-14T02:35:46.423769Z"
    },
    "tags": []
   },
   "outputs": [],
   "source": [
    "from tqdm import tqdm\n",
    "\n",
    "from glob import glob\n",
    "\n",
    "# import matplotlib.pyplot as plt\n",
    "# %matplotlib inline\n",
    "# from matplotlib import rcParams\n",
    "# from cycler import cycler\n",
    "\n",
    "# rcParams['figure.figsize'] = 12, 8 # 18, 5\n",
    "# rcParams['axes.spines.top'] = False\n",
    "# rcParams['axes.spines.right'] = False\n",
    "# rcParams['axes.grid'] = True\n",
    "# rcParams['axes.prop_cycle'] = cycler(color=['#365977'])\n",
    "# rcParams['lines.linewidth'] = 2.5\n",
    "\n",
    "# import seaborn as sns\n",
    "# sns.set_theme()\n",
    "\n",
    "# pd.set_option(\"max_columns\", None)\n",
    "# pd.set_option(\"max_rows\", None)\n",
    "# pd.set_option('display.max_colwidth', None)\n",
    "\n",
    "from IPython.display import Markdown, display\n",
    "def md(arg):\n",
    "    display(Markdown(arg))\n",
    "\n",
    "# from pandas_profiling import ProfileReport\n",
    "# #report = ProfileReport(#DataFrame here#, minimal=True)\n",
    "# #report.to\n",
    "\n",
    "# import pyarrow.parquet as pq\n",
    "# #df = pq.ParquetDataset(path_to_folder_with_parquets, filesystem=None).read_pandas().to_pandas()\n",
    "\n",
    "# import json\n",
    "# def open_file_json(path,mode='r',var=None):\n",
    "#     if mode == 'w':\n",
    "#         with open(path,'w') as f:\n",
    "#             json.dump(var, f)\n",
    "#     if mode == 'r':\n",
    "#         with open(path,'r') as f:\n",
    "#             return json.load(f)\n",
    "\n",
    "# import functools\n",
    "# import operator\n",
    "# def flat(a):\n",
    "#     return functools.reduce(operator.iconcat, a, [])\n",
    "\n",
    "# import json\n",
    "# from glob import glob\n",
    "# from typing import NewType\n",
    "\n",
    "\n",
    "# DictsPathType = NewType(\"DictsPath\", str)\n",
    "\n",
    "\n",
    "# def open_file_json(path):\n",
    "#     with open(path, \"r\") as f:\n",
    "#         return json.load(f)\n",
    "\n",
    "# class LoadDicts:\n",
    "#     def __init__(self, dict_path: DictsPathType = \"./data\"):\n",
    "#         Dicts_glob = glob(f\"{dict_path}/*.json\")\n",
    "#         self.List = []\n",
    "#         self.Dict = {}\n",
    "#         for path_json in Dicts_glob:\n",
    "#             name = path_json.split(\"/\")[-1].replace(\".json\", \"\")\n",
    "#             self.List.append(name)\n",
    "#             self.Dict[name] = open_file_json(path_json)\n",
    "#             setattr(self, name, self.Dict[name])\n"
   ]
  },
  {
   "cell_type": "code",
   "execution_count": 4,
   "metadata": {
    "execution": {
     "iopub.execute_input": "2021-08-14T02:35:46.437052Z",
     "iopub.status.busy": "2021-08-14T02:35:46.436826Z",
     "iopub.status.idle": "2021-08-14T02:35:47.638692Z",
     "shell.execute_reply": "2021-08-14T02:35:47.637817Z",
     "shell.execute_reply.started": "2021-08-14T02:35:46.437023Z"
    },
    "tags": []
   },
   "outputs": [
    {
     "name": "stdout",
     "output_type": "stream",
     "text": [
      "Python implementation: CPython\n",
      "Python version       : 3.9.6\n",
      "IPython version      : 7.26.0\n",
      "\n",
      "Compiler    : GCC 8.3.0\n",
      "OS          : Linux\n",
      "Release     : 5.11.0-7620-generic\n",
      "Machine     : x86_64\n",
      "Processor   : \n",
      "CPU cores   : 8\n",
      "Architecture: 64bit\n",
      "\n",
      "Git hash: f9c855f89c297f0a881fa7d4842bf4ddc0f4243c\n",
      "\n",
      "Git repo: https://github.com/ysraell/creditcardfraud.git\n",
      "\n",
      "Git branch: main\n",
      "\n",
      "pandas: 1.3.1\n",
      "numpy : 1.19.5\n",
      "\n",
      "CPU\t: Intel(R) Xeon(R) CPU E3-1241 v3 @ 3.50GHz\n",
      "Mem:           31G\n",
      "Swap:         4.0G\n"
     ]
    }
   ],
   "source": [
    "# Run this cell before close.\n",
    "%watermark -d --iversion -b -r -g -m -v\n",
    "!cat /proc/cpuinfo |grep 'model name'|head -n 1 |sed -e 's/model\\ name/CPU/'\n",
    "!free -h |cut -d'i' -f1  |grep -v total"
   ]
  },
  {
   "cell_type": "markdown",
   "metadata": {},
   "source": [
    "# Initial search"
   ]
  },
  {
   "cell_type": "code",
   "execution_count": 5,
   "metadata": {
    "execution": {
     "iopub.execute_input": "2021-08-14T02:35:47.640977Z",
     "iopub.status.busy": "2021-08-14T02:35:47.640738Z",
     "iopub.status.idle": "2021-08-14T02:35:47.654522Z",
     "shell.execute_reply": "2021-08-14T02:35:47.653972Z",
     "shell.execute_reply.started": "2021-08-14T02:35:47.640947Z"
    },
    "tags": []
   },
   "outputs": [
    {
     "name": "stdout",
     "output_type": "stream",
     "text": [
      "{'n_estimators': [200, 400, 800], 'max_features': ['auto', 'sqrt'], 'min_samples_split': [2, 8], 'min_samples_leaf': [1, 4], 'bootstrap': [True]}\n"
     ]
    }
   ],
   "source": [
    "#\n",
    "N_fraud_test = 200\n",
    "N_truth_test = int(2e4)\n",
    "N_truth_train = int(2e5)\n",
    "\n",
    "#\n",
    "split_seeds = [13, 17, 47, 53]\n",
    "\n",
    "# random_state used by RandomForestClassifier\n",
    "random_state = 42\n",
    "\n",
    "# Number of trees in random forest\n",
    "n_estimators = [200, 400, 800]\n",
    "\n",
    "# Number of features to consider at every split\n",
    "max_features = ['auto', 'sqrt']\n",
    "\n",
    "# Minimum number of samples required to split a node\n",
    "min_samples_split = [2, 8]\n",
    "\n",
    "# Minimum number of samples required at each leaf node\n",
    "min_samples_leaf = [1, 4]\n",
    "\n",
    "# Method of selecting samples for training each tree\n",
    "bootstrap = [True]\n",
    "\n",
    "# Create the random grid\n",
    "search_grid = {'n_estimators': n_estimators,\n",
    "               'max_features': max_features,\n",
    "               'min_samples_split': min_samples_split,\n",
    "               'min_samples_leaf': min_samples_leaf,\n",
    "               'bootstrap': bootstrap}\n",
    "\n",
    "print(search_grid)"
   ]
  },
  {
   "cell_type": "code",
   "execution_count": 6,
   "metadata": {
    "execution": {
     "iopub.execute_input": "2021-08-14T02:35:47.655490Z",
     "iopub.status.busy": "2021-08-14T02:35:47.655333Z",
     "iopub.status.idle": "2021-08-14T02:35:47.661345Z",
     "shell.execute_reply": "2021-08-14T02:35:47.660881Z",
     "shell.execute_reply.started": "2021-08-14T02:35:47.655470Z"
    },
    "tags": []
   },
   "outputs": [
    {
     "name": "stdout",
     "output_type": "stream",
     "text": [
      "288\n"
     ]
    }
   ],
   "source": [
    "target_col = 'Class'\n",
    "ds_cols = ['V1', 'V2', 'V3', 'V4', 'V5', 'V6', 'V7', 'V8', 'V9', 'V10', 'V11', 'V12', 'V13', 'V14', 'V15', 'V16', 'V17', 'V18', 'V19', 'V20', 'V21', 'V22', 'V23', 'V24', 'V25', 'V26', 'V27', 'V28', 'Amount']\n",
    "glob_paths = glob('/work/data/creditcard*.csv')\n",
    "\n",
    "total_exps = len(glob_paths)*len(split_seeds)*len(ParameterGrid(search_grid))\n",
    "print(total_exps)"
   ]
  },
  {
   "cell_type": "code",
   "execution_count": 7,
   "metadata": {
    "execution": {
     "iopub.execute_input": "2021-08-14T02:35:47.662285Z",
     "iopub.status.busy": "2021-08-14T02:35:47.662083Z",
     "iopub.status.idle": "2021-08-14T14:53:44.956738Z",
     "shell.execute_reply": "2021-08-14T14:53:44.956143Z",
     "shell.execute_reply.started": "2021-08-14T02:35:47.662264Z"
    },
    "tags": []
   },
   "outputs": [
    {
     "name": "stderr",
     "output_type": "stream",
     "text": [
      "100%|██████████| 288/288 [12:17:57<00:00, 153.74s/it]  \n"
     ]
    }
   ],
   "source": [
    "\n",
    "with tqdm(total=total_exps) as progress_bar:\n",
    "\n",
    "    def RunGrid(df_train, df_test, random_state):\n",
    "        out = []\n",
    "        for params in ParameterGrid(search_grid):\n",
    "            params['random_state'] = random_state\n",
    "            params['n_jobs'] = 8\n",
    "            rf = RandomForestClassifier(**params)\n",
    "            rf.fit(df_train[ds_cols].to_numpy(), df_train[target_col].to_numpy())\n",
    "            probs = rf.predict_proba(df_test[ds_cols].to_numpy())\n",
    "            exp = {\n",
    "                'probs' : probs,\n",
    "                'rf_classes': rf.classes_,\n",
    "                'params': params\n",
    "            }\n",
    "            out.append(exp)\n",
    "            progress_bar.update(1)\n",
    "        return out\n",
    "\n",
    "\n",
    "    Results = {}\n",
    "    for ds_path in glob_paths:\n",
    "        df = pd.read_csv(ds_path)\n",
    "        df = df[ds_cols+[target_col]]\n",
    "        df_fraud = df.query('Class == 1').reset_index(drop=True).copy()\n",
    "        df_truth = df.query('Class == 0').reset_index(drop=True).copy()\n",
    "        del df\n",
    "        set_exp = {}\n",
    "        for seed in split_seeds:\n",
    "            df_fraud_train, df_fraud_test = train_test_split(df_fraud, test_size=N_fraud_test, random_state=seed)\n",
    "            df_truth_train, df_truth_test = train_test_split(df_truth, train_size=N_truth_train, test_size=N_truth_test, random_state=seed)\n",
    "            df_train = pd.concat([df_fraud_train, df_truth_train]).reset_index(drop=True)\n",
    "            df_test = pd.concat([df_fraud_test, df_truth_test]).reset_index(drop=True)\n",
    "            out = RunGrid(df_train, df_test, random_state)\n",
    "            set_exp[seed] = {\n",
    "                'target_test': df_test[target_col].to_numpy(),\n",
    "                'exps': out\n",
    "            }\n",
    "        Results[ds_path] = set_exp"
   ]
  },
  {
   "cell_type": "code",
   "execution_count": 8,
   "metadata": {
    "execution": {
     "iopub.execute_input": "2021-08-14T14:53:44.957987Z",
     "iopub.status.busy": "2021-08-14T14:53:44.957753Z",
     "iopub.status.idle": "2021-08-14T14:53:44.962699Z",
     "shell.execute_reply": "2021-08-14T14:53:44.962112Z",
     "shell.execute_reply.started": "2021-08-14T14:53:44.957956Z"
    },
    "tags": []
   },
   "outputs": [],
   "source": [
    "cols_results = ['ds_path', 'seed']\n",
    "cols_param = ['bootstrap', 'max_features', 'min_samples_leaf', 'min_samples_split', 'n_estimators', 'random_state']\n",
    "cols_metrics = ['Fraud_True_Sum','Truth_False_Sum', 'Fraud_False_Sum', 'F1_W', 'AUC_ROC_W']\n",
    "cols = cols_results+cols_param+cols_metrics"
   ]
  },
  {
   "cell_type": "code",
   "execution_count": 9,
   "metadata": {
    "execution": {
     "iopub.execute_input": "2021-08-14T14:53:44.964718Z",
     "iopub.status.busy": "2021-08-14T14:53:44.964465Z",
     "iopub.status.idle": "2021-08-14T14:53:44.979665Z",
     "shell.execute_reply": "2021-08-14T14:53:44.979118Z",
     "shell.execute_reply.started": "2021-08-14T14:53:44.964690Z"
    }
   },
   "outputs": [
    {
     "data": {
      "text/plain": [
       "'Fraud_True_Sum, Truth_False_Sum, Fraud_False_Sum, F1_W, AUC_ROC_W'"
      ]
     },
     "execution_count": 9,
     "metadata": {},
     "output_type": "execute_result"
    }
   ],
   "source": [
    "', '.join(cols_metrics)"
   ]
  },
  {
   "cell_type": "code",
   "execution_count": 10,
   "metadata": {
    "execution": {
     "iopub.execute_input": "2021-08-14T14:53:44.980902Z",
     "iopub.status.busy": "2021-08-14T14:53:44.980613Z",
     "iopub.status.idle": "2021-08-14T14:53:44.987740Z",
     "shell.execute_reply": "2021-08-14T14:53:44.987174Z",
     "shell.execute_reply.started": "2021-08-14T14:53:44.980874Z"
    },
    "tags": []
   },
   "outputs": [
    {
     "data": {
      "text/plain": [
       "\"param['bootstrap'], param['max_features'], param['min_samples_leaf'], param['min_samples_split'], param['n_estimators'], param['random_state'], \""
      ]
     },
     "execution_count": 10,
     "metadata": {},
     "output_type": "execute_result"
    }
   ],
   "source": [
    "''.join([ f'param[\\'{col}\\'], ' for col in cols_param])"
   ]
  },
  {
   "cell_type": "code",
   "execution_count": 11,
   "metadata": {
    "execution": {
     "iopub.execute_input": "2021-08-14T14:53:44.989040Z",
     "iopub.status.busy": "2021-08-14T14:53:44.988776Z",
     "iopub.status.idle": "2021-08-14T15:00:27.214361Z",
     "shell.execute_reply": "2021-08-14T15:00:27.213825Z",
     "shell.execute_reply.started": "2021-08-14T14:53:44.989011Z"
    },
    "tags": []
   },
   "outputs": [],
   "source": [
    "data = []\n",
    "for ds_path,sets_exp in Results.items():\n",
    "    for seed,set_exp in sets_exp.items():\n",
    "        target_test = set_exp['target_test']\n",
    "        for exp in set_exp['exps']:\n",
    "            df_exp = pd.DataFrame(exp['probs'], columns=exp['rf_classes'])\n",
    "            df_exp['pred'] = df_exp[[0, 1]].apply(lambda x: exp['rf_classes'][np.argmax(x)], axis=1)\n",
    "            df_exp['target'] = target_test\n",
    "            Fraud_True_Sum = df_exp.loc[(df_exp.pred == 1) & (df_exp.target == 1)][1].sum()/sum(df_exp.target == 1)\n",
    "            Truth_False_Sum = df_exp.loc[(df_exp.pred == 0) & (df_exp.target == 1)][0].sum()/sum(df_exp.target == 1)\n",
    "            Fraud_False_Sum = df_exp.loc[(df_exp.pred == 1) & (df_exp.target == 0)][1].sum()/sum(df_exp.target == 0)\n",
    "            F1_W = f1_score(target_test, df_exp['pred'].to_numpy(), average='weighted')\n",
    "            AUC_ROC_W = roc_auc_score(target_test, df_exp['pred'].to_numpy(), average='weighted')\n",
    "            param = exp['params']\n",
    "            data.append([\n",
    "                ds_path, seed,\n",
    "                param['bootstrap'], param['max_features'], param['min_samples_leaf'],\n",
    "                param['min_samples_split'], param['n_estimators'], param['random_state'],\n",
    "                Fraud_True_Sum, Truth_False_Sum, Fraud_False_Sum, F1_W, AUC_ROC_W\n",
    "            ])"
   ]
  },
  {
   "cell_type": "code",
   "execution_count": 12,
   "metadata": {
    "execution": {
     "iopub.execute_input": "2021-08-14T15:00:27.215338Z",
     "iopub.status.busy": "2021-08-14T15:00:27.215126Z",
     "iopub.status.idle": "2021-08-14T15:00:27.227595Z",
     "shell.execute_reply": "2021-08-14T15:00:27.226888Z",
     "shell.execute_reply.started": "2021-08-14T15:00:27.215318Z"
    },
    "tags": []
   },
   "outputs": [],
   "source": [
    "df_Results = pd.DataFrame(data, columns=cols)\n",
    "df_Results.to_csv('/work/data/Results_creditcard_Init.csv', index=False)"
   ]
  },
  {
   "cell_type": "code",
   "execution_count": 13,
   "metadata": {
    "execution": {
     "iopub.execute_input": "2021-08-14T15:00:27.228956Z",
     "iopub.status.busy": "2021-08-14T15:00:27.228728Z",
     "iopub.status.idle": "2021-08-14T15:00:27.254212Z",
     "shell.execute_reply": "2021-08-14T15:00:27.253695Z",
     "shell.execute_reply.started": "2021-08-14T15:00:27.228932Z"
    },
    "tags": []
   },
   "outputs": [
    {
     "data": {
      "text/html": [
       "<div>\n",
       "<style scoped>\n",
       "    .dataframe tbody tr th:only-of-type {\n",
       "        vertical-align: middle;\n",
       "    }\n",
       "\n",
       "    .dataframe tbody tr th {\n",
       "        vertical-align: top;\n",
       "    }\n",
       "\n",
       "    .dataframe thead th {\n",
       "        text-align: right;\n",
       "    }\n",
       "</style>\n",
       "<table border=\"1\" class=\"dataframe\">\n",
       "  <thead>\n",
       "    <tr style=\"text-align: right;\">\n",
       "      <th></th>\n",
       "      <th>ds_path</th>\n",
       "      <th>seed</th>\n",
       "      <th>bootstrap</th>\n",
       "      <th>max_features</th>\n",
       "      <th>min_samples_leaf</th>\n",
       "      <th>min_samples_split</th>\n",
       "      <th>n_estimators</th>\n",
       "      <th>random_state</th>\n",
       "      <th>Fraud_True_Sum</th>\n",
       "      <th>Truth_False_Sum</th>\n",
       "      <th>Fraud_False_Sum</th>\n",
       "      <th>F1_W</th>\n",
       "      <th>AUC_ROC_W</th>\n",
       "    </tr>\n",
       "  </thead>\n",
       "  <tbody>\n",
       "    <tr>\n",
       "      <th>266</th>\n",
       "      <td>/work/data/creditcard_trans_int.csv</td>\n",
       "      <td>53</td>\n",
       "      <td>True</td>\n",
       "      <td>auto</td>\n",
       "      <td>1</td>\n",
       "      <td>2</td>\n",
       "      <td>800</td>\n",
       "      <td>42</td>\n",
       "      <td>0.670319</td>\n",
       "      <td>0.202844</td>\n",
       "      <td>0.000000</td>\n",
       "      <td>0.997688</td>\n",
       "      <td>0.890000</td>\n",
       "    </tr>\n",
       "    <tr>\n",
       "      <th>74</th>\n",
       "      <td>/work/data/creditcard_trans_float.csv</td>\n",
       "      <td>53</td>\n",
       "      <td>True</td>\n",
       "      <td>auto</td>\n",
       "      <td>1</td>\n",
       "      <td>2</td>\n",
       "      <td>800</td>\n",
       "      <td>42</td>\n",
       "      <td>0.670625</td>\n",
       "      <td>0.202756</td>\n",
       "      <td>0.000000</td>\n",
       "      <td>0.997688</td>\n",
       "      <td>0.890000</td>\n",
       "    </tr>\n",
       "    <tr>\n",
       "      <th>278</th>\n",
       "      <td>/work/data/creditcard_trans_int.csv</td>\n",
       "      <td>53</td>\n",
       "      <td>True</td>\n",
       "      <td>sqrt</td>\n",
       "      <td>1</td>\n",
       "      <td>2</td>\n",
       "      <td>800</td>\n",
       "      <td>42</td>\n",
       "      <td>0.670319</td>\n",
       "      <td>0.202844</td>\n",
       "      <td>0.000000</td>\n",
       "      <td>0.997688</td>\n",
       "      <td>0.890000</td>\n",
       "    </tr>\n",
       "    <tr>\n",
       "      <th>86</th>\n",
       "      <td>/work/data/creditcard_trans_float.csv</td>\n",
       "      <td>53</td>\n",
       "      <td>True</td>\n",
       "      <td>sqrt</td>\n",
       "      <td>1</td>\n",
       "      <td>2</td>\n",
       "      <td>800</td>\n",
       "      <td>42</td>\n",
       "      <td>0.670625</td>\n",
       "      <td>0.202756</td>\n",
       "      <td>0.000000</td>\n",
       "      <td>0.997688</td>\n",
       "      <td>0.890000</td>\n",
       "    </tr>\n",
       "    <tr>\n",
       "      <th>229</th>\n",
       "      <td>/work/data/creditcard_trans_int.csv</td>\n",
       "      <td>17</td>\n",
       "      <td>True</td>\n",
       "      <td>sqrt</td>\n",
       "      <td>1</td>\n",
       "      <td>2</td>\n",
       "      <td>400</td>\n",
       "      <td>42</td>\n",
       "      <td>0.699100</td>\n",
       "      <td>0.197350</td>\n",
       "      <td>0.000110</td>\n",
       "      <td>0.997542</td>\n",
       "      <td>0.889925</td>\n",
       "    </tr>\n",
       "    <tr>\n",
       "      <th>...</th>\n",
       "      <td>...</td>\n",
       "      <td>...</td>\n",
       "      <td>...</td>\n",
       "      <td>...</td>\n",
       "      <td>...</td>\n",
       "      <td>...</td>\n",
       "      <td>...</td>\n",
       "      <td>...</td>\n",
       "      <td>...</td>\n",
       "      <td>...</td>\n",
       "      <td>...</td>\n",
       "      <td>...</td>\n",
       "      <td>...</td>\n",
       "    </tr>\n",
       "    <tr>\n",
       "      <th>61</th>\n",
       "      <td>/work/data/creditcard_trans_float.csv</td>\n",
       "      <td>47</td>\n",
       "      <td>True</td>\n",
       "      <td>sqrt</td>\n",
       "      <td>1</td>\n",
       "      <td>2</td>\n",
       "      <td>400</td>\n",
       "      <td>42</td>\n",
       "      <td>0.650900</td>\n",
       "      <td>0.224213</td>\n",
       "      <td>0.000109</td>\n",
       "      <td>0.997146</td>\n",
       "      <td>0.872425</td>\n",
       "    </tr>\n",
       "    <tr>\n",
       "      <th>241</th>\n",
       "      <td>/work/data/creditcard_trans_int.csv</td>\n",
       "      <td>47</td>\n",
       "      <td>True</td>\n",
       "      <td>auto</td>\n",
       "      <td>1</td>\n",
       "      <td>2</td>\n",
       "      <td>400</td>\n",
       "      <td>42</td>\n",
       "      <td>0.650575</td>\n",
       "      <td>0.224225</td>\n",
       "      <td>0.000109</td>\n",
       "      <td>0.997146</td>\n",
       "      <td>0.872425</td>\n",
       "    </tr>\n",
       "    <tr>\n",
       "      <th>145</th>\n",
       "      <td>/work/data/creditcard.csv</td>\n",
       "      <td>47</td>\n",
       "      <td>True</td>\n",
       "      <td>auto</td>\n",
       "      <td>1</td>\n",
       "      <td>2</td>\n",
       "      <td>400</td>\n",
       "      <td>42</td>\n",
       "      <td>0.650662</td>\n",
       "      <td>0.224238</td>\n",
       "      <td>0.000109</td>\n",
       "      <td>0.997146</td>\n",
       "      <td>0.872425</td>\n",
       "    </tr>\n",
       "    <tr>\n",
       "      <th>157</th>\n",
       "      <td>/work/data/creditcard.csv</td>\n",
       "      <td>47</td>\n",
       "      <td>True</td>\n",
       "      <td>sqrt</td>\n",
       "      <td>1</td>\n",
       "      <td>2</td>\n",
       "      <td>400</td>\n",
       "      <td>42</td>\n",
       "      <td>0.650662</td>\n",
       "      <td>0.224238</td>\n",
       "      <td>0.000109</td>\n",
       "      <td>0.997146</td>\n",
       "      <td>0.872425</td>\n",
       "    </tr>\n",
       "    <tr>\n",
       "      <th>49</th>\n",
       "      <td>/work/data/creditcard_trans_float.csv</td>\n",
       "      <td>47</td>\n",
       "      <td>True</td>\n",
       "      <td>auto</td>\n",
       "      <td>1</td>\n",
       "      <td>2</td>\n",
       "      <td>400</td>\n",
       "      <td>42</td>\n",
       "      <td>0.650900</td>\n",
       "      <td>0.224213</td>\n",
       "      <td>0.000109</td>\n",
       "      <td>0.997146</td>\n",
       "      <td>0.872425</td>\n",
       "    </tr>\n",
       "  </tbody>\n",
       "</table>\n",
       "<p>288 rows × 13 columns</p>\n",
       "</div>"
      ],
      "text/plain": [
       "                                   ds_path  seed  bootstrap max_features  \\\n",
       "266    /work/data/creditcard_trans_int.csv    53       True         auto   \n",
       "74   /work/data/creditcard_trans_float.csv    53       True         auto   \n",
       "278    /work/data/creditcard_trans_int.csv    53       True         sqrt   \n",
       "86   /work/data/creditcard_trans_float.csv    53       True         sqrt   \n",
       "229    /work/data/creditcard_trans_int.csv    17       True         sqrt   \n",
       "..                                     ...   ...        ...          ...   \n",
       "61   /work/data/creditcard_trans_float.csv    47       True         sqrt   \n",
       "241    /work/data/creditcard_trans_int.csv    47       True         auto   \n",
       "145              /work/data/creditcard.csv    47       True         auto   \n",
       "157              /work/data/creditcard.csv    47       True         sqrt   \n",
       "49   /work/data/creditcard_trans_float.csv    47       True         auto   \n",
       "\n",
       "     min_samples_leaf  min_samples_split  n_estimators  random_state  \\\n",
       "266                 1                  2           800            42   \n",
       "74                  1                  2           800            42   \n",
       "278                 1                  2           800            42   \n",
       "86                  1                  2           800            42   \n",
       "229                 1                  2           400            42   \n",
       "..                ...                ...           ...           ...   \n",
       "61                  1                  2           400            42   \n",
       "241                 1                  2           400            42   \n",
       "145                 1                  2           400            42   \n",
       "157                 1                  2           400            42   \n",
       "49                  1                  2           400            42   \n",
       "\n",
       "     Fraud_True_Sum  Truth_False_Sum  Fraud_False_Sum      F1_W  AUC_ROC_W  \n",
       "266        0.670319         0.202844         0.000000  0.997688   0.890000  \n",
       "74         0.670625         0.202756         0.000000  0.997688   0.890000  \n",
       "278        0.670319         0.202844         0.000000  0.997688   0.890000  \n",
       "86         0.670625         0.202756         0.000000  0.997688   0.890000  \n",
       "229        0.699100         0.197350         0.000110  0.997542   0.889925  \n",
       "..              ...              ...              ...       ...        ...  \n",
       "61         0.650900         0.224213         0.000109  0.997146   0.872425  \n",
       "241        0.650575         0.224225         0.000109  0.997146   0.872425  \n",
       "145        0.650662         0.224238         0.000109  0.997146   0.872425  \n",
       "157        0.650662         0.224238         0.000109  0.997146   0.872425  \n",
       "49         0.650900         0.224213         0.000109  0.997146   0.872425  \n",
       "\n",
       "[288 rows x 13 columns]"
      ]
     },
     "execution_count": 13,
     "metadata": {},
     "output_type": "execute_result"
    }
   ],
   "source": [
    "df_Results.sort_values('AUC_ROC_W', ascending=False)"
   ]
  },
  {
   "cell_type": "markdown",
   "metadata": {
    "tags": []
   },
   "source": [
    "# Full search."
   ]
  },
  {
   "cell_type": "code",
   "execution_count": null,
   "metadata": {},
   "outputs": [],
   "source": [
    "#\n",
    "N_fraud_test = 200\n",
    "N_truth_test = int(1e3)\n",
    "N_truth_train = int(1e3)\n",
    "\n",
    "#\n",
    "split_seeds = [13, 17, 19, 23, 29, 31, 37, 41, 43, 47, 53]\n",
    "\n",
    "# random_state used by RandomForestClassifier\n",
    "random_state = 42\n",
    "\n",
    "# Number of trees in random forest\n",
    "n_estimators = [int(x) for x in np.linspace(start = 200, stop = 2000, num = 10)]\n",
    "\n",
    "# Number of features to consider at every split\n",
    "max_features = ['auto', 'sqrt']\n",
    "\n",
    "# Maximum number of levels in tree\n",
    "max_depth = [int(x) for x in np.linspace(10, 110, num = 11)]\n",
    "max_depth.append(None)\n",
    "\n",
    "# Minimum number of samples required to split a node\n",
    "min_samples_split = [2, 5, 10]\n",
    "\n",
    "# Minimum number of samples required at each leaf node\n",
    "min_samples_leaf = [1, 2, 4]\n",
    "\n",
    "# Method of selecting samples for training each tree\n",
    "bootstrap = [True, False]\n",
    "\n",
    "# Create the random grid\n",
    "search_grid = {'n_estimators': n_estimators,\n",
    "               'max_features': max_features,\n",
    "               'max_depth': max_depth,\n",
    "               'min_samples_split': min_samples_split,\n",
    "               'min_samples_leaf': min_samples_leaf,\n",
    "               'bootstrap': bootstrap}\n",
    "\n",
    "print(search_grid)"
   ]
  }
 ],
 "metadata": {
  "kernelspec": {
   "display_name": "Python 3 (ipykernel)",
   "language": "python",
   "name": "python3"
  },
  "language_info": {
   "codemirror_mode": {
    "name": "ipython",
    "version": 3
   },
   "file_extension": ".py",
   "mimetype": "text/x-python",
   "name": "python",
   "nbconvert_exporter": "python",
   "pygments_lexer": "ipython3",
   "version": "3.9.6"
  }
 },
 "nbformat": 4,
 "nbformat_minor": 4
}
