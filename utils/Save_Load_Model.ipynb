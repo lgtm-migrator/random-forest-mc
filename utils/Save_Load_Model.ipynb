{
 "cells": [
  {
   "cell_type": "markdown",
   "metadata": {},
   "source": [
    "# Save and Load Model \n",
    "\n",
    "- Author: Israel Oliveira [\\[e-mail\\]](mailto:'Israel%20Oliveira%20'<prof.israel@gmail.com>)"
   ]
  },
  {
   "cell_type": "code",
   "execution_count": 15,
   "metadata": {
    "execution": {
     "iopub.execute_input": "2022-08-01T13:53:50.016627Z",
     "iopub.status.busy": "2022-08-01T13:53:50.015922Z",
     "iopub.status.idle": "2022-08-01T13:53:50.146076Z",
     "shell.execute_reply": "2022-08-01T13:53:50.145128Z",
     "shell.execute_reply.started": "2022-08-01T13:53:50.016597Z"
    },
    "tags": []
   },
   "outputs": [],
   "source": [
    "#!pip3 install -U random-forest-mc"
   ]
  },
  {
   "cell_type": "code",
   "execution_count": 16,
   "metadata": {
    "execution": {
     "iopub.execute_input": "2022-08-01T13:53:50.185034Z",
     "iopub.status.busy": "2022-08-01T13:53:50.184438Z",
     "iopub.status.idle": "2022-08-01T13:53:50.203041Z",
     "shell.execute_reply": "2022-08-01T13:53:50.202218Z",
     "shell.execute_reply.started": "2022-08-01T13:53:50.185006Z"
    },
    "tags": []
   },
   "outputs": [
    {
     "name": "stdout",
     "output_type": "stream",
     "text": [
      "The watermark extension is already loaded. To reload it, use:\n",
      "  %reload_ext watermark\n"
     ]
    }
   ],
   "source": [
    "%load_ext watermark"
   ]
  },
  {
   "cell_type": "code",
   "execution_count": 25,
   "metadata": {
    "execution": {
     "iopub.execute_input": "2022-08-01T13:56:17.347540Z",
     "iopub.status.busy": "2022-08-01T13:56:17.346643Z",
     "iopub.status.idle": "2022-08-01T13:56:17.523931Z",
     "shell.execute_reply": "2022-08-01T13:56:17.522823Z",
     "shell.execute_reply.started": "2022-08-01T13:56:17.347509Z"
    },
    "tags": []
   },
   "outputs": [
    {
     "name": "stdout",
     "output_type": "stream",
     "text": [
      "The autoreload extension is already loaded. To reload it, use:\n",
      "  %reload_ext autoreload\n"
     ]
    }
   ],
   "source": [
    "%load_ext autoreload\n",
    "%autoreload 2\n",
    "\n",
    "import pandas as pd\n",
    "\n",
    "import sys\n",
    "sys.path.append('../src/random_forest_mc')\n",
    "from model import *\n"
   ]
  },
  {
   "cell_type": "code",
   "execution_count": 26,
   "metadata": {
    "execution": {
     "iopub.execute_input": "2022-08-01T13:56:18.422815Z",
     "iopub.status.busy": "2022-08-01T13:56:18.422153Z",
     "iopub.status.idle": "2022-08-01T13:56:18.443580Z",
     "shell.execute_reply": "2022-08-01T13:56:18.442542Z",
     "shell.execute_reply.started": "2022-08-01T13:56:18.422785Z"
    },
    "tags": []
   },
   "outputs": [],
   "source": [
    "# from tqdm import notebook as tqdm\n",
    "\n",
    "from glob import glob\n",
    "\n",
    "# import matplotlib.pyplot as plt\n",
    "# %matplotlib inline\n",
    "# from matplotlib import rcParams\n",
    "# from cycler import cycler\n",
    "\n",
    "# rcParams['figure.figsize'] = 12, 8 # 18, 5\n",
    "# rcParams['axes.spines.top'] = False\n",
    "# rcParams['axes.spines.right'] = False\n",
    "# rcParams['axes.grid'] = True\n",
    "# rcParams['axes.prop_cycle'] = cycler(color=['#365977'])\n",
    "# rcParams['lines.linewidth'] = 2.5\n",
    "\n",
    "# import seaborn as sns\n",
    "# sns.set_theme()\n",
    "\n",
    "# pd.set_option(\"max_columns\", None)\n",
    "# pd.set_option(\"max_rows\", None)\n",
    "# pd.set_option('display.max_colwidth', None)\n",
    "\n",
    "from IPython.display import Markdown, display\n",
    "def md(arg):\n",
    "    display(Markdown(arg))\n",
    "\n",
    "# from pandas_profiling import ProfileReport\n",
    "# #report = ProfileReport(#DataFrame here#, minimal=True)\n",
    "# #report.to\n",
    "\n",
    "# import pyarrow.parquet as pq\n",
    "# #df = pq.ParquetDataset(path_to_folder_with_parquets, filesystem=None).read_pandas().to_pandas()\n",
    "\n",
    "# import functools\n",
    "# import operator\n",
    "# def flat(a):\n",
    "#     return functools.reduce(operator.iconcat, a, [])\n",
    "\n",
    "\n",
    "######### LoadDicts\n",
    "\n",
    "import json\n",
    "from glob import glob\n",
    "from typing import Any\n",
    "from typing import NewType\n",
    "\n",
    "def np_encoder(object):\n",
    "    if isinstance(object, np.generic):\n",
    "        return object.item()\n",
    "\n",
    "\n",
    "DictsPathType = NewType(\"DictsPath\", str)\n",
    "\n",
    "\n",
    "def load_file_json(path: DictsPathType):\n",
    "    with open(path, \"r\") as f:\n",
    "        return json.load(f)\n",
    "\n",
    "\n",
    "def dump_file_json(path: DictsPathType, var: Any):\n",
    "    with open(path, \"w\") as f:\n",
    "        return json.dump(var, f, indent=4, default=np_encoder)\n",
    "\n",
    "\n",
    "class LoadDicts:\n",
    "    def __init__(self, dict_path: DictsPathType = \"./data\"):\n",
    "        Dicts_glob = glob(f\"{dict_path}/*.json\")\n",
    "        self.List = []\n",
    "        self.Dict = {}\n",
    "        for path_json in Dicts_glob:\n",
    "            name = path_json.split(\"/\")[-1].replace(\".json\", \"\")\n",
    "            self.List.append(name)\n",
    "            self.Dict[name] = load_file_json(path_json)\n",
    "            setattr(self, name, self.Dict[name])\n",
    "\n",
    "    def __repr__(self) -> str:\n",
    "        return \"LoadDicts: {}\".format(\", \".join(self.List))"
   ]
  },
  {
   "cell_type": "code",
   "execution_count": 27,
   "metadata": {
    "execution": {
     "iopub.execute_input": "2022-08-01T13:56:18.663803Z",
     "iopub.status.busy": "2022-08-01T13:56:18.663269Z",
     "iopub.status.idle": "2022-08-01T13:56:18.979070Z",
     "shell.execute_reply": "2022-08-01T13:56:18.977826Z",
     "shell.execute_reply.started": "2022-08-01T13:56:18.663775Z"
    },
    "tags": []
   },
   "outputs": [
    {
     "name": "stdout",
     "output_type": "stream",
     "text": [
      "Python implementation: CPython\n",
      "Python version       : 3.10.5\n",
      "IPython version      : 8.4.0\n",
      "\n",
      "Compiler    : GCC 10.2.1 20210110\n",
      "OS          : Linux\n",
      "Release     : 4.14.285-215.501.amzn2.x86_64\n",
      "Machine     : x86_64\n",
      "Processor   : \n",
      "CPU cores   : 4\n",
      "Architecture: 64bit\n",
      "\n",
      "Git hash: 9d35edec84afef9826fba1903a641bc7d7a1b13e\n",
      "\n",
      "Git repo: https://github.com/ysraell/random-forest-mc.git\n",
      "\n",
      "Git branch: dev\n",
      "\n",
      "json   : 2.0.9\n",
      "pandas : 1.4.3\n",
      "logging: 0.5.1.2\n",
      "numpy  : 1.23.1\n",
      "re     : 2.2.1\n",
      "sys    : 3.10.5 (main, Jul 12 2022, 11:32:11) [GCC 10.2.1 20210110]\n",
      "\n",
      "CPU\t: Intel(R) Xeon(R) CPU E5-2686 v4 @ 2.30GHz\n",
      "Mem:            15G\n",
      "Swap:             0B          0B          0B\n"
     ]
    }
   ],
   "source": [
    "# Run this cell before close.\n",
    "%watermark -d --iversion -b -r -g -m -v\n",
    "!cat /proc/cpuinfo |grep 'model name'|head -n 1 |sed -e 's/model\\ name/CPU/'\n",
    "!free -h |cut -d'i' -f1  |grep -v total"
   ]
  },
  {
   "cell_type": "code",
   "execution_count": 28,
   "metadata": {
    "execution": {
     "iopub.execute_input": "2022-08-01T13:56:18.981970Z",
     "iopub.status.busy": "2022-08-01T13:56:18.981041Z",
     "iopub.status.idle": "2022-08-01T13:56:19.000706Z",
     "shell.execute_reply": "2022-08-01T13:56:18.999890Z",
     "shell.execute_reply.started": "2022-08-01T13:56:18.981937Z"
    },
    "tags": []
   },
   "outputs": [
    {
     "data": {
      "text/plain": [
       "['/work/tmp/datasets/creditcard.csv',\n",
       " '/work/tmp/datasets/creditcard_trans_float.csv',\n",
       " '/work/tmp/datasets/creditcard_trans_int.csv',\n",
       " '/work/tmp/datasets/iris.csv',\n",
       " '/work/tmp/datasets/titanic.csv']"
      ]
     },
     "execution_count": 28,
     "metadata": {},
     "output_type": "execute_result"
    }
   ],
   "source": [
    "dataset_path_list = glob('/work/tmp/datasets/*.csv')\n",
    "dataset_path_list"
   ]
  },
  {
   "cell_type": "code",
   "execution_count": 29,
   "metadata": {
    "execution": {
     "iopub.execute_input": "2022-08-01T13:56:19.271184Z",
     "iopub.status.busy": "2022-08-01T13:56:19.270888Z",
     "iopub.status.idle": "2022-08-01T13:56:19.288020Z",
     "shell.execute_reply": "2022-08-01T13:56:19.287128Z",
     "shell.execute_reply.started": "2022-08-01T13:56:19.271158Z"
    },
    "tags": []
   },
   "outputs": [],
   "source": [
    "dataset_dict = {\n",
    "    'titanic' : {\n",
    "        'ds_cols' : ['Pclass', 'Sex', 'Age', 'SibSp', 'Fare', 'Embarked'],\n",
    "        'target_col' : 'Survived',\n",
    "        'csv_path' : '/work/tmp/datasets/titanic.csv'\n",
    "    },\n",
    "    'iris': {\n",
    "        'ds_cols' : ['sepal.length', 'sepal.width', 'petal.length', 'petal.width'],\n",
    "        'target_col' : 'variety',\n",
    "        'csv_path' : '/work/tmp/datasets/iris.csv'\n",
    "    },\n",
    "    'creditcard': {\n",
    "        'ds_cols' : ['V1', 'V2', 'V3', 'V4', 'V5', 'V6', 'V7', 'V8', 'V9', 'V10',\n",
    "       'V11', 'V12', 'V13', 'V14', 'V15', 'V16', 'V17', 'V18', 'V19', 'V20',\n",
    "       'V21', 'V22', 'V23', 'V24', 'V25', 'V26', 'V27', 'V28', 'Amount'],\n",
    "        'target_col' : 'Class',\n",
    "        'csv_path' : '/work/tmp/datasets/creditcard.csv'\n",
    "    },\n",
    "    'creditcard_trans_int': {\n",
    "        'ds_cols' : ['V1', 'V2', 'V3', 'V4', 'V5', 'V6', 'V7', 'V8', 'V9', 'V10',\n",
    "       'V11', 'V12', 'V13', 'V14', 'V15', 'V16', 'V17', 'V18', 'V19', 'V20',\n",
    "       'V21', 'V22', 'V23', 'V24', 'V25', 'V26', 'V27', 'V28', 'Amount'],\n",
    "        'target_col' : 'Class',\n",
    "        'csv_path' : '/work/tmp/datasets/creditcard_trans_int.csv'\n",
    "    },\n",
    "    'creditcard_trans_float': {\n",
    "        'ds_cols' : ['V1', 'V2', 'V3', 'V4', 'V5', 'V6', 'V7', 'V8', 'V9', 'V10',\n",
    "       'V11', 'V12', 'V13', 'V14', 'V15', 'V16', 'V17', 'V18', 'V19', 'V20',\n",
    "       'V21', 'V22', 'V23', 'V24', 'V25', 'V26', 'V27', 'V28', 'Amount'],\n",
    "        'target_col' : 'Class',\n",
    "        'csv_path' : '/work/tmp/datasets/creditcard_trans_float.csv'\n",
    "    }\n",
    "}\n"
   ]
  },
  {
   "cell_type": "code",
   "execution_count": 30,
   "metadata": {
    "execution": {
     "iopub.execute_input": "2022-08-01T13:56:19.783495Z",
     "iopub.status.busy": "2022-08-01T13:56:19.782893Z",
     "iopub.status.idle": "2022-08-01T13:56:22.162311Z",
     "shell.execute_reply": "2022-08-01T13:56:22.161357Z",
     "shell.execute_reply.started": "2022-08-01T13:56:19.783466Z"
    },
    "tags": []
   },
   "outputs": [
    {
     "data": {
      "text/markdown": [
       "# titanic"
      ],
      "text/plain": [
       "<IPython.core.display.Markdown object>"
      ]
     },
     "metadata": {},
     "output_type": "display_data"
    },
    {
     "name": "stderr",
     "output_type": "stream",
     "text": [
      "Planting the forest: 100%|██████████| 8/8 [00:02<00:00,  3.91it/s]\n"
     ]
    },
    {
     "data": {
      "text/markdown": [
       "## Accuracy:"
      ],
      "text/plain": [
       "<IPython.core.display.Markdown object>"
      ]
     },
     "metadata": {},
     "output_type": "display_data"
    },
    {
     "data": {
      "text/markdown": [
       "## &nbsp;&nbsp;&nbsp; 78.51\\% (hard-voting)"
      ],
      "text/plain": [
       "<IPython.core.display.Markdown object>"
      ]
     },
     "metadata": {},
     "output_type": "display_data"
    },
    {
     "data": {
      "text/markdown": [
       "## &nbsp;&nbsp;&nbsp; 78.51\\% (soft-voting)"
      ],
      "text/plain": [
       "<IPython.core.display.Markdown object>"
      ]
     },
     "metadata": {},
     "output_type": "display_data"
    }
   ],
   "source": [
    "ds_name = 'titanic'\n",
    "md(f'# {ds_name}')\n",
    "params = dataset_dict[ds_name]\n",
    "\n",
    "dataset = pd.read_csv(params['csv_path'])[params['ds_cols']+[params['target_col']]].dropna().reset_index(drop=True)\n",
    "dataset['Age'] = dataset['Age'].astype(np.uint8)\n",
    "dataset['SibSp'] = dataset['SibSp'].astype(np.uint8)\n",
    "dataset['Pclass'] = dataset['Pclass'].astype(str)\n",
    "dataset['Fare'] = dataset['Fare'].astype(np.uint32)\n",
    "cls = RandomForestMC(\n",
    "    n_trees=8,\n",
    "    target_col = params['target_col'],\n",
    "    max_discard_trees = 4\n",
    ")\n",
    "cls.process_dataset(dataset)\n",
    "cls.fit()\n",
    "y_test = dataset[params['target_col']].to_list()\n",
    "y_pred = cls.testForest(dataset)\n",
    "accuracy_hard = \"{:.2f}\\%\".format(100*sum([v == p for v, p in zip(y_test, y_pred)]) / len(y_pred))\n",
    "cls.soft_voting=True\n",
    "y_pred = cls.testForest(dataset)\n",
    "accuracy_soft = \"{:.2f}\\%\".format(100*sum([v == p for v, p in zip(y_test, y_pred)]) / len(y_pred))\n",
    "md('## Accuracy:') \n",
    "md(f'## &nbsp;&nbsp;&nbsp; {accuracy_hard} (hard-voting)')\n",
    "md(f'## &nbsp;&nbsp;&nbsp; {accuracy_soft} (soft-voting)')"
   ]
  },
  {
   "cell_type": "code",
   "execution_count": 31,
   "metadata": {
    "execution": {
     "iopub.execute_input": "2022-08-01T13:56:23.633904Z",
     "iopub.status.busy": "2022-08-01T13:56:23.633222Z",
     "iopub.status.idle": "2022-08-01T13:56:23.649507Z",
     "shell.execute_reply": "2022-08-01T13:56:23.648686Z",
     "shell.execute_reply.started": "2022-08-01T13:56:23.633874Z"
    },
    "tags": []
   },
   "outputs": [],
   "source": [
    "model_dict = cls.model2dict()"
   ]
  },
  {
   "cell_type": "code",
   "execution_count": 32,
   "metadata": {
    "execution": {
     "iopub.execute_input": "2022-08-01T13:56:24.024529Z",
     "iopub.status.busy": "2022-08-01T13:56:24.023710Z",
     "iopub.status.idle": "2022-08-01T13:56:24.044347Z",
     "shell.execute_reply": "2022-08-01T13:56:24.043413Z",
     "shell.execute_reply.started": "2022-08-01T13:56:24.024498Z"
    },
    "tags": []
   },
   "outputs": [
    {
     "data": {
      "text/plain": [
       "{'batch_train_pclass': 10,\n",
       " 'batch_val_pclass': 10,\n",
       " '_N': 20,\n",
       " 'min_feature': 2,\n",
       " 'max_feature': 6,\n",
       " 'th_start': 0.9,\n",
       " 'delta_th': 0.1,\n",
       " 'max_discard_trees': 4,\n",
       " 'n_trees': 8,\n",
       " 'class_vals': ['0', '1'],\n",
       " 'data': [DecisionTreeMC(survived_score=0.75,module_version=0.4.0-alpha),\n",
       "  DecisionTreeMC(survived_score=0.6,module_version=0.4.0-alpha),\n",
       "  DecisionTreeMC(survived_score=0.7,module_version=0.4.0-alpha),\n",
       "  DecisionTreeMC(survived_score=0.8,module_version=0.4.0-alpha),\n",
       "  DecisionTreeMC(survived_score=0.65,module_version=0.4.0-alpha),\n",
       "  DecisionTreeMC(survived_score=0.65,module_version=0.4.0-alpha),\n",
       "  DecisionTreeMC(survived_score=0.6,module_version=0.4.0-alpha),\n",
       "  DecisionTreeMC(survived_score=0.8,module_version=0.4.0-alpha)],\n",
       " 'survived_scores': [0.75, 0.6, 0.7, 0.8, 0.65, 0.65, 0.6, 0.8],\n",
       " 'version': '0.4.0-alpha',\n",
       " 'numeric_cols': ['Age', 'SibSp', 'Fare'],\n",
       " 'feature_cols': ['Pclass', 'Sex', 'Age', 'SibSp', 'Fare', 'Embarked'],\n",
       " 'type_of_cols': {'Age': 'numeric',\n",
       "  'SibSp': 'numeric',\n",
       "  'Fare': 'numeric',\n",
       "  'Sex': 'categorical',\n",
       "  'Embarked': 'categorical',\n",
       "  'Pclass': 'categorical'},\n",
       " 'target_col': 'Survived'}"
      ]
     },
     "execution_count": 32,
     "metadata": {},
     "output_type": "execute_result"
    }
   ],
   "source": [
    "model_dict"
   ]
  },
  {
   "cell_type": "code",
   "execution_count": 34,
   "metadata": {
    "execution": {
     "iopub.execute_input": "2022-08-01T13:58:02.592949Z",
     "iopub.status.busy": "2022-08-01T13:58:02.592036Z",
     "iopub.status.idle": "2022-08-01T13:58:02.610476Z",
     "shell.execute_reply": "2022-08-01T13:58:02.609536Z",
     "shell.execute_reply.started": "2022-08-01T13:58:02.592917Z"
    },
    "tags": []
   },
   "outputs": [],
   "source": [
    "model_path = '/work/tmp/cls_rfmc_titanic.json'\n",
    "dump_file_json(model_path, model_dict)"
   ]
  },
  {
   "cell_type": "code",
   "execution_count": 36,
   "metadata": {
    "execution": {
     "iopub.execute_input": "2022-08-01T13:58:08.039092Z",
     "iopub.status.busy": "2022-08-01T13:58:08.038400Z",
     "iopub.status.idle": "2022-08-01T13:58:08.060538Z",
     "shell.execute_reply": "2022-08-01T13:58:08.059708Z",
     "shell.execute_reply.started": "2022-08-01T13:58:08.039062Z"
    },
    "tags": []
   },
   "outputs": [
    {
     "data": {
      "text/plain": [
       "{'batch_train_pclass': 10,\n",
       " 'batch_val_pclass': 10,\n",
       " '_N': 20,\n",
       " 'min_feature': 2,\n",
       " 'max_feature': 6,\n",
       " 'th_start': 0.9,\n",
       " 'delta_th': 0.1,\n",
       " 'max_discard_trees': 4,\n",
       " 'n_trees': 8,\n",
       " 'class_vals': ['0', '1'],\n",
       " 'data': [None, None, None, None, None, None, None, None],\n",
       " 'survived_scores': [0.75, 0.6, 0.7, 0.8, 0.65, 0.65, 0.6, 0.8],\n",
       " 'version': '0.4.0-alpha',\n",
       " 'numeric_cols': ['Age', 'SibSp', 'Fare'],\n",
       " 'feature_cols': ['Pclass', 'Sex', 'Age', 'SibSp', 'Fare', 'Embarked'],\n",
       " 'type_of_cols': {'Age': 'numeric',\n",
       "  'SibSp': 'numeric',\n",
       "  'Fare': 'numeric',\n",
       "  'Sex': 'categorical',\n",
       "  'Embarked': 'categorical',\n",
       "  'Pclass': 'categorical'},\n",
       " 'target_col': 'Survived'}"
      ]
     },
     "execution_count": 36,
     "metadata": {},
     "output_type": "execute_result"
    }
   ],
   "source": [
    "modeldict = load_file_json(model_path)\n",
    "modeldict"
   ]
  },
  {
   "cell_type": "code",
   "execution_count": 38,
   "metadata": {
    "execution": {
     "iopub.execute_input": "2022-08-01T13:58:34.127551Z",
     "iopub.status.busy": "2022-08-01T13:58:34.126834Z",
     "iopub.status.idle": "2022-08-01T13:58:34.146769Z",
     "shell.execute_reply": "2022-08-01T13:58:34.145958Z",
     "shell.execute_reply.started": "2022-08-01T13:58:34.127520Z"
    },
    "tags": []
   },
   "outputs": [
    {
     "data": {
      "text/plain": [
       "RandomForestMC(len(Forest)=0,n_trees=16,model_version=0.4.0-alpha,module_version=0.4.0-alpha)"
      ]
     },
     "execution_count": 38,
     "metadata": {},
     "output_type": "execute_result"
    }
   ],
   "source": [
    "cls = RandomForestMC()\n",
    "cls"
   ]
  },
  {
   "cell_type": "code",
   "execution_count": 39,
   "metadata": {
    "execution": {
     "iopub.execute_input": "2022-08-01T13:58:39.518947Z",
     "iopub.status.busy": "2022-08-01T13:58:39.518208Z",
     "iopub.status.idle": "2022-08-01T13:58:39.536547Z",
     "shell.execute_reply": "2022-08-01T13:58:39.535620Z",
     "shell.execute_reply.started": "2022-08-01T13:58:39.518915Z"
    },
    "tags": []
   },
   "outputs": [],
   "source": [
    "cls.dict2model(modeldict)"
   ]
  },
  {
   "cell_type": "code",
   "execution_count": 40,
   "metadata": {
    "execution": {
     "iopub.execute_input": "2022-08-01T13:58:40.753832Z",
     "iopub.status.busy": "2022-08-01T13:58:40.753118Z",
     "iopub.status.idle": "2022-08-01T13:58:40.771462Z",
     "shell.execute_reply": "2022-08-01T13:58:40.770662Z",
     "shell.execute_reply.started": "2022-08-01T13:58:40.753800Z"
    },
    "tags": []
   },
   "outputs": [
    {
     "data": {
      "text/plain": [
       "RandomForestMC(len(Forest)=8,n_trees=8,model_version=0.4.0-alpha,module_version=0.4.0-alpha)"
      ]
     },
     "execution_count": 40,
     "metadata": {},
     "output_type": "execute_result"
    }
   ],
   "source": [
    "cls"
   ]
  },
  {
   "cell_type": "code",
   "execution_count": 42,
   "metadata": {
    "execution": {
     "iopub.execute_input": "2022-08-01T13:58:52.849281Z",
     "iopub.status.busy": "2022-08-01T13:58:52.848570Z",
     "iopub.status.idle": "2022-08-01T13:58:52.867023Z",
     "shell.execute_reply": "2022-08-01T13:58:52.866114Z",
     "shell.execute_reply.started": "2022-08-01T13:58:52.849251Z"
    },
    "tags": []
   },
   "outputs": [
    {
     "data": {
      "text/plain": [
       "[None, None, None, None, None, None, None, None]"
      ]
     },
     "execution_count": 42,
     "metadata": {},
     "output_type": "execute_result"
    }
   ],
   "source": [
    "cls.data"
   ]
  },
  {
   "cell_type": "code",
   "execution_count": null,
   "metadata": {},
   "outputs": [],
   "source": []
  }
 ],
 "metadata": {
  "kernelspec": {
   "display_name": "Python 3 (ipykernel)",
   "language": "python",
   "name": "python3"
  },
  "language_info": {
   "codemirror_mode": {
    "name": "ipython",
    "version": 3
   },
   "file_extension": ".py",
   "mimetype": "text/x-python",
   "name": "python",
   "nbconvert_exporter": "python",
   "pygments_lexer": "ipython3",
   "version": "3.10.5"
  }
 },
 "nbformat": 4,
 "nbformat_minor": 4
}
