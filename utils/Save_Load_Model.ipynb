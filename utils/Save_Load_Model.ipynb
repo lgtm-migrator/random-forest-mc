{
 "cells": [
  {
   "cell_type": "markdown",
   "metadata": {},
   "source": [
    "# Save and Load Model \n",
    "\n",
    "- Author: Israel Oliveira [\\[e-mail\\]](mailto:'Israel%20Oliveira%20'<prof.israel@gmail.com>)"
   ]
  },
  {
   "cell_type": "code",
   "execution_count": 26,
   "metadata": {
    "execution": {
     "iopub.execute_input": "2022-08-01T15:03:51.016467Z",
     "iopub.status.busy": "2022-08-01T15:03:51.015546Z",
     "iopub.status.idle": "2022-08-01T15:03:51.113648Z",
     "shell.execute_reply": "2022-08-01T15:03:51.112797Z",
     "shell.execute_reply.started": "2022-08-01T15:03:51.016437Z"
    },
    "tags": []
   },
   "outputs": [],
   "source": [
    "#!pip3 install -U random-forest-mc"
   ]
  },
  {
   "cell_type": "code",
   "execution_count": 27,
   "metadata": {
    "execution": {
     "iopub.execute_input": "2022-08-01T15:03:51.245489Z",
     "iopub.status.busy": "2022-08-01T15:03:51.244813Z",
     "iopub.status.idle": "2022-08-01T15:03:51.262897Z",
     "shell.execute_reply": "2022-08-01T15:03:51.261945Z",
     "shell.execute_reply.started": "2022-08-01T15:03:51.245459Z"
    },
    "tags": []
   },
   "outputs": [
    {
     "name": "stdout",
     "output_type": "stream",
     "text": [
      "The watermark extension is already loaded. To reload it, use:\n",
      "  %reload_ext watermark\n"
     ]
    }
   ],
   "source": [
    "%load_ext watermark"
   ]
  },
  {
   "cell_type": "code",
   "execution_count": 28,
   "metadata": {
    "execution": {
     "iopub.execute_input": "2022-08-01T15:03:51.513069Z",
     "iopub.status.busy": "2022-08-01T15:03:51.512376Z",
     "iopub.status.idle": "2022-08-01T15:03:51.531272Z",
     "shell.execute_reply": "2022-08-01T15:03:51.530293Z",
     "shell.execute_reply.started": "2022-08-01T15:03:51.513039Z"
    },
    "tags": []
   },
   "outputs": [
    {
     "name": "stdout",
     "output_type": "stream",
     "text": [
      "The autoreload extension is already loaded. To reload it, use:\n",
      "  %reload_ext autoreload\n"
     ]
    }
   ],
   "source": [
    "%load_ext autoreload\n",
    "%autoreload 2\n",
    "\n",
    "import pandas as pd\n",
    "\n",
    "import sys\n",
    "sys.path.append('../src/random_forest_mc')\n",
    "from model import *\n"
   ]
  },
  {
   "cell_type": "code",
   "execution_count": 29,
   "metadata": {
    "execution": {
     "iopub.execute_input": "2022-08-01T15:03:51.827115Z",
     "iopub.status.busy": "2022-08-01T15:03:51.826734Z",
     "iopub.status.idle": "2022-08-01T15:03:51.847494Z",
     "shell.execute_reply": "2022-08-01T15:03:51.846445Z",
     "shell.execute_reply.started": "2022-08-01T15:03:51.827087Z"
    },
    "tags": []
   },
   "outputs": [],
   "source": [
    "# from tqdm import notebook as tqdm\n",
    "\n",
    "from glob import glob\n",
    "\n",
    "# import matplotlib.pyplot as plt\n",
    "# %matplotlib inline\n",
    "# from matplotlib import rcParams\n",
    "# from cycler import cycler\n",
    "\n",
    "# rcParams['figure.figsize'] = 12, 8 # 18, 5\n",
    "# rcParams['axes.spines.top'] = False\n",
    "# rcParams['axes.spines.right'] = False\n",
    "# rcParams['axes.grid'] = True\n",
    "# rcParams['axes.prop_cycle'] = cycler(color=['#365977'])\n",
    "# rcParams['lines.linewidth'] = 2.5\n",
    "\n",
    "# import seaborn as sns\n",
    "# sns.set_theme()\n",
    "\n",
    "# pd.set_option(\"max_columns\", None)\n",
    "# pd.set_option(\"max_rows\", None)\n",
    "# pd.set_option('display.max_colwidth', None)\n",
    "\n",
    "from IPython.display import Markdown, display\n",
    "def md(arg):\n",
    "    display(Markdown(arg))\n",
    "\n",
    "# from pandas_profiling import ProfileReport\n",
    "# #report = ProfileReport(#DataFrame here#, minimal=True)\n",
    "# #report.to\n",
    "\n",
    "# import pyarrow.parquet as pq\n",
    "# #df = pq.ParquetDataset(path_to_folder_with_parquets, filesystem=None).read_pandas().to_pandas()\n",
    "\n",
    "# import functools\n",
    "# import operator\n",
    "# def flat(a):\n",
    "#     return functools.reduce(operator.iconcat, a, [])\n",
    "\n",
    "\n",
    "######### LoadDicts\n",
    "\n",
    "import json\n",
    "from glob import glob\n",
    "from typing import Any\n",
    "from typing import NewType\n",
    "\n",
    "def np_encoder(object):\n",
    "    if isinstance(object, np.generic):\n",
    "        return object.item()\n",
    "\n",
    "\n",
    "DictsPathType = NewType(\"DictsPath\", str)\n",
    "\n",
    "\n",
    "def load_file_json(path: DictsPathType):\n",
    "    with open(path, \"r\") as f:\n",
    "        return json.load(f)\n",
    "\n",
    "\n",
    "def dump_file_json(path: DictsPathType, var: Any):\n",
    "    with open(path, \"w\") as f:\n",
    "        return json.dump(var, f, indent=4, default=np_encoder)\n",
    "\n",
    "\n",
    "class LoadDicts:\n",
    "    def __init__(self, dict_path: DictsPathType = \"./data\"):\n",
    "        Dicts_glob = glob(f\"{dict_path}/*.json\")\n",
    "        self.List = []\n",
    "        self.Dict = {}\n",
    "        for path_json in Dicts_glob:\n",
    "            name = path_json.split(\"/\")[-1].replace(\".json\", \"\")\n",
    "            self.List.append(name)\n",
    "            self.Dict[name] = load_file_json(path_json)\n",
    "            setattr(self, name, self.Dict[name])\n",
    "\n",
    "    def __repr__(self) -> str:\n",
    "        return \"LoadDicts: {}\".format(\", \".join(self.List))"
   ]
  },
  {
   "cell_type": "code",
   "execution_count": 30,
   "metadata": {
    "execution": {
     "iopub.execute_input": "2022-08-01T15:03:52.336715Z",
     "iopub.status.busy": "2022-08-01T15:03:52.336011Z",
     "iopub.status.idle": "2022-08-01T15:03:52.645637Z",
     "shell.execute_reply": "2022-08-01T15:03:52.644542Z",
     "shell.execute_reply.started": "2022-08-01T15:03:52.336684Z"
    },
    "tags": []
   },
   "outputs": [
    {
     "name": "stdout",
     "output_type": "stream",
     "text": [
      "Python implementation: CPython\n",
      "Python version       : 3.10.5\n",
      "IPython version      : 8.4.0\n",
      "\n",
      "Compiler    : GCC 10.2.1 20210110\n",
      "OS          : Linux\n",
      "Release     : 4.14.285-215.501.amzn2.x86_64\n",
      "Machine     : x86_64\n",
      "Processor   : \n",
      "CPU cores   : 4\n",
      "Architecture: 64bit\n",
      "\n",
      "Git hash: e356b35f99111ce71426542dad941eab58cfd137\n",
      "\n",
      "Git repo: https://github.com/ysraell/random-forest-mc.git\n",
      "\n",
      "Git branch: dev\n",
      "\n",
      "logging: 0.5.1.2\n",
      "pandas : 1.4.3\n",
      "json   : 2.0.9\n",
      "numpy  : 1.23.1\n",
      "sys    : 3.10.5 (main, Jul 12 2022, 11:32:11) [GCC 10.2.1 20210110]\n",
      "re     : 2.2.1\n",
      "\n",
      "CPU\t: Intel(R) Xeon(R) CPU E5-2686 v4 @ 2.30GHz\n",
      "Mem:            15G\n",
      "Swap:             0B          0B          0B\n"
     ]
    }
   ],
   "source": [
    "# Run this cell before close.\n",
    "%watermark -d --iversion -b -r -g -m -v\n",
    "!cat /proc/cpuinfo |grep 'model name'|head -n 1 |sed -e 's/model\\ name/CPU/'\n",
    "!free -h |cut -d'i' -f1  |grep -v total"
   ]
  },
  {
   "cell_type": "code",
   "execution_count": 31,
   "metadata": {
    "execution": {
     "iopub.execute_input": "2022-08-01T15:03:52.678987Z",
     "iopub.status.busy": "2022-08-01T15:03:52.678663Z",
     "iopub.status.idle": "2022-08-01T15:03:52.699002Z",
     "shell.execute_reply": "2022-08-01T15:03:52.698112Z",
     "shell.execute_reply.started": "2022-08-01T15:03:52.678954Z"
    },
    "tags": []
   },
   "outputs": [
    {
     "data": {
      "text/plain": [
       "['/work/tmp/datasets/creditcard.csv',\n",
       " '/work/tmp/datasets/creditcard_trans_float.csv',\n",
       " '/work/tmp/datasets/creditcard_trans_int.csv',\n",
       " '/work/tmp/datasets/iris.csv',\n",
       " '/work/tmp/datasets/titanic.csv']"
      ]
     },
     "execution_count": 31,
     "metadata": {},
     "output_type": "execute_result"
    }
   ],
   "source": [
    "dataset_path_list = glob('/work/tmp/datasets/*.csv')\n",
    "dataset_path_list"
   ]
  },
  {
   "cell_type": "code",
   "execution_count": 32,
   "metadata": {
    "execution": {
     "iopub.execute_input": "2022-08-01T15:03:53.088493Z",
     "iopub.status.busy": "2022-08-01T15:03:53.087877Z",
     "iopub.status.idle": "2022-08-01T15:03:53.111653Z",
     "shell.execute_reply": "2022-08-01T15:03:53.110533Z",
     "shell.execute_reply.started": "2022-08-01T15:03:53.088464Z"
    },
    "tags": []
   },
   "outputs": [],
   "source": [
    "dataset_dict = {\n",
    "    'titanic' : {\n",
    "        'ds_cols' : ['Pclass', 'Sex', 'Age', 'SibSp', 'Fare', 'Embarked'],\n",
    "        'target_col' : 'Survived',\n",
    "        'csv_path' : '/work/tmp/datasets/titanic.csv'\n",
    "    },\n",
    "    'iris': {\n",
    "        'ds_cols' : ['sepal.length', 'sepal.width', 'petal.length', 'petal.width'],\n",
    "        'target_col' : 'variety',\n",
    "        'csv_path' : '/work/tmp/datasets/iris.csv'\n",
    "    },\n",
    "    'creditcard': {\n",
    "        'ds_cols' : ['V1', 'V2', 'V3', 'V4', 'V5', 'V6', 'V7', 'V8', 'V9', 'V10',\n",
    "       'V11', 'V12', 'V13', 'V14', 'V15', 'V16', 'V17', 'V18', 'V19', 'V20',\n",
    "       'V21', 'V22', 'V23', 'V24', 'V25', 'V26', 'V27', 'V28', 'Amount'],\n",
    "        'target_col' : 'Class',\n",
    "        'csv_path' : '/work/tmp/datasets/creditcard.csv'\n",
    "    },\n",
    "    'creditcard_trans_int': {\n",
    "        'ds_cols' : ['V1', 'V2', 'V3', 'V4', 'V5', 'V6', 'V7', 'V8', 'V9', 'V10',\n",
    "       'V11', 'V12', 'V13', 'V14', 'V15', 'V16', 'V17', 'V18', 'V19', 'V20',\n",
    "       'V21', 'V22', 'V23', 'V24', 'V25', 'V26', 'V27', 'V28', 'Amount'],\n",
    "        'target_col' : 'Class',\n",
    "        'csv_path' : '/work/tmp/datasets/creditcard_trans_int.csv'\n",
    "    },\n",
    "    'creditcard_trans_float': {\n",
    "        'ds_cols' : ['V1', 'V2', 'V3', 'V4', 'V5', 'V6', 'V7', 'V8', 'V9', 'V10',\n",
    "       'V11', 'V12', 'V13', 'V14', 'V15', 'V16', 'V17', 'V18', 'V19', 'V20',\n",
    "       'V21', 'V22', 'V23', 'V24', 'V25', 'V26', 'V27', 'V28', 'Amount'],\n",
    "        'target_col' : 'Class',\n",
    "        'csv_path' : '/work/tmp/datasets/creditcard_trans_float.csv'\n",
    "    }\n",
    "}\n"
   ]
  },
  {
   "cell_type": "code",
   "execution_count": 33,
   "metadata": {
    "execution": {
     "iopub.execute_input": "2022-08-01T15:03:54.054794Z",
     "iopub.status.busy": "2022-08-01T15:03:54.054034Z",
     "iopub.status.idle": "2022-08-01T15:03:56.582927Z",
     "shell.execute_reply": "2022-08-01T15:03:56.582009Z",
     "shell.execute_reply.started": "2022-08-01T15:03:54.054763Z"
    },
    "tags": []
   },
   "outputs": [
    {
     "data": {
      "text/markdown": [
       "# titanic"
      ],
      "text/plain": [
       "<IPython.core.display.Markdown object>"
      ]
     },
     "metadata": {},
     "output_type": "display_data"
    },
    {
     "name": "stderr",
     "output_type": "stream",
     "text": [
      "Planting the forest: 100%|██████████| 8/8 [00:02<00:00,  3.65it/s]\n"
     ]
    },
    {
     "data": {
      "text/markdown": [
       "## Accuracy:"
      ],
      "text/plain": [
       "<IPython.core.display.Markdown object>"
      ]
     },
     "metadata": {},
     "output_type": "display_data"
    },
    {
     "data": {
      "text/markdown": [
       "## &nbsp;&nbsp;&nbsp; 78.51\\% (hard-voting)"
      ],
      "text/plain": [
       "<IPython.core.display.Markdown object>"
      ]
     },
     "metadata": {},
     "output_type": "display_data"
    },
    {
     "data": {
      "text/markdown": [
       "## &nbsp;&nbsp;&nbsp; 78.51\\% (soft-voting)"
      ],
      "text/plain": [
       "<IPython.core.display.Markdown object>"
      ]
     },
     "metadata": {},
     "output_type": "display_data"
    }
   ],
   "source": [
    "ds_name = 'titanic'\n",
    "md(f'# {ds_name}')\n",
    "params = dataset_dict[ds_name]\n",
    "\n",
    "dataset = pd.read_csv(params['csv_path'])[params['ds_cols']+[params['target_col']]].dropna().reset_index(drop=True)\n",
    "dataset['Age'] = dataset['Age'].astype(np.uint8)\n",
    "dataset['SibSp'] = dataset['SibSp'].astype(np.uint8)\n",
    "dataset['Pclass'] = dataset['Pclass'].astype(str)\n",
    "dataset['Fare'] = dataset['Fare'].astype(np.uint32)\n",
    "cls = RandomForestMC(\n",
    "    n_trees=8,\n",
    "    target_col = params['target_col'],\n",
    "    max_discard_trees = 4\n",
    ")\n",
    "cls.process_dataset(dataset)\n",
    "cls.fit()\n",
    "y_test = dataset[params['target_col']].to_list()\n",
    "y_pred = cls.testForest(dataset)\n",
    "accuracy_hard = \"{:.2f}\\%\".format(100*sum([v == p for v, p in zip(y_test, y_pred)]) / len(y_pred))\n",
    "cls.soft_voting=True\n",
    "y_pred = cls.testForest(dataset)\n",
    "accuracy_soft = \"{:.2f}\\%\".format(100*sum([v == p for v, p in zip(y_test, y_pred)]) / len(y_pred))\n",
    "md('## Accuracy:') \n",
    "md(f'## &nbsp;&nbsp;&nbsp; {accuracy_hard} (hard-voting)')\n",
    "md(f'## &nbsp;&nbsp;&nbsp; {accuracy_soft} (soft-voting)')"
   ]
  },
  {
   "cell_type": "code",
   "execution_count": 34,
   "metadata": {
    "execution": {
     "iopub.execute_input": "2022-08-01T15:03:59.002824Z",
     "iopub.status.busy": "2022-08-01T15:03:59.002329Z",
     "iopub.status.idle": "2022-08-01T15:03:59.018390Z",
     "shell.execute_reply": "2022-08-01T15:03:59.017352Z",
     "shell.execute_reply.started": "2022-08-01T15:03:59.002794Z"
    },
    "tags": []
   },
   "outputs": [],
   "source": [
    "model_dict = cls.model2dict()"
   ]
  },
  {
   "cell_type": "code",
   "execution_count": 35,
   "metadata": {
    "execution": {
     "iopub.execute_input": "2022-08-01T15:04:00.178725Z",
     "iopub.status.busy": "2022-08-01T15:04:00.177975Z",
     "iopub.status.idle": "2022-08-01T15:04:00.214047Z",
     "shell.execute_reply": "2022-08-01T15:04:00.213023Z",
     "shell.execute_reply.started": "2022-08-01T15:04:00.178695Z"
    },
    "tags": []
   },
   "outputs": [
    {
     "data": {
      "text/plain": [
       "{'batch_train_pclass': 10,\n",
       " 'batch_val_pclass': 10,\n",
       " '_N': 20,\n",
       " 'min_feature': 2,\n",
       " 'max_feature': 6,\n",
       " 'th_start': 0.9,\n",
       " 'delta_th': 0.1,\n",
       " 'max_discard_trees': 4,\n",
       " 'n_trees': 8,\n",
       " 'class_vals': ['0', '1'],\n",
       " 'survived_scores': [0.8, 0.7, 0.85, 0.8, 0.7, 0.75, 0.8, 0.7],\n",
       " 'version': '0.4.0-alpha',\n",
       " 'numeric_cols': ['Age', 'SibSp', 'Fare'],\n",
       " 'feature_cols': ['Pclass', 'Sex', 'Age', 'SibSp', 'Fare', 'Embarked'],\n",
       " 'type_of_cols': {'Age': 'numeric',\n",
       "  'SibSp': 'numeric',\n",
       "  'Fare': 'numeric',\n",
       "  'Embarked': 'categorical',\n",
       "  'Pclass': 'categorical',\n",
       "  'Sex': 'categorical'},\n",
       " 'target_col': 'Survived',\n",
       " 'Forest': [{'data': {'Fare': {'split': {'feat_type': 'numeric',\n",
       "      'split_val': 12,\n",
       "      '>=': {'Pclass': {'split': {'feat_type': 'categorical',\n",
       "         'split_val': '3',\n",
       "         '>=': {'Sex': {'split': {'feat_type': 'categorical',\n",
       "            'split_val': 'female',\n",
       "            '>=': {'Age': {'split': {'feat_type': 'numeric',\n",
       "               'split_val': 17,\n",
       "               '>=': {'leaf': {'0': 1.0}},\n",
       "               '<': {'leaf': {'1': 1.0}}}}},\n",
       "            '<': {'leaf': {'1': 1.0}}}}},\n",
       "         '<': {'Sex': {'split': {'feat_type': 'categorical',\n",
       "            'split_val': 'female',\n",
       "            '>=': {'leaf': {'1': 1.0}},\n",
       "            '<': {'Embarked': {'split': {'feat_type': 'categorical',\n",
       "               'split_val': 'S',\n",
       "               '>=': {'leaf': {'1': 1.0}},\n",
       "               '<': {'leaf': {'0': 1.0}}}}}}}}}}},\n",
       "      '<': {'Pclass': {'split': {'feat_type': 'categorical',\n",
       "         'split_val': '3',\n",
       "         '>=': {'Sex': {'split': {'feat_type': 'categorical',\n",
       "            'split_val': 'male',\n",
       "            '>=': {'Embarked': {'split': {'feat_type': 'categorical',\n",
       "               'split_val': 'S',\n",
       "               '>=': {'Age': {'split': {'feat_type': 'numeric',\n",
       "                  'split_val': 30,\n",
       "                  '>=': {'Fare': {'split': {'feat_type': 'numeric',\n",
       "                     'split_val': 8,\n",
       "                     '>=': {'Age': {'split': {'feat_type': 'numeric',\n",
       "                        'split_val': 30,\n",
       "                        '>=': {'leaf': {'0': 1.0}},\n",
       "                        '<': {'SibSp': {'split': {'feat_type': 'numeric',\n",
       "                           'split_val': 0,\n",
       "                           '>=': {'leaf': {'1': 1.0}},\n",
       "                           '<': {'leaf': {'0': 1.0}}}}}}}},\n",
       "                     '<': {'leaf': {'0': 1.0}}}}},\n",
       "                  '<': {'leaf': {'0': 1.0}}}}},\n",
       "               '<': {'leaf': {'0': 1.0}}}}},\n",
       "            '<': {'leaf': {'1': 1.0}}}}},\n",
       "         '<': {'leaf': {'1': 1.0}}}}}}}},\n",
       "   'class_vals': ['0', '1'],\n",
       "   'survived_score': 0.8,\n",
       "   'features': ['Pclass', 'Sex', 'Age', 'SibSp', 'Fare', 'Embarked'],\n",
       "   'used_features': ['SibSp', 'Age', 'Pclass', 'Embarked', 'Sex', 'Fare'],\n",
       "   'module_version': '0.4.0-alpha'},\n",
       "  {'data': {'SibSp': {'split': {'feat_type': 'numeric',\n",
       "      'split_val': 0,\n",
       "      '>=': {'Age': {'split': {'feat_type': 'numeric',\n",
       "         'split_val': 19,\n",
       "         '>=': {'Pclass': {'split': {'feat_type': 'categorical',\n",
       "            'split_val': '1',\n",
       "            '>=': {'leaf': {'1': 1.0}},\n",
       "            '<': {'leaf': {'0': 1.0}}}}},\n",
       "         '<': {'leaf': {'1': 1.0}}}}},\n",
       "      '<': {'Age': {'split': {'feat_type': 'numeric',\n",
       "         'split_val': 28,\n",
       "         '>=': {'Pclass': {'split': {'feat_type': 'categorical',\n",
       "            'split_val': '2',\n",
       "            '>=': {'Age': {'split': {'feat_type': 'numeric',\n",
       "               'split_val': 31,\n",
       "               '>=': {'Age': {'split': {'feat_type': 'numeric',\n",
       "                  'split_val': 34,\n",
       "                  '>=': {'Pclass': {'split': {'feat_type': 'categorical',\n",
       "                     'split_val': '2',\n",
       "                     '>=': {'leaf': {'1': 1.0}},\n",
       "                     '<': {'leaf': {'0': 1.0}}}}},\n",
       "                  '<': {'leaf': {'0': 1.0}}}}},\n",
       "               '<': {'Pclass': {'split': {'feat_type': 'categorical',\n",
       "                  'split_val': '2',\n",
       "                  '>=': {'leaf': {'1': 1.0}},\n",
       "                  '<': {'leaf': {'0': 1.0}}}}}}}},\n",
       "            '<': {'Age': {'split': {'feat_type': 'numeric',\n",
       "               'split_val': 36,\n",
       "               '>=': {'Pclass': {'split': {'feat_type': 'categorical',\n",
       "                  'split_val': '3',\n",
       "                  '>=': {'leaf': {'0': 1.0}},\n",
       "                  '<': {'leaf': {'1': 1.0}}}}},\n",
       "               '<': {'leaf': {'0': 1.0}}}}}}}},\n",
       "         '<': {'Pclass': {'split': {'feat_type': 'categorical',\n",
       "            'split_val': '3',\n",
       "            '>=': {'Age': {'split': {'feat_type': 'numeric',\n",
       "               'split_val': 23,\n",
       "               '>=': {'Age': {'split': {'feat_type': 'numeric',\n",
       "                  'split_val': 26,\n",
       "                  '>=': {'leaf': {'1': 1.0}},\n",
       "                  '<': {'leaf': {'0': 1.0}}}}},\n",
       "               '<': {'leaf': {'0': 1.0}}}}},\n",
       "            '<': {'leaf': {'1': 1.0}}}}}}}}}}},\n",
       "   'class_vals': ['0', '1'],\n",
       "   'survived_score': 0.7,\n",
       "   'features': ['Pclass', 'Sex', 'Age', 'SibSp', 'Fare', 'Embarked'],\n",
       "   'used_features': ['SibSp', 'Pclass', 'Age'],\n",
       "   'module_version': '0.4.0-alpha'},\n",
       "  {'data': {'SibSp': {'split': {'feat_type': 'numeric',\n",
       "      'split_val': 0,\n",
       "      '>=': {'Embarked': {'split': {'feat_type': 'categorical',\n",
       "         'split_val': 'C',\n",
       "         '>=': {'leaf': {'1': 1.0}},\n",
       "         '<': {'Fare': {'split': {'feat_type': 'numeric',\n",
       "            'split_val': 29,\n",
       "            '>=': {'Sex': {'split': {'feat_type': 'categorical',\n",
       "               'split_val': 'male',\n",
       "               '>=': {'leaf': {'0': 1.0}},\n",
       "               '<': {'leaf': {'1': 1.0}}}}},\n",
       "            '<': {'Sex': {'split': {'feat_type': 'categorical',\n",
       "               'split_val': 'male',\n",
       "               '>=': {'leaf': {'0': 1.0}},\n",
       "               '<': {'leaf': {'1': 1.0}}}}}}}}}}},\n",
       "      '<': {'Embarked': {'split': {'feat_type': 'categorical',\n",
       "         'split_val': 'S',\n",
       "         '>=': {'Fare': {'split': {'feat_type': 'numeric',\n",
       "            'split_val': 11,\n",
       "            '>=': {'Sex': {'split': {'feat_type': 'categorical',\n",
       "               'split_val': 'male',\n",
       "               '>=': {'leaf': {'0': 1.0}},\n",
       "               '<': {'leaf': {'1': 1.0}}}}},\n",
       "            '<': {'Pclass': {'split': {'feat_type': 'categorical',\n",
       "               'split_val': '3',\n",
       "               '>=': {'Fare': {'split': {'feat_type': 'numeric',\n",
       "                  'split_val': 8,\n",
       "                  '>=': {'leaf': {'0': 1.0}},\n",
       "                  '<': {'leaf': {'1': 1.0}}}}},\n",
       "               '<': {'leaf': {'1': 1.0}}}}}}}},\n",
       "         '<': {'Fare': {'split': {'feat_type': 'numeric',\n",
       "            'split_val': 7,\n",
       "            '>=': {'leaf': {'1': 1.0}},\n",
       "            '<': {'Embarked': {'split': {'feat_type': 'categorical',\n",
       "               'split_val': 'C',\n",
       "               '>=': {'leaf': {'0': 1.0}},\n",
       "               '<': {'leaf': {'1': 1.0}}}}}}}}}}}}}},\n",
       "   'class_vals': ['0', '1'],\n",
       "   'survived_score': 0.85,\n",
       "   'features': ['Pclass', 'Sex', 'Age', 'SibSp', 'Fare', 'Embarked'],\n",
       "   'used_features': ['SibSp', 'Pclass', 'Embarked', 'Sex', 'Fare'],\n",
       "   'module_version': '0.4.0-alpha'},\n",
       "  {'data': {'SibSp': {'split': {'feat_type': 'numeric',\n",
       "      'split_val': 0,\n",
       "      '>=': {'Embarked': {'split': {'feat_type': 'categorical',\n",
       "         'split_val': 'S',\n",
       "         '>=': {'Age': {'split': {'feat_type': 'numeric',\n",
       "            'split_val': 13,\n",
       "            '>=': {'Sex': {'split': {'feat_type': 'categorical',\n",
       "               'split_val': 'male',\n",
       "               '>=': {'leaf': {'0': 1.0}},\n",
       "               '<': {'leaf': {'1': 1.0}}}}},\n",
       "            '<': {'leaf': {'0': 1.0}}}}},\n",
       "         '<': {'Age': {'split': {'feat_type': 'numeric',\n",
       "            'split_val': 25,\n",
       "            '>=': {'leaf': {'1': 1.0}},\n",
       "            '<': {'leaf': {'0': 1.0}}}}}}}},\n",
       "      '<': {'Embarked': {'split': {'feat_type': 'categorical',\n",
       "         'split_val': 'S',\n",
       "         '>=': {'Age': {'split': {'feat_type': 'numeric',\n",
       "            'split_val': 26,\n",
       "            '>=': {'Sex': {'split': {'feat_type': 'categorical',\n",
       "               'split_val': 'female',\n",
       "               '>=': {'leaf': {'1': 1.0}},\n",
       "               '<': {'SibSp': {'split': {'feat_type': 'numeric',\n",
       "                  'split_val': 0,\n",
       "                  '>=': {'leaf': {'1': 1.0}},\n",
       "                  '<': {'leaf': {'0': 1.0}}}}}}}},\n",
       "            '<': {'Sex': {'split': {'feat_type': 'categorical',\n",
       "               'split_val': 'male',\n",
       "               '>=': {'leaf': {'0': 1.0}},\n",
       "               '<': {'leaf': {'1': 1.0}}}}}}}},\n",
       "         '<': {'Age': {'split': {'feat_type': 'numeric',\n",
       "            'split_val': 40,\n",
       "            '>=': {'Sex': {'split': {'feat_type': 'categorical',\n",
       "               'split_val': 'male',\n",
       "               '>=': {'leaf': {'1': 1.0}},\n",
       "               '<': {'leaf': {'0': 1.0}}}}},\n",
       "            '<': {'leaf': {'1': 1.0}}}}}}}}}}},\n",
       "   'class_vals': ['0', '1'],\n",
       "   'survived_score': 0.8,\n",
       "   'features': ['Pclass', 'Sex', 'Age', 'SibSp', 'Fare', 'Embarked'],\n",
       "   'used_features': ['SibSp', 'Embarked', 'Age', 'Sex'],\n",
       "   'module_version': '0.4.0-alpha'},\n",
       "  {'data': {'SibSp': {'split': {'feat_type': 'numeric',\n",
       "      'split_val': 0,\n",
       "      '>=': {'Pclass': {'split': {'feat_type': 'categorical',\n",
       "         'split_val': '3',\n",
       "         '>=': {'Sex': {'split': {'feat_type': 'categorical',\n",
       "            'split_val': 'female',\n",
       "            '>=': {'Age': {'split': {'feat_type': 'numeric',\n",
       "               'split_val': 24,\n",
       "               '>=': {'Fare': {'split': {'feat_type': 'numeric',\n",
       "                  'split_val': 15,\n",
       "                  '>=': {'leaf': {'1': 1.0}},\n",
       "                  '<': {'leaf': {'0': 1.0}}}}},\n",
       "               '<': {'leaf': {'0': 1.0}}}}},\n",
       "            '<': {'leaf': {'0': 1.0}}}}},\n",
       "         '<': {'Sex': {'split': {'feat_type': 'categorical',\n",
       "            'split_val': 'male',\n",
       "            '>=': {'leaf': {'0': 1.0}},\n",
       "            '<': {'leaf': {'1': 1.0}}}}}}}},\n",
       "      '<': {'Pclass': {'split': {'feat_type': 'categorical',\n",
       "         'split_val': '1',\n",
       "         '>=': {'leaf': {'1': 1.0}},\n",
       "         '<': {'Sex': {'split': {'feat_type': 'categorical',\n",
       "            'split_val': 'male',\n",
       "            '>=': {'Embarked': {'split': {'feat_type': 'categorical',\n",
       "               'split_val': 'S',\n",
       "               '>=': {'Age': {'split': {'feat_type': 'numeric',\n",
       "                  'split_val': 33,\n",
       "                  '>=': {'leaf': {'0': 1.0}},\n",
       "                  '<': {'Fare': {'split': {'feat_type': 'numeric',\n",
       "                     'split_val': 9,\n",
       "                     '>=': {'leaf': {'0': 1.0}},\n",
       "                     '<': {'leaf': {'1': 1.0}}}}}}}},\n",
       "               '<': {'leaf': {'1': 1.0}}}}},\n",
       "            '<': {'leaf': {'1': 1.0}}}}}}}}}}},\n",
       "   'class_vals': ['0', '1'],\n",
       "   'survived_score': 0.7,\n",
       "   'features': ['Pclass', 'Sex', 'Age', 'SibSp', 'Fare', 'Embarked'],\n",
       "   'used_features': ['SibSp', 'Age', 'Pclass', 'Embarked', 'Sex', 'Fare'],\n",
       "   'module_version': '0.4.0-alpha'},\n",
       "  {'data': {'SibSp': {'split': {'feat_type': 'numeric',\n",
       "      'split_val': 0,\n",
       "      '>=': {'Fare': {'split': {'feat_type': 'numeric',\n",
       "         'split_val': 29,\n",
       "         '>=': {'Sex': {'split': {'feat_type': 'categorical',\n",
       "            'split_val': 'male',\n",
       "            '>=': {'SibSp': {'split': {'feat_type': 'numeric',\n",
       "               'split_val': 1,\n",
       "               '>=': {'leaf': {'1': 1.0}},\n",
       "               '<': {'leaf': {'0': 1.0}}}}},\n",
       "            '<': {'leaf': {'1': 1.0}}}}},\n",
       "         '<': {'Sex': {'split': {'feat_type': 'categorical',\n",
       "            'split_val': 'female',\n",
       "            '>=': {'leaf': {'1': 1.0}},\n",
       "            '<': {'leaf': {'0': 1.0}}}}}}}},\n",
       "      '<': {'Fare': {'split': {'feat_type': 'numeric',\n",
       "         'split_val': 13,\n",
       "         '>=': {'Sex': {'split': {'feat_type': 'categorical',\n",
       "            'split_val': 'female',\n",
       "            '>=': {'leaf': {'1': 1.0}},\n",
       "            '<': {'Fare': {'split': {'feat_type': 'numeric',\n",
       "               'split_val': 42,\n",
       "               '>=': {'Sex': {'split': {'feat_type': 'categorical',\n",
       "                  'split_val': 'male',\n",
       "                  '>=': {'leaf': {'1': 1.0}},\n",
       "                  '<': {'leaf': {'0': 1.0}}}}},\n",
       "               '<': {'Sex': {'split': {'feat_type': 'categorical',\n",
       "                  'split_val': 'male',\n",
       "                  '>=': {'leaf': {'1': 1.0}},\n",
       "                  '<': {'leaf': {'0': 1.0}}}}}}}}}}},\n",
       "         '<': {'Sex': {'split': {'feat_type': 'categorical',\n",
       "            'split_val': 'male',\n",
       "            '>=': {'leaf': {'0': 1.0}},\n",
       "            '<': {'leaf': {'1': 1.0}}}}}}}}}}},\n",
       "   'class_vals': ['0', '1'],\n",
       "   'survived_score': 0.75,\n",
       "   'features': ['Pclass', 'Sex', 'Age', 'SibSp', 'Fare', 'Embarked'],\n",
       "   'used_features': ['Fare', 'SibSp', 'Sex'],\n",
       "   'module_version': '0.4.0-alpha'},\n",
       "  {'data': {'Age': {'split': {'feat_type': 'numeric',\n",
       "      'split_val': 27,\n",
       "      '>=': {'Embarked': {'split': {'feat_type': 'categorical',\n",
       "         'split_val': 'S',\n",
       "         '>=': {'Fare': {'split': {'feat_type': 'numeric',\n",
       "            'split_val': 8,\n",
       "            '>=': {'Sex': {'split': {'feat_type': 'categorical',\n",
       "               'split_val': 'male',\n",
       "               '>=': {'Age': {'split': {'feat_type': 'numeric',\n",
       "                  'split_val': 29,\n",
       "                  '>=': {'Embarked': {'split': {'feat_type': 'categorical',\n",
       "                     'split_val': 'S',\n",
       "                     '>=': {'leaf': {'1': 1.0}},\n",
       "                     '<': {'leaf': {'0': 1.0}}}}},\n",
       "                  '<': {'Embarked': {'split': {'feat_type': 'categorical',\n",
       "                     'split_val': 'S',\n",
       "                     '>=': {'leaf': {'1': 1.0}},\n",
       "                     '<': {'leaf': {'0': 1.0}}}}}}}},\n",
       "               '<': {'leaf': {'0': 1.0}}}}},\n",
       "            '<': {'leaf': {'0': 1.0}}}}},\n",
       "         '<': {'leaf': {'1': 1.0}}}}},\n",
       "      '<': {'Embarked': {'split': {'feat_type': 'categorical',\n",
       "         'split_val': 'S',\n",
       "         '>=': {'Fare': {'split': {'feat_type': 'numeric',\n",
       "            'split_val': 12,\n",
       "            '>=': {'Sex': {'split': {'feat_type': 'categorical',\n",
       "               'split_val': 'female',\n",
       "               '>=': {'leaf': {'1': 1.0}},\n",
       "               '<': {'leaf': {'0': 1.0}}}}},\n",
       "            '<': {'leaf': {'0': 1.0}}}}},\n",
       "         '<': {'leaf': {'1': 1.0}}}}}}}},\n",
       "   'class_vals': ['0', '1'],\n",
       "   'survived_score': 0.8,\n",
       "   'features': ['Pclass', 'Sex', 'Age', 'SibSp', 'Fare', 'Embarked'],\n",
       "   'used_features': ['Fare', 'Embarked', 'Age', 'Sex'],\n",
       "   'module_version': '0.4.0-alpha'},\n",
       "  {'data': {'Sex': {'split': {'feat_type': 'categorical',\n",
       "      'split_val': 'male',\n",
       "      '>=': {'SibSp': {'split': {'feat_type': 'numeric',\n",
       "         'split_val': 0,\n",
       "         '>=': {'leaf': {'0': 1.0}},\n",
       "         '<': {'Fare': {'split': {'feat_type': 'numeric',\n",
       "            'split_val': 9,\n",
       "            '>=': {'Fare': {'split': {'feat_type': 'numeric',\n",
       "               'split_val': 25,\n",
       "               '>=': {'Fare': {'split': {'feat_type': 'numeric',\n",
       "                  'split_val': 26,\n",
       "                  '>=': {'Sex': {'split': {'feat_type': 'categorical',\n",
       "                     'split_val': 'male',\n",
       "                     '>=': {'leaf': {'1': 1.0}},\n",
       "                     '<': {'leaf': {'0': 1.0}}}}},\n",
       "                  '<': {'leaf': {'0': 1.0}}}}},\n",
       "               '<': {'leaf': {'0': 1.0}}}}},\n",
       "            '<': {'Fare': {'split': {'feat_type': 'numeric',\n",
       "               'split_val': 7,\n",
       "               '>=': {'leaf': {'0': 1.0}},\n",
       "               '<': {'Sex': {'split': {'feat_type': 'categorical',\n",
       "                  'split_val': 'male',\n",
       "                  '>=': {'leaf': {'1': 1.0}},\n",
       "                  '<': {'leaf': {'0': 1.0}}}}}}}}}}}}}},\n",
       "      '<': {'Embarked': {'split': {'feat_type': 'categorical',\n",
       "         'split_val': 'S',\n",
       "         '>=': {'SibSp': {'split': {'feat_type': 'numeric',\n",
       "            'split_val': 1,\n",
       "            '>=': {'Fare': {'split': {'feat_type': 'numeric',\n",
       "               'split_val': 26,\n",
       "               '>=': {'leaf': {'1': 1.0}},\n",
       "               '<': {'leaf': {'0': 1.0}}}}},\n",
       "            '<': {'leaf': {'1': 1.0}}}}},\n",
       "         '<': {'leaf': {'1': 1.0}}}}}}}},\n",
       "   'class_vals': ['0', '1'],\n",
       "   'survived_score': 0.7,\n",
       "   'features': ['Pclass', 'Sex', 'Age', 'SibSp', 'Fare', 'Embarked'],\n",
       "   'used_features': ['Fare', 'SibSp', 'Embarked', 'Sex'],\n",
       "   'module_version': '0.4.0-alpha'}]}"
      ]
     },
     "execution_count": 35,
     "metadata": {},
     "output_type": "execute_result"
    }
   ],
   "source": [
    "model_dict"
   ]
  },
  {
   "cell_type": "code",
   "execution_count": 36,
   "metadata": {
    "execution": {
     "iopub.execute_input": "2022-08-01T15:04:02.233599Z",
     "iopub.status.busy": "2022-08-01T15:04:02.232680Z",
     "iopub.status.idle": "2022-08-01T15:04:02.530416Z",
     "shell.execute_reply": "2022-08-01T15:04:02.529216Z",
     "shell.execute_reply.started": "2022-08-01T15:04:02.233562Z"
    },
    "tags": []
   },
   "outputs": [
    {
     "name": "stdout",
     "output_type": "stream",
     "text": [
      "/work/tmp/cls_rfmc_titanic.json\n"
     ]
    }
   ],
   "source": [
    "!ls /work/tmp/cls_rfmc_titanic.json\n",
    "!rm /work/tmp/cls_rfmc_titanic.json"
   ]
  },
  {
   "cell_type": "code",
   "execution_count": 37,
   "metadata": {
    "execution": {
     "iopub.execute_input": "2022-08-01T15:04:03.400732Z",
     "iopub.status.busy": "2022-08-01T15:04:03.399998Z",
     "iopub.status.idle": "2022-08-01T15:04:03.423381Z",
     "shell.execute_reply": "2022-08-01T15:04:03.422470Z",
     "shell.execute_reply.started": "2022-08-01T15:04:03.400698Z"
    },
    "tags": []
   },
   "outputs": [],
   "source": [
    "model_path = '/work/tmp/cls_rfmc_titanic.json'\n",
    "dump_file_json(model_path, model_dict)"
   ]
  },
  {
   "cell_type": "code",
   "execution_count": 38,
   "metadata": {
    "collapsed": true,
    "execution": {
     "iopub.execute_input": "2022-08-01T15:04:04.569533Z",
     "iopub.status.busy": "2022-08-01T15:04:04.568824Z",
     "iopub.status.idle": "2022-08-01T15:04:04.608267Z",
     "shell.execute_reply": "2022-08-01T15:04:04.607232Z",
     "shell.execute_reply.started": "2022-08-01T15:04:04.569502Z"
    },
    "jupyter": {
     "outputs_hidden": true
    },
    "tags": []
   },
   "outputs": [
    {
     "data": {
      "text/plain": [
       "{'batch_train_pclass': 10,\n",
       " 'batch_val_pclass': 10,\n",
       " '_N': 20,\n",
       " 'min_feature': 2,\n",
       " 'max_feature': 6,\n",
       " 'th_start': 0.9,\n",
       " 'delta_th': 0.1,\n",
       " 'max_discard_trees': 4,\n",
       " 'n_trees': 8,\n",
       " 'class_vals': ['0', '1'],\n",
       " 'survived_scores': [0.8, 0.7, 0.85, 0.8, 0.7, 0.75, 0.8, 0.7],\n",
       " 'version': '0.4.0-alpha',\n",
       " 'numeric_cols': ['Age', 'SibSp', 'Fare'],\n",
       " 'feature_cols': ['Pclass', 'Sex', 'Age', 'SibSp', 'Fare', 'Embarked'],\n",
       " 'type_of_cols': {'Age': 'numeric',\n",
       "  'SibSp': 'numeric',\n",
       "  'Fare': 'numeric',\n",
       "  'Embarked': 'categorical',\n",
       "  'Pclass': 'categorical',\n",
       "  'Sex': 'categorical'},\n",
       " 'target_col': 'Survived',\n",
       " 'Forest': [{'data': {'Fare': {'split': {'feat_type': 'numeric',\n",
       "      'split_val': 12,\n",
       "      '>=': {'Pclass': {'split': {'feat_type': 'categorical',\n",
       "         'split_val': '3',\n",
       "         '>=': {'Sex': {'split': {'feat_type': 'categorical',\n",
       "            'split_val': 'female',\n",
       "            '>=': {'Age': {'split': {'feat_type': 'numeric',\n",
       "               'split_val': 17,\n",
       "               '>=': {'leaf': {'0': 1.0}},\n",
       "               '<': {'leaf': {'1': 1.0}}}}},\n",
       "            '<': {'leaf': {'1': 1.0}}}}},\n",
       "         '<': {'Sex': {'split': {'feat_type': 'categorical',\n",
       "            'split_val': 'female',\n",
       "            '>=': {'leaf': {'1': 1.0}},\n",
       "            '<': {'Embarked': {'split': {'feat_type': 'categorical',\n",
       "               'split_val': 'S',\n",
       "               '>=': {'leaf': {'1': 1.0}},\n",
       "               '<': {'leaf': {'0': 1.0}}}}}}}}}}},\n",
       "      '<': {'Pclass': {'split': {'feat_type': 'categorical',\n",
       "         'split_val': '3',\n",
       "         '>=': {'Sex': {'split': {'feat_type': 'categorical',\n",
       "            'split_val': 'male',\n",
       "            '>=': {'Embarked': {'split': {'feat_type': 'categorical',\n",
       "               'split_val': 'S',\n",
       "               '>=': {'Age': {'split': {'feat_type': 'numeric',\n",
       "                  'split_val': 30,\n",
       "                  '>=': {'Fare': {'split': {'feat_type': 'numeric',\n",
       "                     'split_val': 8,\n",
       "                     '>=': {'Age': {'split': {'feat_type': 'numeric',\n",
       "                        'split_val': 30,\n",
       "                        '>=': {'leaf': {'0': 1.0}},\n",
       "                        '<': {'SibSp': {'split': {'feat_type': 'numeric',\n",
       "                           'split_val': 0,\n",
       "                           '>=': {'leaf': {'1': 1.0}},\n",
       "                           '<': {'leaf': {'0': 1.0}}}}}}}},\n",
       "                     '<': {'leaf': {'0': 1.0}}}}},\n",
       "                  '<': {'leaf': {'0': 1.0}}}}},\n",
       "               '<': {'leaf': {'0': 1.0}}}}},\n",
       "            '<': {'leaf': {'1': 1.0}}}}},\n",
       "         '<': {'leaf': {'1': 1.0}}}}}}}},\n",
       "   'class_vals': ['0', '1'],\n",
       "   'survived_score': 0.8,\n",
       "   'features': ['Pclass', 'Sex', 'Age', 'SibSp', 'Fare', 'Embarked'],\n",
       "   'used_features': ['SibSp', 'Age', 'Pclass', 'Embarked', 'Sex', 'Fare'],\n",
       "   'module_version': '0.4.0-alpha'},\n",
       "  {'data': {'SibSp': {'split': {'feat_type': 'numeric',\n",
       "      'split_val': 0,\n",
       "      '>=': {'Age': {'split': {'feat_type': 'numeric',\n",
       "         'split_val': 19,\n",
       "         '>=': {'Pclass': {'split': {'feat_type': 'categorical',\n",
       "            'split_val': '1',\n",
       "            '>=': {'leaf': {'1': 1.0}},\n",
       "            '<': {'leaf': {'0': 1.0}}}}},\n",
       "         '<': {'leaf': {'1': 1.0}}}}},\n",
       "      '<': {'Age': {'split': {'feat_type': 'numeric',\n",
       "         'split_val': 28,\n",
       "         '>=': {'Pclass': {'split': {'feat_type': 'categorical',\n",
       "            'split_val': '2',\n",
       "            '>=': {'Age': {'split': {'feat_type': 'numeric',\n",
       "               'split_val': 31,\n",
       "               '>=': {'Age': {'split': {'feat_type': 'numeric',\n",
       "                  'split_val': 34,\n",
       "                  '>=': {'Pclass': {'split': {'feat_type': 'categorical',\n",
       "                     'split_val': '2',\n",
       "                     '>=': {'leaf': {'1': 1.0}},\n",
       "                     '<': {'leaf': {'0': 1.0}}}}},\n",
       "                  '<': {'leaf': {'0': 1.0}}}}},\n",
       "               '<': {'Pclass': {'split': {'feat_type': 'categorical',\n",
       "                  'split_val': '2',\n",
       "                  '>=': {'leaf': {'1': 1.0}},\n",
       "                  '<': {'leaf': {'0': 1.0}}}}}}}},\n",
       "            '<': {'Age': {'split': {'feat_type': 'numeric',\n",
       "               'split_val': 36,\n",
       "               '>=': {'Pclass': {'split': {'feat_type': 'categorical',\n",
       "                  'split_val': '3',\n",
       "                  '>=': {'leaf': {'0': 1.0}},\n",
       "                  '<': {'leaf': {'1': 1.0}}}}},\n",
       "               '<': {'leaf': {'0': 1.0}}}}}}}},\n",
       "         '<': {'Pclass': {'split': {'feat_type': 'categorical',\n",
       "            'split_val': '3',\n",
       "            '>=': {'Age': {'split': {'feat_type': 'numeric',\n",
       "               'split_val': 23,\n",
       "               '>=': {'Age': {'split': {'feat_type': 'numeric',\n",
       "                  'split_val': 26,\n",
       "                  '>=': {'leaf': {'1': 1.0}},\n",
       "                  '<': {'leaf': {'0': 1.0}}}}},\n",
       "               '<': {'leaf': {'0': 1.0}}}}},\n",
       "            '<': {'leaf': {'1': 1.0}}}}}}}}}}},\n",
       "   'class_vals': ['0', '1'],\n",
       "   'survived_score': 0.7,\n",
       "   'features': ['Pclass', 'Sex', 'Age', 'SibSp', 'Fare', 'Embarked'],\n",
       "   'used_features': ['SibSp', 'Pclass', 'Age'],\n",
       "   'module_version': '0.4.0-alpha'},\n",
       "  {'data': {'SibSp': {'split': {'feat_type': 'numeric',\n",
       "      'split_val': 0,\n",
       "      '>=': {'Embarked': {'split': {'feat_type': 'categorical',\n",
       "         'split_val': 'C',\n",
       "         '>=': {'leaf': {'1': 1.0}},\n",
       "         '<': {'Fare': {'split': {'feat_type': 'numeric',\n",
       "            'split_val': 29,\n",
       "            '>=': {'Sex': {'split': {'feat_type': 'categorical',\n",
       "               'split_val': 'male',\n",
       "               '>=': {'leaf': {'0': 1.0}},\n",
       "               '<': {'leaf': {'1': 1.0}}}}},\n",
       "            '<': {'Sex': {'split': {'feat_type': 'categorical',\n",
       "               'split_val': 'male',\n",
       "               '>=': {'leaf': {'0': 1.0}},\n",
       "               '<': {'leaf': {'1': 1.0}}}}}}}}}}},\n",
       "      '<': {'Embarked': {'split': {'feat_type': 'categorical',\n",
       "         'split_val': 'S',\n",
       "         '>=': {'Fare': {'split': {'feat_type': 'numeric',\n",
       "            'split_val': 11,\n",
       "            '>=': {'Sex': {'split': {'feat_type': 'categorical',\n",
       "               'split_val': 'male',\n",
       "               '>=': {'leaf': {'0': 1.0}},\n",
       "               '<': {'leaf': {'1': 1.0}}}}},\n",
       "            '<': {'Pclass': {'split': {'feat_type': 'categorical',\n",
       "               'split_val': '3',\n",
       "               '>=': {'Fare': {'split': {'feat_type': 'numeric',\n",
       "                  'split_val': 8,\n",
       "                  '>=': {'leaf': {'0': 1.0}},\n",
       "                  '<': {'leaf': {'1': 1.0}}}}},\n",
       "               '<': {'leaf': {'1': 1.0}}}}}}}},\n",
       "         '<': {'Fare': {'split': {'feat_type': 'numeric',\n",
       "            'split_val': 7,\n",
       "            '>=': {'leaf': {'1': 1.0}},\n",
       "            '<': {'Embarked': {'split': {'feat_type': 'categorical',\n",
       "               'split_val': 'C',\n",
       "               '>=': {'leaf': {'0': 1.0}},\n",
       "               '<': {'leaf': {'1': 1.0}}}}}}}}}}}}}},\n",
       "   'class_vals': ['0', '1'],\n",
       "   'survived_score': 0.85,\n",
       "   'features': ['Pclass', 'Sex', 'Age', 'SibSp', 'Fare', 'Embarked'],\n",
       "   'used_features': ['SibSp', 'Pclass', 'Embarked', 'Sex', 'Fare'],\n",
       "   'module_version': '0.4.0-alpha'},\n",
       "  {'data': {'SibSp': {'split': {'feat_type': 'numeric',\n",
       "      'split_val': 0,\n",
       "      '>=': {'Embarked': {'split': {'feat_type': 'categorical',\n",
       "         'split_val': 'S',\n",
       "         '>=': {'Age': {'split': {'feat_type': 'numeric',\n",
       "            'split_val': 13,\n",
       "            '>=': {'Sex': {'split': {'feat_type': 'categorical',\n",
       "               'split_val': 'male',\n",
       "               '>=': {'leaf': {'0': 1.0}},\n",
       "               '<': {'leaf': {'1': 1.0}}}}},\n",
       "            '<': {'leaf': {'0': 1.0}}}}},\n",
       "         '<': {'Age': {'split': {'feat_type': 'numeric',\n",
       "            'split_val': 25,\n",
       "            '>=': {'leaf': {'1': 1.0}},\n",
       "            '<': {'leaf': {'0': 1.0}}}}}}}},\n",
       "      '<': {'Embarked': {'split': {'feat_type': 'categorical',\n",
       "         'split_val': 'S',\n",
       "         '>=': {'Age': {'split': {'feat_type': 'numeric',\n",
       "            'split_val': 26,\n",
       "            '>=': {'Sex': {'split': {'feat_type': 'categorical',\n",
       "               'split_val': 'female',\n",
       "               '>=': {'leaf': {'1': 1.0}},\n",
       "               '<': {'SibSp': {'split': {'feat_type': 'numeric',\n",
       "                  'split_val': 0,\n",
       "                  '>=': {'leaf': {'1': 1.0}},\n",
       "                  '<': {'leaf': {'0': 1.0}}}}}}}},\n",
       "            '<': {'Sex': {'split': {'feat_type': 'categorical',\n",
       "               'split_val': 'male',\n",
       "               '>=': {'leaf': {'0': 1.0}},\n",
       "               '<': {'leaf': {'1': 1.0}}}}}}}},\n",
       "         '<': {'Age': {'split': {'feat_type': 'numeric',\n",
       "            'split_val': 40,\n",
       "            '>=': {'Sex': {'split': {'feat_type': 'categorical',\n",
       "               'split_val': 'male',\n",
       "               '>=': {'leaf': {'1': 1.0}},\n",
       "               '<': {'leaf': {'0': 1.0}}}}},\n",
       "            '<': {'leaf': {'1': 1.0}}}}}}}}}}},\n",
       "   'class_vals': ['0', '1'],\n",
       "   'survived_score': 0.8,\n",
       "   'features': ['Pclass', 'Sex', 'Age', 'SibSp', 'Fare', 'Embarked'],\n",
       "   'used_features': ['SibSp', 'Embarked', 'Age', 'Sex'],\n",
       "   'module_version': '0.4.0-alpha'},\n",
       "  {'data': {'SibSp': {'split': {'feat_type': 'numeric',\n",
       "      'split_val': 0,\n",
       "      '>=': {'Pclass': {'split': {'feat_type': 'categorical',\n",
       "         'split_val': '3',\n",
       "         '>=': {'Sex': {'split': {'feat_type': 'categorical',\n",
       "            'split_val': 'female',\n",
       "            '>=': {'Age': {'split': {'feat_type': 'numeric',\n",
       "               'split_val': 24,\n",
       "               '>=': {'Fare': {'split': {'feat_type': 'numeric',\n",
       "                  'split_val': 15,\n",
       "                  '>=': {'leaf': {'1': 1.0}},\n",
       "                  '<': {'leaf': {'0': 1.0}}}}},\n",
       "               '<': {'leaf': {'0': 1.0}}}}},\n",
       "            '<': {'leaf': {'0': 1.0}}}}},\n",
       "         '<': {'Sex': {'split': {'feat_type': 'categorical',\n",
       "            'split_val': 'male',\n",
       "            '>=': {'leaf': {'0': 1.0}},\n",
       "            '<': {'leaf': {'1': 1.0}}}}}}}},\n",
       "      '<': {'Pclass': {'split': {'feat_type': 'categorical',\n",
       "         'split_val': '1',\n",
       "         '>=': {'leaf': {'1': 1.0}},\n",
       "         '<': {'Sex': {'split': {'feat_type': 'categorical',\n",
       "            'split_val': 'male',\n",
       "            '>=': {'Embarked': {'split': {'feat_type': 'categorical',\n",
       "               'split_val': 'S',\n",
       "               '>=': {'Age': {'split': {'feat_type': 'numeric',\n",
       "                  'split_val': 33,\n",
       "                  '>=': {'leaf': {'0': 1.0}},\n",
       "                  '<': {'Fare': {'split': {'feat_type': 'numeric',\n",
       "                     'split_val': 9,\n",
       "                     '>=': {'leaf': {'0': 1.0}},\n",
       "                     '<': {'leaf': {'1': 1.0}}}}}}}},\n",
       "               '<': {'leaf': {'1': 1.0}}}}},\n",
       "            '<': {'leaf': {'1': 1.0}}}}}}}}}}},\n",
       "   'class_vals': ['0', '1'],\n",
       "   'survived_score': 0.7,\n",
       "   'features': ['Pclass', 'Sex', 'Age', 'SibSp', 'Fare', 'Embarked'],\n",
       "   'used_features': ['SibSp', 'Age', 'Pclass', 'Embarked', 'Sex', 'Fare'],\n",
       "   'module_version': '0.4.0-alpha'},\n",
       "  {'data': {'SibSp': {'split': {'feat_type': 'numeric',\n",
       "      'split_val': 0,\n",
       "      '>=': {'Fare': {'split': {'feat_type': 'numeric',\n",
       "         'split_val': 29,\n",
       "         '>=': {'Sex': {'split': {'feat_type': 'categorical',\n",
       "            'split_val': 'male',\n",
       "            '>=': {'SibSp': {'split': {'feat_type': 'numeric',\n",
       "               'split_val': 1,\n",
       "               '>=': {'leaf': {'1': 1.0}},\n",
       "               '<': {'leaf': {'0': 1.0}}}}},\n",
       "            '<': {'leaf': {'1': 1.0}}}}},\n",
       "         '<': {'Sex': {'split': {'feat_type': 'categorical',\n",
       "            'split_val': 'female',\n",
       "            '>=': {'leaf': {'1': 1.0}},\n",
       "            '<': {'leaf': {'0': 1.0}}}}}}}},\n",
       "      '<': {'Fare': {'split': {'feat_type': 'numeric',\n",
       "         'split_val': 13,\n",
       "         '>=': {'Sex': {'split': {'feat_type': 'categorical',\n",
       "            'split_val': 'female',\n",
       "            '>=': {'leaf': {'1': 1.0}},\n",
       "            '<': {'Fare': {'split': {'feat_type': 'numeric',\n",
       "               'split_val': 42,\n",
       "               '>=': {'Sex': {'split': {'feat_type': 'categorical',\n",
       "                  'split_val': 'male',\n",
       "                  '>=': {'leaf': {'1': 1.0}},\n",
       "                  '<': {'leaf': {'0': 1.0}}}}},\n",
       "               '<': {'Sex': {'split': {'feat_type': 'categorical',\n",
       "                  'split_val': 'male',\n",
       "                  '>=': {'leaf': {'1': 1.0}},\n",
       "                  '<': {'leaf': {'0': 1.0}}}}}}}}}}},\n",
       "         '<': {'Sex': {'split': {'feat_type': 'categorical',\n",
       "            'split_val': 'male',\n",
       "            '>=': {'leaf': {'0': 1.0}},\n",
       "            '<': {'leaf': {'1': 1.0}}}}}}}}}}},\n",
       "   'class_vals': ['0', '1'],\n",
       "   'survived_score': 0.75,\n",
       "   'features': ['Pclass', 'Sex', 'Age', 'SibSp', 'Fare', 'Embarked'],\n",
       "   'used_features': ['Fare', 'SibSp', 'Sex'],\n",
       "   'module_version': '0.4.0-alpha'},\n",
       "  {'data': {'Age': {'split': {'feat_type': 'numeric',\n",
       "      'split_val': 27,\n",
       "      '>=': {'Embarked': {'split': {'feat_type': 'categorical',\n",
       "         'split_val': 'S',\n",
       "         '>=': {'Fare': {'split': {'feat_type': 'numeric',\n",
       "            'split_val': 8,\n",
       "            '>=': {'Sex': {'split': {'feat_type': 'categorical',\n",
       "               'split_val': 'male',\n",
       "               '>=': {'Age': {'split': {'feat_type': 'numeric',\n",
       "                  'split_val': 29,\n",
       "                  '>=': {'Embarked': {'split': {'feat_type': 'categorical',\n",
       "                     'split_val': 'S',\n",
       "                     '>=': {'leaf': {'1': 1.0}},\n",
       "                     '<': {'leaf': {'0': 1.0}}}}},\n",
       "                  '<': {'Embarked': {'split': {'feat_type': 'categorical',\n",
       "                     'split_val': 'S',\n",
       "                     '>=': {'leaf': {'1': 1.0}},\n",
       "                     '<': {'leaf': {'0': 1.0}}}}}}}},\n",
       "               '<': {'leaf': {'0': 1.0}}}}},\n",
       "            '<': {'leaf': {'0': 1.0}}}}},\n",
       "         '<': {'leaf': {'1': 1.0}}}}},\n",
       "      '<': {'Embarked': {'split': {'feat_type': 'categorical',\n",
       "         'split_val': 'S',\n",
       "         '>=': {'Fare': {'split': {'feat_type': 'numeric',\n",
       "            'split_val': 12,\n",
       "            '>=': {'Sex': {'split': {'feat_type': 'categorical',\n",
       "               'split_val': 'female',\n",
       "               '>=': {'leaf': {'1': 1.0}},\n",
       "               '<': {'leaf': {'0': 1.0}}}}},\n",
       "            '<': {'leaf': {'0': 1.0}}}}},\n",
       "         '<': {'leaf': {'1': 1.0}}}}}}}},\n",
       "   'class_vals': ['0', '1'],\n",
       "   'survived_score': 0.8,\n",
       "   'features': ['Pclass', 'Sex', 'Age', 'SibSp', 'Fare', 'Embarked'],\n",
       "   'used_features': ['Fare', 'Embarked', 'Age', 'Sex'],\n",
       "   'module_version': '0.4.0-alpha'},\n",
       "  {'data': {'Sex': {'split': {'feat_type': 'categorical',\n",
       "      'split_val': 'male',\n",
       "      '>=': {'SibSp': {'split': {'feat_type': 'numeric',\n",
       "         'split_val': 0,\n",
       "         '>=': {'leaf': {'0': 1.0}},\n",
       "         '<': {'Fare': {'split': {'feat_type': 'numeric',\n",
       "            'split_val': 9,\n",
       "            '>=': {'Fare': {'split': {'feat_type': 'numeric',\n",
       "               'split_val': 25,\n",
       "               '>=': {'Fare': {'split': {'feat_type': 'numeric',\n",
       "                  'split_val': 26,\n",
       "                  '>=': {'Sex': {'split': {'feat_type': 'categorical',\n",
       "                     'split_val': 'male',\n",
       "                     '>=': {'leaf': {'1': 1.0}},\n",
       "                     '<': {'leaf': {'0': 1.0}}}}},\n",
       "                  '<': {'leaf': {'0': 1.0}}}}},\n",
       "               '<': {'leaf': {'0': 1.0}}}}},\n",
       "            '<': {'Fare': {'split': {'feat_type': 'numeric',\n",
       "               'split_val': 7,\n",
       "               '>=': {'leaf': {'0': 1.0}},\n",
       "               '<': {'Sex': {'split': {'feat_type': 'categorical',\n",
       "                  'split_val': 'male',\n",
       "                  '>=': {'leaf': {'1': 1.0}},\n",
       "                  '<': {'leaf': {'0': 1.0}}}}}}}}}}}}}},\n",
       "      '<': {'Embarked': {'split': {'feat_type': 'categorical',\n",
       "         'split_val': 'S',\n",
       "         '>=': {'SibSp': {'split': {'feat_type': 'numeric',\n",
       "            'split_val': 1,\n",
       "            '>=': {'Fare': {'split': {'feat_type': 'numeric',\n",
       "               'split_val': 26,\n",
       "               '>=': {'leaf': {'1': 1.0}},\n",
       "               '<': {'leaf': {'0': 1.0}}}}},\n",
       "            '<': {'leaf': {'1': 1.0}}}}},\n",
       "         '<': {'leaf': {'1': 1.0}}}}}}}},\n",
       "   'class_vals': ['0', '1'],\n",
       "   'survived_score': 0.7,\n",
       "   'features': ['Pclass', 'Sex', 'Age', 'SibSp', 'Fare', 'Embarked'],\n",
       "   'used_features': ['Fare', 'SibSp', 'Embarked', 'Sex'],\n",
       "   'module_version': '0.4.0-alpha'}]}"
      ]
     },
     "execution_count": 38,
     "metadata": {},
     "output_type": "execute_result"
    }
   ],
   "source": [
    "modeldict = load_file_json(model_path)\n",
    "modeldict"
   ]
  },
  {
   "cell_type": "code",
   "execution_count": 47,
   "metadata": {
    "execution": {
     "iopub.execute_input": "2022-08-01T15:10:30.108907Z",
     "iopub.status.busy": "2022-08-01T15:10:30.108287Z",
     "iopub.status.idle": "2022-08-01T15:10:30.127702Z",
     "shell.execute_reply": "2022-08-01T15:10:30.126830Z",
     "shell.execute_reply.started": "2022-08-01T15:10:30.108875Z"
    },
    "tags": []
   },
   "outputs": [
    {
     "data": {
      "text/plain": [
       "RandomForestMC(len(Forest)=0,n_trees=16,model_version=0.4.0-alpha,module_version=0.4.0-alpha)"
      ]
     },
     "execution_count": 47,
     "metadata": {},
     "output_type": "execute_result"
    }
   ],
   "source": [
    "cls = RandomForestMC()\n",
    "cls"
   ]
  },
  {
   "cell_type": "code",
   "execution_count": 48,
   "metadata": {
    "execution": {
     "iopub.execute_input": "2022-08-01T15:10:33.515987Z",
     "iopub.status.busy": "2022-08-01T15:10:33.515263Z",
     "iopub.status.idle": "2022-08-01T15:10:33.533095Z",
     "shell.execute_reply": "2022-08-01T15:10:33.532306Z",
     "shell.execute_reply.started": "2022-08-01T15:10:33.515957Z"
    }
   },
   "outputs": [
    {
     "data": {
      "text/plain": [
       "[]"
      ]
     },
     "execution_count": 48,
     "metadata": {},
     "output_type": "execute_result"
    }
   ],
   "source": [
    "cls.data"
   ]
  },
  {
   "cell_type": "code",
   "execution_count": 44,
   "metadata": {
    "execution": {
     "iopub.execute_input": "2022-08-01T15:08:15.119274Z",
     "iopub.status.busy": "2022-08-01T15:08:15.118517Z",
     "iopub.status.idle": "2022-08-01T15:08:15.138106Z",
     "shell.execute_reply": "2022-08-01T15:08:15.137164Z",
     "shell.execute_reply.started": "2022-08-01T15:08:15.119243Z"
    }
   },
   "outputs": [
    {
     "data": {
      "text/plain": [
       "['batch_train_pclass',\n",
       " 'batch_val_pclass',\n",
       " '_N',\n",
       " 'min_feature',\n",
       " 'max_feature',\n",
       " 'th_start',\n",
       " 'delta_th',\n",
       " 'max_discard_trees',\n",
       " 'n_trees',\n",
       " 'class_vals',\n",
       " 'survived_scores',\n",
       " 'version',\n",
       " 'numeric_cols',\n",
       " 'feature_cols',\n",
       " 'type_of_cols',\n",
       " 'target_col',\n",
       " 'class_vals']"
      ]
     },
     "execution_count": 44,
     "metadata": {},
     "output_type": "execute_result"
    }
   ],
   "source": [
    "cls.attr_to_save"
   ]
  },
  {
   "cell_type": "code",
   "execution_count": 45,
   "metadata": {
    "execution": {
     "iopub.execute_input": "2022-08-01T15:08:56.915034Z",
     "iopub.status.busy": "2022-08-01T15:08:56.914264Z",
     "iopub.status.idle": "2022-08-01T15:08:56.958462Z",
     "shell.execute_reply": "2022-08-01T15:08:56.957014Z",
     "shell.execute_reply.started": "2022-08-01T15:08:56.915002Z"
    },
    "tags": []
   },
   "outputs": [
    {
     "ename": "KeyError",
     "evalue": "'data'",
     "output_type": "error",
     "traceback": [
      "\u001b[0;31m---------------------------------------------------------------------------\u001b[0m",
      "\u001b[0;31mKeyError\u001b[0m                                  Traceback (most recent call last)",
      "Input \u001b[0;32mIn [45]\u001b[0m, in \u001b[0;36m<cell line: 1>\u001b[0;34m()\u001b[0m\n\u001b[0;32m----> 1\u001b[0m \u001b[43mmodeldict\u001b[49m\u001b[43m[\u001b[49m\u001b[38;5;124;43m'\u001b[39;49m\u001b[38;5;124;43mdata\u001b[39;49m\u001b[38;5;124;43m'\u001b[39;49m\u001b[43m]\u001b[49m\n",
      "\u001b[0;31mKeyError\u001b[0m: 'data'"
     ]
    }
   ],
   "source": [
    "modeldict['data']"
   ]
  },
  {
   "cell_type": "code",
   "execution_count": 46,
   "metadata": {
    "execution": {
     "iopub.execute_input": "2022-08-01T15:09:32.704979Z",
     "iopub.status.busy": "2022-08-01T15:09:32.704282Z",
     "iopub.status.idle": "2022-08-01T15:09:32.733505Z",
     "shell.execute_reply": "2022-08-01T15:09:32.732050Z",
     "shell.execute_reply.started": "2022-08-01T15:09:32.704947Z"
    }
   },
   "outputs": [
    {
     "ename": "NameError",
     "evalue": "name 'dict_model' is not defined",
     "output_type": "error",
     "traceback": [
      "\u001b[0;31m---------------------------------------------------------------------------\u001b[0m",
      "\u001b[0;31mNameError\u001b[0m                                 Traceback (most recent call last)",
      "Input \u001b[0;32mIn [46]\u001b[0m, in \u001b[0;36m<cell line: 2>\u001b[0;34m()\u001b[0m\n\u001b[1;32m      1\u001b[0m oi \u001b[38;5;241m=\u001b[39m \u001b[38;5;124m'\u001b[39m\u001b[38;5;124mas\u001b[39m\u001b[38;5;124m'\u001b[39m\n\u001b[0;32m----> 2\u001b[0m \u001b[38;5;28msetattr\u001b[39m(oi, \u001b[38;5;124m'\u001b[39m\u001b[38;5;124mdata\u001b[39m\u001b[38;5;124m'\u001b[39m, \u001b[43mdict_model\u001b[49m[\u001b[38;5;124m'\u001b[39m\u001b[38;5;124mdata\u001b[39m\u001b[38;5;124m'\u001b[39m])\n",
      "\u001b[0;31mNameError\u001b[0m: name 'dict_model' is not defined"
     ]
    }
   ],
   "source": [
    "oi = 'as'\n",
    "setattr(oi, 'data', dict_model['data'])"
   ]
  },
  {
   "cell_type": "code",
   "execution_count": 41,
   "metadata": {
    "execution": {
     "iopub.execute_input": "2022-08-01T15:04:09.053884Z",
     "iopub.status.busy": "2022-08-01T15:04:09.053160Z",
     "iopub.status.idle": "2022-08-01T15:04:09.082493Z",
     "shell.execute_reply": "2022-08-01T15:04:09.081055Z",
     "shell.execute_reply.started": "2022-08-01T15:04:09.053854Z"
    },
    "tags": []
   },
   "outputs": [
    {
     "ename": "AttributeError",
     "evalue": "'dict' object has no attribute 'data'",
     "output_type": "error",
     "traceback": [
      "\u001b[0;31m---------------------------------------------------------------------------\u001b[0m",
      "\u001b[0;31mAttributeError\u001b[0m                            Traceback (most recent call last)",
      "Input \u001b[0;32mIn [41]\u001b[0m, in \u001b[0;36m<cell line: 1>\u001b[0;34m()\u001b[0m\n\u001b[0;32m----> 1\u001b[0m \u001b[38;5;28;43mcls\u001b[39;49m\u001b[38;5;241;43m.\u001b[39;49m\u001b[43mdict2model\u001b[49m\u001b[43m(\u001b[49m\u001b[43mmodeldict\u001b[49m\u001b[43m)\u001b[49m\n",
      "File \u001b[0;32m/work/random-forest-mc/utils/../src/random_forest_mc/model.py:320\u001b[0m, in \u001b[0;36mdict2model\u001b[0;34m(self, dict_model)\u001b[0m\n\u001b[1;32m    318\u001b[0m \n\u001b[1;32m    319\u001b[0m     def dict2model(self, dict_model: dict) -> None:\n\u001b[0;32m--> 320\u001b[0m         for attr in self.attr_to_save:\n\u001b[1;32m    321\u001b[0m             setattr(self, attr, dict_model[attr])\n\u001b[1;32m    322\u001b[0m         self.model_version = self.version\n",
      "File \u001b[0;32m/work/random-forest-mc/utils/../src/random_forest_mc/model.py:322\u001b[0m, in \u001b[0;36m<listcomp>\u001b[0;34m(.0)\u001b[0m\n\u001b[1;32m    320\u001b[0m for attr in self.attr_to_save:\n\u001b[1;32m    321\u001b[0m     setattr(self, attr, dict_model[attr])\n\u001b[0;32m--> 322\u001b[0m self.model_version = self.version\n\u001b[1;32m    323\u001b[0m self.version = self.__version__\n\u001b[1;32m    324\u001b[0m self.data = [\n",
      "\u001b[0;31mAttributeError\u001b[0m: 'dict' object has no attribute 'data'"
     ]
    }
   ],
   "source": [
    "cls.dict2model(modeldict)"
   ]
  },
  {
   "cell_type": "code",
   "execution_count": 42,
   "metadata": {
    "execution": {
     "iopub.execute_input": "2022-08-01T15:04:34.488203Z",
     "iopub.status.busy": "2022-08-01T15:04:34.487722Z",
     "iopub.status.idle": "2022-08-01T15:04:34.507278Z",
     "shell.execute_reply": "2022-08-01T15:04:34.506384Z",
     "shell.execute_reply.started": "2022-08-01T15:04:34.488173Z"
    },
    "tags": []
   },
   "outputs": [
    {
     "data": {
      "text/plain": [
       "['batch_train_pclass',\n",
       " 'batch_val_pclass',\n",
       " '_N',\n",
       " 'min_feature',\n",
       " 'max_feature',\n",
       " 'th_start',\n",
       " 'delta_th',\n",
       " 'max_discard_trees',\n",
       " 'n_trees',\n",
       " 'class_vals',\n",
       " 'survived_scores',\n",
       " 'version',\n",
       " 'numeric_cols',\n",
       " 'feature_cols',\n",
       " 'type_of_cols',\n",
       " 'target_col',\n",
       " 'class_vals']"
      ]
     },
     "execution_count": 42,
     "metadata": {},
     "output_type": "execute_result"
    }
   ],
   "source": [
    "cls.attr_to_save"
   ]
  },
  {
   "cell_type": "code",
   "execution_count": 24,
   "metadata": {
    "execution": {
     "iopub.execute_input": "2022-08-01T15:00:36.831987Z",
     "iopub.status.busy": "2022-08-01T15:00:36.831300Z",
     "iopub.status.idle": "2022-08-01T15:00:36.850559Z",
     "shell.execute_reply": "2022-08-01T15:00:36.849524Z",
     "shell.execute_reply.started": "2022-08-01T15:00:36.831957Z"
    },
    "tags": []
   },
   "outputs": [
    {
     "data": {
      "text/plain": [
       "[]"
      ]
     },
     "execution_count": 24,
     "metadata": {},
     "output_type": "execute_result"
    }
   ],
   "source": [
    "cls.data"
   ]
  },
  {
   "cell_type": "code",
   "execution_count": null,
   "metadata": {},
   "outputs": [],
   "source": []
  }
 ],
 "metadata": {
  "kernelspec": {
   "display_name": "Python 3 (ipykernel)",
   "language": "python",
   "name": "python3"
  },
  "language_info": {
   "codemirror_mode": {
    "name": "ipython",
    "version": 3
   },
   "file_extension": ".py",
   "mimetype": "text/x-python",
   "name": "python",
   "nbconvert_exporter": "python",
   "pygments_lexer": "ipython3",
   "version": "3.10.5"
  }
 },
 "nbformat": 4,
 "nbformat_minor": 4
}
