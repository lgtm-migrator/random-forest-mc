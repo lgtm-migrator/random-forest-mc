{
 "cells": [
  {
   "cell_type": "markdown",
   "metadata": {},
   "source": [
    "# Save and Load Model \n",
    "\n",
    "- Author: Israel Oliveira [\\[e-mail\\]](mailto:'Israel%20Oliveira%20'<prof.israel@gmail.com>)"
   ]
  },
  {
   "cell_type": "code",
   "execution_count": 1,
   "metadata": {
    "execution": {
     "iopub.execute_input": "2022-08-01T14:49:51.731179Z",
     "iopub.status.busy": "2022-08-01T14:49:51.730262Z",
     "iopub.status.idle": "2022-08-01T14:49:51.735503Z",
     "shell.execute_reply": "2022-08-01T14:49:51.734544Z",
     "shell.execute_reply.started": "2022-08-01T14:49:51.731091Z"
    },
    "tags": []
   },
   "outputs": [],
   "source": [
    "#!pip3 install -U random-forest-mc"
   ]
  },
  {
   "cell_type": "code",
   "execution_count": 2,
   "metadata": {
    "execution": {
     "iopub.execute_input": "2022-08-01T14:49:52.059036Z",
     "iopub.status.busy": "2022-08-01T14:49:52.058220Z",
     "iopub.status.idle": "2022-08-01T14:49:52.080353Z",
     "shell.execute_reply": "2022-08-01T14:49:52.079629Z",
     "shell.execute_reply.started": "2022-08-01T14:49:52.059008Z"
    },
    "tags": []
   },
   "outputs": [],
   "source": [
    "%load_ext watermark"
   ]
  },
  {
   "cell_type": "code",
   "execution_count": 6,
   "metadata": {
    "execution": {
     "iopub.execute_input": "2022-08-01T14:56:34.391183Z",
     "iopub.status.busy": "2022-08-01T14:56:34.390304Z",
     "iopub.status.idle": "2022-08-01T14:56:34.410368Z",
     "shell.execute_reply": "2022-08-01T14:56:34.409404Z",
     "shell.execute_reply.started": "2022-08-01T14:56:34.391152Z"
    },
    "tags": []
   },
   "outputs": [
    {
     "name": "stdout",
     "output_type": "stream",
     "text": [
      "The autoreload extension is already loaded. To reload it, use:\n",
      "  %reload_ext autoreload\n"
     ]
    }
   ],
   "source": [
    "%load_ext autoreload\n",
    "%autoreload 2\n",
    "\n",
    "import pandas as pd\n",
    "\n",
    "import sys\n",
    "sys.path.append('../src/random_forest_mc')\n",
    "from model import *\n"
   ]
  },
  {
   "cell_type": "code",
   "execution_count": 7,
   "metadata": {
    "execution": {
     "iopub.execute_input": "2022-08-01T14:56:35.423637Z",
     "iopub.status.busy": "2022-08-01T14:56:35.422953Z",
     "iopub.status.idle": "2022-08-01T14:56:35.443681Z",
     "shell.execute_reply": "2022-08-01T14:56:35.442974Z",
     "shell.execute_reply.started": "2022-08-01T14:56:35.423606Z"
    },
    "tags": []
   },
   "outputs": [],
   "source": [
    "# from tqdm import notebook as tqdm\n",
    "\n",
    "from glob import glob\n",
    "\n",
    "# import matplotlib.pyplot as plt\n",
    "# %matplotlib inline\n",
    "# from matplotlib import rcParams\n",
    "# from cycler import cycler\n",
    "\n",
    "# rcParams['figure.figsize'] = 12, 8 # 18, 5\n",
    "# rcParams['axes.spines.top'] = False\n",
    "# rcParams['axes.spines.right'] = False\n",
    "# rcParams['axes.grid'] = True\n",
    "# rcParams['axes.prop_cycle'] = cycler(color=['#365977'])\n",
    "# rcParams['lines.linewidth'] = 2.5\n",
    "\n",
    "# import seaborn as sns\n",
    "# sns.set_theme()\n",
    "\n",
    "# pd.set_option(\"max_columns\", None)\n",
    "# pd.set_option(\"max_rows\", None)\n",
    "# pd.set_option('display.max_colwidth', None)\n",
    "\n",
    "from IPython.display import Markdown, display\n",
    "def md(arg):\n",
    "    display(Markdown(arg))\n",
    "\n",
    "# from pandas_profiling import ProfileReport\n",
    "# #report = ProfileReport(#DataFrame here#, minimal=True)\n",
    "# #report.to\n",
    "\n",
    "# import pyarrow.parquet as pq\n",
    "# #df = pq.ParquetDataset(path_to_folder_with_parquets, filesystem=None).read_pandas().to_pandas()\n",
    "\n",
    "# import functools\n",
    "# import operator\n",
    "# def flat(a):\n",
    "#     return functools.reduce(operator.iconcat, a, [])\n",
    "\n",
    "\n",
    "######### LoadDicts\n",
    "\n",
    "import json\n",
    "from glob import glob\n",
    "from typing import Any\n",
    "from typing import NewType\n",
    "\n",
    "def np_encoder(object):\n",
    "    if isinstance(object, np.generic):\n",
    "        return object.item()\n",
    "\n",
    "\n",
    "DictsPathType = NewType(\"DictsPath\", str)\n",
    "\n",
    "\n",
    "def load_file_json(path: DictsPathType):\n",
    "    with open(path, \"r\") as f:\n",
    "        return json.load(f)\n",
    "\n",
    "\n",
    "def dump_file_json(path: DictsPathType, var: Any):\n",
    "    with open(path, \"w\") as f:\n",
    "        return json.dump(var, f, indent=4, default=np_encoder)\n",
    "\n",
    "\n",
    "class LoadDicts:\n",
    "    def __init__(self, dict_path: DictsPathType = \"./data\"):\n",
    "        Dicts_glob = glob(f\"{dict_path}/*.json\")\n",
    "        self.List = []\n",
    "        self.Dict = {}\n",
    "        for path_json in Dicts_glob:\n",
    "            name = path_json.split(\"/\")[-1].replace(\".json\", \"\")\n",
    "            self.List.append(name)\n",
    "            self.Dict[name] = load_file_json(path_json)\n",
    "            setattr(self, name, self.Dict[name])\n",
    "\n",
    "    def __repr__(self) -> str:\n",
    "        return \"LoadDicts: {}\".format(\", \".join(self.List))"
   ]
  },
  {
   "cell_type": "code",
   "execution_count": 8,
   "metadata": {
    "execution": {
     "iopub.execute_input": "2022-08-01T14:56:36.487114Z",
     "iopub.status.busy": "2022-08-01T14:56:36.486365Z",
     "iopub.status.idle": "2022-08-01T14:56:36.801813Z",
     "shell.execute_reply": "2022-08-01T14:56:36.800605Z",
     "shell.execute_reply.started": "2022-08-01T14:56:36.487085Z"
    },
    "tags": []
   },
   "outputs": [
    {
     "name": "stdout",
     "output_type": "stream",
     "text": [
      "Python implementation: CPython\n",
      "Python version       : 3.10.5\n",
      "IPython version      : 8.4.0\n",
      "\n",
      "Compiler    : GCC 10.2.1 20210110\n",
      "OS          : Linux\n",
      "Release     : 4.14.285-215.501.amzn2.x86_64\n",
      "Machine     : x86_64\n",
      "Processor   : \n",
      "CPU cores   : 4\n",
      "Architecture: 64bit\n",
      "\n",
      "Git hash: 7371f16915e157920474ed4312c148ba08863bbe\n",
      "\n",
      "Git repo: https://github.com/ysraell/random-forest-mc.git\n",
      "\n",
      "Git branch: dev\n",
      "\n",
      "logging: 0.5.1.2\n",
      "pandas : 1.4.3\n",
      "json   : 2.0.9\n",
      "numpy  : 1.23.1\n",
      "sys    : 3.10.5 (main, Jul 12 2022, 11:32:11) [GCC 10.2.1 20210110]\n",
      "re     : 2.2.1\n",
      "\n",
      "CPU\t: Intel(R) Xeon(R) CPU E5-2686 v4 @ 2.30GHz\n",
      "Mem:            15G\n",
      "Swap:             0B          0B          0B\n"
     ]
    }
   ],
   "source": [
    "# Run this cell before close.\n",
    "%watermark -d --iversion -b -r -g -m -v\n",
    "!cat /proc/cpuinfo |grep 'model name'|head -n 1 |sed -e 's/model\\ name/CPU/'\n",
    "!free -h |cut -d'i' -f1  |grep -v total"
   ]
  },
  {
   "cell_type": "code",
   "execution_count": 9,
   "metadata": {
    "execution": {
     "iopub.execute_input": "2022-08-01T14:56:37.174927Z",
     "iopub.status.busy": "2022-08-01T14:56:37.174386Z",
     "iopub.status.idle": "2022-08-01T14:56:37.200506Z",
     "shell.execute_reply": "2022-08-01T14:56:37.199618Z",
     "shell.execute_reply.started": "2022-08-01T14:56:37.174892Z"
    },
    "tags": []
   },
   "outputs": [
    {
     "data": {
      "text/plain": [
       "['/work/tmp/datasets/creditcard.csv',\n",
       " '/work/tmp/datasets/creditcard_trans_float.csv',\n",
       " '/work/tmp/datasets/creditcard_trans_int.csv',\n",
       " '/work/tmp/datasets/iris.csv',\n",
       " '/work/tmp/datasets/titanic.csv']"
      ]
     },
     "execution_count": 9,
     "metadata": {},
     "output_type": "execute_result"
    }
   ],
   "source": [
    "dataset_path_list = glob('/work/tmp/datasets/*.csv')\n",
    "dataset_path_list"
   ]
  },
  {
   "cell_type": "code",
   "execution_count": 10,
   "metadata": {
    "execution": {
     "iopub.execute_input": "2022-08-01T14:56:37.999145Z",
     "iopub.status.busy": "2022-08-01T14:56:37.998409Z",
     "iopub.status.idle": "2022-08-01T14:56:38.019310Z",
     "shell.execute_reply": "2022-08-01T14:56:38.018387Z",
     "shell.execute_reply.started": "2022-08-01T14:56:37.999114Z"
    },
    "tags": []
   },
   "outputs": [],
   "source": [
    "dataset_dict = {\n",
    "    'titanic' : {\n",
    "        'ds_cols' : ['Pclass', 'Sex', 'Age', 'SibSp', 'Fare', 'Embarked'],\n",
    "        'target_col' : 'Survived',\n",
    "        'csv_path' : '/work/tmp/datasets/titanic.csv'\n",
    "    },\n",
    "    'iris': {\n",
    "        'ds_cols' : ['sepal.length', 'sepal.width', 'petal.length', 'petal.width'],\n",
    "        'target_col' : 'variety',\n",
    "        'csv_path' : '/work/tmp/datasets/iris.csv'\n",
    "    },\n",
    "    'creditcard': {\n",
    "        'ds_cols' : ['V1', 'V2', 'V3', 'V4', 'V5', 'V6', 'V7', 'V8', 'V9', 'V10',\n",
    "       'V11', 'V12', 'V13', 'V14', 'V15', 'V16', 'V17', 'V18', 'V19', 'V20',\n",
    "       'V21', 'V22', 'V23', 'V24', 'V25', 'V26', 'V27', 'V28', 'Amount'],\n",
    "        'target_col' : 'Class',\n",
    "        'csv_path' : '/work/tmp/datasets/creditcard.csv'\n",
    "    },\n",
    "    'creditcard_trans_int': {\n",
    "        'ds_cols' : ['V1', 'V2', 'V3', 'V4', 'V5', 'V6', 'V7', 'V8', 'V9', 'V10',\n",
    "       'V11', 'V12', 'V13', 'V14', 'V15', 'V16', 'V17', 'V18', 'V19', 'V20',\n",
    "       'V21', 'V22', 'V23', 'V24', 'V25', 'V26', 'V27', 'V28', 'Amount'],\n",
    "        'target_col' : 'Class',\n",
    "        'csv_path' : '/work/tmp/datasets/creditcard_trans_int.csv'\n",
    "    },\n",
    "    'creditcard_trans_float': {\n",
    "        'ds_cols' : ['V1', 'V2', 'V3', 'V4', 'V5', 'V6', 'V7', 'V8', 'V9', 'V10',\n",
    "       'V11', 'V12', 'V13', 'V14', 'V15', 'V16', 'V17', 'V18', 'V19', 'V20',\n",
    "       'V21', 'V22', 'V23', 'V24', 'V25', 'V26', 'V27', 'V28', 'Amount'],\n",
    "        'target_col' : 'Class',\n",
    "        'csv_path' : '/work/tmp/datasets/creditcard_trans_float.csv'\n",
    "    }\n",
    "}\n"
   ]
  },
  {
   "cell_type": "code",
   "execution_count": 11,
   "metadata": {
    "execution": {
     "iopub.execute_input": "2022-08-01T14:56:38.763423Z",
     "iopub.status.busy": "2022-08-01T14:56:38.762673Z",
     "iopub.status.idle": "2022-08-01T14:56:41.174627Z",
     "shell.execute_reply": "2022-08-01T14:56:41.173667Z",
     "shell.execute_reply.started": "2022-08-01T14:56:38.763393Z"
    },
    "tags": []
   },
   "outputs": [
    {
     "data": {
      "text/markdown": [
       "# titanic"
      ],
      "text/plain": [
       "<IPython.core.display.Markdown object>"
      ]
     },
     "metadata": {},
     "output_type": "display_data"
    },
    {
     "name": "stderr",
     "output_type": "stream",
     "text": [
      "Planting the forest: 100%|██████████| 8/8 [00:02<00:00,  3.93it/s]\n"
     ]
    },
    {
     "data": {
      "text/markdown": [
       "## Accuracy:"
      ],
      "text/plain": [
       "<IPython.core.display.Markdown object>"
      ]
     },
     "metadata": {},
     "output_type": "display_data"
    },
    {
     "data": {
      "text/markdown": [
       "## &nbsp;&nbsp;&nbsp; 77.81\\% (hard-voting)"
      ],
      "text/plain": [
       "<IPython.core.display.Markdown object>"
      ]
     },
     "metadata": {},
     "output_type": "display_data"
    },
    {
     "data": {
      "text/markdown": [
       "## &nbsp;&nbsp;&nbsp; 77.81\\% (soft-voting)"
      ],
      "text/plain": [
       "<IPython.core.display.Markdown object>"
      ]
     },
     "metadata": {},
     "output_type": "display_data"
    }
   ],
   "source": [
    "ds_name = 'titanic'\n",
    "md(f'# {ds_name}')\n",
    "params = dataset_dict[ds_name]\n",
    "\n",
    "dataset = pd.read_csv(params['csv_path'])[params['ds_cols']+[params['target_col']]].dropna().reset_index(drop=True)\n",
    "dataset['Age'] = dataset['Age'].astype(np.uint8)\n",
    "dataset['SibSp'] = dataset['SibSp'].astype(np.uint8)\n",
    "dataset['Pclass'] = dataset['Pclass'].astype(str)\n",
    "dataset['Fare'] = dataset['Fare'].astype(np.uint32)\n",
    "cls = RandomForestMC(\n",
    "    n_trees=8,\n",
    "    target_col = params['target_col'],\n",
    "    max_discard_trees = 4\n",
    ")\n",
    "cls.process_dataset(dataset)\n",
    "cls.fit()\n",
    "y_test = dataset[params['target_col']].to_list()\n",
    "y_pred = cls.testForest(dataset)\n",
    "accuracy_hard = \"{:.2f}\\%\".format(100*sum([v == p for v, p in zip(y_test, y_pred)]) / len(y_pred))\n",
    "cls.soft_voting=True\n",
    "y_pred = cls.testForest(dataset)\n",
    "accuracy_soft = \"{:.2f}\\%\".format(100*sum([v == p for v, p in zip(y_test, y_pred)]) / len(y_pred))\n",
    "md('## Accuracy:') \n",
    "md(f'## &nbsp;&nbsp;&nbsp; {accuracy_hard} (hard-voting)')\n",
    "md(f'## &nbsp;&nbsp;&nbsp; {accuracy_soft} (soft-voting)')"
   ]
  },
  {
   "cell_type": "code",
   "execution_count": 12,
   "metadata": {
    "execution": {
     "iopub.execute_input": "2022-08-01T14:56:43.334902Z",
     "iopub.status.busy": "2022-08-01T14:56:43.334165Z",
     "iopub.status.idle": "2022-08-01T14:56:43.350106Z",
     "shell.execute_reply": "2022-08-01T14:56:43.349302Z",
     "shell.execute_reply.started": "2022-08-01T14:56:43.334872Z"
    },
    "tags": []
   },
   "outputs": [],
   "source": [
    "model_dict = cls.model2dict()"
   ]
  },
  {
   "cell_type": "code",
   "execution_count": 13,
   "metadata": {
    "collapsed": true,
    "execution": {
     "iopub.execute_input": "2022-08-01T14:56:44.497830Z",
     "iopub.status.busy": "2022-08-01T14:56:44.497124Z",
     "iopub.status.idle": "2022-08-01T14:56:44.531054Z",
     "shell.execute_reply": "2022-08-01T14:56:44.530179Z",
     "shell.execute_reply.started": "2022-08-01T14:56:44.497800Z"
    },
    "jupyter": {
     "outputs_hidden": true
    },
    "tags": []
   },
   "outputs": [
    {
     "data": {
      "text/plain": [
       "{'batch_train_pclass': 10,\n",
       " 'batch_val_pclass': 10,\n",
       " '_N': 20,\n",
       " 'min_feature': 2,\n",
       " 'max_feature': 6,\n",
       " 'th_start': 0.9,\n",
       " 'delta_th': 0.1,\n",
       " 'max_discard_trees': 4,\n",
       " 'n_trees': 8,\n",
       " 'class_vals': ['0', '1'],\n",
       " 'survived_scores': [0.7, 0.7, 0.6, 0.7, 0.7, 0.8, 0.6, 0.6],\n",
       " 'version': '0.4.0-alpha',\n",
       " 'numeric_cols': ['Age', 'SibSp', 'Fare'],\n",
       " 'feature_cols': ['Pclass', 'Sex', 'Age', 'SibSp', 'Fare', 'Embarked'],\n",
       " 'type_of_cols': {'Age': 'numeric',\n",
       "  'SibSp': 'numeric',\n",
       "  'Fare': 'numeric',\n",
       "  'Embarked': 'categorical',\n",
       "  'Pclass': 'categorical',\n",
       "  'Sex': 'categorical'},\n",
       " 'target_col': 'Survived',\n",
       " 'data': [{'data': {'Sex': {'split': {'feat_type': 'categorical',\n",
       "      'split_val': 'male',\n",
       "      '>=': {'Fare': {'split': {'feat_type': 'numeric',\n",
       "         'split_val': 8,\n",
       "         '>=': {'SibSp': {'split': {'feat_type': 'numeric',\n",
       "            'split_val': 0,\n",
       "            '>=': {'leaf': {'0': 1.0}},\n",
       "            '<': {'Embarked': {'split': {'feat_type': 'categorical',\n",
       "               'split_val': 'S',\n",
       "               '>=': {'Age': {'split': {'feat_type': 'numeric',\n",
       "                  'split_val': 39,\n",
       "                  '>=': {'Sex': {'split': {'feat_type': 'categorical',\n",
       "                     'split_val': 'male',\n",
       "                     '>=': {'leaf': {'1': 1.0}},\n",
       "                     '<': {'leaf': {'0': 1.0}}}}},\n",
       "                  '<': {'leaf': {'1': 1.0}}}}},\n",
       "               '<': {'leaf': {'1': 1.0}}}}}}}},\n",
       "         '<': {'leaf': {'0': 1.0}}}}},\n",
       "      '<': {'Fare': {'split': {'feat_type': 'numeric',\n",
       "         'split_val': 13,\n",
       "         '>=': {'SibSp': {'split': {'feat_type': 'numeric',\n",
       "            'split_val': 1,\n",
       "            '>=': {'Pclass': {'split': {'feat_type': 'categorical',\n",
       "               'split_val': '2',\n",
       "               '>=': {'leaf': {'1': 1.0}},\n",
       "               '<': {'Age': {'split': {'feat_type': 'numeric',\n",
       "                  'split_val': 48,\n",
       "                  '>=': {'leaf': {'0': 1.0}},\n",
       "                  '<': {'leaf': {'1': 1.0}}}}}}}},\n",
       "            '<': {'leaf': {'1': 1.0}}}}},\n",
       "         '<': {'SibSp': {'split': {'feat_type': 'numeric',\n",
       "            'split_val': 0,\n",
       "            '>=': {'leaf': {'1': 1.0}},\n",
       "            '<': {'Pclass': {'split': {'feat_type': 'categorical',\n",
       "               'split_val': '3',\n",
       "               '>=': {'leaf': {'1': 1.0}},\n",
       "               '<': {'leaf': {'0': 1.0}}}}}}}}}}}}}},\n",
       "   'class_vals': ['0', '1'],\n",
       "   'survived_score': 0.7,\n",
       "   'features': ['Pclass', 'Sex', 'Age', 'SibSp', 'Fare', 'Embarked'],\n",
       "   'used_features': ['SibSp', 'Age', 'Pclass', 'Embarked', 'Sex', 'Fare'],\n",
       "   'module_version': '0.4.0-alpha'},\n",
       "  {'data': {'Fare': {'split': {'feat_type': 'numeric',\n",
       "      'split_val': 18,\n",
       "      '>=': {'Age': {'split': {'feat_type': 'numeric',\n",
       "         'split_val': 24,\n",
       "         '>=': {'SibSp': {'split': {'feat_type': 'numeric',\n",
       "            'split_val': 0,\n",
       "            '>=': {'leaf': {'1': 1.0}},\n",
       "            '<': {'Sex': {'split': {'feat_type': 'categorical',\n",
       "               'split_val': 'female',\n",
       "               '>=': {'leaf': {'1': 1.0}},\n",
       "               '<': {'Embarked': {'split': {'feat_type': 'categorical',\n",
       "                  'split_val': 'S',\n",
       "                  '>=': {'leaf': {'1': 1.0}},\n",
       "                  '<': {'leaf': {'0': 1.0}}}}}}}}}}},\n",
       "         '<': {'SibSp': {'split': {'feat_type': 'numeric',\n",
       "            'split_val': 0,\n",
       "            '>=': {'Sex': {'split': {'feat_type': 'categorical',\n",
       "               'split_val': 'male',\n",
       "               '>=': {'leaf': {'1': 1.0}},\n",
       "               '<': {'leaf': {'0': 1.0}}}}},\n",
       "            '<': {'leaf': {'1': 1.0}}}}}}}},\n",
       "      '<': {'Age': {'split': {'feat_type': 'numeric',\n",
       "         'split_val': 26,\n",
       "         '>=': {'SibSp': {'split': {'feat_type': 'numeric',\n",
       "            'split_val': 0,\n",
       "            '>=': {'Sex': {'split': {'feat_type': 'categorical',\n",
       "               'split_val': 'male',\n",
       "               '>=': {'leaf': {'0': 1.0}},\n",
       "               '<': {'leaf': {'1': 1.0}}}}},\n",
       "            '<': {'leaf': {'0': 1.0}}}}},\n",
       "         '<': {'SibSp': {'split': {'feat_type': 'numeric',\n",
       "            'split_val': 0,\n",
       "            '>=': {'leaf': {'0': 1.0}},\n",
       "            '<': {'Sex': {'split': {'feat_type': 'categorical',\n",
       "               'split_val': 'male',\n",
       "               '>=': {'leaf': {'0': 1.0}},\n",
       "               '<': {'leaf': {'1': 1.0}}}}}}}}}}}}}},\n",
       "   'class_vals': ['0', '1'],\n",
       "   'survived_score': 0.7,\n",
       "   'features': ['Pclass', 'Sex', 'Age', 'SibSp', 'Fare', 'Embarked'],\n",
       "   'used_features': ['SibSp', 'Age', 'Embarked', 'Sex', 'Fare'],\n",
       "   'module_version': '0.4.0-alpha'},\n",
       "  {'data': {'Sex': {'split': {'feat_type': 'categorical',\n",
       "      'split_val': 'male',\n",
       "      '>=': {'Age': {'split': {'feat_type': 'numeric',\n",
       "         'split_val': 29,\n",
       "         '>=': {'SibSp': {'split': {'feat_type': 'numeric',\n",
       "            'split_val': 0,\n",
       "            '>=': {'leaf': {'0': 1.0}},\n",
       "            '<': {'Age': {'split': {'feat_type': 'numeric',\n",
       "               'split_val': 33,\n",
       "               '>=': {'leaf': {'0': 1.0}},\n",
       "               '<': {'Age': {'split': {'feat_type': 'numeric',\n",
       "                  'split_val': 29,\n",
       "                  '>=': {'leaf': {'1': 1.0}},\n",
       "                  '<': {'SibSp': {'split': {'feat_type': 'numeric',\n",
       "                     'split_val': 0,\n",
       "                     '>=': {'leaf': {'1': 1.0}},\n",
       "                     '<': {'leaf': {'0': 1.0}}}}}}}}}}}}}},\n",
       "         '<': {'SibSp': {'split': {'feat_type': 'numeric',\n",
       "            'split_val': 0,\n",
       "            '>=': {'Sex': {'split': {'feat_type': 'categorical',\n",
       "               'split_val': 'male',\n",
       "               '>=': {'leaf': {'1': 1.0}},\n",
       "               '<': {'leaf': {'0': 1.0}}}}},\n",
       "            '<': {'Sex': {'split': {'feat_type': 'categorical',\n",
       "               'split_val': 'male',\n",
       "               '>=': {'leaf': {'1': 1.0}},\n",
       "               '<': {'leaf': {'0': 1.0}}}}}}}}}}},\n",
       "      '<': {'Age': {'split': {'feat_type': 'numeric',\n",
       "         'split_val': 28,\n",
       "         '>=': {'SibSp': {'split': {'feat_type': 'numeric',\n",
       "            'split_val': 1,\n",
       "            '>=': {'Age': {'split': {'feat_type': 'numeric',\n",
       "               'split_val': 45,\n",
       "               '>=': {'leaf': {'1': 1.0}},\n",
       "               '<': {'leaf': {'0': 1.0}}}}},\n",
       "            '<': {'Sex': {'split': {'feat_type': 'categorical',\n",
       "               'split_val': 'female',\n",
       "               '>=': {'leaf': {'1': 1.0}},\n",
       "               '<': {'leaf': {'0': 1.0}}}}}}}},\n",
       "         '<': {'SibSp': {'split': {'feat_type': 'numeric',\n",
       "            'split_val': 0,\n",
       "            '>=': {'Sex': {'split': {'feat_type': 'categorical',\n",
       "               'split_val': 'female',\n",
       "               '>=': {'leaf': {'1': 1.0}},\n",
       "               '<': {'leaf': {'0': 1.0}}}}},\n",
       "            '<': {'leaf': {'1': 1.0}}}}}}}}}}},\n",
       "   'class_vals': ['0', '1'],\n",
       "   'survived_score': 0.6,\n",
       "   'features': ['Pclass', 'Sex', 'Age', 'SibSp', 'Fare', 'Embarked'],\n",
       "   'used_features': ['SibSp', 'Age', 'Sex'],\n",
       "   'module_version': '0.4.0-alpha'},\n",
       "  {'data': {'Sex': {'split': {'feat_type': 'categorical',\n",
       "      'split_val': 'male',\n",
       "      '>=': {'SibSp': {'split': {'feat_type': 'numeric',\n",
       "         'split_val': 0,\n",
       "         '>=': {'Embarked': {'split': {'feat_type': 'categorical',\n",
       "            'split_val': 'S',\n",
       "            '>=': {'Fare': {'split': {'feat_type': 'numeric',\n",
       "               'split_val': 14,\n",
       "               '>=': {'Age': {'split': {'feat_type': 'numeric',\n",
       "                  'split_val': 41,\n",
       "                  '>=': {'leaf': {'0': 1.0}},\n",
       "                  '<': {'leaf': {'1': 1.0}}}}},\n",
       "               '<': {'leaf': {'0': 1.0}}}}},\n",
       "            '<': {'leaf': {'1': 1.0}}}}},\n",
       "         '<': {'Embarked': {'split': {'feat_type': 'categorical',\n",
       "            'split_val': 'S',\n",
       "            '>=': {'Fare': {'split': {'feat_type': 'numeric',\n",
       "               'split_val': 12,\n",
       "               '>=': {'Age': {'split': {'feat_type': 'numeric',\n",
       "                  'split_val': 45,\n",
       "                  '>=': {'Fare': {'split': {'feat_type': 'numeric',\n",
       "                     'split_val': 26,\n",
       "                     '>=': {'Age': {'split': {'feat_type': 'numeric',\n",
       "                        'split_val': 56,\n",
       "                        '>=': {'leaf': {'0': 1.0}},\n",
       "                        '<': {'leaf': {'1': 1.0}}}}},\n",
       "                     '<': {'leaf': {'0': 1.0}}}}},\n",
       "                  '<': {'leaf': {'0': 1.0}}}}},\n",
       "               '<': {'leaf': {'0': 1.0}}}}},\n",
       "            '<': {'leaf': {'0': 1.0}}}}}}}},\n",
       "      '<': {'leaf': {'1': 1.0}}}}},\n",
       "   'class_vals': ['0', '1'],\n",
       "   'survived_score': 0.7,\n",
       "   'features': ['Pclass', 'Sex', 'Age', 'SibSp', 'Fare', 'Embarked'],\n",
       "   'used_features': ['SibSp', 'Age', 'Embarked', 'Sex', 'Fare'],\n",
       "   'module_version': '0.4.0-alpha'},\n",
       "  {'data': {'Sex': {'split': {'feat_type': 'categorical',\n",
       "      'split_val': 'male',\n",
       "      '>=': {'Embarked': {'split': {'feat_type': 'categorical',\n",
       "         'split_val': 'S',\n",
       "         '>=': {'SibSp': {'split': {'feat_type': 'numeric',\n",
       "            'split_val': 0,\n",
       "            '>=': {'Age': {'split': {'feat_type': 'numeric',\n",
       "               'split_val': 25,\n",
       "               '>=': {'Sex': {'split': {'feat_type': 'categorical',\n",
       "                  'split_val': 'male',\n",
       "                  '>=': {'leaf': {'1': 1.0}},\n",
       "                  '<': {'leaf': {'0': 1.0}}}}},\n",
       "               '<': {'leaf': {'0': 1.0}}}}},\n",
       "            '<': {'leaf': {'0': 1.0}}}}},\n",
       "         '<': {'leaf': {'0': 1.0}}}}},\n",
       "      '<': {'leaf': {'1': 1.0}}}}},\n",
       "   'class_vals': ['0', '1'],\n",
       "   'survived_score': 0.7,\n",
       "   'features': ['Pclass', 'Sex', 'Age', 'SibSp', 'Fare', 'Embarked'],\n",
       "   'used_features': ['SibSp', 'Embarked', 'Age', 'Sex'],\n",
       "   'module_version': '0.4.0-alpha'},\n",
       "  {'data': {'Embarked': {'split': {'feat_type': 'categorical',\n",
       "      'split_val': 'S',\n",
       "      '>=': {'Sex': {'split': {'feat_type': 'categorical',\n",
       "         'split_val': 'male',\n",
       "         '>=': {'Pclass': {'split': {'feat_type': 'categorical',\n",
       "            'split_val': '3',\n",
       "            '>=': {'leaf': {'0': 1.0}},\n",
       "            '<': {'Pclass': {'split': {'feat_type': 'categorical',\n",
       "               'split_val': '1',\n",
       "               '>=': {'Embarked': {'split': {'feat_type': 'categorical',\n",
       "                  'split_val': 'S',\n",
       "                  '>=': {'leaf': {'1': 1.0}},\n",
       "                  '<': {'leaf': {'0': 1.0}}}}},\n",
       "               '<': {'leaf': {'0': 1.0}}}}}}}},\n",
       "         '<': {'Pclass': {'split': {'feat_type': 'categorical',\n",
       "            'split_val': '2',\n",
       "            '>=': {'leaf': {'1': 1.0}},\n",
       "            '<': {'Pclass': {'split': {'feat_type': 'categorical',\n",
       "               'split_val': '3',\n",
       "               '>=': {'leaf': {'1': 0.6666666666666666,\n",
       "                 '0': 0.3333333333333333}},\n",
       "               '<': {'leaf': {'0': 1.0}}}}}}}}}}},\n",
       "      '<': {'Sex': {'split': {'feat_type': 'categorical',\n",
       "         'split_val': 'male',\n",
       "         '>=': {'Pclass': {'split': {'feat_type': 'categorical',\n",
       "            'split_val': '1',\n",
       "            '>=': {'leaf': {'1': 1.0}},\n",
       "            '<': {'leaf': {'0': 1.0}}}}},\n",
       "         '<': {'leaf': {'1': 1.0}}}}}}}},\n",
       "   'class_vals': ['0', '1'],\n",
       "   'survived_score': 0.8,\n",
       "   'features': ['Pclass', 'Sex', 'Age', 'SibSp', 'Fare', 'Embarked'],\n",
       "   'used_features': ['Embarked', 'Pclass', 'Sex'],\n",
       "   'module_version': '0.4.0-alpha'},\n",
       "  {'data': {'Sex': {'split': {'feat_type': 'categorical',\n",
       "      'split_val': 'male',\n",
       "      '>=': {'Embarked': {'split': {'feat_type': 'categorical',\n",
       "         'split_val': 'S',\n",
       "         '>=': {'Fare': {'split': {'feat_type': 'numeric',\n",
       "            'split_val': 8,\n",
       "            '>=': {'Pclass': {'split': {'feat_type': 'categorical',\n",
       "               'split_val': '3',\n",
       "               '>=': {'Fare': {'split': {'feat_type': 'numeric',\n",
       "                  'split_val': 8,\n",
       "                  '>=': {'leaf': {'0': 1.0}},\n",
       "                  '<': {'leaf': {'0': 0.6666666666666666,\n",
       "                    '1': 0.3333333333333333}}}}},\n",
       "               '<': {'leaf': {'0': 1.0}}}}},\n",
       "            '<': {'leaf': {'0': 1.0}}}}},\n",
       "         '<': {'SibSp': {'split': {'feat_type': 'numeric',\n",
       "            'split_val': 1,\n",
       "            '>=': {'Fare': {'split': {'feat_type': 'numeric',\n",
       "               'split_val': 29,\n",
       "               '>=': {'Pclass': {'split': {'feat_type': 'categorical',\n",
       "                  'split_val': '3',\n",
       "                  '>=': {'leaf': {'0': 1.0}},\n",
       "                  '<': {'leaf': {'1': 1.0}}}}},\n",
       "               '<': {'leaf': {'0': 1.0}}}}},\n",
       "            '<': {'leaf': {'0': 1.0}}}}}}}},\n",
       "      '<': {'Embarked': {'split': {'feat_type': 'categorical',\n",
       "         'split_val': 'S',\n",
       "         '>=': {'SibSp': {'split': {'feat_type': 'numeric',\n",
       "            'split_val': 0,\n",
       "            '>=': {'Fare': {'split': {'feat_type': 'numeric',\n",
       "               'split_val': 93,\n",
       "               '>=': {'leaf': {'1': 1.0}},\n",
       "               '<': {'leaf': {'0': 1.0}}}}},\n",
       "            '<': {'leaf': {'1': 1.0}}}}},\n",
       "         '<': {'leaf': {'1': 1.0}}}}}}}},\n",
       "   'class_vals': ['0', '1'],\n",
       "   'survived_score': 0.6,\n",
       "   'features': ['Pclass', 'Sex', 'Age', 'SibSp', 'Fare', 'Embarked'],\n",
       "   'used_features': ['SibSp', 'Pclass', 'Embarked', 'Sex', 'Fare'],\n",
       "   'module_version': '0.4.0-alpha'},\n",
       "  {'data': {'Embarked': {'split': {'feat_type': 'categorical',\n",
       "      'split_val': 'S',\n",
       "      '>=': {'Sex': {'split': {'feat_type': 'categorical',\n",
       "         'split_val': 'male',\n",
       "         '>=': {'SibSp': {'split': {'feat_type': 'numeric',\n",
       "            'split_val': 0,\n",
       "            '>=': {'leaf': {'1': 1.0}},\n",
       "            '<': {'leaf': {'0': 1.0}}}}},\n",
       "         '<': {'leaf': {'1': 1.0}}}}},\n",
       "      '<': {'Sex': {'split': {'feat_type': 'categorical',\n",
       "         'split_val': 'male',\n",
       "         '>=': {'leaf': {'0': 1.0}},\n",
       "         '<': {'leaf': {'1': 1.0}}}}}}}},\n",
       "   'class_vals': ['0', '1'],\n",
       "   'survived_score': 0.6,\n",
       "   'features': ['Pclass', 'Sex', 'Age', 'SibSp', 'Fare', 'Embarked'],\n",
       "   'used_features': ['SibSp', 'Embarked', 'Sex'],\n",
       "   'module_version': '0.4.0-alpha'}]}"
      ]
     },
     "execution_count": 13,
     "metadata": {},
     "output_type": "execute_result"
    }
   ],
   "source": [
    "model_dict"
   ]
  },
  {
   "cell_type": "code",
   "execution_count": 19,
   "metadata": {
    "execution": {
     "iopub.execute_input": "2022-08-01T14:59:32.010183Z",
     "iopub.status.busy": "2022-08-01T14:59:32.009469Z",
     "iopub.status.idle": "2022-08-01T14:59:32.302941Z",
     "shell.execute_reply": "2022-08-01T14:59:32.301862Z",
     "shell.execute_reply.started": "2022-08-01T14:59:32.010153Z"
    }
   },
   "outputs": [
    {
     "name": "stdout",
     "output_type": "stream",
     "text": [
      "/work/tmp/cls_rfmc_titanic.json\n"
     ]
    }
   ],
   "source": [
    "!ls /work/tmp/cls_rfmc_titanic.json\n",
    "!rm /work/tmp/cls_rfmc_titanic.json"
   ]
  },
  {
   "cell_type": "code",
   "execution_count": 20,
   "metadata": {
    "execution": {
     "iopub.execute_input": "2022-08-01T14:59:34.857604Z",
     "iopub.status.busy": "2022-08-01T14:59:34.857089Z",
     "iopub.status.idle": "2022-08-01T14:59:34.879351Z",
     "shell.execute_reply": "2022-08-01T14:59:34.878611Z",
     "shell.execute_reply.started": "2022-08-01T14:59:34.857569Z"
    },
    "tags": []
   },
   "outputs": [],
   "source": [
    "model_path = '/work/tmp/cls_rfmc_titanic.json'\n",
    "dump_file_json(model_path, model_dict)"
   ]
  },
  {
   "cell_type": "code",
   "execution_count": 21,
   "metadata": {
    "execution": {
     "iopub.execute_input": "2022-08-01T14:59:35.986560Z",
     "iopub.status.busy": "2022-08-01T14:59:35.985844Z",
     "iopub.status.idle": "2022-08-01T14:59:36.021622Z",
     "shell.execute_reply": "2022-08-01T14:59:36.020703Z",
     "shell.execute_reply.started": "2022-08-01T14:59:35.986530Z"
    },
    "tags": []
   },
   "outputs": [
    {
     "data": {
      "text/plain": [
       "{'batch_train_pclass': 10,\n",
       " 'batch_val_pclass': 10,\n",
       " '_N': 20,\n",
       " 'min_feature': 2,\n",
       " 'max_feature': 6,\n",
       " 'th_start': 0.9,\n",
       " 'delta_th': 0.1,\n",
       " 'max_discard_trees': 4,\n",
       " 'n_trees': 8,\n",
       " 'class_vals': ['0', '1'],\n",
       " 'survived_scores': [0.7, 0.7, 0.6, 0.7, 0.7, 0.8, 0.6, 0.6],\n",
       " 'version': '0.4.0-alpha',\n",
       " 'numeric_cols': ['Age', 'SibSp', 'Fare'],\n",
       " 'feature_cols': ['Pclass', 'Sex', 'Age', 'SibSp', 'Fare', 'Embarked'],\n",
       " 'type_of_cols': {'Age': 'numeric',\n",
       "  'SibSp': 'numeric',\n",
       "  'Fare': 'numeric',\n",
       "  'Embarked': 'categorical',\n",
       "  'Pclass': 'categorical',\n",
       "  'Sex': 'categorical'},\n",
       " 'target_col': 'Survived',\n",
       " 'data': [{'data': {'Sex': {'split': {'feat_type': 'categorical',\n",
       "      'split_val': 'male',\n",
       "      '>=': {'Fare': {'split': {'feat_type': 'numeric',\n",
       "         'split_val': 8,\n",
       "         '>=': {'SibSp': {'split': {'feat_type': 'numeric',\n",
       "            'split_val': 0,\n",
       "            '>=': {'leaf': {'0': 1.0}},\n",
       "            '<': {'Embarked': {'split': {'feat_type': 'categorical',\n",
       "               'split_val': 'S',\n",
       "               '>=': {'Age': {'split': {'feat_type': 'numeric',\n",
       "                  'split_val': 39,\n",
       "                  '>=': {'Sex': {'split': {'feat_type': 'categorical',\n",
       "                     'split_val': 'male',\n",
       "                     '>=': {'leaf': {'1': 1.0}},\n",
       "                     '<': {'leaf': {'0': 1.0}}}}},\n",
       "                  '<': {'leaf': {'1': 1.0}}}}},\n",
       "               '<': {'leaf': {'1': 1.0}}}}}}}},\n",
       "         '<': {'leaf': {'0': 1.0}}}}},\n",
       "      '<': {'Fare': {'split': {'feat_type': 'numeric',\n",
       "         'split_val': 13,\n",
       "         '>=': {'SibSp': {'split': {'feat_type': 'numeric',\n",
       "            'split_val': 1,\n",
       "            '>=': {'Pclass': {'split': {'feat_type': 'categorical',\n",
       "               'split_val': '2',\n",
       "               '>=': {'leaf': {'1': 1.0}},\n",
       "               '<': {'Age': {'split': {'feat_type': 'numeric',\n",
       "                  'split_val': 48,\n",
       "                  '>=': {'leaf': {'0': 1.0}},\n",
       "                  '<': {'leaf': {'1': 1.0}}}}}}}},\n",
       "            '<': {'leaf': {'1': 1.0}}}}},\n",
       "         '<': {'SibSp': {'split': {'feat_type': 'numeric',\n",
       "            'split_val': 0,\n",
       "            '>=': {'leaf': {'1': 1.0}},\n",
       "            '<': {'Pclass': {'split': {'feat_type': 'categorical',\n",
       "               'split_val': '3',\n",
       "               '>=': {'leaf': {'1': 1.0}},\n",
       "               '<': {'leaf': {'0': 1.0}}}}}}}}}}}}}},\n",
       "   'class_vals': ['0', '1'],\n",
       "   'survived_score': 0.7,\n",
       "   'features': ['Pclass', 'Sex', 'Age', 'SibSp', 'Fare', 'Embarked'],\n",
       "   'used_features': ['SibSp', 'Age', 'Pclass', 'Embarked', 'Sex', 'Fare'],\n",
       "   'module_version': '0.4.0-alpha'},\n",
       "  {'data': {'Fare': {'split': {'feat_type': 'numeric',\n",
       "      'split_val': 18,\n",
       "      '>=': {'Age': {'split': {'feat_type': 'numeric',\n",
       "         'split_val': 24,\n",
       "         '>=': {'SibSp': {'split': {'feat_type': 'numeric',\n",
       "            'split_val': 0,\n",
       "            '>=': {'leaf': {'1': 1.0}},\n",
       "            '<': {'Sex': {'split': {'feat_type': 'categorical',\n",
       "               'split_val': 'female',\n",
       "               '>=': {'leaf': {'1': 1.0}},\n",
       "               '<': {'Embarked': {'split': {'feat_type': 'categorical',\n",
       "                  'split_val': 'S',\n",
       "                  '>=': {'leaf': {'1': 1.0}},\n",
       "                  '<': {'leaf': {'0': 1.0}}}}}}}}}}},\n",
       "         '<': {'SibSp': {'split': {'feat_type': 'numeric',\n",
       "            'split_val': 0,\n",
       "            '>=': {'Sex': {'split': {'feat_type': 'categorical',\n",
       "               'split_val': 'male',\n",
       "               '>=': {'leaf': {'1': 1.0}},\n",
       "               '<': {'leaf': {'0': 1.0}}}}},\n",
       "            '<': {'leaf': {'1': 1.0}}}}}}}},\n",
       "      '<': {'Age': {'split': {'feat_type': 'numeric',\n",
       "         'split_val': 26,\n",
       "         '>=': {'SibSp': {'split': {'feat_type': 'numeric',\n",
       "            'split_val': 0,\n",
       "            '>=': {'Sex': {'split': {'feat_type': 'categorical',\n",
       "               'split_val': 'male',\n",
       "               '>=': {'leaf': {'0': 1.0}},\n",
       "               '<': {'leaf': {'1': 1.0}}}}},\n",
       "            '<': {'leaf': {'0': 1.0}}}}},\n",
       "         '<': {'SibSp': {'split': {'feat_type': 'numeric',\n",
       "            'split_val': 0,\n",
       "            '>=': {'leaf': {'0': 1.0}},\n",
       "            '<': {'Sex': {'split': {'feat_type': 'categorical',\n",
       "               'split_val': 'male',\n",
       "               '>=': {'leaf': {'0': 1.0}},\n",
       "               '<': {'leaf': {'1': 1.0}}}}}}}}}}}}}},\n",
       "   'class_vals': ['0', '1'],\n",
       "   'survived_score': 0.7,\n",
       "   'features': ['Pclass', 'Sex', 'Age', 'SibSp', 'Fare', 'Embarked'],\n",
       "   'used_features': ['SibSp', 'Age', 'Embarked', 'Sex', 'Fare'],\n",
       "   'module_version': '0.4.0-alpha'},\n",
       "  {'data': {'Sex': {'split': {'feat_type': 'categorical',\n",
       "      'split_val': 'male',\n",
       "      '>=': {'Age': {'split': {'feat_type': 'numeric',\n",
       "         'split_val': 29,\n",
       "         '>=': {'SibSp': {'split': {'feat_type': 'numeric',\n",
       "            'split_val': 0,\n",
       "            '>=': {'leaf': {'0': 1.0}},\n",
       "            '<': {'Age': {'split': {'feat_type': 'numeric',\n",
       "               'split_val': 33,\n",
       "               '>=': {'leaf': {'0': 1.0}},\n",
       "               '<': {'Age': {'split': {'feat_type': 'numeric',\n",
       "                  'split_val': 29,\n",
       "                  '>=': {'leaf': {'1': 1.0}},\n",
       "                  '<': {'SibSp': {'split': {'feat_type': 'numeric',\n",
       "                     'split_val': 0,\n",
       "                     '>=': {'leaf': {'1': 1.0}},\n",
       "                     '<': {'leaf': {'0': 1.0}}}}}}}}}}}}}},\n",
       "         '<': {'SibSp': {'split': {'feat_type': 'numeric',\n",
       "            'split_val': 0,\n",
       "            '>=': {'Sex': {'split': {'feat_type': 'categorical',\n",
       "               'split_val': 'male',\n",
       "               '>=': {'leaf': {'1': 1.0}},\n",
       "               '<': {'leaf': {'0': 1.0}}}}},\n",
       "            '<': {'Sex': {'split': {'feat_type': 'categorical',\n",
       "               'split_val': 'male',\n",
       "               '>=': {'leaf': {'1': 1.0}},\n",
       "               '<': {'leaf': {'0': 1.0}}}}}}}}}}},\n",
       "      '<': {'Age': {'split': {'feat_type': 'numeric',\n",
       "         'split_val': 28,\n",
       "         '>=': {'SibSp': {'split': {'feat_type': 'numeric',\n",
       "            'split_val': 1,\n",
       "            '>=': {'Age': {'split': {'feat_type': 'numeric',\n",
       "               'split_val': 45,\n",
       "               '>=': {'leaf': {'1': 1.0}},\n",
       "               '<': {'leaf': {'0': 1.0}}}}},\n",
       "            '<': {'Sex': {'split': {'feat_type': 'categorical',\n",
       "               'split_val': 'female',\n",
       "               '>=': {'leaf': {'1': 1.0}},\n",
       "               '<': {'leaf': {'0': 1.0}}}}}}}},\n",
       "         '<': {'SibSp': {'split': {'feat_type': 'numeric',\n",
       "            'split_val': 0,\n",
       "            '>=': {'Sex': {'split': {'feat_type': 'categorical',\n",
       "               'split_val': 'female',\n",
       "               '>=': {'leaf': {'1': 1.0}},\n",
       "               '<': {'leaf': {'0': 1.0}}}}},\n",
       "            '<': {'leaf': {'1': 1.0}}}}}}}}}}},\n",
       "   'class_vals': ['0', '1'],\n",
       "   'survived_score': 0.6,\n",
       "   'features': ['Pclass', 'Sex', 'Age', 'SibSp', 'Fare', 'Embarked'],\n",
       "   'used_features': ['SibSp', 'Age', 'Sex'],\n",
       "   'module_version': '0.4.0-alpha'},\n",
       "  {'data': {'Sex': {'split': {'feat_type': 'categorical',\n",
       "      'split_val': 'male',\n",
       "      '>=': {'SibSp': {'split': {'feat_type': 'numeric',\n",
       "         'split_val': 0,\n",
       "         '>=': {'Embarked': {'split': {'feat_type': 'categorical',\n",
       "            'split_val': 'S',\n",
       "            '>=': {'Fare': {'split': {'feat_type': 'numeric',\n",
       "               'split_val': 14,\n",
       "               '>=': {'Age': {'split': {'feat_type': 'numeric',\n",
       "                  'split_val': 41,\n",
       "                  '>=': {'leaf': {'0': 1.0}},\n",
       "                  '<': {'leaf': {'1': 1.0}}}}},\n",
       "               '<': {'leaf': {'0': 1.0}}}}},\n",
       "            '<': {'leaf': {'1': 1.0}}}}},\n",
       "         '<': {'Embarked': {'split': {'feat_type': 'categorical',\n",
       "            'split_val': 'S',\n",
       "            '>=': {'Fare': {'split': {'feat_type': 'numeric',\n",
       "               'split_val': 12,\n",
       "               '>=': {'Age': {'split': {'feat_type': 'numeric',\n",
       "                  'split_val': 45,\n",
       "                  '>=': {'Fare': {'split': {'feat_type': 'numeric',\n",
       "                     'split_val': 26,\n",
       "                     '>=': {'Age': {'split': {'feat_type': 'numeric',\n",
       "                        'split_val': 56,\n",
       "                        '>=': {'leaf': {'0': 1.0}},\n",
       "                        '<': {'leaf': {'1': 1.0}}}}},\n",
       "                     '<': {'leaf': {'0': 1.0}}}}},\n",
       "                  '<': {'leaf': {'0': 1.0}}}}},\n",
       "               '<': {'leaf': {'0': 1.0}}}}},\n",
       "            '<': {'leaf': {'0': 1.0}}}}}}}},\n",
       "      '<': {'leaf': {'1': 1.0}}}}},\n",
       "   'class_vals': ['0', '1'],\n",
       "   'survived_score': 0.7,\n",
       "   'features': ['Pclass', 'Sex', 'Age', 'SibSp', 'Fare', 'Embarked'],\n",
       "   'used_features': ['SibSp', 'Age', 'Embarked', 'Sex', 'Fare'],\n",
       "   'module_version': '0.4.0-alpha'},\n",
       "  {'data': {'Sex': {'split': {'feat_type': 'categorical',\n",
       "      'split_val': 'male',\n",
       "      '>=': {'Embarked': {'split': {'feat_type': 'categorical',\n",
       "         'split_val': 'S',\n",
       "         '>=': {'SibSp': {'split': {'feat_type': 'numeric',\n",
       "            'split_val': 0,\n",
       "            '>=': {'Age': {'split': {'feat_type': 'numeric',\n",
       "               'split_val': 25,\n",
       "               '>=': {'Sex': {'split': {'feat_type': 'categorical',\n",
       "                  'split_val': 'male',\n",
       "                  '>=': {'leaf': {'1': 1.0}},\n",
       "                  '<': {'leaf': {'0': 1.0}}}}},\n",
       "               '<': {'leaf': {'0': 1.0}}}}},\n",
       "            '<': {'leaf': {'0': 1.0}}}}},\n",
       "         '<': {'leaf': {'0': 1.0}}}}},\n",
       "      '<': {'leaf': {'1': 1.0}}}}},\n",
       "   'class_vals': ['0', '1'],\n",
       "   'survived_score': 0.7,\n",
       "   'features': ['Pclass', 'Sex', 'Age', 'SibSp', 'Fare', 'Embarked'],\n",
       "   'used_features': ['SibSp', 'Embarked', 'Age', 'Sex'],\n",
       "   'module_version': '0.4.0-alpha'},\n",
       "  {'data': {'Embarked': {'split': {'feat_type': 'categorical',\n",
       "      'split_val': 'S',\n",
       "      '>=': {'Sex': {'split': {'feat_type': 'categorical',\n",
       "         'split_val': 'male',\n",
       "         '>=': {'Pclass': {'split': {'feat_type': 'categorical',\n",
       "            'split_val': '3',\n",
       "            '>=': {'leaf': {'0': 1.0}},\n",
       "            '<': {'Pclass': {'split': {'feat_type': 'categorical',\n",
       "               'split_val': '1',\n",
       "               '>=': {'Embarked': {'split': {'feat_type': 'categorical',\n",
       "                  'split_val': 'S',\n",
       "                  '>=': {'leaf': {'1': 1.0}},\n",
       "                  '<': {'leaf': {'0': 1.0}}}}},\n",
       "               '<': {'leaf': {'0': 1.0}}}}}}}},\n",
       "         '<': {'Pclass': {'split': {'feat_type': 'categorical',\n",
       "            'split_val': '2',\n",
       "            '>=': {'leaf': {'1': 1.0}},\n",
       "            '<': {'Pclass': {'split': {'feat_type': 'categorical',\n",
       "               'split_val': '3',\n",
       "               '>=': {'leaf': {'1': 0.6666666666666666,\n",
       "                 '0': 0.3333333333333333}},\n",
       "               '<': {'leaf': {'0': 1.0}}}}}}}}}}},\n",
       "      '<': {'Sex': {'split': {'feat_type': 'categorical',\n",
       "         'split_val': 'male',\n",
       "         '>=': {'Pclass': {'split': {'feat_type': 'categorical',\n",
       "            'split_val': '1',\n",
       "            '>=': {'leaf': {'1': 1.0}},\n",
       "            '<': {'leaf': {'0': 1.0}}}}},\n",
       "         '<': {'leaf': {'1': 1.0}}}}}}}},\n",
       "   'class_vals': ['0', '1'],\n",
       "   'survived_score': 0.8,\n",
       "   'features': ['Pclass', 'Sex', 'Age', 'SibSp', 'Fare', 'Embarked'],\n",
       "   'used_features': ['Embarked', 'Pclass', 'Sex'],\n",
       "   'module_version': '0.4.0-alpha'},\n",
       "  {'data': {'Sex': {'split': {'feat_type': 'categorical',\n",
       "      'split_val': 'male',\n",
       "      '>=': {'Embarked': {'split': {'feat_type': 'categorical',\n",
       "         'split_val': 'S',\n",
       "         '>=': {'Fare': {'split': {'feat_type': 'numeric',\n",
       "            'split_val': 8,\n",
       "            '>=': {'Pclass': {'split': {'feat_type': 'categorical',\n",
       "               'split_val': '3',\n",
       "               '>=': {'Fare': {'split': {'feat_type': 'numeric',\n",
       "                  'split_val': 8,\n",
       "                  '>=': {'leaf': {'0': 1.0}},\n",
       "                  '<': {'leaf': {'0': 0.6666666666666666,\n",
       "                    '1': 0.3333333333333333}}}}},\n",
       "               '<': {'leaf': {'0': 1.0}}}}},\n",
       "            '<': {'leaf': {'0': 1.0}}}}},\n",
       "         '<': {'SibSp': {'split': {'feat_type': 'numeric',\n",
       "            'split_val': 1,\n",
       "            '>=': {'Fare': {'split': {'feat_type': 'numeric',\n",
       "               'split_val': 29,\n",
       "               '>=': {'Pclass': {'split': {'feat_type': 'categorical',\n",
       "                  'split_val': '3',\n",
       "                  '>=': {'leaf': {'0': 1.0}},\n",
       "                  '<': {'leaf': {'1': 1.0}}}}},\n",
       "               '<': {'leaf': {'0': 1.0}}}}},\n",
       "            '<': {'leaf': {'0': 1.0}}}}}}}},\n",
       "      '<': {'Embarked': {'split': {'feat_type': 'categorical',\n",
       "         'split_val': 'S',\n",
       "         '>=': {'SibSp': {'split': {'feat_type': 'numeric',\n",
       "            'split_val': 0,\n",
       "            '>=': {'Fare': {'split': {'feat_type': 'numeric',\n",
       "               'split_val': 93,\n",
       "               '>=': {'leaf': {'1': 1.0}},\n",
       "               '<': {'leaf': {'0': 1.0}}}}},\n",
       "            '<': {'leaf': {'1': 1.0}}}}},\n",
       "         '<': {'leaf': {'1': 1.0}}}}}}}},\n",
       "   'class_vals': ['0', '1'],\n",
       "   'survived_score': 0.6,\n",
       "   'features': ['Pclass', 'Sex', 'Age', 'SibSp', 'Fare', 'Embarked'],\n",
       "   'used_features': ['SibSp', 'Pclass', 'Embarked', 'Sex', 'Fare'],\n",
       "   'module_version': '0.4.0-alpha'},\n",
       "  {'data': {'Embarked': {'split': {'feat_type': 'categorical',\n",
       "      'split_val': 'S',\n",
       "      '>=': {'Sex': {'split': {'feat_type': 'categorical',\n",
       "         'split_val': 'male',\n",
       "         '>=': {'SibSp': {'split': {'feat_type': 'numeric',\n",
       "            'split_val': 0,\n",
       "            '>=': {'leaf': {'1': 1.0}},\n",
       "            '<': {'leaf': {'0': 1.0}}}}},\n",
       "         '<': {'leaf': {'1': 1.0}}}}},\n",
       "      '<': {'Sex': {'split': {'feat_type': 'categorical',\n",
       "         'split_val': 'male',\n",
       "         '>=': {'leaf': {'0': 1.0}},\n",
       "         '<': {'leaf': {'1': 1.0}}}}}}}},\n",
       "   'class_vals': ['0', '1'],\n",
       "   'survived_score': 0.6,\n",
       "   'features': ['Pclass', 'Sex', 'Age', 'SibSp', 'Fare', 'Embarked'],\n",
       "   'used_features': ['SibSp', 'Embarked', 'Sex'],\n",
       "   'module_version': '0.4.0-alpha'}]}"
      ]
     },
     "execution_count": 21,
     "metadata": {},
     "output_type": "execute_result"
    }
   ],
   "source": [
    "modeldict = load_file_json(model_path)\n",
    "modeldict"
   ]
  },
  {
   "cell_type": "code",
   "execution_count": 22,
   "metadata": {
    "execution": {
     "iopub.execute_input": "2022-08-01T14:59:36.964946Z",
     "iopub.status.busy": "2022-08-01T14:59:36.964061Z",
     "iopub.status.idle": "2022-08-01T14:59:36.983405Z",
     "shell.execute_reply": "2022-08-01T14:59:36.982473Z",
     "shell.execute_reply.started": "2022-08-01T14:59:36.964915Z"
    },
    "tags": []
   },
   "outputs": [
    {
     "data": {
      "text/plain": [
       "RandomForestMC(len(Forest)=0,n_trees=16,model_version=0.4.0-alpha,module_version=0.4.0-alpha)"
      ]
     },
     "execution_count": 22,
     "metadata": {},
     "output_type": "execute_result"
    }
   ],
   "source": [
    "cls = RandomForestMC()\n",
    "cls"
   ]
  },
  {
   "cell_type": "code",
   "execution_count": 25,
   "metadata": {
    "execution": {
     "iopub.execute_input": "2022-08-01T15:00:45.395500Z",
     "iopub.status.busy": "2022-08-01T15:00:45.394773Z",
     "iopub.status.idle": "2022-08-01T15:00:45.412186Z",
     "shell.execute_reply": "2022-08-01T15:00:45.411147Z",
     "shell.execute_reply.started": "2022-08-01T15:00:45.395471Z"
    }
   },
   "outputs": [
    {
     "data": {
      "text/plain": [
       "dict_keys(['batch_train_pclass', 'batch_val_pclass', '_N', 'min_feature', 'max_feature', 'th_start', 'delta_th', 'max_discard_trees', 'n_trees', 'class_vals', 'survived_scores', 'version', 'numeric_cols', 'feature_cols', 'type_of_cols', 'target_col', 'data'])"
      ]
     },
     "execution_count": 25,
     "metadata": {},
     "output_type": "execute_result"
    }
   ],
   "source": [
    "modeldict.keys()"
   ]
  },
  {
   "cell_type": "code",
   "execution_count": 23,
   "metadata": {
    "execution": {
     "iopub.execute_input": "2022-08-01T14:59:38.164303Z",
     "iopub.status.busy": "2022-08-01T14:59:38.163630Z",
     "iopub.status.idle": "2022-08-01T14:59:38.193505Z",
     "shell.execute_reply": "2022-08-01T14:59:38.192152Z",
     "shell.execute_reply.started": "2022-08-01T14:59:38.164273Z"
    },
    "tags": []
   },
   "outputs": [
    {
     "ename": "AttributeError",
     "evalue": "'dict' object has no attribute 'data'",
     "output_type": "error",
     "traceback": [
      "\u001b[0;31m---------------------------------------------------------------------------\u001b[0m",
      "\u001b[0;31mAttributeError\u001b[0m                            Traceback (most recent call last)",
      "Input \u001b[0;32mIn [23]\u001b[0m, in \u001b[0;36m<cell line: 1>\u001b[0;34m()\u001b[0m\n\u001b[0;32m----> 1\u001b[0m \u001b[38;5;28;43mcls\u001b[39;49m\u001b[38;5;241;43m.\u001b[39;49m\u001b[43mdict2model\u001b[49m\u001b[43m(\u001b[49m\u001b[43mmodeldict\u001b[49m\u001b[43m)\u001b[49m\n",
      "File \u001b[0;32m/work/random-forest-mc/utils/../src/random_forest_mc/model.py:320\u001b[0m, in \u001b[0;36mdict2model\u001b[0;34m(self, dict_model)\u001b[0m\n\u001b[1;32m    318\u001b[0m \n\u001b[1;32m    319\u001b[0m     def dict2model(self, dict_model: dict) -> None:\n\u001b[0;32m--> 320\u001b[0m         for attr in self.attr_to_save:\n\u001b[1;32m    321\u001b[0m             setattr(self, attr, dict_model[attr])\n\u001b[1;32m    322\u001b[0m         self.model_version = self.version\n",
      "File \u001b[0;32m/work/random-forest-mc/utils/../src/random_forest_mc/model.py:322\u001b[0m, in \u001b[0;36m<listcomp>\u001b[0;34m(.0)\u001b[0m\n\u001b[1;32m    320\u001b[0m for attr in self.attr_to_save:\n\u001b[1;32m    321\u001b[0m     setattr(self, attr, dict_model[attr])\n\u001b[0;32m--> 322\u001b[0m self.model_version = self.version\n\u001b[1;32m    323\u001b[0m self.version = self.__version__\n\u001b[1;32m    324\u001b[0m self.data = [\n",
      "\u001b[0;31mAttributeError\u001b[0m: 'dict' object has no attribute 'data'"
     ]
    }
   ],
   "source": [
    "cls.dict2model(modeldict)"
   ]
  },
  {
   "cell_type": "code",
   "execution_count": 18,
   "metadata": {
    "execution": {
     "iopub.execute_input": "2022-08-01T14:57:06.958770Z",
     "iopub.status.busy": "2022-08-01T14:57:06.958081Z",
     "iopub.status.idle": "2022-08-01T14:57:06.975482Z",
     "shell.execute_reply": "2022-08-01T14:57:06.974629Z",
     "shell.execute_reply.started": "2022-08-01T14:57:06.958739Z"
    },
    "tags": []
   },
   "outputs": [
    {
     "data": {
      "text/plain": [
       "RandomForestMC(len(Forest)=0,n_trees=8,model_version=0.4.0-alpha,module_version=0.4.0-alpha)"
      ]
     },
     "execution_count": 18,
     "metadata": {},
     "output_type": "execute_result"
    }
   ],
   "source": [
    "cls"
   ]
  },
  {
   "cell_type": "code",
   "execution_count": 24,
   "metadata": {
    "execution": {
     "iopub.execute_input": "2022-08-01T15:00:36.831987Z",
     "iopub.status.busy": "2022-08-01T15:00:36.831300Z",
     "iopub.status.idle": "2022-08-01T15:00:36.850559Z",
     "shell.execute_reply": "2022-08-01T15:00:36.849524Z",
     "shell.execute_reply.started": "2022-08-01T15:00:36.831957Z"
    },
    "tags": []
   },
   "outputs": [
    {
     "data": {
      "text/plain": [
       "[]"
      ]
     },
     "execution_count": 24,
     "metadata": {},
     "output_type": "execute_result"
    }
   ],
   "source": [
    "cls.data"
   ]
  },
  {
   "cell_type": "code",
   "execution_count": null,
   "metadata": {},
   "outputs": [],
   "source": []
  }
 ],
 "metadata": {
  "kernelspec": {
   "display_name": "Python 3 (ipykernel)",
   "language": "python",
   "name": "python3"
  },
  "language_info": {
   "codemirror_mode": {
    "name": "ipython",
    "version": 3
   },
   "file_extension": ".py",
   "mimetype": "text/x-python",
   "name": "python",
   "nbconvert_exporter": "python",
   "pygments_lexer": "ipython3",
   "version": "3.10.5"
  }
 },
 "nbformat": 4,
 "nbformat_minor": 4
}
