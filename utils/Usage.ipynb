{
 "cells": [
  {
   "cell_type": "markdown",
   "metadata": {},
   "source": [
    "# Template \n",
    "\n",
    "- Author: Israel Oliveira [\\[e-mail\\]](mailto:'Israel%20Oliveira%20'<prof.israel@gmail.com>)"
   ]
  },
  {
   "cell_type": "code",
   "execution_count": 1,
   "metadata": {
    "execution": {
     "iopub.execute_input": "2021-08-21T23:58:59.976700Z",
     "iopub.status.busy": "2021-08-21T23:58:59.975787Z",
     "iopub.status.idle": "2021-08-21T23:59:00.014821Z",
     "shell.execute_reply": "2021-08-21T23:59:00.014015Z",
     "shell.execute_reply.started": "2021-08-21T23:58:59.976620Z"
    },
    "tags": []
   },
   "outputs": [],
   "source": [
    "%load_ext watermark"
   ]
  },
  {
   "cell_type": "code",
   "execution_count": 2,
   "metadata": {
    "execution": {
     "iopub.execute_input": "2021-08-21T23:59:00.016741Z",
     "iopub.status.busy": "2021-08-21T23:59:00.016140Z",
     "iopub.status.idle": "2021-08-21T23:59:00.445232Z",
     "shell.execute_reply": "2021-08-21T23:59:00.441756Z",
     "shell.execute_reply.started": "2021-08-21T23:59:00.016699Z"
    },
    "tags": []
   },
   "outputs": [],
   "source": [
    "%load_ext autoreload\n",
    "%autoreload 2\n",
    "\n",
    "import pandas as pd\n",
    "\n",
    "import sys\n",
    "sys.path.append('../src/random_forest_mc')\n",
    "from model import *\n"
   ]
  },
  {
   "cell_type": "code",
   "execution_count": 38,
   "metadata": {
    "execution": {
     "iopub.execute_input": "2021-08-22T00:48:49.889169Z",
     "iopub.status.busy": "2021-08-22T00:48:49.888426Z",
     "iopub.status.idle": "2021-08-22T00:48:49.916275Z",
     "shell.execute_reply": "2021-08-22T00:48:49.915630Z",
     "shell.execute_reply.started": "2021-08-22T00:48:49.889102Z"
    },
    "tags": []
   },
   "outputs": [],
   "source": [
    "# from tqdm import tqdm\n",
    "\n",
    "from glob import glob\n",
    "\n",
    "# import matplotlib.pyplot as plt\n",
    "# %matplotlib inline\n",
    "# from matplotlib import rcParams\n",
    "# from cycler import cycler\n",
    "\n",
    "# rcParams['figure.figsize'] = 12, 8 # 18, 5\n",
    "# rcParams['axes.spines.top'] = False\n",
    "# rcParams['axes.spines.right'] = False\n",
    "# rcParams['axes.grid'] = True\n",
    "# rcParams['axes.prop_cycle'] = cycler(color=['#365977'])\n",
    "# rcParams['lines.linewidth'] = 2.5\n",
    "\n",
    "# import seaborn as sns\n",
    "# sns.set_theme()\n",
    "\n",
    "# pd.set_option(\"max_columns\", None)\n",
    "# pd.set_option(\"max_rows\", None)\n",
    "# pd.set_option('display.max_colwidth', None)\n",
    "\n",
    "from IPython.display import Markdown, display\n",
    "def md(arg):\n",
    "    display(Markdown(arg))\n",
    "\n",
    "# from pandas_profiling import ProfileReport\n",
    "# #report = ProfileReport(#DataFrame here#, minimal=True)\n",
    "# #report.to\n",
    "\n",
    "# import pyarrow.parquet as pq\n",
    "# #df = pq.ParquetDataset(path_to_folder_with_parquets, filesystem=None).read_pandas().to_pandas()\n",
    "\n",
    "import json\n",
    "def open_file_json(path,mode='r',var=None):\n",
    "    if mode == 'w':\n",
    "        with open(path,'w') as f:\n",
    "            json.dump(var, f)\n",
    "    if mode == 'r':\n",
    "        with open(path,'r') as f:\n",
    "            return json.load(f)\n",
    "\n",
    "# import functools\n",
    "# import operator\n",
    "# def flat(a):\n",
    "#     return functools.reduce(operator.iconcat, a, [])\n",
    "\n",
    "# import json\n",
    "# from glob import glob\n",
    "# from typing import NewType\n",
    "\n",
    "\n",
    "# DictsPathType = NewType(\"DictsPath\", str)\n",
    "\n",
    "\n",
    "# def open_file_json(path):\n",
    "#     with open(path, \"r\") as f:\n",
    "#         return json.load(f)\n",
    "\n",
    "# class LoadDicts:\n",
    "#     def __init__(self, dict_path: DictsPathType = \"./data\"):\n",
    "#         Dicts_glob = glob(f\"{dict_path}/*.json\")\n",
    "#         self.List = []\n",
    "#         self.Dict = {}\n",
    "#         for path_json in Dicts_glob:\n",
    "#             name = path_json.split(\"/\")[-1].replace(\".json\", \"\")\n",
    "#             self.List.append(name)\n",
    "#             self.Dict[name] = open_file_json(path_json)\n",
    "#             setattr(self, name, self.Dict[name])\n"
   ]
  },
  {
   "cell_type": "code",
   "execution_count": 4,
   "metadata": {
    "execution": {
     "iopub.execute_input": "2021-08-21T23:59:00.501369Z",
     "iopub.status.busy": "2021-08-21T23:59:00.501127Z",
     "iopub.status.idle": "2021-08-21T23:59:01.782272Z",
     "shell.execute_reply": "2021-08-21T23:59:01.781543Z",
     "shell.execute_reply.started": "2021-08-21T23:59:00.501344Z"
    },
    "tags": []
   },
   "outputs": [
    {
     "name": "stdout",
     "output_type": "stream",
     "text": [
      "Python implementation: CPython\n",
      "Python version       : 3.9.6\n",
      "IPython version      : 7.26.0\n",
      "\n",
      "Compiler    : GCC 10.2.1 20210110\n",
      "OS          : Linux\n",
      "Release     : 5.11.0-7620-generic\n",
      "Machine     : x86_64\n",
      "Processor   : \n",
      "CPU cores   : 4\n",
      "Architecture: 64bit\n",
      "\n",
      "Git hash: 64c542d41d5900d7c5ccdfd2f1ec1bab094328a4\n",
      "\n",
      "Git repo: https://github.com/ysraell/random-forest-mc.git\n",
      "\n",
      "Git branch: main\n",
      "\n",
      "pandas: 1.3.2\n",
      "numpy : 1.21.2\n",
      "sys   : 3.9.6 (default, Aug 17 2021, 15:37:33) \n",
      "[GCC 10.2.1 20210110]\n",
      "\n",
      "CPU\t: Intel(R) Core(TM) i7-7500U CPU @ 2.70GHz\n",
      "Mem:            15G\n",
      "Swap:          4.0G\n"
     ]
    }
   ],
   "source": [
    "# Run this cell before close.\n",
    "%watermark -d --iversion -b -r -g -m -v\n",
    "!cat /proc/cpuinfo |grep 'model name'|head -n 1 |sed -e 's/model\\ name/CPU/'\n",
    "!free -h |cut -d'i' -f1  |grep -v total"
   ]
  },
  {
   "cell_type": "code",
   "execution_count": 5,
   "metadata": {
    "execution": {
     "iopub.execute_input": "2021-08-21T23:59:01.783882Z",
     "iopub.status.busy": "2021-08-21T23:59:01.783328Z",
     "iopub.status.idle": "2021-08-21T23:59:01.822947Z",
     "shell.execute_reply": "2021-08-21T23:59:01.822164Z",
     "shell.execute_reply.started": "2021-08-21T23:59:01.783846Z"
    },
    "tags": []
   },
   "outputs": [
    {
     "data": {
      "text/plain": [
       "['/work/tmp/datasets/titanic.csv',\n",
       " '/work/tmp/datasets/creditcard_trans_float.csv',\n",
       " '/work/tmp/datasets/creditcard.csv',\n",
       " '/work/tmp/datasets/creditcard_trans_int.csv',\n",
       " '/work/tmp/datasets/iris.csv']"
      ]
     },
     "execution_count": 5,
     "metadata": {},
     "output_type": "execute_result"
    }
   ],
   "source": [
    "dataset_path_list = glob('/work/tmp/datasets/*.csv')\n",
    "dataset_path_list"
   ]
  },
  {
   "cell_type": "code",
   "execution_count": 40,
   "metadata": {
    "execution": {
     "iopub.execute_input": "2021-08-22T00:50:04.798063Z",
     "iopub.status.busy": "2021-08-22T00:50:04.797562Z",
     "iopub.status.idle": "2021-08-22T00:50:04.825100Z",
     "shell.execute_reply": "2021-08-22T00:50:04.824467Z",
     "shell.execute_reply.started": "2021-08-22T00:50:04.798005Z"
    },
    "tags": []
   },
   "outputs": [],
   "source": [
    "dataset_dict = {\n",
    "    'titanic' : {\n",
    "        'ds_cols' : ['Pclass', 'Sex', 'Age', 'SibSp', 'Fare', 'Embarked'],\n",
    "        'target_col' : 'Survived',\n",
    "        'csv_path' : '/work/tmp/datasets/titanic.csv'\n",
    "    },\n",
    "    'iris': {\n",
    "        'ds_cols' : ['sepal.length', 'sepal.width', 'petal.length', 'petal.width'],\n",
    "        'target_col' : 'variety',\n",
    "        'csv_path' : '/work/tmp/datasets/iris.csv'\n",
    "    },\n",
    "    'creditcard': {\n",
    "        'ds_cols' : ['V1', 'V2', 'V3', 'V4', 'V5', 'V6', 'V7', 'V8', 'V9', 'V10',\n",
    "       'V11', 'V12', 'V13', 'V14', 'V15', 'V16', 'V17', 'V18', 'V19', 'V20',\n",
    "       'V21', 'V22', 'V23', 'V24', 'V25', 'V26', 'V27', 'V28', 'Amount'],\n",
    "        'target_col' : 'Class',\n",
    "        'csv_path' : '/work/tmp/datasets/creditcard.csv'\n",
    "    },\n",
    "    'creditcard_trans_int': {\n",
    "        'ds_cols' : ['V1', 'V2', 'V3', 'V4', 'V5', 'V6', 'V7', 'V8', 'V9', 'V10',\n",
    "       'V11', 'V12', 'V13', 'V14', 'V15', 'V16', 'V17', 'V18', 'V19', 'V20',\n",
    "       'V21', 'V22', 'V23', 'V24', 'V25', 'V26', 'V27', 'V28', 'Amount'],\n",
    "        'target_col' : 'Class',\n",
    "        'csv_path' : '/work/tmp/datasets/creditcard_trans_int.csv'\n",
    "    },\n",
    "    'creditcard_trans_float': {\n",
    "        'ds_cols' : ['V1', 'V2', 'V3', 'V4', 'V5', 'V6', 'V7', 'V8', 'V9', 'V10',\n",
    "       'V11', 'V12', 'V13', 'V14', 'V15', 'V16', 'V17', 'V18', 'V19', 'V20',\n",
    "       'V21', 'V22', 'V23', 'V24', 'V25', 'V26', 'V27', 'V28', 'Amount'],\n",
    "        'target_col' : 'Class',\n",
    "        'csv_path' : '/work/tmp/datasets/creditcard_trans_float.csv'\n",
    "    }\n",
    "}\n",
    "\n",
    "open_file_json('../tests/datasets_metadata.json',mode='w',var=dataset_dict)"
   ]
  },
  {
   "cell_type": "code",
   "execution_count": 7,
   "metadata": {
    "execution": {
     "iopub.execute_input": "2021-08-21T23:59:01.844311Z",
     "iopub.status.busy": "2021-08-21T23:59:01.844087Z",
     "iopub.status.idle": "2021-08-21T23:59:08.485074Z",
     "shell.execute_reply": "2021-08-21T23:59:08.484257Z",
     "shell.execute_reply.started": "2021-08-21T23:59:01.844280Z"
    },
    "tags": []
   },
   "outputs": [
    {
     "data": {
      "text/markdown": [
       "# titanic"
      ],
      "text/plain": [
       "<IPython.core.display.Markdown object>"
      ]
     },
     "metadata": {},
     "output_type": "display_data"
    },
    {
     "name": "stderr",
     "output_type": "stream",
     "text": [
      "Planting the forest: 100%|██████████| 8/8 [00:06<00:00,  1.28it/s]\n"
     ]
    },
    {
     "data": {
      "text/markdown": [
       "## Accuracy:"
      ],
      "text/plain": [
       "<IPython.core.display.Markdown object>"
      ]
     },
     "metadata": {},
     "output_type": "display_data"
    },
    {
     "data": {
      "text/markdown": [
       "## &nbsp;&nbsp;&nbsp; 78.23\\% (hard-voting)"
      ],
      "text/plain": [
       "<IPython.core.display.Markdown object>"
      ]
     },
     "metadata": {},
     "output_type": "display_data"
    },
    {
     "data": {
      "text/markdown": [
       "## &nbsp;&nbsp;&nbsp; 78.09\\% (soft-voting)"
      ],
      "text/plain": [
       "<IPython.core.display.Markdown object>"
      ]
     },
     "metadata": {},
     "output_type": "display_data"
    }
   ],
   "source": [
    "ds_name = 'titanic'\n",
    "md(f'# {ds_name}')\n",
    "params = dataset_dict[ds_name]\n",
    "\n",
    "dataset = pd.read_csv(params['csv_path'])[params['ds_cols']+[params['target_col']]].dropna().reset_index(drop=True)\n",
    "dataset['Age'] = dataset['Age'].astype(np.uint8)\n",
    "dataset['SibSp'] = dataset['SibSp'].astype(np.uint8)\n",
    "dataset['Pclass'] = dataset['Pclass'].astype(str)\n",
    "dataset['Fare'] = dataset['Fare'].astype(np.uint32)\n",
    "cls = RandomForestMC(\n",
    "    n_trees=8,\n",
    "    target_col = params['target_col'],\n",
    "    max_discard_trees = 4\n",
    ")\n",
    "cls.process_dataset(dataset)\n",
    "cls.fit()\n",
    "y_test = dataset[params['target_col']].to_list()\n",
    "y_pred = cls.testForest(dataset)\n",
    "accuracy_hard = \"{:.2f}\\%\".format(100*sum([v == p for v, p in zip(y_test, y_pred)]) / len(y_pred))\n",
    "y_pred = cls.testForest(dataset, soft_voting=True)\n",
    "accuracy_soft = \"{:.2f}\\%\".format(100*sum([v == p for v, p in zip(y_test, y_pred)]) / len(y_pred))\n",
    "md('## Accuracy:') \n",
    "md(f'## &nbsp;&nbsp;&nbsp; {accuracy_hard} (hard-voting)')\n",
    "md(f'## &nbsp;&nbsp;&nbsp; {accuracy_soft} (soft-voting)')"
   ]
  },
  {
   "cell_type": "code",
   "execution_count": 12,
   "metadata": {
    "execution": {
     "iopub.execute_input": "2021-08-22T00:05:55.016729Z",
     "iopub.status.busy": "2021-08-22T00:05:55.015800Z",
     "iopub.status.idle": "2021-08-22T00:06:06.675175Z",
     "shell.execute_reply": "2021-08-22T00:06:06.674574Z",
     "shell.execute_reply.started": "2021-08-22T00:05:55.016662Z"
    },
    "tags": []
   },
   "outputs": [
    {
     "data": {
      "text/markdown": [
       "# iris"
      ],
      "text/plain": [
       "<IPython.core.display.Markdown object>"
      ]
     },
     "metadata": {},
     "output_type": "display_data"
    },
    {
     "name": "stderr",
     "output_type": "stream",
     "text": [
      "Planting the forest: 100%|██████████| 8/8 [00:11<00:00,  1.45s/it]\n"
     ]
    },
    {
     "data": {
      "text/markdown": [
       "## Accuracy:"
      ],
      "text/plain": [
       "<IPython.core.display.Markdown object>"
      ]
     },
     "metadata": {},
     "output_type": "display_data"
    },
    {
     "data": {
      "text/markdown": [
       "## &nbsp;&nbsp;&nbsp; 38.00\\% (hard-voting)"
      ],
      "text/plain": [
       "<IPython.core.display.Markdown object>"
      ]
     },
     "metadata": {},
     "output_type": "display_data"
    },
    {
     "data": {
      "text/markdown": [
       "## &nbsp;&nbsp;&nbsp; 38.00\\% (soft-voting)"
      ],
      "text/plain": [
       "<IPython.core.display.Markdown object>"
      ]
     },
     "metadata": {},
     "output_type": "display_data"
    }
   ],
   "source": [
    "ds_name = 'iris'\n",
    "md(f'# {ds_name}')\n",
    "params = dataset_dict[ds_name]\n",
    "\n",
    "dataset = pd.read_csv(params['csv_path'])[params['ds_cols']+[params['target_col']]].dropna().reset_index(drop=True)\n",
    "dataset.rename(columns={col: col.replace('.','_') for col in dataset.columns}, inplace=True)\n",
    "params['ds_cols'] = [col.replace('.','_') for col in params['ds_cols']]\n",
    "cls = RandomForestMC(\n",
    "    n_trees=8,\n",
    "    target_col = params['target_col'],\n",
    "    max_discard_trees = 4\n",
    ")\n",
    "cls.process_dataset(dataset)\n",
    "cls.fit()\n",
    "y_test = dataset[params['target_col']].to_list()\n",
    "y_pred = cls.testForest(dataset)\n",
    "accuracy_hard = \"{:.2f}\\%\".format(100*sum([v == p for v, p in zip(y_test, y_pred)]) / len(y_pred))\n",
    "y_pred = cls.testForest(dataset, soft_voting=True)\n",
    "accuracy_soft = \"{:.2f}\\%\".format(100*sum([v == p for v, p in zip(y_test, y_pred)]) / len(y_pred))\n",
    "md('## Accuracy:') \n",
    "md(f'## &nbsp;&nbsp;&nbsp; {accuracy_hard} (hard-voting)')\n",
    "md(f'## &nbsp;&nbsp;&nbsp; {accuracy_soft} (soft-voting)')"
   ]
  },
  {
   "cell_type": "code",
   "execution_count": 35,
   "metadata": {
    "execution": {
     "iopub.execute_input": "2021-08-22T00:15:43.439760Z",
     "iopub.status.busy": "2021-08-22T00:15:43.439324Z",
     "iopub.status.idle": "2021-08-22T00:16:22.358428Z",
     "shell.execute_reply": "2021-08-22T00:16:22.357799Z",
     "shell.execute_reply.started": "2021-08-22T00:15:43.439703Z"
    },
    "tags": []
   },
   "outputs": [
    {
     "data": {
      "text/markdown": [
       "# creditcard"
      ],
      "text/plain": [
       "<IPython.core.display.Markdown object>"
      ]
     },
     "metadata": {},
     "output_type": "display_data"
    },
    {
     "name": "stderr",
     "output_type": "stream",
     "text": [
      "Planting the forest: 100%|██████████| 8/8 [00:10<00:00,  1.26s/it]\n"
     ]
    },
    {
     "data": {
      "text/markdown": [
       "## Accuracy:"
      ],
      "text/plain": [
       "<IPython.core.display.Markdown object>"
      ]
     },
     "metadata": {},
     "output_type": "display_data"
    },
    {
     "data": {
      "text/markdown": [
       "## &nbsp;&nbsp;&nbsp; 0.30\\% (hard-voting)"
      ],
      "text/plain": [
       "<IPython.core.display.Markdown object>"
      ]
     },
     "metadata": {},
     "output_type": "display_data"
    },
    {
     "data": {
      "text/markdown": [
       "## &nbsp;&nbsp;&nbsp; 0.30\\% (soft-voting)"
      ],
      "text/plain": [
       "<IPython.core.display.Markdown object>"
      ]
     },
     "metadata": {},
     "output_type": "display_data"
    },
    {
     "data": {
      "text/markdown": [
       "# creditcard_trans_int"
      ],
      "text/plain": [
       "<IPython.core.display.Markdown object>"
      ]
     },
     "metadata": {},
     "output_type": "display_data"
    },
    {
     "name": "stderr",
     "output_type": "stream",
     "text": [
      "Planting the forest: 100%|██████████| 8/8 [00:09<00:00,  1.24s/it]\n"
     ]
    },
    {
     "data": {
      "text/markdown": [
       "## Accuracy:"
      ],
      "text/plain": [
       "<IPython.core.display.Markdown object>"
      ]
     },
     "metadata": {},
     "output_type": "display_data"
    },
    {
     "data": {
      "text/markdown": [
       "## &nbsp;&nbsp;&nbsp; 0.00\\% (hard-voting)"
      ],
      "text/plain": [
       "<IPython.core.display.Markdown object>"
      ]
     },
     "metadata": {},
     "output_type": "display_data"
    },
    {
     "data": {
      "text/markdown": [
       "## &nbsp;&nbsp;&nbsp; 0.00\\% (soft-voting)"
      ],
      "text/plain": [
       "<IPython.core.display.Markdown object>"
      ]
     },
     "metadata": {},
     "output_type": "display_data"
    },
    {
     "data": {
      "text/markdown": [
       "# creditcard_trans_float"
      ],
      "text/plain": [
       "<IPython.core.display.Markdown object>"
      ]
     },
     "metadata": {},
     "output_type": "display_data"
    },
    {
     "name": "stderr",
     "output_type": "stream",
     "text": [
      "Planting the forest: 100%|██████████| 8/8 [00:10<00:00,  1.33s/it]\n"
     ]
    },
    {
     "data": {
      "text/markdown": [
       "## Accuracy:"
      ],
      "text/plain": [
       "<IPython.core.display.Markdown object>"
      ]
     },
     "metadata": {},
     "output_type": "display_data"
    },
    {
     "data": {
      "text/markdown": [
       "## &nbsp;&nbsp;&nbsp; 0.10\\% (hard-voting)"
      ],
      "text/plain": [
       "<IPython.core.display.Markdown object>"
      ]
     },
     "metadata": {},
     "output_type": "display_data"
    },
    {
     "data": {
      "text/markdown": [
       "## &nbsp;&nbsp;&nbsp; 0.10\\% (soft-voting)"
      ],
      "text/plain": [
       "<IPython.core.display.Markdown object>"
      ]
     },
     "metadata": {},
     "output_type": "display_data"
    }
   ],
   "source": [
    "for ds_name in ['creditcard', 'creditcard_trans_int', 'creditcard_trans_float']:\n",
    "    md(f'# {ds_name}')\n",
    "    params = dataset_dict[ds_name]\n",
    "\n",
    "    dataset = pd.read_csv(params['csv_path'])[params['ds_cols']+[params['target_col']]].dropna().reset_index(drop=True)\n",
    "    cls = RandomForestMC(\n",
    "        n_trees=8,\n",
    "        target_col = params['target_col'],\n",
    "        max_discard_trees = 4\n",
    "    )\n",
    "    cls.process_dataset(dataset)\n",
    "    cls.fit()\n",
    "    dataset = dataset.sample(n=1000)\n",
    "    y_test = dataset[params['target_col']].to_list()\n",
    "    y_pred = cls.testForest(dataset)\n",
    "    accuracy_hard = \"{:.2f}\\%\".format(100*sum([v == p for v, p in zip(y_test, y_pred)]) / len(y_pred))\n",
    "    y_pred = cls.testForest(dataset, soft_voting=True)\n",
    "    accuracy_soft = \"{:.2f}\\%\".format(100*sum([v == p for v, p in zip(y_test, y_pred)]) / len(y_pred))\n",
    "    md('## Accuracy:') \n",
    "    md(f'## &nbsp;&nbsp;&nbsp; {accuracy_hard} (hard-voting)')\n",
    "    md(f'## &nbsp;&nbsp;&nbsp; {accuracy_soft} (soft-voting)')"
   ]
  },
  {
   "cell_type": "code",
   "execution_count": null,
   "metadata": {},
   "outputs": [],
   "source": []
  }
 ],
 "metadata": {
  "kernelspec": {
   "display_name": "Python 3 (ipykernel)",
   "language": "python",
   "name": "python3"
  },
  "language_info": {
   "codemirror_mode": {
    "name": "ipython",
    "version": 3
   },
   "file_extension": ".py",
   "mimetype": "text/x-python",
   "name": "python",
   "nbconvert_exporter": "python",
   "pygments_lexer": "ipython3",
   "version": "3.9.7"
  }
 },
 "nbformat": 4,
 "nbformat_minor": 4
}
