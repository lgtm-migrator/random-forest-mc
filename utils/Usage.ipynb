{
 "cells": [
  {
   "cell_type": "markdown",
   "metadata": {},
   "source": [
    "# Usage \n",
    "\n",
    "- Author: Israel Oliveira [\\[e-mail\\]](mailto:'Israel%20Oliveira%20'<prof.israel@gmail.com>)"
   ]
  },
  {
   "cell_type": "code",
   "execution_count": 1,
   "metadata": {
    "execution": {
     "iopub.execute_input": "2022-08-01T16:58:48.178009Z",
     "iopub.status.busy": "2022-08-01T16:58:48.177576Z",
     "iopub.status.idle": "2022-08-01T16:58:58.209454Z",
     "shell.execute_reply": "2022-08-01T16:58:58.208429Z",
     "shell.execute_reply.started": "2022-08-01T16:58:48.177915Z"
    },
    "tags": []
   },
   "outputs": [
    {
     "name": "stdout",
     "output_type": "stream",
     "text": [
      "Processing /work/random-forest-mc\n",
      "  Installing build dependencies ... \u001b[?25ldone\n",
      "\u001b[?25h  Getting requirements to build wheel ... \u001b[?25ldone\n",
      "\u001b[?25h  Preparing metadata (pyproject.toml) ... \u001b[?25ldone\n",
      "\u001b[?25hRequirement already satisfied: tqdm>=4.60 in /usr/local/lib/python3.10/site-packages (from random-forest-mc==0.4.0a0) (4.64.0)\n",
      "Requirement already satisfied: numpy>=1.20 in /usr/local/lib/python3.10/site-packages (from random-forest-mc==0.4.0a0) (1.23.1)\n",
      "Requirement already satisfied: pandas>=1.3 in /usr/local/lib/python3.10/site-packages (from random-forest-mc==0.4.0a0) (1.4.3)\n",
      "Requirement already satisfied: python-dateutil>=2.8.1 in /usr/local/lib/python3.10/site-packages (from pandas>=1.3->random-forest-mc==0.4.0a0) (2.8.2)\n",
      "Requirement already satisfied: pytz>=2020.1 in /usr/local/lib/python3.10/site-packages (from pandas>=1.3->random-forest-mc==0.4.0a0) (2022.1)\n",
      "Requirement already satisfied: six>=1.5 in /usr/local/lib/python3.10/site-packages (from python-dateutil>=2.8.1->pandas>=1.3->random-forest-mc==0.4.0a0) (1.16.0)\n",
      "Building wheels for collected packages: random-forest-mc\n",
      "  Building wheel for random-forest-mc (pyproject.toml) ... \u001b[?25ldone\n",
      "\u001b[?25h  Created wheel for random-forest-mc: filename=random_forest_mc-0.4.0a0-py3-none-any.whl size=14057 sha256=f29e79ccea3dd7e85eee71037d8e01a76d080717bbf512c560e1edccd9f067b4\n",
      "  Stored in directory: /root/.cache/pip/wheels/eb/5f/19/4722d7f6bf0d13102d1af6ab98e4b53771da1ed44ce678108e\n",
      "Successfully built random-forest-mc\n",
      "Installing collected packages: random-forest-mc\n",
      "  Attempting uninstall: random-forest-mc\n",
      "    Found existing installation: random-forest-mc 0.4.0a0\n",
      "    Uninstalling random-forest-mc-0.4.0a0:\n",
      "      Successfully uninstalled random-forest-mc-0.4.0a0\n",
      "Successfully installed random-forest-mc-0.4.0a0\n",
      "\u001b[33mWARNING: Running pip as the 'root' user can result in broken permissions and conflicting behaviour with the system package manager. It is recommended to use a virtual environment instead: https://pip.pypa.io/warnings/venv\u001b[0m\u001b[33m\n",
      "\u001b[0m"
     ]
    }
   ],
   "source": [
    "!pip install -U ../"
   ]
  },
  {
   "cell_type": "code",
   "execution_count": 2,
   "metadata": {
    "execution": {
     "iopub.execute_input": "2022-08-01T16:58:58.211906Z",
     "iopub.status.busy": "2022-08-01T16:58:58.211624Z",
     "iopub.status.idle": "2022-08-01T16:58:58.236605Z",
     "shell.execute_reply": "2022-08-01T16:58:58.235615Z",
     "shell.execute_reply.started": "2022-08-01T16:58:58.211878Z"
    },
    "tags": []
   },
   "outputs": [],
   "source": [
    "%load_ext watermark"
   ]
  },
  {
   "cell_type": "code",
   "execution_count": 3,
   "metadata": {
    "execution": {
     "iopub.execute_input": "2022-08-01T16:58:58.238278Z",
     "iopub.status.busy": "2022-08-01T16:58:58.237879Z",
     "iopub.status.idle": "2022-08-01T16:58:58.692983Z",
     "shell.execute_reply": "2022-08-01T16:58:58.692099Z",
     "shell.execute_reply.started": "2022-08-01T16:58:58.238250Z"
    },
    "tags": []
   },
   "outputs": [],
   "source": [
    "%load_ext autoreload\n",
    "%autoreload 2\n",
    "import numpy as np\n",
    "import pandas as pd\n",
    "from random_forest_mc.model import RandomForestMC\n",
    "from random_forest_mc.utils import load_file_json, dump_file_json\n"
   ]
  },
  {
   "cell_type": "code",
   "execution_count": 4,
   "metadata": {
    "execution": {
     "iopub.execute_input": "2022-08-01T16:58:58.694919Z",
     "iopub.status.busy": "2022-08-01T16:58:58.694368Z",
     "iopub.status.idle": "2022-08-01T16:58:58.715746Z",
     "shell.execute_reply": "2022-08-01T16:58:58.714967Z",
     "shell.execute_reply.started": "2022-08-01T16:58:58.694878Z"
    },
    "tags": []
   },
   "outputs": [],
   "source": [
    "# from tqdm import notebook as tqdm\n",
    "\n",
    "from glob import glob\n",
    "\n",
    "# import matplotlib.pyplot as plt\n",
    "# %matplotlib inline\n",
    "# from matplotlib import rcParams\n",
    "# from cycler import cycler\n",
    "\n",
    "# rcParams['figure.figsize'] = 12, 8 # 18, 5\n",
    "# rcParams['axes.spines.top'] = False\n",
    "# rcParams['axes.spines.right'] = False\n",
    "# rcParams['axes.grid'] = True\n",
    "# rcParams['axes.prop_cycle'] = cycler(color=['#365977'])\n",
    "# rcParams['lines.linewidth'] = 2.5\n",
    "\n",
    "# import seaborn as sns\n",
    "# sns.set_theme()\n",
    "\n",
    "# pd.set_option(\"max_columns\", None)\n",
    "# pd.set_option(\"max_rows\", None)\n",
    "# pd.set_option('display.max_colwidth', None)\n",
    "\n",
    "from IPython.display import Markdown, display\n",
    "def md(arg):\n",
    "    display(Markdown(arg))\n",
    "\n",
    "# from pandas_profiling import ProfileReport\n",
    "# #report = ProfileReport(#DataFrame here#, minimal=True)\n",
    "# #report.to\n",
    "\n",
    "# import pyarrow.parquet as pq\n",
    "# #df = pq.ParquetDataset(path_to_folder_with_parquets, filesystem=None).read_pandas().to_pandas()\n",
    "\n",
    "# import functools\n",
    "# import operator\n",
    "# def flat(a):\n",
    "#     return functools.reduce(operator.iconcat, a, [])\n",
    "\n",
    "\n",
    "######### LoadDicts\n",
    "\n",
    "import json\n",
    "from glob import glob\n",
    "from typing import Any\n",
    "from typing import NewType\n",
    "\n",
    "def np_encoder(object):\n",
    "    if isinstance(object, np.generic):\n",
    "        return object.item()\n",
    "\n",
    "\n",
    "DictsPathType = NewType(\"DictsPath\", str)\n",
    "\n",
    "\n",
    "def load_file_json(path: DictsPathType):\n",
    "    with open(path, \"r\") as f:\n",
    "        return json.load(f)\n",
    "\n",
    "\n",
    "def dump_file_json(path: DictsPathType, var: Any):\n",
    "    with open(path, \"w\") as f:\n",
    "        return json.dump(var, f, indent=4, default=np_encoder)\n",
    "\n",
    "\n",
    "class LoadDicts:\n",
    "    def __init__(self, dict_path: DictsPathType = \"./data\"):\n",
    "        Dicts_glob = glob(f\"{dict_path}/*.json\")\n",
    "        self.List = []\n",
    "        self.Dict = {}\n",
    "        for path_json in Dicts_glob:\n",
    "            name = path_json.split(\"/\")[-1].replace(\".json\", \"\")\n",
    "            self.List.append(name)\n",
    "            self.Dict[name] = load_file_json(path_json)\n",
    "            setattr(self, name, self.Dict[name])\n",
    "\n",
    "    def __repr__(self) -> str:\n",
    "        return \"LoadDicts: {}\".format(\", \".join(self.List))"
   ]
  },
  {
   "cell_type": "code",
   "execution_count": 5,
   "metadata": {
    "execution": {
     "iopub.execute_input": "2022-08-01T16:58:58.717574Z",
     "iopub.status.busy": "2022-08-01T16:58:58.716812Z",
     "iopub.status.idle": "2022-08-01T16:58:59.028286Z",
     "shell.execute_reply": "2022-08-01T16:58:59.027095Z",
     "shell.execute_reply.started": "2022-08-01T16:58:58.717548Z"
    },
    "tags": []
   },
   "outputs": [
    {
     "name": "stdout",
     "output_type": "stream",
     "text": [
      "Python implementation: CPython\n",
      "Python version       : 3.10.5\n",
      "IPython version      : 8.4.0\n",
      "\n",
      "Compiler    : GCC 10.2.1 20210110\n",
      "OS          : Linux\n",
      "Release     : 4.14.285-215.501.amzn2.x86_64\n",
      "Machine     : x86_64\n",
      "Processor   : \n",
      "CPU cores   : 4\n",
      "Architecture: 64bit\n",
      "\n",
      "Git hash: bcc395921b05b82fc8664b049faa785c4936800f\n",
      "\n",
      "Git repo: https://github.com/ysraell/random-forest-mc.git\n",
      "\n",
      "Git branch: dev\n",
      "\n",
      "json  : 2.0.9\n",
      "numpy : 1.23.1\n",
      "pandas: 1.4.3\n",
      "\n",
      "CPU\t: Intel(R) Xeon(R) CPU E5-2686 v4 @ 2.30GHz\n",
      "Mem:            15G\n",
      "Swap:             0B          0B          0B\n"
     ]
    }
   ],
   "source": [
    "# Run this cell before close.\n",
    "%watermark -d --iversion -b -r -g -m -v\n",
    "!cat /proc/cpuinfo |grep 'model name'|head -n 1 |sed -e 's/model\\ name/CPU/'\n",
    "!free -h |cut -d'i' -f1  |grep -v total"
   ]
  },
  {
   "cell_type": "code",
   "execution_count": 6,
   "metadata": {
    "execution": {
     "iopub.execute_input": "2022-08-01T16:58:59.031055Z",
     "iopub.status.busy": "2022-08-01T16:58:59.030050Z",
     "iopub.status.idle": "2022-08-01T16:58:59.057572Z",
     "shell.execute_reply": "2022-08-01T16:58:59.056599Z",
     "shell.execute_reply.started": "2022-08-01T16:58:59.031010Z"
    },
    "tags": []
   },
   "outputs": [
    {
     "data": {
      "text/plain": [
       "['/work/tmp/datasets/creditcard.csv',\n",
       " '/work/tmp/datasets/creditcard_trans_float.csv',\n",
       " '/work/tmp/datasets/creditcard_trans_int.csv',\n",
       " '/work/tmp/datasets/iris.csv',\n",
       " '/work/tmp/datasets/titanic.csv']"
      ]
     },
     "execution_count": 6,
     "metadata": {},
     "output_type": "execute_result"
    }
   ],
   "source": [
    "dataset_path_list = glob('/work/tmp/datasets/*.csv')\n",
    "dataset_path_list"
   ]
  },
  {
   "cell_type": "code",
   "execution_count": 7,
   "metadata": {
    "execution": {
     "iopub.execute_input": "2022-08-01T16:58:59.060163Z",
     "iopub.status.busy": "2022-08-01T16:58:59.059890Z",
     "iopub.status.idle": "2022-08-01T16:58:59.078116Z",
     "shell.execute_reply": "2022-08-01T16:58:59.077240Z",
     "shell.execute_reply.started": "2022-08-01T16:58:59.060137Z"
    },
    "tags": []
   },
   "outputs": [],
   "source": [
    "dataset_dict = {\n",
    "    'titanic' : {\n",
    "        'ds_cols' : ['Pclass', 'Sex', 'Age', 'SibSp', 'Fare', 'Embarked'],\n",
    "        'target_col' : 'Survived',\n",
    "        'csv_path' : '/work/tmp/datasets/titanic.csv'\n",
    "    },\n",
    "    'iris': {\n",
    "        'ds_cols' : ['sepal.length', 'sepal.width', 'petal.length', 'petal.width'],\n",
    "        'target_col' : 'variety',\n",
    "        'csv_path' : '/work/tmp/datasets/iris.csv'\n",
    "    },\n",
    "    'creditcard': {\n",
    "        'ds_cols' : ['V1', 'V2', 'V3', 'V4', 'V5', 'V6', 'V7', 'V8', 'V9', 'V10',\n",
    "       'V11', 'V12', 'V13', 'V14', 'V15', 'V16', 'V17', 'V18', 'V19', 'V20',\n",
    "       'V21', 'V22', 'V23', 'V24', 'V25', 'V26', 'V27', 'V28', 'Amount'],\n",
    "        'target_col' : 'Class',\n",
    "        'csv_path' : '/work/tmp/datasets/creditcard.csv'\n",
    "    },\n",
    "    'creditcard_trans_int': {\n",
    "        'ds_cols' : ['V1', 'V2', 'V3', 'V4', 'V5', 'V6', 'V7', 'V8', 'V9', 'V10',\n",
    "       'V11', 'V12', 'V13', 'V14', 'V15', 'V16', 'V17', 'V18', 'V19', 'V20',\n",
    "       'V21', 'V22', 'V23', 'V24', 'V25', 'V26', 'V27', 'V28', 'Amount'],\n",
    "        'target_col' : 'Class',\n",
    "        'csv_path' : '/work/tmp/datasets/creditcard_trans_int.csv'\n",
    "    },\n",
    "    'creditcard_trans_float': {\n",
    "        'ds_cols' : ['V1', 'V2', 'V3', 'V4', 'V5', 'V6', 'V7', 'V8', 'V9', 'V10',\n",
    "       'V11', 'V12', 'V13', 'V14', 'V15', 'V16', 'V17', 'V18', 'V19', 'V20',\n",
    "       'V21', 'V22', 'V23', 'V24', 'V25', 'V26', 'V27', 'V28', 'Amount'],\n",
    "        'target_col' : 'Class',\n",
    "        'csv_path' : '/work/tmp/datasets/creditcard_trans_float.csv'\n",
    "    }\n",
    "}\n",
    "\n",
    "# dump_file_json('../tests/datasets_metadata.json',dataset_dict)"
   ]
  },
  {
   "cell_type": "code",
   "execution_count": 8,
   "metadata": {
    "execution": {
     "iopub.execute_input": "2022-08-01T16:58:59.080350Z",
     "iopub.status.busy": "2022-08-01T16:58:59.079553Z",
     "iopub.status.idle": "2022-08-01T16:59:01.446263Z",
     "shell.execute_reply": "2022-08-01T16:59:01.445411Z",
     "shell.execute_reply.started": "2022-08-01T16:58:59.080310Z"
    },
    "tags": []
   },
   "outputs": [
    {
     "data": {
      "text/markdown": [
       "# titanic"
      ],
      "text/plain": [
       "<IPython.core.display.Markdown object>"
      ]
     },
     "metadata": {},
     "output_type": "display_data"
    },
    {
     "name": "stderr",
     "output_type": "stream",
     "text": [
      "Planting the forest: 100%|██████████| 8/8 [00:01<00:00,  4.01it/s]\n"
     ]
    },
    {
     "data": {
      "text/markdown": [
       "## Accuracy:"
      ],
      "text/plain": [
       "<IPython.core.display.Markdown object>"
      ]
     },
     "metadata": {},
     "output_type": "display_data"
    },
    {
     "data": {
      "text/markdown": [
       "## &nbsp;&nbsp;&nbsp; 78.37\\% (hard-voting)"
      ],
      "text/plain": [
       "<IPython.core.display.Markdown object>"
      ]
     },
     "metadata": {},
     "output_type": "display_data"
    },
    {
     "data": {
      "text/markdown": [
       "## &nbsp;&nbsp;&nbsp; 76.97\\% (soft-voting)"
      ],
      "text/plain": [
       "<IPython.core.display.Markdown object>"
      ]
     },
     "metadata": {},
     "output_type": "display_data"
    }
   ],
   "source": [
    "ds_name = 'titanic'\n",
    "md(f'# {ds_name}')\n",
    "params = dataset_dict[ds_name]\n",
    "\n",
    "dataset = pd.read_csv(params['csv_path'])[params['ds_cols']+[params['target_col']]].dropna().reset_index(drop=True)\n",
    "dataset['Age'] = dataset['Age'].astype(np.uint8)\n",
    "dataset['SibSp'] = dataset['SibSp'].astype(np.uint8)\n",
    "dataset['Pclass'] = dataset['Pclass'].astype(str)\n",
    "dataset['Fare'] = dataset['Fare'].astype(np.uint32)\n",
    "cls = RandomForestMC(\n",
    "    n_trees=8,\n",
    "    target_col = params['target_col'],\n",
    "    max_discard_trees = 4\n",
    ")\n",
    "cls.process_dataset(dataset)\n",
    "cls.fit()\n",
    "y_test = dataset[params['target_col']].to_list()\n",
    "y_pred = cls.testForest(dataset)\n",
    "accuracy_hard = \"{:.2f}\\%\".format(100*sum([v == p for v, p in zip(y_test, y_pred)]) / len(y_pred))\n",
    "cls.soft_voting=True\n",
    "y_pred = cls.testForest(dataset)\n",
    "accuracy_soft = \"{:.2f}\\%\".format(100*sum([v == p for v, p in zip(y_test, y_pred)]) / len(y_pred))\n",
    "md('## Accuracy:') \n",
    "md(f'## &nbsp;&nbsp;&nbsp; {accuracy_hard} (hard-voting)')\n",
    "md(f'## &nbsp;&nbsp;&nbsp; {accuracy_soft} (soft-voting)')"
   ]
  },
  {
   "cell_type": "code",
   "execution_count": 9,
   "metadata": {
    "execution": {
     "iopub.execute_input": "2022-08-01T16:59:01.447992Z",
     "iopub.status.busy": "2022-08-01T16:59:01.447726Z",
     "iopub.status.idle": "2022-08-01T16:59:02.519981Z",
     "shell.execute_reply": "2022-08-01T16:59:02.518945Z",
     "shell.execute_reply.started": "2022-08-01T16:59:01.447965Z"
    },
    "tags": []
   },
   "outputs": [
    {
     "data": {
      "text/markdown": [
       "# iris"
      ],
      "text/plain": [
       "<IPython.core.display.Markdown object>"
      ]
     },
     "metadata": {},
     "output_type": "display_data"
    },
    {
     "name": "stderr",
     "output_type": "stream",
     "text": [
      "Planting the forest: 100%|██████████| 8/8 [00:00<00:00,  8.19it/s]\n"
     ]
    },
    {
     "data": {
      "text/markdown": [
       "## Accuracy:"
      ],
      "text/plain": [
       "<IPython.core.display.Markdown object>"
      ]
     },
     "metadata": {},
     "output_type": "display_data"
    },
    {
     "data": {
      "text/markdown": [
       "## &nbsp;&nbsp;&nbsp; 93.33\\% (hard-voting)"
      ],
      "text/plain": [
       "<IPython.core.display.Markdown object>"
      ]
     },
     "metadata": {},
     "output_type": "display_data"
    },
    {
     "data": {
      "text/markdown": [
       "## &nbsp;&nbsp;&nbsp; 93.33\\% (soft-voting)"
      ],
      "text/plain": [
       "<IPython.core.display.Markdown object>"
      ]
     },
     "metadata": {},
     "output_type": "display_data"
    }
   ],
   "source": [
    "ds_name = 'iris'\n",
    "md(f'# {ds_name}')\n",
    "params = dataset_dict[ds_name]\n",
    "\n",
    "dataset = pd.read_csv(params['csv_path'])[params['ds_cols']+[params['target_col']]].dropna().reset_index(drop=True)\n",
    "dataset.rename(columns={col: col.replace('.','_') for col in dataset.columns}, inplace=True)\n",
    "params['ds_cols'] = [col.replace('.','_') for col in params['ds_cols']]\n",
    "cls = RandomForestMC(\n",
    "    n_trees=8,\n",
    "    target_col = params['target_col'],\n",
    "    max_discard_trees = 4\n",
    ")\n",
    "cls.process_dataset(dataset)\n",
    "cls.fit()\n",
    "y_test = dataset[params['target_col']].to_list()\n",
    "y_pred = cls.testForest(dataset)\n",
    "accuracy_hard = \"{:.2f}\\%\".format(100*sum([v == p for v, p in zip(y_test, y_pred)]) / len(y_pred))\n",
    "cls.soft_voting=True\n",
    "y_pred = cls.testForest(dataset)\n",
    "accuracy_soft = \"{:.2f}\\%\".format(100*sum([v == p for v, p in zip(y_test, y_pred)]) / len(y_pred))\n",
    "md('## Accuracy:') \n",
    "md(f'## &nbsp;&nbsp;&nbsp; {accuracy_hard} (hard-voting)')\n",
    "md(f'## &nbsp;&nbsp;&nbsp; {accuracy_soft} (soft-voting)')"
   ]
  },
  {
   "cell_type": "code",
   "execution_count": 18,
   "metadata": {
    "execution": {
     "iopub.execute_input": "2022-08-01T17:01:53.524568Z",
     "iopub.status.busy": "2022-08-01T17:01:53.523850Z",
     "iopub.status.idle": "2022-08-01T17:02:06.118328Z",
     "shell.execute_reply": "2022-08-01T17:02:06.117364Z",
     "shell.execute_reply.started": "2022-08-01T17:01:53.524538Z"
    },
    "tags": []
   },
   "outputs": [
    {
     "data": {
      "text/markdown": [
       "# creditcard"
      ],
      "text/plain": [
       "<IPython.core.display.Markdown object>"
      ]
     },
     "metadata": {},
     "output_type": "display_data"
    },
    {
     "name": "stderr",
     "output_type": "stream",
     "text": [
      "Planting the forest: 100%|██████████| 8/8 [00:02<00:00,  3.45it/s]\n"
     ]
    },
    {
     "data": {
      "text/markdown": [
       "## Accuracy:"
      ],
      "text/plain": [
       "<IPython.core.display.Markdown object>"
      ]
     },
     "metadata": {},
     "output_type": "display_data"
    },
    {
     "data": {
      "text/markdown": [
       "## &nbsp;&nbsp;&nbsp; 98.80\\% (hard-voting)"
      ],
      "text/plain": [
       "<IPython.core.display.Markdown object>"
      ]
     },
     "metadata": {},
     "output_type": "display_data"
    },
    {
     "data": {
      "text/markdown": [
       "## &nbsp;&nbsp;&nbsp; 98.40\\% (soft-voting)"
      ],
      "text/plain": [
       "<IPython.core.display.Markdown object>"
      ]
     },
     "metadata": {},
     "output_type": "display_data"
    },
    {
     "data": {
      "text/markdown": [
       "# creditcard_trans_int"
      ],
      "text/plain": [
       "<IPython.core.display.Markdown object>"
      ]
     },
     "metadata": {},
     "output_type": "display_data"
    },
    {
     "name": "stderr",
     "output_type": "stream",
     "text": [
      "Planting the forest: 100%|██████████| 8/8 [00:01<00:00,  4.81it/s]\n"
     ]
    },
    {
     "data": {
      "text/markdown": [
       "## Accuracy:"
      ],
      "text/plain": [
       "<IPython.core.display.Markdown object>"
      ]
     },
     "metadata": {},
     "output_type": "display_data"
    },
    {
     "data": {
      "text/markdown": [
       "## &nbsp;&nbsp;&nbsp; 99.80\\% (hard-voting)"
      ],
      "text/plain": [
       "<IPython.core.display.Markdown object>"
      ]
     },
     "metadata": {},
     "output_type": "display_data"
    },
    {
     "data": {
      "text/markdown": [
       "## &nbsp;&nbsp;&nbsp; 99.80\\% (soft-voting)"
      ],
      "text/plain": [
       "<IPython.core.display.Markdown object>"
      ]
     },
     "metadata": {},
     "output_type": "display_data"
    },
    {
     "data": {
      "text/markdown": [
       "# creditcard_trans_float"
      ],
      "text/plain": [
       "<IPython.core.display.Markdown object>"
      ]
     },
     "metadata": {},
     "output_type": "display_data"
    },
    {
     "name": "stderr",
     "output_type": "stream",
     "text": [
      "Planting the forest: 100%|██████████| 8/8 [00:02<00:00,  3.89it/s]\n"
     ]
    },
    {
     "data": {
      "text/markdown": [
       "## Accuracy:"
      ],
      "text/plain": [
       "<IPython.core.display.Markdown object>"
      ]
     },
     "metadata": {},
     "output_type": "display_data"
    },
    {
     "data": {
      "text/markdown": [
       "## &nbsp;&nbsp;&nbsp; 99.00\\% (hard-voting)"
      ],
      "text/plain": [
       "<IPython.core.display.Markdown object>"
      ]
     },
     "metadata": {},
     "output_type": "display_data"
    },
    {
     "data": {
      "text/markdown": [
       "## &nbsp;&nbsp;&nbsp; 99.00\\% (soft-voting)"
      ],
      "text/plain": [
       "<IPython.core.display.Markdown object>"
      ]
     },
     "metadata": {},
     "output_type": "display_data"
    }
   ],
   "source": [
    "for ds_name in ['creditcard', 'creditcard_trans_int', 'creditcard_trans_float']:\n",
    "    md(f'# {ds_name}')\n",
    "    params = dataset_dict[ds_name]\n",
    "\n",
    "    dataset = pd.read_csv(params['csv_path'])[params['ds_cols']+[params['target_col']]].dropna().reset_index(drop=True)\n",
    "    cls = RandomForestMC(\n",
    "        n_trees=8,\n",
    "        target_col = params['target_col'],\n",
    "        max_discard_trees = 4\n",
    "    )\n",
    "    cls.process_dataset(dataset)\n",
    "    cls.fit()\n",
    "    dataset = dataset.sample(n=1000)\n",
    "    y_test = dataset[params['target_col']].to_list()\n",
    "    y_pred = cls.testForest(dataset)\n",
    "    accuracy_hard = \"{:.2f}\\%\".format(100*sum([v == p for v, p in zip(y_test, y_pred)]) / len(y_pred))\n",
    "    cls.soft_voting=True\n",
    "    y_pred = cls.testForest(dataset)\n",
    "    accuracy_soft = \"{:.2f}\\%\".format(100*sum([v == p for v, p in zip(y_test, y_pred)]) / len(y_pred))\n",
    "    md('## Accuracy:') \n",
    "    md(f'## &nbsp;&nbsp;&nbsp; {accuracy_hard} (hard-voting)')\n",
    "    md(f'## &nbsp;&nbsp;&nbsp; {accuracy_soft} (soft-voting)')\n",
    "    model_dict = cls.model2dict()\n",
    "    model_path = f'/work/tmp/cls_rfmc_{ds_name}.json'\n",
    "    dump_file_json(model_path, model_dict)"
   ]
  },
  {
   "cell_type": "code",
   "execution_count": 19,
   "metadata": {
    "execution": {
     "iopub.execute_input": "2022-08-01T17:02:06.121283Z",
     "iopub.status.busy": "2022-08-01T17:02:06.120414Z",
     "iopub.status.idle": "2022-08-01T17:02:06.136297Z",
     "shell.execute_reply": "2022-08-01T17:02:06.135562Z",
     "shell.execute_reply.started": "2022-08-01T17:02:06.121242Z"
    },
    "tags": []
   },
   "outputs": [],
   "source": [
    "cls.mergeForest(cls)"
   ]
  },
  {
   "cell_type": "code",
   "execution_count": 20,
   "metadata": {
    "execution": {
     "iopub.execute_input": "2022-08-01T17:02:14.724683Z",
     "iopub.status.busy": "2022-08-01T17:02:14.723952Z",
     "iopub.status.idle": "2022-08-01T17:02:14.741754Z",
     "shell.execute_reply": "2022-08-01T17:02:14.740800Z",
     "shell.execute_reply.started": "2022-08-01T17:02:14.724652Z"
    },
    "tags": []
   },
   "outputs": [
    {
     "data": {
      "text/plain": [
       "[DecisionTreeMC(survived_score=0.9,module_version=0.4.0-alpha),\n",
       " DecisionTreeMC(survived_score=0.85,module_version=0.4.0-alpha),\n",
       " DecisionTreeMC(survived_score=0.85,module_version=0.4.0-alpha),\n",
       " DecisionTreeMC(survived_score=0.85,module_version=0.4.0-alpha),\n",
       " DecisionTreeMC(survived_score=0.7,module_version=0.4.0-alpha),\n",
       " DecisionTreeMC(survived_score=0.6,module_version=0.4.0-alpha),\n",
       " DecisionTreeMC(survived_score=0.9,module_version=0.4.0-alpha),\n",
       " DecisionTreeMC(survived_score=0.85,module_version=0.4.0-alpha),\n",
       " DecisionTreeMC(survived_score=0.9,module_version=0.4.0-alpha),\n",
       " DecisionTreeMC(survived_score=0.85,module_version=0.4.0-alpha),\n",
       " DecisionTreeMC(survived_score=0.85,module_version=0.4.0-alpha),\n",
       " DecisionTreeMC(survived_score=0.85,module_version=0.4.0-alpha),\n",
       " DecisionTreeMC(survived_score=0.7,module_version=0.4.0-alpha),\n",
       " DecisionTreeMC(survived_score=0.6,module_version=0.4.0-alpha),\n",
       " DecisionTreeMC(survived_score=0.9,module_version=0.4.0-alpha),\n",
       " DecisionTreeMC(survived_score=0.85,module_version=0.4.0-alpha)]"
      ]
     },
     "execution_count": 20,
     "metadata": {},
     "output_type": "execute_result"
    }
   ],
   "source": [
    "cls.data"
   ]
  },
  {
   "cell_type": "code",
   "execution_count": 21,
   "metadata": {
    "execution": {
     "iopub.execute_input": "2022-08-01T17:02:17.640893Z",
     "iopub.status.busy": "2022-08-01T17:02:17.640183Z",
     "iopub.status.idle": "2022-08-01T17:02:17.657488Z",
     "shell.execute_reply": "2022-08-01T17:02:17.656701Z",
     "shell.execute_reply.started": "2022-08-01T17:02:17.640865Z"
    },
    "tags": []
   },
   "outputs": [
    {
     "data": {
      "text/plain": [
       "16"
      ]
     },
     "execution_count": 21,
     "metadata": {},
     "output_type": "execute_result"
    }
   ],
   "source": [
    "cls.Forest_size"
   ]
  },
  {
   "cell_type": "code",
   "execution_count": 22,
   "metadata": {
    "execution": {
     "iopub.execute_input": "2022-08-01T17:02:18.456849Z",
     "iopub.status.busy": "2022-08-01T17:02:18.456019Z",
     "iopub.status.idle": "2022-08-01T17:02:18.473479Z",
     "shell.execute_reply": "2022-08-01T17:02:18.472673Z",
     "shell.execute_reply.started": "2022-08-01T17:02:18.456820Z"
    },
    "tags": []
   },
   "outputs": [
    {
     "data": {
      "text/plain": [
       "RandomForestMC(len(Forest)=16,n_trees=8,model_version=0.4.0-alpha,module_version=0.4.0-alpha)"
      ]
     },
     "execution_count": 22,
     "metadata": {},
     "output_type": "execute_result"
    }
   ],
   "source": [
    "cls"
   ]
  },
  {
   "cell_type": "code",
   "execution_count": 23,
   "metadata": {
    "execution": {
     "iopub.execute_input": "2022-08-01T17:02:20.001312Z",
     "iopub.status.busy": "2022-08-01T17:02:20.000635Z",
     "iopub.status.idle": "2022-08-01T17:02:20.017051Z",
     "shell.execute_reply": "2022-08-01T17:02:20.016143Z",
     "shell.execute_reply.started": "2022-08-01T17:02:20.001283Z"
    }
   },
   "outputs": [],
   "source": [
    "cls.mergeForest(cls, 10, 'random')"
   ]
  },
  {
   "cell_type": "code",
   "execution_count": 24,
   "metadata": {
    "execution": {
     "iopub.execute_input": "2022-08-01T17:02:24.452215Z",
     "iopub.status.busy": "2022-08-01T17:02:24.451362Z",
     "iopub.status.idle": "2022-08-01T17:02:24.470677Z",
     "shell.execute_reply": "2022-08-01T17:02:24.469822Z",
     "shell.execute_reply.started": "2022-08-01T17:02:24.452184Z"
    }
   },
   "outputs": [
    {
     "data": {
      "text/plain": [
       "RandomForestMC(len(Forest)=10,n_trees=8,model_version=0.4.0-alpha,module_version=0.4.0-alpha)"
      ]
     },
     "execution_count": 24,
     "metadata": {},
     "output_type": "execute_result"
    }
   ],
   "source": [
    "cls"
   ]
  },
  {
   "cell_type": "code",
   "execution_count": 25,
   "metadata": {
    "execution": {
     "iopub.execute_input": "2022-08-01T17:02:28.249495Z",
     "iopub.status.busy": "2022-08-01T17:02:28.248608Z",
     "iopub.status.idle": "2022-08-01T17:02:28.266765Z",
     "shell.execute_reply": "2022-08-01T17:02:28.265900Z",
     "shell.execute_reply.started": "2022-08-01T17:02:28.249465Z"
    }
   },
   "outputs": [
    {
     "data": {
      "text/plain": [
       "[DecisionTreeMC(survived_score=0.9,module_version=0.4.0-alpha),\n",
       " DecisionTreeMC(survived_score=0.85,module_version=0.4.0-alpha),\n",
       " DecisionTreeMC(survived_score=0.7,module_version=0.4.0-alpha),\n",
       " DecisionTreeMC(survived_score=0.9,module_version=0.4.0-alpha),\n",
       " DecisionTreeMC(survived_score=0.9,module_version=0.4.0-alpha),\n",
       " DecisionTreeMC(survived_score=0.7,module_version=0.4.0-alpha),\n",
       " DecisionTreeMC(survived_score=0.9,module_version=0.4.0-alpha),\n",
       " DecisionTreeMC(survived_score=0.85,module_version=0.4.0-alpha),\n",
       " DecisionTreeMC(survived_score=0.6,module_version=0.4.0-alpha),\n",
       " DecisionTreeMC(survived_score=0.85,module_version=0.4.0-alpha)]"
      ]
     },
     "execution_count": 25,
     "metadata": {},
     "output_type": "execute_result"
    }
   ],
   "source": [
    "cls.data"
   ]
  },
  {
   "cell_type": "code",
   "execution_count": 26,
   "metadata": {
    "execution": {
     "iopub.execute_input": "2022-08-01T17:02:44.050554Z",
     "iopub.status.busy": "2022-08-01T17:02:44.049717Z",
     "iopub.status.idle": "2022-08-01T17:02:44.067300Z",
     "shell.execute_reply": "2022-08-01T17:02:44.066291Z",
     "shell.execute_reply.started": "2022-08-01T17:02:44.050526Z"
    },
    "tags": []
   },
   "outputs": [],
   "source": [
    "cls.mergeForest(cls, 7,'score')"
   ]
  },
  {
   "cell_type": "code",
   "execution_count": 27,
   "metadata": {
    "execution": {
     "iopub.execute_input": "2022-08-01T17:02:44.769676Z",
     "iopub.status.busy": "2022-08-01T17:02:44.769171Z",
     "iopub.status.idle": "2022-08-01T17:02:44.794380Z",
     "shell.execute_reply": "2022-08-01T17:02:44.793428Z",
     "shell.execute_reply.started": "2022-08-01T17:02:44.769647Z"
    },
    "tags": []
   },
   "outputs": [
    {
     "data": {
      "text/plain": [
       "RandomForestMC(len(Forest)=7,n_trees=8,model_version=0.4.0-alpha,module_version=0.4.0-alpha)"
      ]
     },
     "execution_count": 27,
     "metadata": {},
     "output_type": "execute_result"
    }
   ],
   "source": [
    "cls"
   ]
  },
  {
   "cell_type": "code",
   "execution_count": 32,
   "metadata": {
    "execution": {
     "iopub.execute_input": "2022-08-01T18:32:18.276913Z",
     "iopub.status.busy": "2022-08-01T18:32:18.276170Z",
     "iopub.status.idle": "2022-08-01T18:32:18.294344Z",
     "shell.execute_reply": "2022-08-01T18:32:18.293516Z",
     "shell.execute_reply.started": "2022-08-01T18:32:18.276884Z"
    },
    "tags": []
   },
   "outputs": [],
   "source": [
    "Tree = cls.data[0]"
   ]
  },
  {
   "cell_type": "code",
   "execution_count": 31,
   "metadata": {
    "execution": {
     "iopub.execute_input": "2022-08-01T17:06:18.558939Z",
     "iopub.status.busy": "2022-08-01T17:06:18.558194Z",
     "iopub.status.idle": "2022-08-01T17:06:18.575742Z",
     "shell.execute_reply": "2022-08-01T17:06:18.574945Z",
     "shell.execute_reply.started": "2022-08-01T17:06:18.558910Z"
    },
    "tags": []
   },
   "outputs": [
    {
     "data": {
      "text/plain": [
       "7"
      ]
     },
     "execution_count": 31,
     "metadata": {},
     "output_type": "execute_result"
    }
   ],
   "source": [
    "len(cls.survived_scores)"
   ]
  },
  {
   "cell_type": "code",
   "execution_count": 35,
   "metadata": {
    "execution": {
     "iopub.execute_input": "2022-08-01T18:32:29.982259Z",
     "iopub.status.busy": "2022-08-01T18:32:29.981547Z",
     "iopub.status.idle": "2022-08-01T18:32:30.727450Z",
     "shell.execute_reply": "2022-08-01T18:32:30.725887Z",
     "shell.execute_reply.started": "2022-08-01T18:32:29.982229Z"
    },
    "tags": []
   },
   "outputs": [
    {
     "ename": "TypeError",
     "evalue": "Both objects must be instances of 'DecisionTreeMC' class.",
     "output_type": "error",
     "traceback": [
      "\u001b[0;31m---------------------------------------------------------------------------\u001b[0m",
      "\u001b[0;31mTypeError\u001b[0m                                 Traceback (most recent call last)",
      "Input \u001b[0;32mIn [35]\u001b[0m, in \u001b[0;36m<cell line: 1>\u001b[0;34m()\u001b[0m\n\u001b[0;32m----> 1\u001b[0m \u001b[43mTree\u001b[49m\u001b[43m \u001b[49m\u001b[38;5;241;43m==\u001b[39;49m\u001b[43m \u001b[49m\u001b[43mTree\u001b[49m\u001b[38;5;241;43m.\u001b[39;49m\u001b[43mdata\u001b[49m\n",
      "File \u001b[0;32m/usr/local/lib/python3.10/site-packages/random_forest_mc/model.py:107\u001b[0m, in \u001b[0;36mDecisionTreeMC.__eq__\u001b[0;34m(self, other)\u001b[0m\n\u001b[1;32m    105\u001b[0m \u001b[38;5;28;01mdef\u001b[39;00m \u001b[38;5;21m__eq__\u001b[39m(\u001b[38;5;28mself\u001b[39m, other) \u001b[38;5;241m-\u001b[39m\u001b[38;5;241m>\u001b[39m \u001b[38;5;28mbool\u001b[39m:\n\u001b[1;32m    106\u001b[0m     \u001b[38;5;28;01mif\u001b[39;00m \u001b[38;5;129;01mnot\u001b[39;00m \u001b[38;5;28misinstance\u001b[39m(other, DecisionTreeMC):\n\u001b[0;32m--> 107\u001b[0m         \u001b[38;5;28;01mraise\u001b[39;00m \u001b[38;5;167;01mTypeError\u001b[39;00m(\u001b[38;5;28mself\u001b[39m\u001b[38;5;241m.\u001b[39mtyper_error_msg)\n\u001b[1;32m    108\u001b[0m     \u001b[38;5;28;01mreturn\u001b[39;00m \u001b[38;5;28mself\u001b[39m\u001b[38;5;241m.\u001b[39msurvived_score \u001b[38;5;241m==\u001b[39m other\u001b[38;5;241m.\u001b[39msurvived_score\n",
      "\u001b[0;31mTypeError\u001b[0m: Both objects must be instances of 'DecisionTreeMC' class."
     ]
    }
   ],
   "source": [
    "Tree == Tree.data"
   ]
  },
  {
   "cell_type": "code",
   "execution_count": 39,
   "metadata": {
    "execution": {
     "iopub.execute_input": "2022-08-01T20:12:18.038423Z",
     "iopub.status.busy": "2022-08-01T20:12:18.037720Z",
     "iopub.status.idle": "2022-08-01T20:12:18.054811Z",
     "shell.execute_reply": "2022-08-01T20:12:18.053891Z",
     "shell.execute_reply.started": "2022-08-01T20:12:18.038393Z"
    },
    "tags": []
   },
   "outputs": [],
   "source": [
    "dataset = dataset.reset_index(drop=True)\n",
    "row = dataset.loc[0]"
   ]
  },
  {
   "cell_type": "code",
   "execution_count": 42,
   "metadata": {
    "execution": {
     "iopub.execute_input": "2022-08-01T20:14:07.751347Z",
     "iopub.status.busy": "2022-08-01T20:14:07.750465Z",
     "iopub.status.idle": "2022-08-01T20:14:07.788437Z",
     "shell.execute_reply": "2022-08-01T20:14:07.786947Z",
     "shell.execute_reply.started": "2022-08-01T20:14:07.751313Z"
    },
    "tags": []
   },
   "outputs": [
    {
     "ename": "TypeError",
     "evalue": "isinstance() arg 2 must be a type, a tuple of types, or a union",
     "output_type": "error",
     "traceback": [
      "\u001b[0;31m---------------------------------------------------------------------------\u001b[0m",
      "\u001b[0;31mTypeError\u001b[0m                                 Traceback (most recent call last)",
      "Input \u001b[0;32mIn [42]\u001b[0m, in \u001b[0;36m<cell line: 1>\u001b[0;34m()\u001b[0m\n\u001b[0;32m----> 1\u001b[0m \u001b[38;5;28;43mcls\u001b[39;49m\u001b[38;5;241;43m.\u001b[39;49m\u001b[43mpredict\u001b[49m\u001b[43m(\u001b[49m\u001b[43mdataset\u001b[49m\u001b[38;5;241;43m.\u001b[39;49m\u001b[43msample\u001b[49m\u001b[43m(\u001b[49m\u001b[43mn\u001b[49m\u001b[38;5;241;43m=\u001b[39;49m\u001b[38;5;241;43m10\u001b[39;49m\u001b[43m)\u001b[49m\u001b[43m)\u001b[49m\n",
      "File \u001b[0;32m/usr/local/lib/python3.10/site-packages/random_forest_mc/model.py:262\u001b[0m, in \u001b[0;36mRandomForestMC.predict\u001b[0;34m(self, row_or_matrix, prob_output)\u001b[0m\n\u001b[1;32m    259\u001b[0m \u001b[38;5;28;01mdef\u001b[39;00m \u001b[38;5;21mpredict\u001b[39m(\n\u001b[1;32m    260\u001b[0m     \u001b[38;5;28mself\u001b[39m, row_or_matrix: Union[dsRow, pd\u001b[38;5;241m.\u001b[39mDataFrame], prob_output: \u001b[38;5;28mbool\u001b[39m \u001b[38;5;241m=\u001b[39m \u001b[38;5;28;01mFalse\u001b[39;00m\n\u001b[1;32m    261\u001b[0m ) \u001b[38;5;241m-\u001b[39m\u001b[38;5;241m>\u001b[39m Union[TypeLeaf, List[TypeClassVal], List[TypeLeaf]]:\n\u001b[0;32m--> 262\u001b[0m     \u001b[38;5;28;01mif\u001b[39;00m \u001b[38;5;28;43misinstance\u001b[39;49m\u001b[43m(\u001b[49m\u001b[43mrow_or_matrix\u001b[49m\u001b[43m,\u001b[49m\u001b[43m \u001b[49m\u001b[43mdsRow\u001b[49m\u001b[43m)\u001b[49m:\n\u001b[1;32m    263\u001b[0m         \u001b[38;5;28;01mreturn\u001b[39;00m \u001b[38;5;28mself\u001b[39m\u001b[38;5;241m.\u001b[39museForest(row_or_matrix)\n\u001b[1;32m    264\u001b[0m     \u001b[38;5;28;01mif\u001b[39;00m \u001b[38;5;28misinstance\u001b[39m(row_or_matrix, pd\u001b[38;5;241m.\u001b[39mDataFrame):\n",
      "\u001b[0;31mTypeError\u001b[0m: isinstance() arg 2 must be a type, a tuple of types, or a union"
     ]
    }
   ],
   "source": [
    "cls.predict(dataset.sample(n=10))"
   ]
  },
  {
   "cell_type": "code",
   "execution_count": null,
   "metadata": {},
   "outputs": [],
   "source": []
  }
 ],
 "metadata": {
  "kernelspec": {
   "display_name": "Python 3 (ipykernel)",
   "language": "python",
   "name": "python3"
  },
  "language_info": {
   "codemirror_mode": {
    "name": "ipython",
    "version": 3
   },
   "file_extension": ".py",
   "mimetype": "text/x-python",
   "name": "python",
   "nbconvert_exporter": "python",
   "pygments_lexer": "ipython3",
   "version": "3.10.5"
  }
 },
 "nbformat": 4,
 "nbformat_minor": 4
}
