{
 "cells": [
  {
   "cell_type": "markdown",
   "metadata": {},
   "source": [
    "# Template \n",
    "\n",
    "- Author: Israel Oliveira [\\[e-mail\\]](mailto:'Israel%20Oliveira%20'<prof.israel@gmail.com>)"
   ]
  },
  {
   "cell_type": "code",
   "execution_count": 1,
   "metadata": {
    "collapsed": true,
    "execution": {
     "iopub.execute_input": "2021-09-13T00:14:44.474447Z",
     "iopub.status.busy": "2021-09-13T00:14:44.472991Z",
     "iopub.status.idle": "2021-09-13T00:14:47.910270Z",
     "shell.execute_reply": "2021-09-13T00:14:47.909299Z",
     "shell.execute_reply.started": "2021-09-13T00:14:44.474056Z"
    },
    "jupyter": {
     "outputs_hidden": true
    },
    "tags": []
   },
   "outputs": [
    {
     "name": "stdout",
     "output_type": "stream",
     "text": [
      "Collecting random-forest-mc\n",
      "  Downloading random_forest_mc-0.3.1-py3-none-any.whl (10 kB)\n",
      "Requirement already satisfied: numpy>=1.20 in /usr/local/lib/python3.9/site-packages (from random-forest-mc) (1.20.3)\n",
      "Requirement already satisfied: tqdm>=4.60 in /usr/local/lib/python3.9/site-packages (from random-forest-mc) (4.62.2)\n",
      "Requirement already satisfied: pandas>=1.3 in /usr/local/lib/python3.9/site-packages (from random-forest-mc) (1.3.2)\n",
      "Requirement already satisfied: pytz>=2017.3 in /usr/local/lib/python3.9/site-packages (from pandas>=1.3->random-forest-mc) (2021.1)\n",
      "Requirement already satisfied: python-dateutil>=2.7.3 in /usr/local/lib/python3.9/site-packages (from pandas>=1.3->random-forest-mc) (2.8.2)\n",
      "Requirement already satisfied: six>=1.5 in /usr/local/lib/python3.9/site-packages (from python-dateutil>=2.7.3->pandas>=1.3->random-forest-mc) (1.16.0)\n",
      "Installing collected packages: random-forest-mc\n",
      "Successfully installed random-forest-mc-0.3.1\n",
      "\u001b[33mWARNING: Running pip as the 'root' user can result in broken permissions and conflicting behaviour with the system package manager. It is recommended to use a virtual environment instead: https://pip.pypa.io/warnings/venv\u001b[0m\n"
     ]
    }
   ],
   "source": [
    "!pip3 install -U random-forest-mc"
   ]
  },
  {
   "cell_type": "code",
   "execution_count": 1,
   "metadata": {
    "execution": {
     "iopub.execute_input": "2021-09-13T16:19:29.315745Z",
     "iopub.status.busy": "2021-09-13T16:19:29.314924Z",
     "iopub.status.idle": "2021-09-13T16:19:29.338727Z",
     "shell.execute_reply": "2021-09-13T16:19:29.337974Z",
     "shell.execute_reply.started": "2021-09-13T16:19:29.315611Z"
    },
    "tags": []
   },
   "outputs": [],
   "source": [
    "%load_ext watermark"
   ]
  },
  {
   "cell_type": "code",
   "execution_count": 2,
   "metadata": {
    "execution": {
     "iopub.execute_input": "2021-09-13T16:19:29.459743Z",
     "iopub.status.busy": "2021-09-13T16:19:29.459044Z",
     "iopub.status.idle": "2021-09-13T16:19:29.914107Z",
     "shell.execute_reply": "2021-09-13T16:19:29.913575Z",
     "shell.execute_reply.started": "2021-09-13T16:19:29.459700Z"
    },
    "tags": []
   },
   "outputs": [],
   "source": [
    "from random_forest_mc.model import RandomForestMC\n",
    "from random_forest_mc.utils import load_file_json\n",
    "from collections import Counter, defaultdict\n",
    "import pandas as pd\n",
    "import numpy as np\n",
    "from itertools import combinations"
   ]
  },
  {
   "cell_type": "code",
   "execution_count": 3,
   "metadata": {
    "execution": {
     "iopub.execute_input": "2021-09-13T16:19:29.915540Z",
     "iopub.status.busy": "2021-09-13T16:19:29.915305Z",
     "iopub.status.idle": "2021-09-13T16:19:29.921695Z",
     "shell.execute_reply": "2021-09-13T16:19:29.920920Z",
     "shell.execute_reply.started": "2021-09-13T16:19:29.915511Z"
    },
    "tags": []
   },
   "outputs": [],
   "source": [
    "from tqdm import tqdm\n",
    "\n",
    "# from glob import glob\n",
    "\n",
    "# import matplotlib.pyplot as plt\n",
    "# %matplotlib inline\n",
    "# from matplotlib import rcParams\n",
    "# from cycler import cycler\n",
    "\n",
    "# rcParams['figure.figsize'] = 12, 8 # 18, 5\n",
    "# rcParams['axes.spines.top'] = False\n",
    "# rcParams['axes.spines.right'] = False\n",
    "# rcParams['axes.grid'] = True\n",
    "# rcParams['axes.prop_cycle'] = cycler(color=['#365977'])\n",
    "# rcParams['lines.linewidth'] = 2.5\n",
    "\n",
    "# import seaborn as sns\n",
    "# sns.set_theme()\n",
    "\n",
    "# pd.set_option(\"max_columns\", None)\n",
    "# pd.set_option(\"max_rows\", None)\n",
    "# pd.set_option('display.max_colwidth', None)\n",
    "\n",
    "# from IPython.display import Markdown, display\n",
    "# def md(arg):\n",
    "#     display(Markdown(arg))\n",
    "\n",
    "# from pandas_profiling import ProfileReport\n",
    "# #report = ProfileReport(#DataFrame here#, minimal=True)\n",
    "# #report.to\n",
    "\n",
    "# import pyarrow.parquet as pq\n",
    "# #df = pq.ParquetDataset(path_to_folder_with_parquets, filesystem=None).read_pandas().to_pandas()\n",
    "\n",
    "# import json\n",
    "# def open_file_json(path,mode='r',var=None):\n",
    "#     if mode == 'w':\n",
    "#         with open(path,'w') as f:\n",
    "#             json.dump(var, f)\n",
    "#     if mode == 'r':\n",
    "#         with open(path,'r') as f:\n",
    "#             return json.load(f)\n",
    "\n",
    "# import functools\n",
    "# import operator\n",
    "# def flat(a):\n",
    "#     return functools.reduce(operator.iconcat, a, [])\n",
    "\n",
    "# import json\n",
    "# from glob import glob\n",
    "# from typing import NewType\n",
    "\n",
    "\n",
    "# DictsPathType = NewType(\"DictsPath\", str)\n",
    "\n",
    "\n",
    "# def open_file_json(path):\n",
    "#     with open(path, \"r\") as f:\n",
    "#         return json.load(f)\n",
    "\n",
    "# class LoadDicts:\n",
    "#     def __init__(self, dict_path: DictsPathType = \"./data\"):\n",
    "#         Dicts_glob = glob(f\"{dict_path}/*.json\")\n",
    "#         self.List = []\n",
    "#         self.Dict = {}\n",
    "#         for path_json in Dicts_glob:\n",
    "#             name = path_json.split(\"/\")[-1].replace(\".json\", \"\")\n",
    "#             self.List.append(name)\n",
    "#             self.Dict[name] = open_file_json(path_json)\n",
    "#             setattr(self, name, self.Dict[name])\n"
   ]
  },
  {
   "cell_type": "code",
   "execution_count": 4,
   "metadata": {
    "execution": {
     "iopub.execute_input": "2021-09-13T16:19:30.236556Z",
     "iopub.status.busy": "2021-09-13T16:19:30.235284Z",
     "iopub.status.idle": "2021-09-13T16:19:31.570817Z",
     "shell.execute_reply": "2021-09-13T16:19:31.569216Z",
     "shell.execute_reply.started": "2021-09-13T16:19:30.236452Z"
    },
    "tags": []
   },
   "outputs": [
    {
     "name": "stdout",
     "output_type": "stream",
     "text": [
      "Python implementation: CPython\n",
      "Python version       : 3.9.7\n",
      "IPython version      : 7.27.0\n",
      "\n",
      "Compiler    : GCC 10.2.1 20210110\n",
      "OS          : Linux\n",
      "Release     : 5.11.0-7633-generic\n",
      "Machine     : x86_64\n",
      "Processor   : \n",
      "CPU cores   : 4\n",
      "Architecture: 64bit\n",
      "\n",
      "Git hash: 482a40170ab9399c8f77b7453c1a202b8ba9b674\n",
      "\n",
      "Git repo: https://github.com/ysraell/random-forest-mc.git\n",
      "\n",
      "Git branch: main\n",
      "\n",
      "pandas: 1.3.2\n",
      "numpy : 1.20.3\n",
      "\n",
      "CPU\t: Intel(R) Core(TM) i7-7500U CPU @ 2.70GHz\n",
      "Mem:            15G\n",
      "Swap:          4.0G\n"
     ]
    }
   ],
   "source": [
    "# Run this cell before close.\n",
    "%watermark -d --iversion -b -r -g -m -v\n",
    "!cat /proc/cpuinfo |grep 'model name'|head -n 1 |sed -e 's/model\\ name/CPU/'\n",
    "!free -h |cut -d'i' -f1  |grep -v total"
   ]
  },
  {
   "cell_type": "code",
   "execution_count": 5,
   "metadata": {
    "execution": {
     "iopub.execute_input": "2021-09-13T16:19:31.575844Z",
     "iopub.status.busy": "2021-09-13T16:19:31.574917Z",
     "iopub.status.idle": "2021-09-13T16:19:31.683631Z",
     "shell.execute_reply": "2021-09-13T16:19:31.681998Z",
     "shell.execute_reply.started": "2021-09-13T16:19:31.575765Z"
    },
    "tags": []
   },
   "outputs": [
    {
     "data": {
      "text/plain": [
       "dict_keys(['target_col', 'batch_train_pclass', 'batch_val_pclass', '_N', 'min_feature', 'max_feature', 'th_start', 'delta_th', 'max_discard_trees', 'n_trees', 'class_vals', 'Forest', 'survived_scores', 'version'])"
      ]
     },
     "execution_count": 5,
     "metadata": {},
     "output_type": "execute_result"
    }
   ],
   "source": [
    "modeldict = load_file_json('/work/data/cls_rfmc_v030.json')\n",
    "modeldict.keys()"
   ]
  },
  {
   "cell_type": "code",
   "execution_count": 6,
   "metadata": {
    "execution": {
     "iopub.execute_input": "2021-09-13T16:19:31.685072Z",
     "iopub.status.busy": "2021-09-13T16:19:31.684747Z",
     "iopub.status.idle": "2021-09-13T16:19:31.690597Z",
     "shell.execute_reply": "2021-09-13T16:19:31.689765Z",
     "shell.execute_reply.started": "2021-09-13T16:19:31.685040Z"
    },
    "tags": []
   },
   "outputs": [],
   "source": [
    "cls = RandomForestMC()\n",
    "for att in ['numeric_cols','feature_cols','type_of_cols','target_col','class_vals']:\n",
    "    modeldict[att] = None\n",
    "modeldict['version'] = '0.3.0'\n",
    "cls.dict2model(modeldict)"
   ]
  },
  {
   "cell_type": "code",
   "execution_count": 7,
   "metadata": {
    "execution": {
     "iopub.execute_input": "2021-09-13T16:19:33.891459Z",
     "iopub.status.busy": "2021-09-13T16:19:33.888723Z",
     "iopub.status.idle": "2021-09-13T16:19:33.902964Z",
     "shell.execute_reply": "2021-09-13T16:19:33.901799Z",
     "shell.execute_reply.started": "2021-09-13T16:19:33.891287Z"
    },
    "tags": []
   },
   "outputs": [
    {
     "data": {
      "text/plain": [
       "128"
      ]
     },
     "execution_count": 7,
     "metadata": {},
     "output_type": "execute_result"
    }
   ],
   "source": [
    "len(cls.Forest)"
   ]
  },
  {
   "cell_type": "code",
   "execution_count": 8,
   "metadata": {
    "execution": {
     "iopub.execute_input": "2021-09-13T16:19:34.531061Z",
     "iopub.status.busy": "2021-09-13T16:19:34.529888Z",
     "iopub.status.idle": "2021-09-13T16:19:34.550429Z",
     "shell.execute_reply": "2021-09-13T16:19:34.545506Z",
     "shell.execute_reply.started": "2021-09-13T16:19:34.530912Z"
    },
    "tags": []
   },
   "outputs": [],
   "source": [
    "cls.target_col = 'Class'"
   ]
  },
  {
   "cell_type": "code",
   "execution_count": 9,
   "metadata": {
    "execution": {
     "iopub.execute_input": "2021-09-13T16:19:35.004289Z",
     "iopub.status.busy": "2021-09-13T16:19:35.003134Z",
     "iopub.status.idle": "2021-09-13T16:19:36.402444Z",
     "shell.execute_reply": "2021-09-13T16:19:36.401926Z",
     "shell.execute_reply.started": "2021-09-13T16:19:35.004198Z"
    },
    "tags": []
   },
   "outputs": [],
   "source": [
    "df = pd.read_csv('/work/data/creditcard_trans_int.csv')\n",
    "target_col = 'Class'\n",
    "ds_cols = ['V1', 'V2', 'V3', 'V4', 'V5', 'V6', 'V7', 'V8', 'V9', 'V10', 'V11', 'V12', 'V13', 'V14', 'V15', 'V16', 'V17', 'V18', 'V19', 'V20', 'V21', 'V22', 'V23', 'V24', 'V25', 'V26', 'V27', 'V28', 'Amount']\n",
    "df = df[ds_cols+[target_col]].dropna()\n",
    "df_fraud = df.query('Class == 1').reset_index(drop=True).copy()\n",
    "df_truth = df.query('Class == 0').reset_index(drop=True).copy()\n",
    "df_train = pd.concat([df_fraud, df_truth.sample(n=500)]).reset_index(drop=True)\n",
    "cls.process_dataset(df_train)"
   ]
  },
  {
   "cell_type": "code",
   "execution_count": 10,
   "metadata": {
    "execution": {
     "iopub.execute_input": "2021-09-13T16:20:01.664554Z",
     "iopub.status.busy": "2021-09-13T16:20:01.653400Z",
     "iopub.status.idle": "2021-09-13T16:20:02.517617Z",
     "shell.execute_reply": "2021-09-13T16:20:02.516473Z",
     "shell.execute_reply.started": "2021-09-13T16:20:01.664459Z"
    },
    "tags": []
   },
   "outputs": [
    {
     "data": {
      "text/plain": [
       "{'V1': 0.3203125,\n",
       " 'V2': 0.3046875,\n",
       " 'V3': 0.3984375,\n",
       " 'V4': 0.75,\n",
       " 'V5': 0.34375,\n",
       " 'V6': 0.1953125,\n",
       " 'V7': 0.2890625,\n",
       " 'V8': 0.28125,\n",
       " 'V9': 0.2265625,\n",
       " 'V10': 0.3984375,\n",
       " 'V11': 0.34375,\n",
       " 'V12': 0.4296875,\n",
       " 'V13': 0.1796875,\n",
       " 'V14': 0.8046875,\n",
       " 'V15': 0.2578125,\n",
       " 'V16': 0.4375,\n",
       " 'V17': 0.375,\n",
       " 'V18': 0.28125,\n",
       " 'V19': 0.2890625,\n",
       " 'V20': 0.203125,\n",
       " 'V21': 0.2578125,\n",
       " 'V22': 0.203125,\n",
       " 'V23': 0.2265625,\n",
       " 'V24': 0.234375,\n",
       " 'V25': 0.125,\n",
       " 'V26': 0.1640625,\n",
       " 'V27': 0.1484375,\n",
       " 'V28': 0.2265625,\n",
       " 'Amount': 0.328125}"
      ]
     },
     "execution_count": 10,
     "metadata": {},
     "output_type": "execute_result"
    }
   ],
   "source": [
    "cls.featForestCount()"
   ]
  },
  {
   "cell_type": "code",
   "execution_count": 11,
   "metadata": {
    "collapsed": true,
    "execution": {
     "iopub.execute_input": "2021-09-13T16:20:19.907202Z",
     "iopub.status.busy": "2021-09-13T16:20:19.903749Z",
     "iopub.status.idle": "2021-09-13T16:20:20.759579Z",
     "shell.execute_reply": "2021-09-13T16:20:20.758935Z",
     "shell.execute_reply.started": "2021-09-13T16:20:19.907027Z"
    },
    "jupyter": {
     "outputs_hidden": true
    },
    "tags": []
   },
   "outputs": [
    {
     "data": {
      "text/plain": [
       "{'V1': 0.9206481790845308,\n",
       " 'V2': 0.9193010186160874,\n",
       " 'V3': 0.9219715283373626,\n",
       " 'V4': 0.9220890410958905,\n",
       " 'V5': 0.9220890410958907,\n",
       " 'V6': 0.9205479452054794,\n",
       " 'V7': 0.9207700851536469,\n",
       " 'V8': 0.9237062404870624,\n",
       " 'V9': 0.919933868682097,\n",
       " 'V10': 0.9206956755304861,\n",
       " 'V11': 0.9220890410958907,\n",
       " 'V12': 0.9203611457036116,\n",
       " 'V13': 0.9209350804050026,\n",
       " 'V14': 0.9211663785077804,\n",
       " 'V15': 0.9197799916977998,\n",
       " 'V16': 0.922272504892368,\n",
       " 'V17': 0.9202340182648401,\n",
       " 'V18': 0.9207572298325724,\n",
       " 'V19': 0.9217882265827473,\n",
       " 'V20': 0.9234720758693361,\n",
       " 'V21': 0.9232046492320464,\n",
       " 'V22': 0.9237355110642783,\n",
       " 'V23': 0.9188710439300894,\n",
       " 'V24': 0.9187214611872143,\n",
       " 'V25': 0.9214469178082192,\n",
       " 'V26': 0.9192759295499021,\n",
       " 'V27': 0.9197909156452774,\n",
       " 'V28': 0.9222957014643363,\n",
       " 'Amount': 0.9208251793868234}"
      ]
     },
     "execution_count": 11,
     "metadata": {},
     "output_type": "execute_result"
    }
   ],
   "source": [
    "cls.featScoreMean()"
   ]
  },
  {
   "cell_type": "code",
   "execution_count": 12,
   "metadata": {
    "collapsed": true,
    "execution": {
     "iopub.execute_input": "2021-09-13T16:20:35.879044Z",
     "iopub.status.busy": "2021-09-13T16:20:35.876895Z",
     "iopub.status.idle": "2021-09-13T16:20:50.766845Z",
     "shell.execute_reply": "2021-09-13T16:20:50.766294Z",
     "shell.execute_reply.started": "2021-09-13T16:20:35.878932Z"
    },
    "jupyter": {
     "outputs_hidden": true
    },
    "tags": []
   },
   "outputs": [
    {
     "name": "stderr",
     "output_type": "stream",
     "text": [
      "100%|██████████| 128/128 [00:14<00:00,  8.62it/s]\n"
     ]
    },
    {
     "data": {
      "text/plain": [
       "{('V1', 'V2'): 13,\n",
       " ('V1', 'V3'): 18,\n",
       " ('V1', 'V4'): 32,\n",
       " ('V1', 'V5'): 10,\n",
       " ('V1', 'V6'): 8,\n",
       " ('V1', 'V7'): 12,\n",
       " ('V1', 'V8'): 9,\n",
       " ('V1', 'V9'): 8,\n",
       " ('V1', 'V10'): 13,\n",
       " ('V1', 'V11'): 17,\n",
       " ('V1', 'V12'): 15,\n",
       " ('V1', 'V13'): 7,\n",
       " ('V1', 'V14'): 31,\n",
       " ('V1', 'V15'): 4,\n",
       " ('V1', 'V16'): 18,\n",
       " ('V1', 'V17'): 12,\n",
       " ('V1', 'V18'): 9,\n",
       " ('V1', 'V19'): 11,\n",
       " ('V1', 'V20'): 12,\n",
       " ('V1', 'V21'): 8,\n",
       " ('V1', 'V22'): 7,\n",
       " ('V1', 'V23'): 8,\n",
       " ('V1', 'V24'): 10,\n",
       " ('V1', 'V25'): 2,\n",
       " ('V1', 'V26'): 6,\n",
       " ('V1', 'V27'): 5,\n",
       " ('V1', 'V28'): 10,\n",
       " ('V1', 'Amount'): 14,\n",
       " ('V2', 'V3'): 14,\n",
       " ('V2', 'V4'): 29,\n",
       " ('V2', 'V5'): 13,\n",
       " ('V2', 'V6'): 8,\n",
       " ('V2', 'V7'): 11,\n",
       " ('V2', 'V8'): 14,\n",
       " ('V2', 'V9'): 6,\n",
       " ('V2', 'V10'): 17,\n",
       " ('V2', 'V11'): 10,\n",
       " ('V2', 'V12'): 14,\n",
       " ('V2', 'V13'): 7,\n",
       " ('V2', 'V14'): 32,\n",
       " ('V2', 'V15'): 8,\n",
       " ('V2', 'V16'): 12,\n",
       " ('V2', 'V17'): 12,\n",
       " ('V2', 'V18'): 10,\n",
       " ('V2', 'V19'): 11,\n",
       " ('V2', 'V20'): 7,\n",
       " ('V2', 'V21'): 7,\n",
       " ('V2', 'V22'): 6,\n",
       " ('V2', 'V23'): 9,\n",
       " ('V2', 'V24'): 9,\n",
       " ('V2', 'V25'): 6,\n",
       " ('V2', 'V26'): 3,\n",
       " ('V2', 'V27'): 5,\n",
       " ('V2', 'V28'): 8,\n",
       " ('V2', 'Amount'): 12,\n",
       " ('V3', 'V4'): 41,\n",
       " ('V3', 'V5'): 17,\n",
       " ('V3', 'V6'): 5,\n",
       " ('V3', 'V7'): 13,\n",
       " ('V3', 'V8'): 13,\n",
       " ('V3', 'V9'): 13,\n",
       " ('V3', 'V10'): 18,\n",
       " ('V3', 'V11'): 14,\n",
       " ('V3', 'V12'): 20,\n",
       " ('V3', 'V13'): 11,\n",
       " ('V3', 'V14'): 37,\n",
       " ('V3', 'V15'): 10,\n",
       " ('V3', 'V16'): 23,\n",
       " ('V3', 'V17'): 18,\n",
       " ('V3', 'V18'): 12,\n",
       " ('V3', 'V19'): 17,\n",
       " ('V3', 'V20'): 14,\n",
       " ('V3', 'V21'): 10,\n",
       " ('V3', 'V22'): 7,\n",
       " ('V3', 'V23'): 13,\n",
       " ('V3', 'V24'): 8,\n",
       " ('V3', 'V25'): 4,\n",
       " ('V3', 'V26'): 7,\n",
       " ('V3', 'V27'): 6,\n",
       " ('V3', 'V28'): 11,\n",
       " ('V3', 'Amount'): 15,\n",
       " ('V4', 'V5'): 35,\n",
       " ('V4', 'V6'): 15,\n",
       " ('V4', 'V7'): 25,\n",
       " ('V4', 'V8'): 27,\n",
       " ('V4', 'V9'): 20,\n",
       " ('V4', 'V10'): 35,\n",
       " ('V4', 'V11'): 33,\n",
       " ('V4', 'V12'): 40,\n",
       " ('V4', 'V13'): 18,\n",
       " ('V4', 'V14'): 73,\n",
       " ('V4', 'V15'): 25,\n",
       " ('V4', 'V16'): 46,\n",
       " ('V4', 'V17'): 31,\n",
       " ('V4', 'V18'): 25,\n",
       " ('V4', 'V19'): 29,\n",
       " ('V4', 'V20'): 19,\n",
       " ('V4', 'V21'): 24,\n",
       " ('V4', 'V22'): 20,\n",
       " ('V4', 'V23'): 19,\n",
       " ('V4', 'V24'): 24,\n",
       " ('V4', 'V25'): 11,\n",
       " ('V4', 'V26'): 16,\n",
       " ('V4', 'V27'): 12,\n",
       " ('V4', 'V28'): 22,\n",
       " ('V4', 'Amount'): 24,\n",
       " ('V5', 'V6'): 9,\n",
       " ('V5', 'V7'): 10,\n",
       " ('V5', 'V8'): 12,\n",
       " ('V5', 'V9'): 3,\n",
       " ('V5', 'V10'): 15,\n",
       " ('V5', 'V11'): 14,\n",
       " ('V5', 'V12'): 15,\n",
       " ('V5', 'V13'): 6,\n",
       " ('V5', 'V14'): 34,\n",
       " ('V5', 'V15'): 10,\n",
       " ('V5', 'V16'): 20,\n",
       " ('V5', 'V17'): 13,\n",
       " ('V5', 'V18'): 13,\n",
       " ('V5', 'V19'): 14,\n",
       " ('V5', 'V20'): 9,\n",
       " ('V5', 'V21'): 9,\n",
       " ('V5', 'V22'): 10,\n",
       " ('V5', 'V23'): 9,\n",
       " ('V5', 'V24'): 9,\n",
       " ('V5', 'V25'): 9,\n",
       " ('V5', 'V26'): 4,\n",
       " ('V5', 'V27'): 6,\n",
       " ('V5', 'V28'): 11,\n",
       " ('V5', 'Amount'): 14,\n",
       " ('V6', 'V7'): 10,\n",
       " ('V6', 'V8'): 4,\n",
       " ('V6', 'V9'): 3,\n",
       " ('V6', 'V10'): 8,\n",
       " ('V6', 'V11'): 4,\n",
       " ('V6', 'V12'): 13,\n",
       " ('V6', 'V13'): 3,\n",
       " ('V6', 'V14'): 23,\n",
       " ('V6', 'V15'): 8,\n",
       " ('V6', 'V16'): 10,\n",
       " ('V6', 'V17'): 9,\n",
       " ('V6', 'V18'): 6,\n",
       " ('V6', 'V19'): 7,\n",
       " ('V6', 'V20'): 4,\n",
       " ('V6', 'V21'): 6,\n",
       " ('V6', 'V22'): 6,\n",
       " ('V6', 'V23'): 6,\n",
       " ('V6', 'V24'): 5,\n",
       " ('V6', 'V25'): 3,\n",
       " ('V6', 'V26'): 1,\n",
       " ('V6', 'V27'): 4,\n",
       " ('V6', 'V28'): 5,\n",
       " ('V6', 'Amount'): 7,\n",
       " ('V7', 'V8'): 6,\n",
       " ('V7', 'V9'): 7,\n",
       " ('V7', 'V10'): 13,\n",
       " ('V7', 'V11'): 10,\n",
       " ('V7', 'V12'): 17,\n",
       " ('V7', 'V13'): 6,\n",
       " ('V7', 'V14'): 28,\n",
       " ('V7', 'V15'): 11,\n",
       " ('V7', 'V16'): 15,\n",
       " ('V7', 'V17'): 14,\n",
       " ('V7', 'V18'): 6,\n",
       " ('V7', 'V19'): 13,\n",
       " ('V7', 'V20'): 6,\n",
       " ('V7', 'V21'): 9,\n",
       " ('V7', 'V22'): 12,\n",
       " ('V7', 'V23'): 8,\n",
       " ('V7', 'V24'): 8,\n",
       " ('V7', 'V25'): 5,\n",
       " ('V7', 'V26'): 3,\n",
       " ('V7', 'V27'): 4,\n",
       " ('V7', 'V28'): 5,\n",
       " ('V7', 'Amount'): 9,\n",
       " ('V8', 'V9'): 10,\n",
       " ('V8', 'V10'): 18,\n",
       " ('V8', 'V11'): 16,\n",
       " ('V8', 'V12'): 14,\n",
       " ('V8', 'V13'): 6,\n",
       " ('V8', 'V14'): 28,\n",
       " ('V8', 'V15'): 11,\n",
       " ('V8', 'V16'): 11,\n",
       " ('V8', 'V17'): 10,\n",
       " ('V8', 'V18'): 5,\n",
       " ('V8', 'V19'): 8,\n",
       " ('V8', 'V20'): 7,\n",
       " ('V8', 'V21'): 7,\n",
       " ('V8', 'V22'): 4,\n",
       " ('V8', 'V23'): 8,\n",
       " ('V8', 'V24'): 8,\n",
       " ('V8', 'V25'): 5,\n",
       " ('V8', 'V26'): 5,\n",
       " ('V8', 'V27'): 4,\n",
       " ('V8', 'V28'): 11,\n",
       " ('V8', 'Amount'): 7,\n",
       " ('V9', 'V10'): 11,\n",
       " ('V9', 'V11'): 9,\n",
       " ('V9', 'V12'): 15,\n",
       " ('V9', 'V13'): 5,\n",
       " ('V9', 'V14'): 23,\n",
       " ('V9', 'V15'): 5,\n",
       " ('V9', 'V16'): 16,\n",
       " ('V9', 'V17'): 14,\n",
       " ('V9', 'V18'): 6,\n",
       " ('V9', 'V19'): 9,\n",
       " ('V9', 'V20'): 4,\n",
       " ('V9', 'V21'): 8,\n",
       " ('V9', 'V22'): 3,\n",
       " ('V9', 'V23'): 4,\n",
       " ('V9', 'V24'): 7,\n",
       " ('V9', 'V25'): 5,\n",
       " ('V9', 'V26'): 3,\n",
       " ('V9', 'V27'): 2,\n",
       " ('V9', 'V28'): 4,\n",
       " ('V9', 'Amount'): 10,\n",
       " ('V10', 'V11'): 19,\n",
       " ('V10', 'V12'): 16,\n",
       " ('V10', 'V13'): 9,\n",
       " ('V10', 'V14'): 41,\n",
       " ('V10', 'V15'): 15,\n",
       " ('V10', 'V16'): 18,\n",
       " ('V10', 'V17'): 14,\n",
       " ('V10', 'V18'): 14,\n",
       " ('V10', 'V19'): 15,\n",
       " ('V10', 'V20'): 11,\n",
       " ('V10', 'V21'): 11,\n",
       " ('V10', 'V22'): 5,\n",
       " ('V10', 'V23'): 12,\n",
       " ('V10', 'V24'): 8,\n",
       " ('V10', 'V25'): 8,\n",
       " ('V10', 'V26'): 9,\n",
       " ('V10', 'V27'): 9,\n",
       " ('V10', 'V28'): 12,\n",
       " ('V10', 'Amount'): 15,\n",
       " ('V11', 'V12'): 22,\n",
       " ('V11', 'V13'): 11,\n",
       " ('V11', 'V14'): 32,\n",
       " ('V11', 'V15'): 10,\n",
       " ('V11', 'V16'): 13,\n",
       " ('V11', 'V17'): 12,\n",
       " ('V11', 'V18'): 10,\n",
       " ('V11', 'V19'): 9,\n",
       " ('V11', 'V20'): 8,\n",
       " ('V11', 'V21'): 14,\n",
       " ('V11', 'V22'): 8,\n",
       " ('V11', 'V23'): 8,\n",
       " ('V11', 'V24'): 9,\n",
       " ('V11', 'V25'): 3,\n",
       " ('V11', 'V26'): 7,\n",
       " ('V11', 'V27'): 7,\n",
       " ('V11', 'V28'): 10,\n",
       " ('V11', 'Amount'): 14,\n",
       " ('V12', 'V13'): 8,\n",
       " ('V12', 'V14'): 39,\n",
       " ('V12', 'V15'): 10,\n",
       " ('V12', 'V16'): 24,\n",
       " ('V12', 'V17'): 24,\n",
       " ('V12', 'V18'): 13,\n",
       " ('V12', 'V19'): 11,\n",
       " ('V12', 'V20'): 8,\n",
       " ('V12', 'V21'): 12,\n",
       " ('V12', 'V22'): 14,\n",
       " ('V12', 'V23'): 13,\n",
       " ('V12', 'V24'): 15,\n",
       " ('V12', 'V25'): 5,\n",
       " ('V12', 'V26'): 6,\n",
       " ('V12', 'V27'): 6,\n",
       " ('V12', 'V28'): 12,\n",
       " ('V12', 'Amount'): 21,\n",
       " ('V13', 'V14'): 19,\n",
       " ('V13', 'V15'): 6,\n",
       " ('V13', 'V16'): 7,\n",
       " ('V13', 'V17'): 7,\n",
       " ('V13', 'V18'): 6,\n",
       " ('V13', 'V19'): 4,\n",
       " ('V13', 'V20'): 6,\n",
       " ('V13', 'V21'): 7,\n",
       " ('V13', 'V22'): 1,\n",
       " ('V13', 'V23'): 4,\n",
       " ('V13', 'V24'): 3,\n",
       " ('V13', 'V25'): 3,\n",
       " ('V13', 'V26'): 2,\n",
       " ('V13', 'V27'): 4,\n",
       " ('V13', 'V28'): 3,\n",
       " ('V13', 'Amount'): 6,\n",
       " ('V14', 'V15'): 32,\n",
       " ('V14', 'V16'): 41,\n",
       " ('V14', 'V17'): 36,\n",
       " ('V14', 'V18'): 28,\n",
       " ('V14', 'V19'): 27,\n",
       " ('V14', 'V20'): 22,\n",
       " ('V14', 'V21'): 28,\n",
       " ('V14', 'V22'): 21,\n",
       " ('V14', 'V23'): 23,\n",
       " ('V14', 'V24'): 25,\n",
       " ('V14', 'V25'): 14,\n",
       " ('V14', 'V26'): 18,\n",
       " ('V14', 'V27'): 18,\n",
       " ('V14', 'V28'): 23,\n",
       " ('V14', 'Amount'): 31,\n",
       " ('V15', 'V16'): 12,\n",
       " ('V15', 'V17'): 9,\n",
       " ('V15', 'V18'): 11,\n",
       " ('V15', 'V19'): 9,\n",
       " ('V15', 'V20'): 3,\n",
       " ('V15', 'V21'): 7,\n",
       " ('V15', 'V22'): 2,\n",
       " ('V15', 'V23'): 9,\n",
       " ('V15', 'V24'): 11,\n",
       " ('V15', 'V25'): 3,\n",
       " ('V15', 'V26'): 9,\n",
       " ('V15', 'V27'): 5,\n",
       " ('V15', 'V28'): 6,\n",
       " ('V15', 'Amount'): 5,\n",
       " ('V16', 'V17'): 20,\n",
       " ('V16', 'V18'): 17,\n",
       " ('V16', 'V19'): 16,\n",
       " ('V16', 'V20'): 11,\n",
       " ('V16', 'V21'): 16,\n",
       " ('V16', 'V22'): 8,\n",
       " ('V16', 'V23'): 7,\n",
       " ('V16', 'V24'): 12,\n",
       " ('V16', 'V25'): 5,\n",
       " ('V16', 'V26'): 9,\n",
       " ('V16', 'V27'): 5,\n",
       " ('V16', 'V28'): 17,\n",
       " ('V16', 'Amount'): 21,\n",
       " ('V17', 'V18'): 17,\n",
       " ('V17', 'V19'): 12,\n",
       " ('V17', 'V20'): 9,\n",
       " ('V17', 'V21'): 13,\n",
       " ('V17', 'V22'): 11,\n",
       " ('V17', 'V23'): 10,\n",
       " ('V17', 'V24'): 10,\n",
       " ('V17', 'V25'): 3,\n",
       " ('V17', 'V26'): 9,\n",
       " ('V17', 'V27'): 10,\n",
       " ('V17', 'V28'): 8,\n",
       " ('V17', 'Amount'): 18,\n",
       " ('V18', 'V19'): 5,\n",
       " ('V18', 'V20'): 7,\n",
       " ('V18', 'V21'): 10,\n",
       " ('V18', 'V22'): 6,\n",
       " ('V18', 'V23'): 5,\n",
       " ('V18', 'V24'): 5,\n",
       " ('V18', 'V25'): 3,\n",
       " ('V18', 'V26'): 8,\n",
       " ('V18', 'V27'): 8,\n",
       " ('V18', 'V28'): 8,\n",
       " ('V18', 'Amount'): 15,\n",
       " ('V19', 'V20'): 4,\n",
       " ('V19', 'V21'): 5,\n",
       " ('V19', 'V22'): 10,\n",
       " ('V19', 'V23'): 8,\n",
       " ('V19', 'V24'): 8,\n",
       " ('V19', 'V25'): 6,\n",
       " ('V19', 'V26'): 5,\n",
       " ('V19', 'V27'): 5,\n",
       " ('V19', 'V28'): 7,\n",
       " ('V19', 'Amount'): 12,\n",
       " ('V20', 'V21'): 5,\n",
       " ('V20', 'V22'): 4,\n",
       " ('V20', 'V23'): 5,\n",
       " ('V20', 'V24'): 6,\n",
       " ('V20', 'V25'): 1,\n",
       " ('V20', 'V26'): 2,\n",
       " ('V20', 'V27'): 3,\n",
       " ('V20', 'V28'): 5,\n",
       " ('V20', 'Amount'): 7,\n",
       " ('V21', 'V22'): 6,\n",
       " ('V21', 'V23'): 4,\n",
       " ('V21', 'V24'): 5,\n",
       " ('V21', 'V25'): 4,\n",
       " ('V21', 'V26'): 7,\n",
       " ('V21', 'V27'): 5,\n",
       " ('V21', 'V28'): 5,\n",
       " ('V21', 'Amount'): 13,\n",
       " ('V22', 'V23'): 10,\n",
       " ('V22', 'V24'): 9,\n",
       " ('V22', 'V25'): 3,\n",
       " ('V22', 'V26'): 3,\n",
       " ('V22', 'V27'): 3,\n",
       " ('V22', 'V28'): 4,\n",
       " ('V22', 'Amount'): 5,\n",
       " ('V23', 'V24'): 7,\n",
       " ('V23', 'V25'): 3,\n",
       " ('V23', 'V26'): 7,\n",
       " ('V23', 'V27'): 1,\n",
       " ('V23', 'V28'): 5,\n",
       " ('V23', 'Amount'): 8,\n",
       " ('V24', 'V25'): 3,\n",
       " ('V24', 'V26'): 2,\n",
       " ('V24', 'V27'): 2,\n",
       " ('V24', 'V28'): 5,\n",
       " ('V24', 'Amount'): 9,\n",
       " ('V25', 'V26'): 1,\n",
       " ('V25', 'V27'): 3,\n",
       " ('V25', 'V28'): 1,\n",
       " ('V25', 'Amount'): 6,\n",
       " ('V26', 'V27'): 3,\n",
       " ('V26', 'V28'): 6,\n",
       " ('V26', 'Amount'): 7,\n",
       " ('V27', 'V28'): 1,\n",
       " ('V27', 'Amount'): 6,\n",
       " ('V28', 'Amount'): 8}"
      ]
     },
     "execution_count": 12,
     "metadata": {},
     "output_type": "execute_result"
    }
   ],
   "source": [
    "cls.featPairCount()"
   ]
  },
  {
   "cell_type": "code",
   "execution_count": 14,
   "metadata": {
    "collapsed": true,
    "execution": {
     "iopub.execute_input": "2021-09-13T16:29:00.580420Z",
     "iopub.status.busy": "2021-09-13T16:29:00.580105Z",
     "iopub.status.idle": "2021-09-13T16:29:15.836065Z",
     "shell.execute_reply": "2021-09-13T16:29:15.834398Z",
     "shell.execute_reply.started": "2021-09-13T16:29:00.580388Z"
    },
    "jupyter": {
     "outputs_hidden": true
    },
    "tags": []
   },
   "outputs": [
    {
     "name": "stderr",
     "output_type": "stream",
     "text": [
      "100%|██████████| 128/128 [00:14<00:00,  8.89it/s]"
     ]
    },
    {
     "name": "stdout",
     "output_type": "stream",
     "text": [
      "               V1         V2         V3     V4        V5         V6  \\\n",
      "V1       0.320312  13.000000  18.000000  32.00  10.00000   8.000000   \n",
      "V2      13.000000   0.304688  14.000000  29.00  13.00000   8.000000   \n",
      "V3      18.000000  14.000000   0.398438  41.00  17.00000   5.000000   \n",
      "V4      32.000000  29.000000  41.000000   0.75  35.00000  15.000000   \n",
      "V5      10.000000  13.000000  17.000000  35.00   0.34375   9.000000   \n",
      "V6       8.000000   8.000000   5.000000  15.00   9.00000   0.195312   \n",
      "V7      12.000000  11.000000  13.000000  25.00  10.00000  10.000000   \n",
      "V8       9.000000  14.000000  13.000000  27.00  12.00000   4.000000   \n",
      "V9       8.000000   6.000000  13.000000  20.00   3.00000   3.000000   \n",
      "V10     13.000000  17.000000  18.000000  35.00  15.00000   8.000000   \n",
      "V11     17.000000  10.000000  14.000000  33.00  14.00000   4.000000   \n",
      "V12     15.000000  14.000000  20.000000  40.00  15.00000  13.000000   \n",
      "V13      7.000000   7.000000  11.000000  18.00   6.00000   3.000000   \n",
      "V14     31.000000  32.000000  37.000000  73.00  34.00000  23.000000   \n",
      "V15      4.000000   8.000000  10.000000  25.00  10.00000   8.000000   \n",
      "V16     18.000000  12.000000  23.000000  46.00  20.00000  10.000000   \n",
      "V17     12.000000  12.000000  18.000000  31.00  13.00000   9.000000   \n",
      "V18      9.000000  10.000000  12.000000  25.00  13.00000   6.000000   \n",
      "V19     11.000000  11.000000  17.000000  29.00  14.00000   7.000000   \n",
      "V20     12.000000   7.000000  14.000000  19.00   9.00000   4.000000   \n",
      "V21      8.000000   7.000000  10.000000  24.00   9.00000   6.000000   \n",
      "V22      7.000000   6.000000   7.000000  20.00  10.00000   6.000000   \n",
      "V23      8.000000   9.000000  13.000000  19.00   9.00000   6.000000   \n",
      "V24     10.000000   9.000000   8.000000  24.00   9.00000   5.000000   \n",
      "V25      2.000000   6.000000   4.000000  11.00   9.00000   3.000000   \n",
      "V26      6.000000   3.000000   7.000000  16.00   4.00000   1.000000   \n",
      "V27      5.000000   5.000000   6.000000  12.00   6.00000   4.000000   \n",
      "V28     10.000000   8.000000  11.000000  22.00  11.00000   5.000000   \n",
      "Amount  14.000000  12.000000  15.000000  24.00  14.00000   7.000000   \n",
      "\n",
      "               V7        V8         V9        V10  ...        V20        V21  \\\n",
      "V1      12.000000   9.00000   8.000000  13.000000  ...  12.000000   8.000000   \n",
      "V2      11.000000  14.00000   6.000000  17.000000  ...   7.000000   7.000000   \n",
      "V3      13.000000  13.00000  13.000000  18.000000  ...  14.000000  10.000000   \n",
      "V4      25.000000  27.00000  20.000000  35.000000  ...  19.000000  24.000000   \n",
      "V5      10.000000  12.00000   3.000000  15.000000  ...   9.000000   9.000000   \n",
      "V6      10.000000   4.00000   3.000000   8.000000  ...   4.000000   6.000000   \n",
      "V7       0.289062   6.00000   7.000000  13.000000  ...   6.000000   9.000000   \n",
      "V8       6.000000   0.28125  10.000000  18.000000  ...   7.000000   7.000000   \n",
      "V9       7.000000  10.00000   0.226562  11.000000  ...   4.000000   8.000000   \n",
      "V10     13.000000  18.00000  11.000000   0.398438  ...  11.000000  11.000000   \n",
      "V11     10.000000  16.00000   9.000000  19.000000  ...   8.000000  14.000000   \n",
      "V12     17.000000  14.00000  15.000000  16.000000  ...   8.000000  12.000000   \n",
      "V13      6.000000   6.00000   5.000000   9.000000  ...   6.000000   7.000000   \n",
      "V14     28.000000  28.00000  23.000000  41.000000  ...  22.000000  28.000000   \n",
      "V15     11.000000  11.00000   5.000000  15.000000  ...   3.000000   7.000000   \n",
      "V16     15.000000  11.00000  16.000000  18.000000  ...  11.000000  16.000000   \n",
      "V17     14.000000  10.00000  14.000000  14.000000  ...   9.000000  13.000000   \n",
      "V18      6.000000   5.00000   6.000000  14.000000  ...   7.000000  10.000000   \n",
      "V19     13.000000   8.00000   9.000000  15.000000  ...   4.000000   5.000000   \n",
      "V20      6.000000   7.00000   4.000000  11.000000  ...   0.203125   5.000000   \n",
      "V21      9.000000   7.00000   8.000000  11.000000  ...   5.000000   0.257812   \n",
      "V22     12.000000   4.00000   3.000000   5.000000  ...   4.000000   6.000000   \n",
      "V23      8.000000   8.00000   4.000000  12.000000  ...   5.000000   4.000000   \n",
      "V24      8.000000   8.00000   7.000000   8.000000  ...   6.000000   5.000000   \n",
      "V25      5.000000   5.00000   5.000000   8.000000  ...   1.000000   4.000000   \n",
      "V26      3.000000   5.00000   3.000000   9.000000  ...   2.000000   7.000000   \n",
      "V27      4.000000   4.00000   2.000000   9.000000  ...   3.000000   5.000000   \n",
      "V28      5.000000  11.00000   4.000000  12.000000  ...   5.000000   5.000000   \n",
      "Amount   9.000000   7.00000  10.000000  15.000000  ...   7.000000  13.000000   \n",
      "\n",
      "              V22        V23        V24     V25        V26        V27  \\\n",
      "V1       7.000000   8.000000  10.000000   2.000   6.000000   5.000000   \n",
      "V2       6.000000   9.000000   9.000000   6.000   3.000000   5.000000   \n",
      "V3       7.000000  13.000000   8.000000   4.000   7.000000   6.000000   \n",
      "V4      20.000000  19.000000  24.000000  11.000  16.000000  12.000000   \n",
      "V5      10.000000   9.000000   9.000000   9.000   4.000000   6.000000   \n",
      "V6       6.000000   6.000000   5.000000   3.000   1.000000   4.000000   \n",
      "V7      12.000000   8.000000   8.000000   5.000   3.000000   4.000000   \n",
      "V8       4.000000   8.000000   8.000000   5.000   5.000000   4.000000   \n",
      "V9       3.000000   4.000000   7.000000   5.000   3.000000   2.000000   \n",
      "V10      5.000000  12.000000   8.000000   8.000   9.000000   9.000000   \n",
      "V11      8.000000   8.000000   9.000000   3.000   7.000000   7.000000   \n",
      "V12     14.000000  13.000000  15.000000   5.000   6.000000   6.000000   \n",
      "V13      1.000000   4.000000   3.000000   3.000   2.000000   4.000000   \n",
      "V14     21.000000  23.000000  25.000000  14.000  18.000000  18.000000   \n",
      "V15      2.000000   9.000000  11.000000   3.000   9.000000   5.000000   \n",
      "V16      8.000000   7.000000  12.000000   5.000   9.000000   5.000000   \n",
      "V17     11.000000  10.000000  10.000000   3.000   9.000000  10.000000   \n",
      "V18      6.000000   5.000000   5.000000   3.000   8.000000   8.000000   \n",
      "V19     10.000000   8.000000   8.000000   6.000   5.000000   5.000000   \n",
      "V20      4.000000   5.000000   6.000000   1.000   2.000000   3.000000   \n",
      "V21      6.000000   4.000000   5.000000   4.000   7.000000   5.000000   \n",
      "V22      0.203125  10.000000   9.000000   3.000   3.000000   3.000000   \n",
      "V23     10.000000   0.226562   7.000000   3.000   7.000000   1.000000   \n",
      "V24      9.000000   7.000000   0.234375   3.000   2.000000   2.000000   \n",
      "V25      3.000000   3.000000   3.000000   0.125   1.000000   3.000000   \n",
      "V26      3.000000   7.000000   2.000000   1.000   0.164062   3.000000   \n",
      "V27      3.000000   1.000000   2.000000   3.000   3.000000   0.148438   \n",
      "V28      4.000000   5.000000   5.000000   1.000   6.000000   1.000000   \n",
      "Amount   5.000000   8.000000   9.000000   6.000   7.000000   6.000000   \n",
      "\n",
      "              V28     Amount  \n",
      "V1      10.000000  14.000000  \n",
      "V2       8.000000  12.000000  \n",
      "V3      11.000000  15.000000  \n",
      "V4      22.000000  24.000000  \n",
      "V5      11.000000  14.000000  \n",
      "V6       5.000000   7.000000  \n",
      "V7       5.000000   9.000000  \n",
      "V8      11.000000   7.000000  \n",
      "V9       4.000000  10.000000  \n",
      "V10     12.000000  15.000000  \n",
      "V11     10.000000  14.000000  \n",
      "V12     12.000000  21.000000  \n",
      "V13      3.000000   6.000000  \n",
      "V14     23.000000  31.000000  \n",
      "V15      6.000000   5.000000  \n",
      "V16     17.000000  21.000000  \n",
      "V17      8.000000  18.000000  \n",
      "V18      8.000000  15.000000  \n",
      "V19      7.000000  12.000000  \n",
      "V20      5.000000   7.000000  \n",
      "V21      5.000000  13.000000  \n",
      "V22      4.000000   5.000000  \n",
      "V23      5.000000   8.000000  \n",
      "V24      5.000000   9.000000  \n",
      "V25      1.000000   6.000000  \n",
      "V26      6.000000   7.000000  \n",
      "V27      1.000000   6.000000  \n",
      "V28      0.226562   8.000000  \n",
      "Amount   8.000000   0.328125  \n",
      "\n",
      "[29 rows x 29 columns]\n"
     ]
    },
    {
     "name": "stderr",
     "output_type": "stream",
     "text": [
      "\n"
     ]
    }
   ],
   "source": [
    "print(cls.featCorrDataFrame())"
   ]
  },
  {
   "cell_type": "markdown",
   "metadata": {
    "tags": []
   },
   "source": [
    "# Draft"
   ]
  },
  {
   "cell_type": "code",
   "execution_count": 11,
   "metadata": {
    "execution": {
     "iopub.execute_input": "2021-09-13T14:55:18.618639Z",
     "iopub.status.busy": "2021-09-13T14:55:18.617476Z",
     "iopub.status.idle": "2021-09-13T14:55:18.627592Z",
     "shell.execute_reply": "2021-09-13T14:55:18.626638Z",
     "shell.execute_reply.started": "2021-09-13T14:55:18.618560Z"
    },
    "tags": []
   },
   "outputs": [
    {
     "data": {
      "text/plain": [
       "True"
      ]
     },
     "execution_count": 11,
     "metadata": {},
     "output_type": "execute_result"
    }
   ],
   "source": [
    "\"\\'V1\\'\" in str(cls.Forest[0])"
   ]
  },
  {
   "cell_type": "code",
   "execution_count": 12,
   "metadata": {
    "execution": {
     "iopub.execute_input": "2021-09-13T14:55:19.352890Z",
     "iopub.status.busy": "2021-09-13T14:55:19.352255Z",
     "iopub.status.idle": "2021-09-13T14:55:20.282754Z",
     "shell.execute_reply": "2021-09-13T14:55:20.282117Z",
     "shell.execute_reply.started": "2021-09-13T14:55:19.352809Z"
    },
    "tags": []
   },
   "outputs": [
    {
     "data": {
      "text/plain": [
       "[('V14', 0.8046875),\n",
       " ('V4', 0.75),\n",
       " ('V16', 0.4375),\n",
       " ('V12', 0.4296875),\n",
       " ('V3', 0.3984375),\n",
       " ('V10', 0.3984375),\n",
       " ('V17', 0.375),\n",
       " ('V5', 0.34375),\n",
       " ('V11', 0.34375),\n",
       " ('Amount', 0.328125),\n",
       " ('V1', 0.3203125),\n",
       " ('V2', 0.3046875),\n",
       " ('V7', 0.2890625),\n",
       " ('V19', 0.2890625),\n",
       " ('V8', 0.28125),\n",
       " ('V18', 0.28125),\n",
       " ('V15', 0.2578125),\n",
       " ('V21', 0.2578125),\n",
       " ('V24', 0.234375),\n",
       " ('V9', 0.2265625),\n",
       " ('V23', 0.2265625),\n",
       " ('V28', 0.2265625),\n",
       " ('V20', 0.203125),\n",
       " ('V22', 0.203125),\n",
       " ('V6', 0.1953125),\n",
       " ('V13', 0.1796875),\n",
       " ('V26', 0.1640625),\n",
       " ('V27', 0.1484375),\n",
       " ('V25', 0.125)]"
      ]
     },
     "execution_count": 12,
     "metadata": {},
     "output_type": "execute_result"
    }
   ],
   "source": [
    "feat_counts = {feat: sum([f\"'{feat}'\" in str(Tree) for Tree in cls.Forest])/len(cls.Forest) for feat in cls.feature_cols}\n",
    "sorted(feat_counts.items(), key=lambda x: x[1], reverse=True)"
   ]
  },
  {
   "cell_type": "code",
   "execution_count": 129,
   "metadata": {
    "execution": {
     "iopub.execute_input": "2021-09-13T01:05:27.523599Z",
     "iopub.status.busy": "2021-09-13T01:05:27.523018Z",
     "iopub.status.idle": "2021-09-13T01:05:28.377247Z",
     "shell.execute_reply": "2021-09-13T01:05:28.376646Z",
     "shell.execute_reply.started": "2021-09-13T01:05:27.523530Z"
    },
    "tags": []
   },
   "outputs": [
    {
     "data": {
      "text/plain": [
       "[('V22', 0.9237355110642783),\n",
       " ('V8', 0.9237062404870624),\n",
       " ('V20', 0.9234720758693361),\n",
       " ('V21', 0.9232046492320464),\n",
       " ('V28', 0.9222957014643363),\n",
       " ('V16', 0.922272504892368),\n",
       " ('V5', 0.9220890410958907),\n",
       " ('V11', 0.9220890410958907),\n",
       " ('V4', 0.9220890410958905),\n",
       " ('V3', 0.9219715283373626),\n",
       " ('V19', 0.9217882265827473),\n",
       " ('V25', 0.9214469178082192),\n",
       " ('V14', 0.9211663785077804),\n",
       " ('V13', 0.9209350804050026),\n",
       " ('Amount', 0.9208251793868234),\n",
       " ('V7', 0.9207700851536469),\n",
       " ('V18', 0.9207572298325724),\n",
       " ('V10', 0.9206956755304861),\n",
       " ('V1', 0.9206481790845308),\n",
       " ('V6', 0.9205479452054794),\n",
       " ('V12', 0.9203611457036116),\n",
       " ('V17', 0.9202340182648401),\n",
       " ('V9', 0.919933868682097),\n",
       " ('V27', 0.9197909156452774),\n",
       " ('V15', 0.9197799916977998),\n",
       " ('V2', 0.9193010186160874),\n",
       " ('V26', 0.9192759295499021),\n",
       " ('V23', 0.9188710439300894),\n",
       " ('V24', 0.9187214611872143)]"
      ]
     },
     "execution_count": 129,
     "metadata": {},
     "output_type": "execute_result"
    }
   ],
   "source": [
    "sum_scores = sum(cls.survived_scores)\n",
    "feat_counts = {feat: np.mean(list(filter(lambda num: num != 0,[(f\"'{feat}'\" in str(Tree))*score for Tree,score in zip(cls.Forest,cls.survived_scores)]))) for feat in cls.feature_cols}\n",
    "sorted(feat_counts.items(), key=lambda x: x[1], reverse=True)"
   ]
  },
  {
   "cell_type": "code",
   "execution_count": 26,
   "metadata": {
    "execution": {
     "iopub.execute_input": "2021-09-13T00:29:28.007558Z",
     "iopub.status.busy": "2021-09-13T00:29:28.004217Z",
     "iopub.status.idle": "2021-09-13T00:33:56.355097Z",
     "shell.execute_reply": "2021-09-13T00:33:56.354429Z",
     "shell.execute_reply.started": "2021-09-13T00:29:28.007385Z"
    }
   },
   "outputs": [
    {
     "data": {
      "text/plain": [
       "RandomForestClassifier()"
      ]
     },
     "execution_count": 26,
     "metadata": {},
     "output_type": "execute_result"
    }
   ],
   "source": [
    "from sklearn.ensemble import RandomForestClassifier\n",
    "\n",
    "forest = RandomForestClassifier()\n",
    "forest.fit(df[ds_cols], df[target_col])"
   ]
  },
  {
   "cell_type": "code",
   "execution_count": 35,
   "metadata": {
    "execution": {
     "iopub.execute_input": "2021-09-13T00:38:51.500085Z",
     "iopub.status.busy": "2021-09-13T00:38:51.499577Z",
     "iopub.status.idle": "2021-09-13T00:38:51.520917Z",
     "shell.execute_reply": "2021-09-13T00:38:51.520371Z",
     "shell.execute_reply.started": "2021-09-13T00:38:51.500022Z"
    },
    "tags": []
   },
   "outputs": [],
   "source": [
    "feat_counts_baseline = {feat: score for feat,score in zip(ds_cols, forest.feature_importances_)}"
   ]
  },
  {
   "cell_type": "code",
   "execution_count": 36,
   "metadata": {
    "execution": {
     "iopub.execute_input": "2021-09-13T00:38:52.140086Z",
     "iopub.status.busy": "2021-09-13T00:38:52.139572Z",
     "iopub.status.idle": "2021-09-13T00:38:52.151017Z",
     "shell.execute_reply": "2021-09-13T00:38:52.149863Z",
     "shell.execute_reply.started": "2021-09-13T00:38:52.140036Z"
    },
    "tags": []
   },
   "outputs": [
    {
     "data": {
      "text/plain": [
       "[('V12', 0.145750137242988),\n",
       " ('V17', 0.13073994696652233),\n",
       " ('V14', 0.10869943505722834),\n",
       " ('V10', 0.10659552465814812),\n",
       " ('V11', 0.07494282109076995),\n",
       " ('V16', 0.07007434988401999),\n",
       " ('V9', 0.03723455894197347),\n",
       " ('V18', 0.031377649659517226),\n",
       " ('V7', 0.02974542566681773),\n",
       " ('V4', 0.02442541464406295),\n",
       " ('V26', 0.020258285882117703),\n",
       " ('V21', 0.01801605889498627),\n",
       " ('V1', 0.01675503823468746),\n",
       " ('V6', 0.016007484083145247),\n",
       " ('V3', 0.014916958829971082),\n",
       " ('V20', 0.01349498078472359),\n",
       " ('V27', 0.012218137804112314),\n",
       " ('V8', 0.011852712616607844),\n",
       " ('V19', 0.011730061830087143),\n",
       " ('V5', 0.011602808187383826),\n",
       " ('Amount', 0.01133494532179039),\n",
       " ('V2', 0.011281574126221659),\n",
       " ('V28', 0.011259359502862502),\n",
       " ('V13', 0.01094957985420983),\n",
       " ('V22', 0.010747722550576653),\n",
       " ('V25', 0.010685071237540667),\n",
       " ('V15', 0.010582035128143272),\n",
       " ('V24', 0.009877699910013103),\n",
       " ('V23', 0.006844221408771363)]"
      ]
     },
     "execution_count": 36,
     "metadata": {},
     "output_type": "execute_result"
    }
   ],
   "source": [
    "sorted(feat_counts_baseline.items(), key=lambda x: x[1], reverse=True)"
   ]
  },
  {
   "cell_type": "code",
   "execution_count": 66,
   "metadata": {
    "execution": {
     "iopub.execute_input": "2021-09-13T16:03:48.045592Z",
     "iopub.status.busy": "2021-09-13T16:03:48.045055Z",
     "iopub.status.idle": "2021-09-13T16:03:48.476377Z",
     "shell.execute_reply": "2021-09-13T16:03:48.475805Z",
     "shell.execute_reply.started": "2021-09-13T16:03:48.045532Z"
    },
    "tags": []
   },
   "outputs": [
    {
     "data": {
      "text/plain": [
       "[('V21', 0.75126953125),\n",
       " ('V27', 0.7501953125),\n",
       " ('V19', 0.74736328125),\n",
       " ('V25', 0.74482421875),\n",
       " ('V17', 0.74462890625),\n",
       " ('V3', 0.7443359375),\n",
       " ('V18', 0.744140625),\n",
       " ('V22', 0.74404296875),\n",
       " ('V26', 0.7439453125),\n",
       " ('V6', 0.74375),\n",
       " ('V8', 0.74365234375),\n",
       " ('V4', 0.743359375),\n",
       " ('V23', 0.74326171875),\n",
       " ('V24', 0.74296875),\n",
       " ('V16', 0.74287109375),\n",
       " ('V13', 0.7427734375),\n",
       " ('V7', 0.74267578125),\n",
       " ('V1', 0.7423828125),\n",
       " ('V20', 0.7419921875),\n",
       " ('V11', 0.74189453125),\n",
       " ('V9', 0.7412109375),\n",
       " ('Amount', 0.7404296875),\n",
       " ('V12', 0.74033203125),\n",
       " ('V15', 0.73994140625),\n",
       " ('V10', 0.73876953125),\n",
       " ('V14', 0.737890625),\n",
       " ('V2', 0.73740234375),\n",
       " ('V28', 0.73662109375),\n",
       " ('V5', 0.7361328125)]"
      ]
     },
     "execution_count": 66,
     "metadata": {},
     "output_type": "execute_result"
    }
   ],
   "source": [
    "ForestFake = [str(cls.sampleFeats()) for _ in range(1024*10)]\n",
    "feat_counts = {feat: sum([f\"'{feat}'\" in str(Tree) for Tree in ForestFake])/len(ForestFake) for feat in cls.feature_cols}\n",
    "sorted(feat_counts.items(), key=lambda x: x[1], reverse=True)"
   ]
  },
  {
   "cell_type": "code",
   "execution_count": 14,
   "metadata": {
    "execution": {
     "iopub.execute_input": "2021-09-13T14:55:59.953821Z",
     "iopub.status.busy": "2021-09-13T14:55:59.951766Z",
     "iopub.status.idle": "2021-09-13T14:56:00.856107Z",
     "shell.execute_reply": "2021-09-13T14:56:00.855204Z",
     "shell.execute_reply.started": "2021-09-13T14:55:59.953709Z"
    },
    "tags": []
   },
   "outputs": [
    {
     "data": {
      "text/plain": [
       "{'V1': 0.9206481790845308,\n",
       " 'V2': 0.9193010186160874,\n",
       " 'V3': 0.9219715283373626,\n",
       " 'V4': 0.9220890410958905,\n",
       " 'V5': 0.9220890410958907,\n",
       " 'V6': 0.9205479452054794,\n",
       " 'V7': 0.9207700851536469,\n",
       " 'V8': 0.9237062404870624,\n",
       " 'V9': 0.919933868682097,\n",
       " 'V10': 0.9206956755304861,\n",
       " 'V11': 0.9220890410958907,\n",
       " 'V12': 0.9203611457036116,\n",
       " 'V13': 0.9209350804050026,\n",
       " 'V14': 0.9211663785077804,\n",
       " 'V15': 0.9197799916977998,\n",
       " 'V16': 0.922272504892368,\n",
       " 'V17': 0.9202340182648401,\n",
       " 'V18': 0.9207572298325724,\n",
       " 'V19': 0.9217882265827473,\n",
       " 'V20': 0.9234720758693361,\n",
       " 'V21': 0.9232046492320464,\n",
       " 'V22': 0.9237355110642783,\n",
       " 'V23': 0.9188710439300894,\n",
       " 'V24': 0.9187214611872143,\n",
       " 'V25': 0.9214469178082192,\n",
       " 'V26': 0.9192759295499021,\n",
       " 'V27': 0.9197909156452774,\n",
       " 'V28': 0.9222957014643363,\n",
       " 'Amount': 0.9208251793868234}"
      ]
     },
     "execution_count": 14,
     "metadata": {},
     "output_type": "execute_result"
    }
   ],
   "source": [
    "cls.featScoreMean()"
   ]
  },
  {
   "cell_type": "code",
   "execution_count": 16,
   "metadata": {
    "execution": {
     "iopub.execute_input": "2021-09-13T14:58:00.433192Z",
     "iopub.status.busy": "2021-09-13T14:58:00.429021Z",
     "iopub.status.idle": "2021-09-13T14:58:00.494548Z",
     "shell.execute_reply": "2021-09-13T14:58:00.493006Z",
     "shell.execute_reply.started": "2021-09-13T14:58:00.433005Z"
    },
    "tags": []
   },
   "outputs": [
    {
     "data": {
      "text/plain": [
       "['V1', 'V3', 'V4', 'V10', 'V14', 'V16', 'V17', 'V20', 'V23']"
      ]
     },
     "execution_count": 16,
     "metadata": {},
     "output_type": "execute_result"
    }
   ],
   "source": [
    "Tree = cls.Forest[0]\n",
    "[feat for feat in cls.feature_cols if f\"'{feat}'\" in str(Tree)]"
   ]
  },
  {
   "cell_type": "code",
   "execution_count": 92,
   "metadata": {
    "execution": {
     "iopub.execute_input": "2021-09-13T16:09:59.057937Z",
     "iopub.status.busy": "2021-09-13T16:09:59.057472Z",
     "iopub.status.idle": "2021-09-13T16:10:13.714389Z",
     "shell.execute_reply": "2021-09-13T16:10:13.713651Z",
     "shell.execute_reply.started": "2021-09-13T16:09:59.057887Z"
    },
    "tags": []
   },
   "outputs": [
    {
     "name": "stderr",
     "output_type": "stream",
     "text": [
      "100%|██████████| 128/128 [00:14<00:00,  8.74it/s]\n"
     ]
    }
   ],
   "source": [
    "pair_count = defaultdict(int)\n",
    "ntrees = len(cls.Forest)\n",
    "for Tree in tqdm(cls.Forest):\n",
    "    for pair in combinations(cls.feature_cols,2):\n",
    "        pair_count[pair] += (f\"'{pair[0]}'\" in str(Tree) and f\"'{pair[1]}'\" in str(Tree))/ntrees"
   ]
  },
  {
   "cell_type": "code",
   "execution_count": 93,
   "metadata": {
    "collapsed": true,
    "execution": {
     "iopub.execute_input": "2021-09-13T16:10:13.716184Z",
     "iopub.status.busy": "2021-09-13T16:10:13.715875Z",
     "iopub.status.idle": "2021-09-13T16:10:13.769634Z",
     "shell.execute_reply": "2021-09-13T16:10:13.768058Z",
     "shell.execute_reply.started": "2021-09-13T16:10:13.716152Z"
    },
    "jupyter": {
     "outputs_hidden": true
    },
    "tags": []
   },
   "outputs": [
    {
     "data": {
      "text/plain": [
       "[(('V4', 'V14'), 0.5703125),\n",
       " (('V4', 'V16'), 0.359375),\n",
       " (('V3', 'V4'), 0.3203125),\n",
       " (('V10', 'V14'), 0.3203125),\n",
       " (('V14', 'V16'), 0.3203125),\n",
       " (('V4', 'V12'), 0.3125),\n",
       " (('V12', 'V14'), 0.3046875),\n",
       " (('V3', 'V14'), 0.2890625),\n",
       " (('V14', 'V17'), 0.28125),\n",
       " (('V4', 'V5'), 0.2734375),\n",
       " (('V4', 'V10'), 0.2734375),\n",
       " (('V5', 'V14'), 0.265625),\n",
       " (('V4', 'V11'), 0.2578125),\n",
       " (('V1', 'V4'), 0.25),\n",
       " (('V2', 'V14'), 0.25),\n",
       " (('V11', 'V14'), 0.25),\n",
       " (('V14', 'V15'), 0.25),\n",
       " (('V1', 'V14'), 0.2421875),\n",
       " (('V4', 'V17'), 0.2421875),\n",
       " (('V14', 'Amount'), 0.2421875),\n",
       " (('V2', 'V4'), 0.2265625),\n",
       " (('V4', 'V19'), 0.2265625),\n",
       " (('V7', 'V14'), 0.21875),\n",
       " (('V8', 'V14'), 0.21875),\n",
       " (('V14', 'V18'), 0.21875),\n",
       " (('V14', 'V21'), 0.21875),\n",
       " (('V4', 'V8'), 0.2109375),\n",
       " (('V14', 'V19'), 0.2109375),\n",
       " (('V4', 'V7'), 0.1953125),\n",
       " (('V4', 'V15'), 0.1953125),\n",
       " (('V4', 'V18'), 0.1953125),\n",
       " (('V14', 'V24'), 0.1953125),\n",
       " (('V4', 'V21'), 0.1875),\n",
       " (('V4', 'V24'), 0.1875),\n",
       " (('V4', 'Amount'), 0.1875),\n",
       " (('V12', 'V16'), 0.1875),\n",
       " (('V12', 'V17'), 0.1875),\n",
       " (('V3', 'V16'), 0.1796875),\n",
       " (('V6', 'V14'), 0.1796875),\n",
       " (('V9', 'V14'), 0.1796875),\n",
       " (('V14', 'V23'), 0.1796875),\n",
       " (('V14', 'V28'), 0.1796875),\n",
       " (('V4', 'V28'), 0.171875),\n",
       " (('V11', 'V12'), 0.171875),\n",
       " (('V14', 'V20'), 0.171875),\n",
       " (('V12', 'Amount'), 0.1640625),\n",
       " (('V14', 'V22'), 0.1640625),\n",
       " (('V16', 'Amount'), 0.1640625),\n",
       " (('V3', 'V12'), 0.15625),\n",
       " (('V4', 'V9'), 0.15625),\n",
       " (('V4', 'V22'), 0.15625),\n",
       " (('V5', 'V16'), 0.15625),\n",
       " (('V16', 'V17'), 0.15625),\n",
       " (('V4', 'V20'), 0.1484375),\n",
       " (('V4', 'V23'), 0.1484375),\n",
       " (('V10', 'V11'), 0.1484375),\n",
       " (('V13', 'V14'), 0.1484375),\n",
       " (('V1', 'V3'), 0.140625),\n",
       " (('V1', 'V16'), 0.140625),\n",
       " (('V3', 'V10'), 0.140625),\n",
       " (('V3', 'V17'), 0.140625),\n",
       " (('V4', 'V13'), 0.140625),\n",
       " (('V8', 'V10'), 0.140625),\n",
       " (('V10', 'V16'), 0.140625),\n",
       " (('V14', 'V26'), 0.140625),\n",
       " (('V14', 'V27'), 0.140625),\n",
       " (('V17', 'Amount'), 0.140625),\n",
       " (('V1', 'V11'), 0.1328125),\n",
       " (('V2', 'V10'), 0.1328125),\n",
       " (('V3', 'V5'), 0.1328125),\n",
       " (('V3', 'V19'), 0.1328125),\n",
       " (('V7', 'V12'), 0.1328125),\n",
       " (('V16', 'V18'), 0.1328125),\n",
       " (('V16', 'V28'), 0.1328125),\n",
       " (('V17', 'V18'), 0.1328125),\n",
       " (('V4', 'V26'), 0.125),\n",
       " (('V8', 'V11'), 0.125),\n",
       " (('V9', 'V16'), 0.125),\n",
       " (('V10', 'V12'), 0.125),\n",
       " (('V16', 'V19'), 0.125),\n",
       " (('V16', 'V21'), 0.125),\n",
       " (('V1', 'V12'), 0.1171875),\n",
       " (('V3', 'Amount'), 0.1171875),\n",
       " (('V4', 'V6'), 0.1171875),\n",
       " (('V5', 'V10'), 0.1171875),\n",
       " (('V5', 'V12'), 0.1171875),\n",
       " (('V7', 'V16'), 0.1171875),\n",
       " (('V9', 'V12'), 0.1171875),\n",
       " (('V10', 'V15'), 0.1171875),\n",
       " (('V10', 'V19'), 0.1171875),\n",
       " (('V10', 'Amount'), 0.1171875),\n",
       " (('V12', 'V24'), 0.1171875),\n",
       " (('V18', 'Amount'), 0.1171875),\n",
       " (('V1', 'Amount'), 0.109375),\n",
       " (('V2', 'V3'), 0.109375),\n",
       " (('V2', 'V8'), 0.109375),\n",
       " (('V2', 'V12'), 0.109375),\n",
       " (('V3', 'V11'), 0.109375),\n",
       " (('V3', 'V20'), 0.109375),\n",
       " (('V5', 'V11'), 0.109375),\n",
       " (('V5', 'V19'), 0.109375),\n",
       " (('V5', 'Amount'), 0.109375),\n",
       " (('V7', 'V17'), 0.109375),\n",
       " (('V8', 'V12'), 0.109375),\n",
       " (('V9', 'V17'), 0.109375),\n",
       " (('V10', 'V17'), 0.109375),\n",
       " (('V10', 'V18'), 0.109375),\n",
       " (('V11', 'V21'), 0.109375),\n",
       " (('V11', 'Amount'), 0.109375),\n",
       " (('V12', 'V22'), 0.109375),\n",
       " (('V14', 'V25'), 0.109375),\n",
       " (('V1', 'V2'), 0.1015625),\n",
       " (('V1', 'V10'), 0.1015625),\n",
       " (('V2', 'V5'), 0.1015625),\n",
       " (('V3', 'V7'), 0.1015625),\n",
       " (('V3', 'V8'), 0.1015625),\n",
       " (('V3', 'V9'), 0.1015625),\n",
       " (('V3', 'V23'), 0.1015625),\n",
       " (('V5', 'V17'), 0.1015625),\n",
       " (('V5', 'V18'), 0.1015625),\n",
       " (('V6', 'V12'), 0.1015625),\n",
       " (('V7', 'V10'), 0.1015625),\n",
       " (('V7', 'V19'), 0.1015625),\n",
       " (('V11', 'V16'), 0.1015625),\n",
       " (('V12', 'V18'), 0.1015625),\n",
       " (('V12', 'V23'), 0.1015625),\n",
       " (('V17', 'V21'), 0.1015625),\n",
       " (('V21', 'Amount'), 0.1015625),\n",
       " (('V1', 'V7'), 0.09375),\n",
       " (('V1', 'V17'), 0.09375),\n",
       " (('V1', 'V20'), 0.09375),\n",
       " (('V2', 'V16'), 0.09375),\n",
       " (('V2', 'V17'), 0.09375),\n",
       " (('V2', 'Amount'), 0.09375),\n",
       " (('V3', 'V18'), 0.09375),\n",
       " (('V4', 'V27'), 0.09375),\n",
       " (('V5', 'V8'), 0.09375),\n",
       " (('V7', 'V22'), 0.09375),\n",
       " (('V10', 'V23'), 0.09375),\n",
       " (('V10', 'V28'), 0.09375),\n",
       " (('V11', 'V17'), 0.09375),\n",
       " (('V12', 'V21'), 0.09375),\n",
       " (('V12', 'V28'), 0.09375),\n",
       " (('V15', 'V16'), 0.09375),\n",
       " (('V16', 'V24'), 0.09375),\n",
       " (('V17', 'V19'), 0.09375),\n",
       " (('V19', 'Amount'), 0.09375),\n",
       " (('V1', 'V19'), 0.0859375),\n",
       " (('V2', 'V7'), 0.0859375),\n",
       " (('V2', 'V19'), 0.0859375),\n",
       " (('V3', 'V13'), 0.0859375),\n",
       " (('V3', 'V28'), 0.0859375),\n",
       " (('V4', 'V25'), 0.0859375),\n",
       " (('V5', 'V28'), 0.0859375),\n",
       " (('V7', 'V15'), 0.0859375),\n",
       " (('V8', 'V15'), 0.0859375),\n",
       " (('V8', 'V16'), 0.0859375),\n",
       " (('V8', 'V28'), 0.0859375),\n",
       " (('V9', 'V10'), 0.0859375),\n",
       " (('V10', 'V20'), 0.0859375),\n",
       " (('V10', 'V21'), 0.0859375),\n",
       " (('V11', 'V13'), 0.0859375),\n",
       " (('V12', 'V19'), 0.0859375),\n",
       " (('V15', 'V18'), 0.0859375),\n",
       " (('V15', 'V24'), 0.0859375),\n",
       " (('V16', 'V20'), 0.0859375),\n",
       " (('V17', 'V22'), 0.0859375),\n",
       " (('V1', 'V5'), 0.078125),\n",
       " (('V1', 'V24'), 0.078125),\n",
       " (('V1', 'V28'), 0.078125),\n",
       " (('V2', 'V11'), 0.078125),\n",
       " (('V2', 'V18'), 0.078125),\n",
       " (('V3', 'V15'), 0.078125),\n",
       " (('V3', 'V21'), 0.078125),\n",
       " (('V5', 'V7'), 0.078125),\n",
       " (('V5', 'V15'), 0.078125),\n",
       " (('V5', 'V22'), 0.078125),\n",
       " (('V6', 'V7'), 0.078125),\n",
       " (('V6', 'V16'), 0.078125),\n",
       " (('V7', 'V11'), 0.078125),\n",
       " (('V8', 'V9'), 0.078125),\n",
       " (('V8', 'V17'), 0.078125),\n",
       " (('V9', 'Amount'), 0.078125),\n",
       " (('V11', 'V15'), 0.078125),\n",
       " (('V11', 'V18'), 0.078125),\n",
       " (('V11', 'V28'), 0.078125),\n",
       " (('V12', 'V15'), 0.078125),\n",
       " (('V17', 'V23'), 0.078125),\n",
       " (('V17', 'V24'), 0.078125),\n",
       " (('V17', 'V27'), 0.078125),\n",
       " (('V18', 'V21'), 0.078125),\n",
       " (('V19', 'V22'), 0.078125),\n",
       " (('V22', 'V23'), 0.078125),\n",
       " (('V1', 'V8'), 0.0703125),\n",
       " (('V1', 'V18'), 0.0703125),\n",
       " (('V2', 'V23'), 0.0703125),\n",
       " (('V2', 'V24'), 0.0703125),\n",
       " (('V5', 'V6'), 0.0703125),\n",
       " (('V5', 'V20'), 0.0703125),\n",
       " (('V5', 'V21'), 0.0703125),\n",
       " (('V5', 'V23'), 0.0703125),\n",
       " (('V5', 'V24'), 0.0703125),\n",
       " (('V5', 'V25'), 0.0703125),\n",
       " (('V6', 'V17'), 0.0703125),\n",
       " (('V7', 'V21'), 0.0703125),\n",
       " (('V7', 'Amount'), 0.0703125),\n",
       " (('V9', 'V11'), 0.0703125),\n",
       " (('V9', 'V19'), 0.0703125),\n",
       " (('V10', 'V13'), 0.0703125),\n",
       " (('V10', 'V26'), 0.0703125),\n",
       " (('V10', 'V27'), 0.0703125),\n",
       " (('V11', 'V19'), 0.0703125),\n",
       " (('V11', 'V24'), 0.0703125),\n",
       " (('V15', 'V17'), 0.0703125),\n",
       " (('V15', 'V19'), 0.0703125),\n",
       " (('V15', 'V23'), 0.0703125),\n",
       " (('V15', 'V26'), 0.0703125),\n",
       " (('V16', 'V26'), 0.0703125),\n",
       " (('V17', 'V20'), 0.0703125),\n",
       " (('V17', 'V26'), 0.0703125),\n",
       " (('V22', 'V24'), 0.0703125),\n",
       " (('V24', 'Amount'), 0.0703125),\n",
       " (('V1', 'V6'), 0.0625),\n",
       " (('V1', 'V9'), 0.0625),\n",
       " (('V1', 'V21'), 0.0625),\n",
       " (('V1', 'V23'), 0.0625),\n",
       " (('V2', 'V6'), 0.0625),\n",
       " (('V2', 'V15'), 0.0625),\n",
       " (('V2', 'V28'), 0.0625),\n",
       " (('V3', 'V24'), 0.0625),\n",
       " (('V6', 'V10'), 0.0625),\n",
       " (('V6', 'V15'), 0.0625),\n",
       " (('V7', 'V23'), 0.0625),\n",
       " (('V7', 'V24'), 0.0625),\n",
       " (('V8', 'V19'), 0.0625),\n",
       " (('V8', 'V23'), 0.0625),\n",
       " (('V8', 'V24'), 0.0625),\n",
       " (('V9', 'V21'), 0.0625),\n",
       " (('V10', 'V24'), 0.0625),\n",
       " (('V10', 'V25'), 0.0625),\n",
       " (('V11', 'V20'), 0.0625),\n",
       " (('V11', 'V22'), 0.0625),\n",
       " (('V11', 'V23'), 0.0625),\n",
       " (('V12', 'V13'), 0.0625),\n",
       " (('V12', 'V20'), 0.0625),\n",
       " (('V16', 'V22'), 0.0625),\n",
       " (('V17', 'V28'), 0.0625),\n",
       " (('V18', 'V26'), 0.0625),\n",
       " (('V18', 'V27'), 0.0625),\n",
       " (('V18', 'V28'), 0.0625),\n",
       " (('V19', 'V23'), 0.0625),\n",
       " (('V19', 'V24'), 0.0625),\n",
       " (('V23', 'Amount'), 0.0625),\n",
       " (('V28', 'Amount'), 0.0625),\n",
       " (('V1', 'V13'), 0.0546875),\n",
       " (('V1', 'V22'), 0.0546875),\n",
       " (('V2', 'V13'), 0.0546875),\n",
       " (('V2', 'V20'), 0.0546875),\n",
       " (('V2', 'V21'), 0.0546875),\n",
       " (('V3', 'V22'), 0.0546875),\n",
       " (('V3', 'V26'), 0.0546875),\n",
       " (('V6', 'V19'), 0.0546875),\n",
       " (('V6', 'Amount'), 0.0546875),\n",
       " (('V7', 'V9'), 0.0546875),\n",
       " (('V8', 'V20'), 0.0546875),\n",
       " (('V8', 'V21'), 0.0546875),\n",
       " (('V8', 'Amount'), 0.0546875),\n",
       " (('V9', 'V24'), 0.0546875),\n",
       " (('V11', 'V26'), 0.0546875),\n",
       " (('V11', 'V27'), 0.0546875),\n",
       " (('V13', 'V16'), 0.0546875),\n",
       " (('V13', 'V17'), 0.0546875),\n",
       " (('V13', 'V21'), 0.0546875),\n",
       " (('V15', 'V21'), 0.0546875),\n",
       " (('V16', 'V23'), 0.0546875),\n",
       " (('V18', 'V20'), 0.0546875),\n",
       " (('V19', 'V28'), 0.0546875),\n",
       " (('V20', 'Amount'), 0.0546875),\n",
       " (('V21', 'V26'), 0.0546875),\n",
       " (('V23', 'V24'), 0.0546875),\n",
       " (('V23', 'V26'), 0.0546875),\n",
       " (('V26', 'Amount'), 0.0546875),\n",
       " (('V1', 'V26'), 0.046875),\n",
       " (('V2', 'V9'), 0.046875),\n",
       " (('V2', 'V22'), 0.046875),\n",
       " (('V2', 'V25'), 0.046875),\n",
       " (('V3', 'V27'), 0.046875),\n",
       " (('V5', 'V13'), 0.046875),\n",
       " (('V5', 'V27'), 0.046875),\n",
       " (('V6', 'V18'), 0.046875),\n",
       " (('V6', 'V21'), 0.046875),\n",
       " (('V6', 'V22'), 0.046875),\n",
       " (('V6', 'V23'), 0.046875),\n",
       " (('V7', 'V8'), 0.046875),\n",
       " (('V7', 'V13'), 0.046875),\n",
       " (('V7', 'V18'), 0.046875),\n",
       " (('V7', 'V20'), 0.046875),\n",
       " (('V8', 'V13'), 0.046875),\n",
       " (('V9', 'V18'), 0.046875),\n",
       " (('V12', 'V26'), 0.046875),\n",
       " (('V12', 'V27'), 0.046875),\n",
       " (('V13', 'V15'), 0.046875),\n",
       " (('V13', 'V18'), 0.046875),\n",
       " (('V13', 'V20'), 0.046875),\n",
       " (('V13', 'Amount'), 0.046875),\n",
       " (('V15', 'V28'), 0.046875),\n",
       " (('V18', 'V22'), 0.046875),\n",
       " (('V19', 'V25'), 0.046875),\n",
       " (('V20', 'V24'), 0.046875),\n",
       " (('V21', 'V22'), 0.046875),\n",
       " (('V25', 'Amount'), 0.046875),\n",
       " (('V26', 'V28'), 0.046875),\n",
       " (('V27', 'Amount'), 0.046875),\n",
       " (('V1', 'V27'), 0.0390625),\n",
       " (('V2', 'V27'), 0.0390625),\n",
       " (('V3', 'V6'), 0.0390625),\n",
       " (('V6', 'V24'), 0.0390625),\n",
       " (('V6', 'V28'), 0.0390625),\n",
       " (('V7', 'V25'), 0.0390625),\n",
       " (('V7', 'V28'), 0.0390625),\n",
       " (('V8', 'V18'), 0.0390625),\n",
       " (('V8', 'V25'), 0.0390625),\n",
       " (('V8', 'V26'), 0.0390625),\n",
       " (('V9', 'V13'), 0.0390625),\n",
       " (('V9', 'V15'), 0.0390625),\n",
       " (('V9', 'V25'), 0.0390625),\n",
       " (('V10', 'V22'), 0.0390625),\n",
       " (('V12', 'V25'), 0.0390625),\n",
       " (('V15', 'V27'), 0.0390625),\n",
       " (('V15', 'Amount'), 0.0390625),\n",
       " (('V16', 'V25'), 0.0390625),\n",
       " (('V16', 'V27'), 0.0390625),\n",
       " (('V18', 'V19'), 0.0390625),\n",
       " (('V18', 'V23'), 0.0390625),\n",
       " (('V18', 'V24'), 0.0390625),\n",
       " (('V19', 'V21'), 0.0390625),\n",
       " (('V19', 'V26'), 0.0390625),\n",
       " (('V19', 'V27'), 0.0390625),\n",
       " (('V20', 'V21'), 0.0390625),\n",
       " (('V20', 'V23'), 0.0390625),\n",
       " (('V20', 'V28'), 0.0390625),\n",
       " (('V21', 'V24'), 0.0390625),\n",
       " (('V21', 'V27'), 0.0390625),\n",
       " (('V21', 'V28'), 0.0390625),\n",
       " (('V22', 'Amount'), 0.0390625),\n",
       " (('V23', 'V28'), 0.0390625),\n",
       " (('V24', 'V28'), 0.0390625),\n",
       " (('V1', 'V15'), 0.03125),\n",
       " (('V3', 'V25'), 0.03125),\n",
       " (('V5', 'V26'), 0.03125),\n",
       " (('V6', 'V8'), 0.03125),\n",
       " (('V6', 'V11'), 0.03125),\n",
       " (('V6', 'V20'), 0.03125),\n",
       " (('V6', 'V27'), 0.03125),\n",
       " (('V7', 'V27'), 0.03125),\n",
       " (('V8', 'V22'), 0.03125),\n",
       " (('V8', 'V27'), 0.03125),\n",
       " (('V9', 'V20'), 0.03125),\n",
       " (('V9', 'V23'), 0.03125),\n",
       " (('V9', 'V28'), 0.03125),\n",
       " (('V13', 'V19'), 0.03125),\n",
       " (('V13', 'V23'), 0.03125),\n",
       " (('V13', 'V27'), 0.03125),\n",
       " (('V19', 'V20'), 0.03125),\n",
       " (('V20', 'V22'), 0.03125),\n",
       " (('V21', 'V23'), 0.03125),\n",
       " (('V21', 'V25'), 0.03125),\n",
       " (('V22', 'V28'), 0.03125),\n",
       " (('V2', 'V26'), 0.0234375),\n",
       " (('V5', 'V9'), 0.0234375),\n",
       " (('V6', 'V9'), 0.0234375),\n",
       " (('V6', 'V13'), 0.0234375),\n",
       " (('V6', 'V25'), 0.0234375),\n",
       " (('V7', 'V26'), 0.0234375),\n",
       " (('V9', 'V22'), 0.0234375),\n",
       " (('V9', 'V26'), 0.0234375),\n",
       " (('V11', 'V25'), 0.0234375),\n",
       " (('V13', 'V24'), 0.0234375),\n",
       " (('V13', 'V25'), 0.0234375),\n",
       " (('V13', 'V28'), 0.0234375),\n",
       " (('V15', 'V20'), 0.0234375),\n",
       " (('V15', 'V25'), 0.0234375),\n",
       " (('V17', 'V25'), 0.0234375),\n",
       " (('V18', 'V25'), 0.0234375),\n",
       " (('V20', 'V27'), 0.0234375),\n",
       " (('V22', 'V25'), 0.0234375),\n",
       " (('V22', 'V26'), 0.0234375),\n",
       " (('V22', 'V27'), 0.0234375),\n",
       " (('V23', 'V25'), 0.0234375),\n",
       " (('V24', 'V25'), 0.0234375),\n",
       " (('V25', 'V27'), 0.0234375),\n",
       " (('V26', 'V27'), 0.0234375),\n",
       " (('V1', 'V25'), 0.015625),\n",
       " (('V9', 'V27'), 0.015625),\n",
       " (('V13', 'V26'), 0.015625),\n",
       " (('V15', 'V22'), 0.015625),\n",
       " (('V20', 'V26'), 0.015625),\n",
       " (('V24', 'V26'), 0.015625),\n",
       " (('V24', 'V27'), 0.015625),\n",
       " (('V6', 'V26'), 0.0078125),\n",
       " (('V13', 'V22'), 0.0078125),\n",
       " (('V20', 'V25'), 0.0078125),\n",
       " (('V23', 'V27'), 0.0078125),\n",
       " (('V25', 'V26'), 0.0078125),\n",
       " (('V25', 'V28'), 0.0078125),\n",
       " (('V27', 'V28'), 0.0078125)]"
      ]
     },
     "execution_count": 93,
     "metadata": {},
     "output_type": "execute_result"
    }
   ],
   "source": [
    "sorted(pair_count.items(), key=lambda x:x[1], reverse=True)"
   ]
  },
  {
   "cell_type": "code",
   "execution_count": 96,
   "metadata": {
    "execution": {
     "iopub.execute_input": "2021-09-13T16:10:57.582935Z",
     "iopub.status.busy": "2021-09-13T16:10:57.582403Z",
     "iopub.status.idle": "2021-09-13T16:10:57.591081Z",
     "shell.execute_reply": "2021-09-13T16:10:57.590216Z",
     "shell.execute_reply.started": "2021-09-13T16:10:57.582894Z"
    },
    "tags": []
   },
   "outputs": [],
   "source": [
    "N = len(cls.feature_cols)\n",
    "matrix = np.zeros((N,N), dtype=np.float16)\n",
    "\n",
    "for feat,count in feat_counts.items():\n",
    "    idx = cls.feature_cols.index(feat)\n",
    "    matrix[idx][idx] = count\n",
    "\n",
    "for pair,count in pair_count.items():\n",
    "    idxa = cls.feature_cols.index(pair[0])\n",
    "    idxb = cls.feature_cols.index(pair[1])\n",
    "    matrix[idxa][idxb], matrix[idxb][idxa] = count, count\n",
    "    \n",
    "corr = pd.DataFrame(matrix, index=cls.feature_cols, columns=cls.feature_cols)"
   ]
  },
  {
   "cell_type": "code",
   "execution_count": 98,
   "metadata": {
    "execution": {
     "iopub.execute_input": "2021-09-13T16:11:11.867819Z",
     "iopub.status.busy": "2021-09-13T16:11:11.866397Z",
     "iopub.status.idle": "2021-09-13T16:11:11.875367Z",
     "shell.execute_reply": "2021-09-13T16:11:11.874509Z",
     "shell.execute_reply.started": "2021-09-13T16:11:11.867753Z"
    },
    "tags": []
   },
   "outputs": [],
   "source": []
  },
  {
   "cell_type": "code",
   "execution_count": 99,
   "metadata": {
    "execution": {
     "iopub.execute_input": "2021-09-13T16:11:30.918544Z",
     "iopub.status.busy": "2021-09-13T16:11:30.918180Z",
     "iopub.status.idle": "2021-09-13T16:11:31.618698Z",
     "shell.execute_reply": "2021-09-13T16:11:31.618018Z",
     "shell.execute_reply.started": "2021-09-13T16:11:30.918511Z"
    },
    "tags": []
   },
   "outputs": [
    {
     "data": {
      "text/plain": [
       "<AxesSubplot:>"
      ]
     },
     "execution_count": 99,
     "metadata": {},
     "output_type": "execute_result"
    },
    {
     "data": {
      "image/png": "[encoded data removed]",
      "text/plain": [
       "<Figure size 792x648 with 2 Axes>"
      ]
     },
     "metadata": {},
     "output_type": "display_data"
    }
   ],
   "source": [
    "from string import ascii_letters\n",
    "import numpy as np\n",
    "import pandas as pd\n",
    "import seaborn as sns\n",
    "import matplotlib.pyplot as plt\n",
    "\n",
    "sns.set_theme(style=\"white\")\n",
    "\n",
    "# Generate a mask for the upper triangle\n",
    "mask = np.triu(np.ones_like(corr, dtype=bool))\n",
    "\n",
    "# Set up the matplotlib figure\n",
    "f, ax = plt.subplots(figsize=(11, 9))\n",
    "\n",
    "# Generate a custom diverging colormap\n",
    "cmap = sns.diverging_palette(230, 20, as_cmap=True)\n",
    "\n",
    "# Draw the heatmap with the mask and correct aspect ratio\n",
    "sns.heatmap(corr, mask=mask, cmap=cmap, vmax=.3, center=0,\n",
    "            square=True, linewidths=.5, cbar_kws={\"shrink\": .5})"
   ]
  },
  {
   "cell_type": "code",
   "execution_count": null,
   "metadata": {},
   "outputs": [],
   "source": []
  }
 ],
 "metadata": {
  "kernelspec": {
   "display_name": "Python 3 (ipykernel)",
   "language": "python",
   "name": "python3"
  },
  "language_info": {
   "codemirror_mode": {
    "name": "ipython",
    "version": 3
   },
   "file_extension": ".py",
   "mimetype": "text/x-python",
   "name": "python",
   "nbconvert_exporter": "python",
   "pygments_lexer": "ipython3",
   "version": "3.9.7"
  }
 },
 "nbformat": 4,
 "nbformat_minor": 4
}
