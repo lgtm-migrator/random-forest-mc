{
 "cells": [
  {
   "cell_type": "markdown",
   "metadata": {},
   "source": [
    "# Template \n",
    "\n",
    "- Author: Israel Oliveira [\\[e-mail\\]](mailto:'Israel%20Oliveira%20'<prof.israel@gmail.com>)"
   ]
  },
  {
   "cell_type": "code",
   "execution_count": 1,
   "metadata": {
    "execution": {
     "iopub.execute_input": "2021-09-13T00:14:44.474447Z",
     "iopub.status.busy": "2021-09-13T00:14:44.472991Z",
     "iopub.status.idle": "2021-09-13T00:14:47.910270Z",
     "shell.execute_reply": "2021-09-13T00:14:47.909299Z",
     "shell.execute_reply.started": "2021-09-13T00:14:44.474056Z"
    }
   },
   "outputs": [
    {
     "name": "stdout",
     "output_type": "stream",
     "text": [
      "Collecting random-forest-mc\n",
      "  Downloading random_forest_mc-0.3.1-py3-none-any.whl (10 kB)\n",
      "Requirement already satisfied: numpy>=1.20 in /usr/local/lib/python3.9/site-packages (from random-forest-mc) (1.20.3)\n",
      "Requirement already satisfied: tqdm>=4.60 in /usr/local/lib/python3.9/site-packages (from random-forest-mc) (4.62.2)\n",
      "Requirement already satisfied: pandas>=1.3 in /usr/local/lib/python3.9/site-packages (from random-forest-mc) (1.3.2)\n",
      "Requirement already satisfied: pytz>=2017.3 in /usr/local/lib/python3.9/site-packages (from pandas>=1.3->random-forest-mc) (2021.1)\n",
      "Requirement already satisfied: python-dateutil>=2.7.3 in /usr/local/lib/python3.9/site-packages (from pandas>=1.3->random-forest-mc) (2.8.2)\n",
      "Requirement already satisfied: six>=1.5 in /usr/local/lib/python3.9/site-packages (from python-dateutil>=2.7.3->pandas>=1.3->random-forest-mc) (1.16.0)\n",
      "Installing collected packages: random-forest-mc\n",
      "Successfully installed random-forest-mc-0.3.1\n",
      "\u001b[33mWARNING: Running pip as the 'root' user can result in broken permissions and conflicting behaviour with the system package manager. It is recommended to use a virtual environment instead: https://pip.pypa.io/warnings/venv\u001b[0m\n"
     ]
    }
   ],
   "source": [
    "!pip3 install -U random-forest-mc"
   ]
  },
  {
   "cell_type": "code",
   "execution_count": 2,
   "metadata": {
    "execution": {
     "iopub.execute_input": "2021-09-13T00:14:47.915326Z",
     "iopub.status.busy": "2021-09-13T00:14:47.915008Z",
     "iopub.status.idle": "2021-09-13T00:14:47.941353Z",
     "shell.execute_reply": "2021-09-13T00:14:47.938683Z",
     "shell.execute_reply.started": "2021-09-13T00:14:47.915295Z"
    }
   },
   "outputs": [],
   "source": [
    "%load_ext watermark"
   ]
  },
  {
   "cell_type": "code",
   "execution_count": 16,
   "metadata": {
    "execution": {
     "iopub.execute_input": "2021-09-13T00:25:46.754606Z",
     "iopub.status.busy": "2021-09-13T00:25:46.751413Z",
     "iopub.status.idle": "2021-09-13T00:25:46.781485Z",
     "shell.execute_reply": "2021-09-13T00:25:46.778365Z",
     "shell.execute_reply.started": "2021-09-13T00:25:46.754450Z"
    },
    "tags": []
   },
   "outputs": [],
   "source": [
    "from random_forest_mc.model import RandomForestMC\n",
    "from random_forest_mc.utils import load_file_json\n",
    "from collections import Counter\n",
    "import pandas as pd\n",
    "import numpy as np"
   ]
  },
  {
   "cell_type": "code",
   "execution_count": 10,
   "metadata": {
    "execution": {
     "iopub.execute_input": "2021-09-13T00:20:08.668904Z",
     "iopub.status.busy": "2021-09-13T00:20:08.667465Z",
     "iopub.status.idle": "2021-09-13T00:20:08.692713Z",
     "shell.execute_reply": "2021-09-13T00:20:08.689477Z",
     "shell.execute_reply.started": "2021-09-13T00:20:08.668760Z"
    },
    "tags": []
   },
   "outputs": [],
   "source": [
    "from tqdm import tqdm\n",
    "\n",
    "# from glob import glob\n",
    "\n",
    "# import matplotlib.pyplot as plt\n",
    "# %matplotlib inline\n",
    "# from matplotlib import rcParams\n",
    "# from cycler import cycler\n",
    "\n",
    "# rcParams['figure.figsize'] = 12, 8 # 18, 5\n",
    "# rcParams['axes.spines.top'] = False\n",
    "# rcParams['axes.spines.right'] = False\n",
    "# rcParams['axes.grid'] = True\n",
    "# rcParams['axes.prop_cycle'] = cycler(color=['#365977'])\n",
    "# rcParams['lines.linewidth'] = 2.5\n",
    "\n",
    "# import seaborn as sns\n",
    "# sns.set_theme()\n",
    "\n",
    "# pd.set_option(\"max_columns\", None)\n",
    "# pd.set_option(\"max_rows\", None)\n",
    "# pd.set_option('display.max_colwidth', None)\n",
    "\n",
    "# from IPython.display import Markdown, display\n",
    "# def md(arg):\n",
    "#     display(Markdown(arg))\n",
    "\n",
    "# from pandas_profiling import ProfileReport\n",
    "# #report = ProfileReport(#DataFrame here#, minimal=True)\n",
    "# #report.to\n",
    "\n",
    "# import pyarrow.parquet as pq\n",
    "# #df = pq.ParquetDataset(path_to_folder_with_parquets, filesystem=None).read_pandas().to_pandas()\n",
    "\n",
    "# import json\n",
    "# def open_file_json(path,mode='r',var=None):\n",
    "#     if mode == 'w':\n",
    "#         with open(path,'w') as f:\n",
    "#             json.dump(var, f)\n",
    "#     if mode == 'r':\n",
    "#         with open(path,'r') as f:\n",
    "#             return json.load(f)\n",
    "\n",
    "# import functools\n",
    "# import operator\n",
    "# def flat(a):\n",
    "#     return functools.reduce(operator.iconcat, a, [])\n",
    "\n",
    "# import json\n",
    "# from glob import glob\n",
    "# from typing import NewType\n",
    "\n",
    "\n",
    "# DictsPathType = NewType(\"DictsPath\", str)\n",
    "\n",
    "\n",
    "# def open_file_json(path):\n",
    "#     with open(path, \"r\") as f:\n",
    "#         return json.load(f)\n",
    "\n",
    "# class LoadDicts:\n",
    "#     def __init__(self, dict_path: DictsPathType = \"./data\"):\n",
    "#         Dicts_glob = glob(f\"{dict_path}/*.json\")\n",
    "#         self.List = []\n",
    "#         self.Dict = {}\n",
    "#         for path_json in Dicts_glob:\n",
    "#             name = path_json.split(\"/\")[-1].replace(\".json\", \"\")\n",
    "#             self.List.append(name)\n",
    "#             self.Dict[name] = open_file_json(path_json)\n",
    "#             setattr(self, name, self.Dict[name])\n"
   ]
  },
  {
   "cell_type": "code",
   "execution_count": 11,
   "metadata": {
    "execution": {
     "iopub.execute_input": "2021-09-13T00:20:08.826378Z",
     "iopub.status.busy": "2021-09-13T00:20:08.825888Z",
     "iopub.status.idle": "2021-09-13T00:20:10.065937Z",
     "shell.execute_reply": "2021-09-13T00:20:10.063369Z",
     "shell.execute_reply.started": "2021-09-13T00:20:08.826348Z"
    },
    "tags": []
   },
   "outputs": [
    {
     "name": "stdout",
     "output_type": "stream",
     "text": [
      "Python implementation: CPython\n",
      "Python version       : 3.9.7\n",
      "IPython version      : 7.27.0\n",
      "\n",
      "Compiler    : GCC 10.2.1 20210110\n",
      "OS          : Linux\n",
      "Release     : 5.11.0-7633-generic\n",
      "Machine     : x86_64\n",
      "Processor   : \n",
      "CPU cores   : 4\n",
      "Architecture: 64bit\n",
      "\n",
      "Git hash: 1455288e7e5a975c6dcb21602b1eaf2480c2aeb5\n",
      "\n",
      "Git repo: https://github.com/ysraell/random-forest-mc.git\n",
      "\n",
      "Git branch: main\n",
      "\n",
      "CPU\t: Intel(R) Core(TM) i7-7500U CPU @ 2.70GHz\n",
      "Mem:            15G\n",
      "Swap:          4.0G\n"
     ]
    }
   ],
   "source": [
    "# Run this cell before close.\n",
    "%watermark -d --iversion -b -r -g -m -v\n",
    "!cat /proc/cpuinfo |grep 'model name'|head -n 1 |sed -e 's/model\\ name/CPU/'\n",
    "!free -h |cut -d'i' -f1  |grep -v total"
   ]
  },
  {
   "cell_type": "code",
   "execution_count": 6,
   "metadata": {
    "execution": {
     "iopub.execute_input": "2021-09-13T00:15:30.690115Z",
     "iopub.status.busy": "2021-09-13T00:15:30.681675Z",
     "iopub.status.idle": "2021-09-13T00:15:30.814494Z",
     "shell.execute_reply": "2021-09-13T00:15:30.813824Z",
     "shell.execute_reply.started": "2021-09-13T00:15:30.689978Z"
    }
   },
   "outputs": [
    {
     "data": {
      "text/plain": [
       "dict_keys(['target_col', 'batch_train_pclass', 'batch_val_pclass', '_N', 'min_feature', 'max_feature', 'th_start', 'delta_th', 'max_discard_trees', 'n_trees', 'class_vals', 'Forest', 'survived_scores', 'version'])"
      ]
     },
     "execution_count": 6,
     "metadata": {},
     "output_type": "execute_result"
    }
   ],
   "source": [
    "modeldict = load_file_json('/work/data/cls_rfmc_v030.json')\n",
    "modeldict.keys()"
   ]
  },
  {
   "cell_type": "code",
   "execution_count": 7,
   "metadata": {
    "execution": {
     "iopub.execute_input": "2021-09-13T00:15:58.172115Z",
     "iopub.status.busy": "2021-09-13T00:15:58.168699Z",
     "iopub.status.idle": "2021-09-13T00:15:58.188404Z",
     "shell.execute_reply": "2021-09-13T00:15:58.187004Z",
     "shell.execute_reply.started": "2021-09-13T00:15:58.171929Z"
    }
   },
   "outputs": [],
   "source": [
    "cls = RandomForestMC()\n",
    "for att in ['numeric_cols','feature_cols','type_of_cols','target_col','class_vals']:\n",
    "    modeldict[att] = None\n",
    "modeldict['version'] = '0.3.0'\n",
    "cls.dict2model(modeldict)"
   ]
  },
  {
   "cell_type": "code",
   "execution_count": 8,
   "metadata": {
    "execution": {
     "iopub.execute_input": "2021-09-13T00:16:07.737246Z",
     "iopub.status.busy": "2021-09-13T00:16:07.736590Z",
     "iopub.status.idle": "2021-09-13T00:16:07.743558Z",
     "shell.execute_reply": "2021-09-13T00:16:07.742629Z",
     "shell.execute_reply.started": "2021-09-13T00:16:07.737202Z"
    }
   },
   "outputs": [
    {
     "data": {
      "text/plain": [
       "128"
      ]
     },
     "execution_count": 8,
     "metadata": {},
     "output_type": "execute_result"
    }
   ],
   "source": [
    "len(cls.Forest)"
   ]
  },
  {
   "cell_type": "code",
   "execution_count": 20,
   "metadata": {
    "execution": {
     "iopub.execute_input": "2021-09-13T00:26:34.995925Z",
     "iopub.status.busy": "2021-09-13T00:26:34.995551Z",
     "iopub.status.idle": "2021-09-13T00:26:35.000038Z",
     "shell.execute_reply": "2021-09-13T00:26:34.999141Z",
     "shell.execute_reply.started": "2021-09-13T00:26:34.995881Z"
    },
    "tags": []
   },
   "outputs": [],
   "source": [
    "cls.target_col = 'Class'"
   ]
  },
  {
   "cell_type": "code",
   "execution_count": 21,
   "metadata": {
    "execution": {
     "iopub.execute_input": "2021-09-13T00:26:35.422009Z",
     "iopub.status.busy": "2021-09-13T00:26:35.420628Z",
     "iopub.status.idle": "2021-09-13T00:26:36.968128Z",
     "shell.execute_reply": "2021-09-13T00:26:36.967563Z",
     "shell.execute_reply.started": "2021-09-13T00:26:35.421933Z"
    },
    "tags": []
   },
   "outputs": [],
   "source": [
    "df = pd.read_csv('/work/data/creditcard_trans_int.csv')\n",
    "target_col = 'Class'\n",
    "ds_cols = ['V1', 'V2', 'V3', 'V4', 'V5', 'V6', 'V7', 'V8', 'V9', 'V10', 'V11', 'V12', 'V13', 'V14', 'V15', 'V16', 'V17', 'V18', 'V19', 'V20', 'V21', 'V22', 'V23', 'V24', 'V25', 'V26', 'V27', 'V28', 'Amount']\n",
    "df = df[ds_cols+[target_col]].dropna()\n",
    "cls.process_dataset(df)"
   ]
  },
  {
   "cell_type": "markdown",
   "metadata": {},
   "source": [
    "# Count"
   ]
  },
  {
   "cell_type": "code",
   "execution_count": 115,
   "metadata": {
    "execution": {
     "iopub.execute_input": "2021-09-13T00:54:59.798215Z",
     "iopub.status.busy": "2021-09-13T00:54:59.797442Z",
     "iopub.status.idle": "2021-09-13T00:54:59.804270Z",
     "shell.execute_reply": "2021-09-13T00:54:59.803354Z",
     "shell.execute_reply.started": "2021-09-13T00:54:59.798176Z"
    },
    "tags": []
   },
   "outputs": [
    {
     "data": {
      "text/plain": [
       "True"
      ]
     },
     "execution_count": 115,
     "metadata": {},
     "output_type": "execute_result"
    }
   ],
   "source": [
    "\"\\'V1\\'\" in str(cls.Forest[0])"
   ]
  },
  {
   "cell_type": "code",
   "execution_count": 116,
   "metadata": {
    "execution": {
     "iopub.execute_input": "2021-09-13T00:55:05.624722Z",
     "iopub.status.busy": "2021-09-13T00:55:05.623925Z",
     "iopub.status.idle": "2021-09-13T00:55:06.476025Z",
     "shell.execute_reply": "2021-09-13T00:55:06.475403Z",
     "shell.execute_reply.started": "2021-09-13T00:55:05.624673Z"
    },
    "tags": []
   },
   "outputs": [
    {
     "data": {
      "text/plain": [
       "[('V14', 0.8046875),\n",
       " ('V4', 0.75),\n",
       " ('V16', 0.4375),\n",
       " ('V12', 0.4296875),\n",
       " ('V3', 0.3984375),\n",
       " ('V10', 0.3984375),\n",
       " ('V17', 0.375),\n",
       " ('V5', 0.34375),\n",
       " ('V11', 0.34375),\n",
       " ('Amount', 0.328125),\n",
       " ('V1', 0.3203125),\n",
       " ('V2', 0.3046875),\n",
       " ('V7', 0.2890625),\n",
       " ('V19', 0.2890625),\n",
       " ('V8', 0.28125),\n",
       " ('V18', 0.28125),\n",
       " ('V15', 0.2578125),\n",
       " ('V21', 0.2578125),\n",
       " ('V24', 0.234375),\n",
       " ('V9', 0.2265625),\n",
       " ('V23', 0.2265625),\n",
       " ('V28', 0.2265625),\n",
       " ('V20', 0.203125),\n",
       " ('V22', 0.203125),\n",
       " ('V6', 0.1953125),\n",
       " ('V13', 0.1796875),\n",
       " ('V26', 0.1640625),\n",
       " ('V27', 0.1484375),\n",
       " ('V25', 0.125)]"
      ]
     },
     "execution_count": 116,
     "metadata": {},
     "output_type": "execute_result"
    }
   ],
   "source": [
    "feat_counts = {feat: sum([f\"'{feat}'\" in str(Tree) for Tree in cls.Forest])/len(cls.Forest) for feat in cls.feature_cols}\n",
    "sorted(feat_counts.items(), key=lambda x: x[1], reverse=True)"
   ]
  },
  {
   "cell_type": "code",
   "execution_count": 129,
   "metadata": {
    "execution": {
     "iopub.execute_input": "2021-09-13T01:05:27.523599Z",
     "iopub.status.busy": "2021-09-13T01:05:27.523018Z",
     "iopub.status.idle": "2021-09-13T01:05:28.377247Z",
     "shell.execute_reply": "2021-09-13T01:05:28.376646Z",
     "shell.execute_reply.started": "2021-09-13T01:05:27.523530Z"
    },
    "tags": []
   },
   "outputs": [
    {
     "data": {
      "text/plain": [
       "[('V22', 0.9237355110642783),\n",
       " ('V8', 0.9237062404870624),\n",
       " ('V20', 0.9234720758693361),\n",
       " ('V21', 0.9232046492320464),\n",
       " ('V28', 0.9222957014643363),\n",
       " ('V16', 0.922272504892368),\n",
       " ('V5', 0.9220890410958907),\n",
       " ('V11', 0.9220890410958907),\n",
       " ('V4', 0.9220890410958905),\n",
       " ('V3', 0.9219715283373626),\n",
       " ('V19', 0.9217882265827473),\n",
       " ('V25', 0.9214469178082192),\n",
       " ('V14', 0.9211663785077804),\n",
       " ('V13', 0.9209350804050026),\n",
       " ('Amount', 0.9208251793868234),\n",
       " ('V7', 0.9207700851536469),\n",
       " ('V18', 0.9207572298325724),\n",
       " ('V10', 0.9206956755304861),\n",
       " ('V1', 0.9206481790845308),\n",
       " ('V6', 0.9205479452054794),\n",
       " ('V12', 0.9203611457036116),\n",
       " ('V17', 0.9202340182648401),\n",
       " ('V9', 0.919933868682097),\n",
       " ('V27', 0.9197909156452774),\n",
       " ('V15', 0.9197799916977998),\n",
       " ('V2', 0.9193010186160874),\n",
       " ('V26', 0.9192759295499021),\n",
       " ('V23', 0.9188710439300894),\n",
       " ('V24', 0.9187214611872143)]"
      ]
     },
     "execution_count": 129,
     "metadata": {},
     "output_type": "execute_result"
    }
   ],
   "source": [
    "sum_scores = sum(cls.survived_scores)\n",
    "feat_counts = {feat: np.mean(list(filter(lambda num: num != 0,[(f\"'{feat}'\" in str(Tree))*score for Tree,score in zip(cls.Forest,cls.survived_scores)]))) for feat in cls.feature_cols}\n",
    "sorted(feat_counts.items(), key=lambda x: x[1], reverse=True)"
   ]
  },
  {
   "cell_type": "code",
   "execution_count": 26,
   "metadata": {
    "execution": {
     "iopub.execute_input": "2021-09-13T00:29:28.007558Z",
     "iopub.status.busy": "2021-09-13T00:29:28.004217Z",
     "iopub.status.idle": "2021-09-13T00:33:56.355097Z",
     "shell.execute_reply": "2021-09-13T00:33:56.354429Z",
     "shell.execute_reply.started": "2021-09-13T00:29:28.007385Z"
    }
   },
   "outputs": [
    {
     "data": {
      "text/plain": [
       "RandomForestClassifier()"
      ]
     },
     "execution_count": 26,
     "metadata": {},
     "output_type": "execute_result"
    }
   ],
   "source": [
    "from sklearn.ensemble import RandomForestClassifier\n",
    "\n",
    "forest = RandomForestClassifier()\n",
    "forest.fit(df[ds_cols], df[target_col])"
   ]
  },
  {
   "cell_type": "code",
   "execution_count": 35,
   "metadata": {
    "execution": {
     "iopub.execute_input": "2021-09-13T00:38:51.500085Z",
     "iopub.status.busy": "2021-09-13T00:38:51.499577Z",
     "iopub.status.idle": "2021-09-13T00:38:51.520917Z",
     "shell.execute_reply": "2021-09-13T00:38:51.520371Z",
     "shell.execute_reply.started": "2021-09-13T00:38:51.500022Z"
    },
    "tags": []
   },
   "outputs": [],
   "source": [
    "feat_counts_baseline = {feat: score for feat,score in zip(ds_cols, forest.feature_importances_)}"
   ]
  },
  {
   "cell_type": "code",
   "execution_count": 36,
   "metadata": {
    "execution": {
     "iopub.execute_input": "2021-09-13T00:38:52.140086Z",
     "iopub.status.busy": "2021-09-13T00:38:52.139572Z",
     "iopub.status.idle": "2021-09-13T00:38:52.151017Z",
     "shell.execute_reply": "2021-09-13T00:38:52.149863Z",
     "shell.execute_reply.started": "2021-09-13T00:38:52.140036Z"
    },
    "tags": []
   },
   "outputs": [
    {
     "data": {
      "text/plain": [
       "[('V12', 0.145750137242988),\n",
       " ('V17', 0.13073994696652233),\n",
       " ('V14', 0.10869943505722834),\n",
       " ('V10', 0.10659552465814812),\n",
       " ('V11', 0.07494282109076995),\n",
       " ('V16', 0.07007434988401999),\n",
       " ('V9', 0.03723455894197347),\n",
       " ('V18', 0.031377649659517226),\n",
       " ('V7', 0.02974542566681773),\n",
       " ('V4', 0.02442541464406295),\n",
       " ('V26', 0.020258285882117703),\n",
       " ('V21', 0.01801605889498627),\n",
       " ('V1', 0.01675503823468746),\n",
       " ('V6', 0.016007484083145247),\n",
       " ('V3', 0.014916958829971082),\n",
       " ('V20', 0.01349498078472359),\n",
       " ('V27', 0.012218137804112314),\n",
       " ('V8', 0.011852712616607844),\n",
       " ('V19', 0.011730061830087143),\n",
       " ('V5', 0.011602808187383826),\n",
       " ('Amount', 0.01133494532179039),\n",
       " ('V2', 0.011281574126221659),\n",
       " ('V28', 0.011259359502862502),\n",
       " ('V13', 0.01094957985420983),\n",
       " ('V22', 0.010747722550576653),\n",
       " ('V25', 0.010685071237540667),\n",
       " ('V15', 0.010582035128143272),\n",
       " ('V24', 0.009877699910013103),\n",
       " ('V23', 0.006844221408771363)]"
      ]
     },
     "execution_count": 36,
     "metadata": {},
     "output_type": "execute_result"
    }
   ],
   "source": [
    "sorted(feat_counts_baseline.items(), key=lambda x: x[1], reverse=True)"
   ]
  },
  {
   "cell_type": "code",
   "execution_count": 126,
   "metadata": {
    "execution": {
     "iopub.execute_input": "2021-09-13T00:57:13.913292Z",
     "iopub.status.busy": "2021-09-13T00:57:13.912257Z",
     "iopub.status.idle": "2021-09-13T00:57:14.336271Z",
     "shell.execute_reply": "2021-09-13T00:57:14.335592Z",
     "shell.execute_reply.started": "2021-09-13T00:57:13.913227Z"
    },
    "tags": []
   },
   "outputs": [
    {
     "data": {
      "text/plain": [
       "[('V6', 0.7501953125),\n",
       " ('V4', 0.74755859375),\n",
       " ('V28', 0.747265625),\n",
       " ('V11', 0.74677734375),\n",
       " ('V5', 0.746484375),\n",
       " ('V7', 0.74521484375),\n",
       " ('V12', 0.74521484375),\n",
       " ('V15', 0.74482421875),\n",
       " ('V16', 0.7447265625),\n",
       " ('V2', 0.74462890625),\n",
       " ('V3', 0.744140625),\n",
       " ('V13', 0.7431640625),\n",
       " ('Amount', 0.7431640625),\n",
       " ('V18', 0.74267578125),\n",
       " ('V19', 0.7423828125),\n",
       " ('V20', 0.7423828125),\n",
       " ('V17', 0.7419921875),\n",
       " ('V8', 0.7416015625),\n",
       " ('V14', 0.74130859375),\n",
       " ('V26', 0.7408203125),\n",
       " ('V9', 0.7404296875),\n",
       " ('V10', 0.74013671875),\n",
       " ('V25', 0.74013671875),\n",
       " ('V22', 0.739453125),\n",
       " ('V23', 0.739453125),\n",
       " ('V1', 0.738671875),\n",
       " ('V24', 0.73740234375),\n",
       " ('V27', 0.7353515625),\n",
       " ('V21', 0.73486328125)]"
      ]
     },
     "execution_count": 126,
     "metadata": {},
     "output_type": "execute_result"
    }
   ],
   "source": [
    "ForestFake = [str(cls.sampleFeats()) for _ in range(1024*10)]\n",
    "feat_counts = {feat: sum([f\"'{feat}'\" in str(Tree) for Tree in ForestFake])/len(ForestFake) for feat in cls.feature_cols}\n",
    "sorted(feat_counts.items(), key=lambda x: x[1], reverse=True)"
   ]
  },
  {
   "cell_type": "code",
   "execution_count": null,
   "metadata": {},
   "outputs": [],
   "source": []
  }
 ],
 "metadata": {
  "kernelspec": {
   "display_name": "Python 3 (ipykernel)",
   "language": "python",
   "name": "python3"
  },
  "language_info": {
   "codemirror_mode": {
    "name": "ipython",
    "version": 3
   },
   "file_extension": ".py",
   "mimetype": "text/x-python",
   "name": "python",
   "nbconvert_exporter": "python",
   "pygments_lexer": "ipython3",
   "version": "3.9.7"
  }
 },
 "nbformat": 4,
 "nbformat_minor": 4
}
