{
 "cells": [
  {
   "cell_type": "markdown",
   "metadata": {},
   "source": [
    "# Template \n",
    "\n",
    "- Author: Israel Oliveira [\\[e-mail\\]](mailto:'Israel%20Oliveira%20'<prof.israel@gmail.com>)"
   ]
  },
  {
   "cell_type": "code",
   "execution_count": 1,
   "metadata": {
    "execution": {
     "iopub.execute_input": "2021-09-12T20:18:53.473081Z",
     "iopub.status.busy": "2021-09-12T20:18:53.472030Z",
     "iopub.status.idle": "2021-09-12T20:18:55.659085Z",
     "shell.execute_reply": "2021-09-12T20:18:55.656790Z",
     "shell.execute_reply.started": "2021-09-12T20:18:53.472849Z"
    },
    "tags": []
   },
   "outputs": [
    {
     "name": "stdout",
     "output_type": "stream",
     "text": [
      "Requirement already satisfied: random-forest-mc in /usr/local/lib/python3.9/site-packages (0.3.1)\n",
      "Requirement already satisfied: numpy>=1.20 in /usr/local/lib/python3.9/site-packages (from random-forest-mc) (1.20.3)\n",
      "Requirement already satisfied: tqdm>=4.60 in /usr/local/lib/python3.9/site-packages (from random-forest-mc) (4.62.2)\n",
      "Requirement already satisfied: poetry-version<0.2.0,>=0.1.5 in /usr/local/lib/python3.9/site-packages (from random-forest-mc) (0.1.5)\n",
      "Requirement already satisfied: pandas>=1.3 in /usr/local/lib/python3.9/site-packages (from random-forest-mc) (1.3.2)\n",
      "Requirement already satisfied: python-dateutil>=2.7.3 in /usr/local/lib/python3.9/site-packages (from pandas>=1.3->random-forest-mc) (2.8.2)\n",
      "Requirement already satisfied: pytz>=2017.3 in /usr/local/lib/python3.9/site-packages (from pandas>=1.3->random-forest-mc) (2021.1)\n",
      "Requirement already satisfied: tomlkit<0.6.0,>=0.4.6 in /usr/local/lib/python3.9/site-packages (from poetry-version<0.2.0,>=0.1.5->random-forest-mc) (0.5.11)\n",
      "Requirement already satisfied: six>=1.5 in /usr/local/lib/python3.9/site-packages (from python-dateutil>=2.7.3->pandas>=1.3->random-forest-mc) (1.16.0)\n",
      "\u001b[33mWARNING: Running pip as the 'root' user can result in broken permissions and conflicting behaviour with the system package manager. It is recommended to use a virtual environment instead: https://pip.pypa.io/warnings/venv\u001b[0m\n"
     ]
    }
   ],
   "source": [
    "!pip3 install random-forest-mc"
   ]
  },
  {
   "cell_type": "code",
   "execution_count": 1,
   "metadata": {
    "execution": {
     "iopub.execute_input": "2021-09-12T20:27:00.340795Z",
     "iopub.status.busy": "2021-09-12T20:27:00.339041Z",
     "iopub.status.idle": "2021-09-12T20:27:00.373909Z",
     "shell.execute_reply": "2021-09-12T20:27:00.369869Z",
     "shell.execute_reply.started": "2021-09-12T20:27:00.340598Z"
    },
    "tags": []
   },
   "outputs": [],
   "source": [
    "%load_ext watermark"
   ]
  },
  {
   "cell_type": "code",
   "execution_count": 2,
   "metadata": {
    "execution": {
     "iopub.execute_input": "2021-09-12T20:27:00.738488Z",
     "iopub.status.busy": "2021-09-12T20:27:00.733973Z",
     "iopub.status.idle": "2021-09-12T20:27:01.239598Z",
     "shell.execute_reply": "2021-09-12T20:27:01.239031Z",
     "shell.execute_reply.started": "2021-09-12T20:27:00.736550Z"
    },
    "tags": []
   },
   "outputs": [],
   "source": [
    "from random_forest_mc.model import RandomForestMC\n",
    "from random_forest_mc.utils import load_file_json"
   ]
  },
  {
   "cell_type": "code",
   "execution_count": 3,
   "metadata": {
    "execution": {
     "iopub.execute_input": "2021-09-12T20:27:01.663855Z",
     "iopub.status.busy": "2021-09-12T20:27:01.663141Z",
     "iopub.status.idle": "2021-09-12T20:27:01.676406Z",
     "shell.execute_reply": "2021-09-12T20:27:01.675142Z",
     "shell.execute_reply.started": "2021-09-12T20:27:01.663786Z"
    },
    "tags": []
   },
   "outputs": [],
   "source": [
    "# from tqdm import tqdm\n",
    "\n",
    "# from glob import glob\n",
    "\n",
    "# import matplotlib.pyplot as plt\n",
    "# %matplotlib inline\n",
    "# from matplotlib import rcParams\n",
    "# from cycler import cycler\n",
    "\n",
    "# rcParams['figure.figsize'] = 12, 8 # 18, 5\n",
    "# rcParams['axes.spines.top'] = False\n",
    "# rcParams['axes.spines.right'] = False\n",
    "# rcParams['axes.grid'] = True\n",
    "# rcParams['axes.prop_cycle'] = cycler(color=['#365977'])\n",
    "# rcParams['lines.linewidth'] = 2.5\n",
    "\n",
    "# import seaborn as sns\n",
    "# sns.set_theme()\n",
    "\n",
    "# pd.set_option(\"max_columns\", None)\n",
    "# pd.set_option(\"max_rows\", None)\n",
    "# pd.set_option('display.max_colwidth', None)\n",
    "\n",
    "# from IPython.display import Markdown, display\n",
    "# def md(arg):\n",
    "#     display(Markdown(arg))\n",
    "\n",
    "# from pandas_profiling import ProfileReport\n",
    "# #report = ProfileReport(#DataFrame here#, minimal=True)\n",
    "# #report.to\n",
    "\n",
    "# import pyarrow.parquet as pq\n",
    "# #df = pq.ParquetDataset(path_to_folder_with_parquets, filesystem=None).read_pandas().to_pandas()\n",
    "\n",
    "# import json\n",
    "# def open_file_json(path,mode='r',var=None):\n",
    "#     if mode == 'w':\n",
    "#         with open(path,'w') as f:\n",
    "#             json.dump(var, f)\n",
    "#     if mode == 'r':\n",
    "#         with open(path,'r') as f:\n",
    "#             return json.load(f)\n",
    "\n",
    "# import functools\n",
    "# import operator\n",
    "# def flat(a):\n",
    "#     return functools.reduce(operator.iconcat, a, [])\n",
    "\n",
    "# import json\n",
    "# from glob import glob\n",
    "# from typing import NewType\n",
    "\n",
    "\n",
    "# DictsPathType = NewType(\"DictsPath\", str)\n",
    "\n",
    "\n",
    "# def open_file_json(path):\n",
    "#     with open(path, \"r\") as f:\n",
    "#         return json.load(f)\n",
    "\n",
    "# class LoadDicts:\n",
    "#     def __init__(self, dict_path: DictsPathType = \"./data\"):\n",
    "#         Dicts_glob = glob(f\"{dict_path}/*.json\")\n",
    "#         self.List = []\n",
    "#         self.Dict = {}\n",
    "#         for path_json in Dicts_glob:\n",
    "#             name = path_json.split(\"/\")[-1].replace(\".json\", \"\")\n",
    "#             self.List.append(name)\n",
    "#             self.Dict[name] = open_file_json(path_json)\n",
    "#             setattr(self, name, self.Dict[name])\n"
   ]
  },
  {
   "cell_type": "code",
   "execution_count": 4,
   "metadata": {
    "execution": {
     "iopub.execute_input": "2021-09-12T20:27:02.149721Z",
     "iopub.status.busy": "2021-09-12T20:27:02.147558Z",
     "iopub.status.idle": "2021-09-12T20:27:03.440287Z",
     "shell.execute_reply": "2021-09-12T20:27:03.437659Z",
     "shell.execute_reply.started": "2021-09-12T20:27:02.149616Z"
    },
    "tags": []
   },
   "outputs": [
    {
     "name": "stdout",
     "output_type": "stream",
     "text": [
      "Python implementation: CPython\n",
      "Python version       : 3.9.7\n",
      "IPython version      : 7.27.0\n",
      "\n",
      "Compiler    : GCC 10.2.1 20210110\n",
      "OS          : Linux\n",
      "Release     : 5.11.0-7633-generic\n",
      "Machine     : x86_64\n",
      "Processor   : \n",
      "CPU cores   : 4\n",
      "Architecture: 64bit\n",
      "\n",
      "Git hash: 3fbd603373bd3e92596950df909dd8fee4412f19\n",
      "\n",
      "Git repo: https://github.com/ysraell/random-forest-mc.git\n",
      "\n",
      "Git branch: main\n",
      "\n",
      "CPU\t: Intel(R) Core(TM) i7-7500U CPU @ 2.70GHz\n",
      "Mem:            15G\n",
      "Swap:          4.0G\n"
     ]
    }
   ],
   "source": [
    "# Run this cell before close.\n",
    "%watermark -d --iversion -b -r -g -m -v\n",
    "!cat /proc/cpuinfo |grep 'model name'|head -n 1 |sed -e 's/model\\ name/CPU/'\n",
    "!free -h |cut -d'i' -f1  |grep -v total"
   ]
  },
  {
   "cell_type": "code",
   "execution_count": 5,
   "metadata": {
    "execution": {
     "iopub.execute_input": "2021-09-12T20:27:03.452728Z",
     "iopub.status.busy": "2021-09-12T20:27:03.450487Z",
     "iopub.status.idle": "2021-09-12T20:27:03.549721Z",
     "shell.execute_reply": "2021-09-12T20:27:03.549088Z",
     "shell.execute_reply.started": "2021-09-12T20:27:03.452562Z"
    },
    "tags": []
   },
   "outputs": [
    {
     "data": {
      "text/plain": [
       "dict_keys(['target_col', 'batch_train_pclass', 'batch_val_pclass', '_N', 'min_feature', 'max_feature', 'th_start', 'delta_th', 'max_discard_trees', 'n_trees', 'class_vals', 'Forest', 'survived_scores', 'version'])"
      ]
     },
     "execution_count": 5,
     "metadata": {},
     "output_type": "execute_result"
    }
   ],
   "source": [
    "modeldict = load_file_json('/work/data/cls_rfmc_v030.json')\n",
    "modeldict.keys()"
   ]
  },
  {
   "cell_type": "code",
   "execution_count": 6,
   "metadata": {
    "execution": {
     "iopub.execute_input": "2021-09-12T20:27:03.550950Z",
     "iopub.status.busy": "2021-09-12T20:27:03.550685Z",
     "iopub.status.idle": "2021-09-12T20:27:03.556160Z",
     "shell.execute_reply": "2021-09-12T20:27:03.555591Z",
     "shell.execute_reply.started": "2021-09-12T20:27:03.550915Z"
    },
    "tags": []
   },
   "outputs": [
    {
     "data": {
      "text/plain": [
       "['batch_train_pclass',\n",
       " 'batch_val_pclass',\n",
       " '_N',\n",
       " 'min_feature',\n",
       " 'max_feature',\n",
       " 'th_start',\n",
       " 'delta_th',\n",
       " 'max_discard_trees',\n",
       " 'n_trees',\n",
       " 'class_vals',\n",
       " 'Forest',\n",
       " 'survived_scores',\n",
       " 'version',\n",
       " 'numeric_cols',\n",
       " 'feature_cols',\n",
       " 'type_of_cols',\n",
       " 'target_col',\n",
       " 'class_vals']"
      ]
     },
     "execution_count": 6,
     "metadata": {},
     "output_type": "execute_result"
    }
   ],
   "source": [
    "cls = RandomForestMC()\n",
    "cls.attr_to_save"
   ]
  },
  {
   "cell_type": "code",
   "execution_count": 7,
   "metadata": {
    "execution": {
     "iopub.execute_input": "2021-09-12T20:27:04.304488Z",
     "iopub.status.busy": "2021-09-12T20:27:04.302246Z",
     "iopub.status.idle": "2021-09-12T20:27:04.318320Z",
     "shell.execute_reply": "2021-09-12T20:27:04.315188Z",
     "shell.execute_reply.started": "2021-09-12T20:27:04.304372Z"
    },
    "tags": []
   },
   "outputs": [],
   "source": [
    "for att in ['numeric_cols','feature_cols','type_of_cols','target_col','class_vals']:\n",
    "    modeldict[att] = None\n",
    "modeldict['version'] = '0.3.0'"
   ]
  },
  {
   "cell_type": "code",
   "execution_count": 8,
   "metadata": {
    "execution": {
     "iopub.execute_input": "2021-09-12T20:27:05.172851Z",
     "iopub.status.busy": "2021-09-12T20:27:05.171457Z",
     "iopub.status.idle": "2021-09-12T20:27:05.179416Z",
     "shell.execute_reply": "2021-09-12T20:27:05.178010Z",
     "shell.execute_reply.started": "2021-09-12T20:27:05.172767Z"
    },
    "tags": []
   },
   "outputs": [],
   "source": [
    "cls.dict2model(modeldict)"
   ]
  },
  {
   "cell_type": "code",
   "execution_count": 9,
   "metadata": {
    "execution": {
     "iopub.execute_input": "2021-09-12T20:27:05.763551Z",
     "iopub.status.busy": "2021-09-12T20:27:05.761378Z",
     "iopub.status.idle": "2021-09-12T20:27:05.784049Z",
     "shell.execute_reply": "2021-09-12T20:27:05.779584Z",
     "shell.execute_reply.started": "2021-09-12T20:27:05.763445Z"
    },
    "tags": []
   },
   "outputs": [
    {
     "data": {
      "text/plain": [
       "RandomForestMC(len(Forest)=128,n_trees=32,model_version=0.3.0,module_version=0.3.1)"
      ]
     },
     "execution_count": 9,
     "metadata": {},
     "output_type": "execute_result"
    }
   ],
   "source": [
    "cls"
   ]
  },
  {
   "cell_type": "code",
   "execution_count": null,
   "metadata": {},
   "outputs": [],
   "source": []
  }
 ],
 "metadata": {
  "kernelspec": {
   "display_name": "Python 3 (ipykernel)",
   "language": "python",
   "name": "python3"
  },
  "language_info": {
   "codemirror_mode": {
    "name": "ipython",
    "version": 3
   },
   "file_extension": ".py",
   "mimetype": "text/x-python",
   "name": "python",
   "nbconvert_exporter": "python",
   "pygments_lexer": "ipython3",
   "version": "3.9.7"
  }
 },
 "nbformat": 4,
 "nbformat_minor": 4
}
