{
 "cells": [
  {
   "cell_type": "markdown",
   "metadata": {},
   "source": [
    "# Template \n",
    "\n",
    "- Author: Israel Oliveira [\\[e-mail\\]](mailto:'Israel%20Oliveira%20'<prof.israel@gmail.com>)"
   ]
  },
  {
   "cell_type": "code",
   "execution_count": 2,
   "metadata": {
    "execution": {
     "iopub.execute_input": "2021-09-12T20:34:07.368458Z",
     "iopub.status.busy": "2021-09-12T20:34:07.367994Z",
     "iopub.status.idle": "2021-09-12T20:34:11.362305Z",
     "shell.execute_reply": "2021-09-12T20:34:11.359746Z",
     "shell.execute_reply.started": "2021-09-12T20:34:07.368401Z"
    },
    "tags": []
   },
   "outputs": [
    {
     "name": "stdout",
     "output_type": "stream",
     "text": [
      "Requirement already satisfied: random-forest-mc in /usr/local/lib/python3.9/site-packages (0.3.0)\n",
      "Collecting random-forest-mc\n",
      "  Downloading random_forest_mc-0.3.1-py3-none-any.whl (10 kB)\n",
      "Requirement already satisfied: tqdm>=4.60 in /usr/local/lib/python3.9/site-packages (from random-forest-mc) (4.62.2)\n",
      "Requirement already satisfied: pandas>=1.3 in /usr/local/lib/python3.9/site-packages (from random-forest-mc) (1.3.2)\n",
      "Requirement already satisfied: numpy>=1.20 in /usr/local/lib/python3.9/site-packages (from random-forest-mc) (1.20.3)\n",
      "Requirement already satisfied: pytz>=2017.3 in /usr/local/lib/python3.9/site-packages (from pandas>=1.3->random-forest-mc) (2021.1)\n",
      "Requirement already satisfied: python-dateutil>=2.7.3 in /usr/local/lib/python3.9/site-packages (from pandas>=1.3->random-forest-mc) (2.8.2)\n",
      "Requirement already satisfied: six>=1.5 in /usr/local/lib/python3.9/site-packages (from python-dateutil>=2.7.3->pandas>=1.3->random-forest-mc) (1.16.0)\n",
      "Installing collected packages: random-forest-mc\n",
      "  Attempting uninstall: random-forest-mc\n",
      "    Found existing installation: random-forest-mc 0.3.0\n",
      "    Uninstalling random-forest-mc-0.3.0:\n",
      "      Successfully uninstalled random-forest-mc-0.3.0\n",
      "Successfully installed random-forest-mc-0.3.1\n",
      "\u001b[33mWARNING: Running pip as the 'root' user can result in broken permissions and conflicting behaviour with the system package manager. It is recommended to use a virtual environment instead: https://pip.pypa.io/warnings/venv\u001b[0m\n"
     ]
    }
   ],
   "source": [
    "!pip3 install -U random-forest-mc"
   ]
  },
  {
   "cell_type": "code",
   "execution_count": 3,
   "metadata": {
    "execution": {
     "iopub.execute_input": "2021-09-12T20:34:13.396950Z",
     "iopub.status.busy": "2021-09-12T20:34:13.396598Z",
     "iopub.status.idle": "2021-09-12T20:34:13.419466Z",
     "shell.execute_reply": "2021-09-12T20:34:13.418110Z",
     "shell.execute_reply.started": "2021-09-12T20:34:13.396918Z"
    },
    "tags": []
   },
   "outputs": [],
   "source": [
    "%load_ext watermark"
   ]
  },
  {
   "cell_type": "code",
   "execution_count": 4,
   "metadata": {
    "execution": {
     "iopub.execute_input": "2021-09-12T20:34:13.729833Z",
     "iopub.status.busy": "2021-09-12T20:34:13.727660Z",
     "iopub.status.idle": "2021-09-12T20:34:14.219426Z",
     "shell.execute_reply": "2021-09-12T20:34:14.218860Z",
     "shell.execute_reply.started": "2021-09-12T20:34:13.729694Z"
    },
    "tags": []
   },
   "outputs": [],
   "source": [
    "from random_forest_mc.model import RandomForestMC\n",
    "from random_forest_mc.utils import load_file_json"
   ]
  },
  {
   "cell_type": "code",
   "execution_count": 5,
   "metadata": {
    "execution": {
     "iopub.execute_input": "2021-09-12T20:34:14.220818Z",
     "iopub.status.busy": "2021-09-12T20:34:14.220571Z",
     "iopub.status.idle": "2021-09-12T20:34:14.228085Z",
     "shell.execute_reply": "2021-09-12T20:34:14.227214Z",
     "shell.execute_reply.started": "2021-09-12T20:34:14.220785Z"
    },
    "tags": []
   },
   "outputs": [],
   "source": [
    "# from tqdm import tqdm\n",
    "\n",
    "# from glob import glob\n",
    "\n",
    "# import matplotlib.pyplot as plt\n",
    "# %matplotlib inline\n",
    "# from matplotlib import rcParams\n",
    "# from cycler import cycler\n",
    "\n",
    "# rcParams['figure.figsize'] = 12, 8 # 18, 5\n",
    "# rcParams['axes.spines.top'] = False\n",
    "# rcParams['axes.spines.right'] = False\n",
    "# rcParams['axes.grid'] = True\n",
    "# rcParams['axes.prop_cycle'] = cycler(color=['#365977'])\n",
    "# rcParams['lines.linewidth'] = 2.5\n",
    "\n",
    "# import seaborn as sns\n",
    "# sns.set_theme()\n",
    "\n",
    "# pd.set_option(\"max_columns\", None)\n",
    "# pd.set_option(\"max_rows\", None)\n",
    "# pd.set_option('display.max_colwidth', None)\n",
    "\n",
    "# from IPython.display import Markdown, display\n",
    "# def md(arg):\n",
    "#     display(Markdown(arg))\n",
    "\n",
    "# from pandas_profiling import ProfileReport\n",
    "# #report = ProfileReport(#DataFrame here#, minimal=True)\n",
    "# #report.to\n",
    "\n",
    "# import pyarrow.parquet as pq\n",
    "# #df = pq.ParquetDataset(path_to_folder_with_parquets, filesystem=None).read_pandas().to_pandas()\n",
    "\n",
    "# import json\n",
    "# def open_file_json(path,mode='r',var=None):\n",
    "#     if mode == 'w':\n",
    "#         with open(path,'w') as f:\n",
    "#             json.dump(var, f)\n",
    "#     if mode == 'r':\n",
    "#         with open(path,'r') as f:\n",
    "#             return json.load(f)\n",
    "\n",
    "# import functools\n",
    "# import operator\n",
    "# def flat(a):\n",
    "#     return functools.reduce(operator.iconcat, a, [])\n",
    "\n",
    "# import json\n",
    "# from glob import glob\n",
    "# from typing import NewType\n",
    "\n",
    "\n",
    "# DictsPathType = NewType(\"DictsPath\", str)\n",
    "\n",
    "\n",
    "# def open_file_json(path):\n",
    "#     with open(path, \"r\") as f:\n",
    "#         return json.load(f)\n",
    "\n",
    "# class LoadDicts:\n",
    "#     def __init__(self, dict_path: DictsPathType = \"./data\"):\n",
    "#         Dicts_glob = glob(f\"{dict_path}/*.json\")\n",
    "#         self.List = []\n",
    "#         self.Dict = {}\n",
    "#         for path_json in Dicts_glob:\n",
    "#             name = path_json.split(\"/\")[-1].replace(\".json\", \"\")\n",
    "#             self.List.append(name)\n",
    "#             self.Dict[name] = open_file_json(path_json)\n",
    "#             setattr(self, name, self.Dict[name])\n"
   ]
  },
  {
   "cell_type": "code",
   "execution_count": 6,
   "metadata": {
    "execution": {
     "iopub.execute_input": "2021-09-12T20:34:14.520187Z",
     "iopub.status.busy": "2021-09-12T20:34:14.517677Z",
     "iopub.status.idle": "2021-09-12T20:34:15.817615Z",
     "shell.execute_reply": "2021-09-12T20:34:15.816364Z",
     "shell.execute_reply.started": "2021-09-12T20:34:14.520058Z"
    },
    "tags": []
   },
   "outputs": [
    {
     "name": "stdout",
     "output_type": "stream",
     "text": [
      "Python implementation: CPython\n",
      "Python version       : 3.9.7\n",
      "IPython version      : 7.27.0\n",
      "\n",
      "Compiler    : GCC 10.2.1 20210110\n",
      "OS          : Linux\n",
      "Release     : 5.11.0-7633-generic\n",
      "Machine     : x86_64\n",
      "Processor   : \n",
      "CPU cores   : 4\n",
      "Architecture: 64bit\n",
      "\n",
      "Git hash: 3a9caa2ae56f32d5bb5edce52b91d23e0fbb557f\n",
      "\n",
      "Git repo: https://github.com/ysraell/random-forest-mc.git\n",
      "\n",
      "Git branch: main\n",
      "\n",
      "CPU\t: Intel(R) Core(TM) i7-7500U CPU @ 2.70GHz\n",
      "Mem:            15G\n",
      "Swap:          4.0G\n"
     ]
    }
   ],
   "source": [
    "# Run this cell before close.\n",
    "%watermark -d --iversion -b -r -g -m -v\n",
    "!cat /proc/cpuinfo |grep 'model name'|head -n 1 |sed -e 's/model\\ name/CPU/'\n",
    "!free -h |cut -d'i' -f1  |grep -v total"
   ]
  },
  {
   "cell_type": "code",
   "execution_count": 7,
   "metadata": {
    "execution": {
     "iopub.execute_input": "2021-09-12T20:34:15.822308Z",
     "iopub.status.busy": "2021-09-12T20:34:15.821067Z",
     "iopub.status.idle": "2021-09-12T20:34:15.912630Z",
     "shell.execute_reply": "2021-09-12T20:34:15.911980Z",
     "shell.execute_reply.started": "2021-09-12T20:34:15.822199Z"
    },
    "tags": []
   },
   "outputs": [
    {
     "data": {
      "text/plain": [
       "dict_keys(['target_col', 'batch_train_pclass', 'batch_val_pclass', '_N', 'min_feature', 'max_feature', 'th_start', 'delta_th', 'max_discard_trees', 'n_trees', 'class_vals', 'Forest', 'survived_scores', 'version'])"
      ]
     },
     "execution_count": 7,
     "metadata": {},
     "output_type": "execute_result"
    }
   ],
   "source": [
    "modeldict = load_file_json('/work/data/cls_rfmc_v030.json')\n",
    "modeldict.keys()"
   ]
  },
  {
   "cell_type": "code",
   "execution_count": 8,
   "metadata": {
    "execution": {
     "iopub.execute_input": "2021-09-12T20:34:15.913807Z",
     "iopub.status.busy": "2021-09-12T20:34:15.913564Z",
     "iopub.status.idle": "2021-09-12T20:34:15.919456Z",
     "shell.execute_reply": "2021-09-12T20:34:15.918817Z",
     "shell.execute_reply.started": "2021-09-12T20:34:15.913783Z"
    },
    "tags": []
   },
   "outputs": [
    {
     "data": {
      "text/plain": [
       "['batch_train_pclass',\n",
       " 'batch_val_pclass',\n",
       " '_N',\n",
       " 'min_feature',\n",
       " 'max_feature',\n",
       " 'th_start',\n",
       " 'delta_th',\n",
       " 'max_discard_trees',\n",
       " 'n_trees',\n",
       " 'class_vals',\n",
       " 'Forest',\n",
       " 'survived_scores',\n",
       " 'version',\n",
       " 'numeric_cols',\n",
       " 'feature_cols',\n",
       " 'type_of_cols',\n",
       " 'target_col',\n",
       " 'class_vals']"
      ]
     },
     "execution_count": 8,
     "metadata": {},
     "output_type": "execute_result"
    }
   ],
   "source": [
    "cls = RandomForestMC()\n",
    "cls.attr_to_save"
   ]
  },
  {
   "cell_type": "code",
   "execution_count": 9,
   "metadata": {
    "execution": {
     "iopub.execute_input": "2021-09-12T20:34:16.604757Z",
     "iopub.status.busy": "2021-09-12T20:34:16.603250Z",
     "iopub.status.idle": "2021-09-12T20:34:16.621991Z",
     "shell.execute_reply": "2021-09-12T20:34:16.618812Z",
     "shell.execute_reply.started": "2021-09-12T20:34:16.604640Z"
    },
    "tags": []
   },
   "outputs": [],
   "source": [
    "for att in ['numeric_cols','feature_cols','type_of_cols','target_col','class_vals']:\n",
    "    modeldict[att] = None\n",
    "modeldict['version'] = '0.3.0'"
   ]
  },
  {
   "cell_type": "code",
   "execution_count": 10,
   "metadata": {
    "execution": {
     "iopub.execute_input": "2021-09-12T20:34:17.278894Z",
     "iopub.status.busy": "2021-09-12T20:34:17.277841Z",
     "iopub.status.idle": "2021-09-12T20:34:17.290657Z",
     "shell.execute_reply": "2021-09-12T20:34:17.288064Z",
     "shell.execute_reply.started": "2021-09-12T20:34:17.278790Z"
    },
    "tags": []
   },
   "outputs": [],
   "source": [
    "cls.dict2model(modeldict)"
   ]
  },
  {
   "cell_type": "code",
   "execution_count": 11,
   "metadata": {
    "execution": {
     "iopub.execute_input": "2021-09-12T20:34:17.846618Z",
     "iopub.status.busy": "2021-09-12T20:34:17.845503Z",
     "iopub.status.idle": "2021-09-12T20:34:17.868612Z",
     "shell.execute_reply": "2021-09-12T20:34:17.865216Z",
     "shell.execute_reply.started": "2021-09-12T20:34:17.846515Z"
    },
    "tags": []
   },
   "outputs": [
    {
     "data": {
      "text/plain": [
       "RandomForestMC(len(Forest)=128,n_trees=32,model_version=0.3.0,module_version=0.3.1)"
      ]
     },
     "execution_count": 11,
     "metadata": {},
     "output_type": "execute_result"
    }
   ],
   "source": [
    "cls"
   ]
  },
  {
   "cell_type": "code",
   "execution_count": 12,
   "metadata": {
    "execution": {
     "iopub.execute_input": "2021-09-12T20:34:28.531934Z",
     "iopub.status.busy": "2021-09-12T20:34:28.531587Z",
     "iopub.status.idle": "2021-09-12T20:34:28.660370Z",
     "shell.execute_reply": "2021-09-12T20:34:28.659424Z",
     "shell.execute_reply.started": "2021-09-12T20:34:28.531892Z"
    }
   },
   "outputs": [
    {
     "ename": "AttributeError",
     "evalue": "'RandomForestMC' object has no attribute 'fOREST'",
     "output_type": "error",
     "traceback": [
      "\u001b[0;31m---------------------------------------------------------------------------\u001b[0m",
      "\u001b[0;31mAttributeError\u001b[0m                            Traceback (most recent call last)",
      "\u001b[0;32m/tmp/ipykernel_52/4068958838.py\u001b[0m in \u001b[0;36m<module>\u001b[0;34m\u001b[0m\n\u001b[0;32m----> 1\u001b[0;31m \u001b[0mcls\u001b[0m\u001b[0;34m.\u001b[0m\u001b[0mfOREST\u001b[0m\u001b[0;34m\u001b[0m\u001b[0;34m\u001b[0m\u001b[0m\n\u001b[0m",
      "\u001b[0;31mAttributeError\u001b[0m: 'RandomForestMC' object has no attribute 'fOREST'"
     ]
    }
   ],
   "source": [
    "cls.fOREST"
   ]
  },
  {
   "cell_type": "code",
   "execution_count": null,
   "metadata": {},
   "outputs": [],
   "source": []
  }
 ],
 "metadata": {
  "kernelspec": {
   "display_name": "Python 3 (ipykernel)",
   "language": "python",
   "name": "python3"
  },
  "language_info": {
   "codemirror_mode": {
    "name": "ipython",
    "version": 3
   },
   "file_extension": ".py",
   "mimetype": "text/x-python",
   "name": "python",
   "nbconvert_exporter": "python",
   "pygments_lexer": "ipython3",
   "version": "3.9.7"
  }
 },
 "nbformat": 4,
 "nbformat_minor": 4
}
