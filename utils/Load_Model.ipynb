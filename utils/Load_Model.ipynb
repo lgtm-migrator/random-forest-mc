{
 "cells": [
  {
   "cell_type": "markdown",
   "metadata": {},
   "source": [
    "# Template \n",
    "\n",
    "- Author: Israel Oliveira [\\[e-mail\\]](mailto:'Israel%20Oliveira%20'<prof.israel@gmail.com>)"
   ]
  },
  {
   "cell_type": "code",
   "execution_count": 5,
   "metadata": {
    "execution": {
     "iopub.execute_input": "2021-09-12T14:33:58.676199Z",
     "iopub.status.busy": "2021-09-12T14:33:58.675638Z",
     "iopub.status.idle": "2021-09-12T14:34:03.331511Z",
     "shell.execute_reply": "2021-09-12T14:34:03.328225Z",
     "shell.execute_reply.started": "2021-09-12T14:33:58.676131Z"
    }
   },
   "outputs": [
    {
     "name": "stdout",
     "output_type": "stream",
     "text": [
      "Collecting random-forest-mc\n",
      "  Downloading random_forest_mc-0.3.0-py3-none-any.whl (10 kB)\n",
      "Requirement already satisfied: tqdm>=4.60 in /usr/local/lib/python3.9/site-packages (from random-forest-mc) (4.62.2)\n",
      "Collecting poetry-version<0.2.0,>=0.1.5\n",
      "  Downloading poetry_version-0.1.5-py2.py3-none-any.whl (13 kB)\n",
      "Requirement already satisfied: pandas>=1.3 in /usr/local/lib/python3.9/site-packages (from random-forest-mc) (1.3.2)\n",
      "Requirement already satisfied: numpy>=1.20 in /usr/local/lib/python3.9/site-packages (from random-forest-mc) (1.20.3)\n",
      "Requirement already satisfied: python-dateutil>=2.7.3 in /usr/local/lib/python3.9/site-packages (from pandas>=1.3->random-forest-mc) (2.8.2)\n",
      "Requirement already satisfied: pytz>=2017.3 in /usr/local/lib/python3.9/site-packages (from pandas>=1.3->random-forest-mc) (2021.1)\n",
      "Collecting tomlkit<0.6.0,>=0.4.6\n",
      "  Downloading tomlkit-0.5.11-py2.py3-none-any.whl (31 kB)\n",
      "Requirement already satisfied: six>=1.5 in /usr/local/lib/python3.9/site-packages (from python-dateutil>=2.7.3->pandas>=1.3->random-forest-mc) (1.16.0)\n",
      "Installing collected packages: tomlkit, poetry-version, random-forest-mc\n",
      "Successfully installed poetry-version-0.1.5 random-forest-mc-0.3.0 tomlkit-0.5.11\n",
      "\u001b[33mWARNING: Running pip as the 'root' user can result in broken permissions and conflicting behaviour with the system package manager. It is recommended to use a virtual environment instead: https://pip.pypa.io/warnings/venv\u001b[0m\n"
     ]
    }
   ],
   "source": [
    "!pip3 install random-forest-mc"
   ]
  },
  {
   "cell_type": "code",
   "execution_count": 6,
   "metadata": {
    "execution": {
     "iopub.execute_input": "2021-09-12T14:34:14.135060Z",
     "iopub.status.busy": "2021-09-12T14:34:14.134463Z",
     "iopub.status.idle": "2021-09-12T14:34:14.144960Z",
     "shell.execute_reply": "2021-09-12T14:34:14.143791Z",
     "shell.execute_reply.started": "2021-09-12T14:34:14.134982Z"
    },
    "tags": []
   },
   "outputs": [
    {
     "name": "stdout",
     "output_type": "stream",
     "text": [
      "The watermark extension is already loaded. To reload it, use:\n",
      "  %reload_ext watermark\n"
     ]
    }
   ],
   "source": [
    "%load_ext watermark"
   ]
  },
  {
   "cell_type": "code",
   "execution_count": 7,
   "metadata": {
    "execution": {
     "iopub.execute_input": "2021-09-12T14:34:15.104937Z",
     "iopub.status.busy": "2021-09-12T14:34:15.103853Z",
     "iopub.status.idle": "2021-09-12T14:34:15.959309Z",
     "shell.execute_reply": "2021-09-12T14:34:15.958741Z",
     "shell.execute_reply.started": "2021-09-12T14:34:15.104807Z"
    },
    "tags": []
   },
   "outputs": [],
   "source": [
    "from random_forest_mc.model import RandomForestMC\n",
    "from random_forest_mc.utils import load_file_json"
   ]
  },
  {
   "cell_type": "code",
   "execution_count": 8,
   "metadata": {
    "execution": {
     "iopub.execute_input": "2021-09-12T14:34:17.831252Z",
     "iopub.status.busy": "2021-09-12T14:34:17.830919Z",
     "iopub.status.idle": "2021-09-12T14:34:17.838167Z",
     "shell.execute_reply": "2021-09-12T14:34:17.837214Z",
     "shell.execute_reply.started": "2021-09-12T14:34:17.831222Z"
    },
    "tags": []
   },
   "outputs": [],
   "source": [
    "# from tqdm import tqdm\n",
    "\n",
    "# from glob import glob\n",
    "\n",
    "# import matplotlib.pyplot as plt\n",
    "# %matplotlib inline\n",
    "# from matplotlib import rcParams\n",
    "# from cycler import cycler\n",
    "\n",
    "# rcParams['figure.figsize'] = 12, 8 # 18, 5\n",
    "# rcParams['axes.spines.top'] = False\n",
    "# rcParams['axes.spines.right'] = False\n",
    "# rcParams['axes.grid'] = True\n",
    "# rcParams['axes.prop_cycle'] = cycler(color=['#365977'])\n",
    "# rcParams['lines.linewidth'] = 2.5\n",
    "\n",
    "# import seaborn as sns\n",
    "# sns.set_theme()\n",
    "\n",
    "# pd.set_option(\"max_columns\", None)\n",
    "# pd.set_option(\"max_rows\", None)\n",
    "# pd.set_option('display.max_colwidth', None)\n",
    "\n",
    "# from IPython.display import Markdown, display\n",
    "# def md(arg):\n",
    "#     display(Markdown(arg))\n",
    "\n",
    "# from pandas_profiling import ProfileReport\n",
    "# #report = ProfileReport(#DataFrame here#, minimal=True)\n",
    "# #report.to\n",
    "\n",
    "# import pyarrow.parquet as pq\n",
    "# #df = pq.ParquetDataset(path_to_folder_with_parquets, filesystem=None).read_pandas().to_pandas()\n",
    "\n",
    "# import json\n",
    "# def open_file_json(path,mode='r',var=None):\n",
    "#     if mode == 'w':\n",
    "#         with open(path,'w') as f:\n",
    "#             json.dump(var, f)\n",
    "#     if mode == 'r':\n",
    "#         with open(path,'r') as f:\n",
    "#             return json.load(f)\n",
    "\n",
    "# import functools\n",
    "# import operator\n",
    "# def flat(a):\n",
    "#     return functools.reduce(operator.iconcat, a, [])\n",
    "\n",
    "# import json\n",
    "# from glob import glob\n",
    "# from typing import NewType\n",
    "\n",
    "\n",
    "# DictsPathType = NewType(\"DictsPath\", str)\n",
    "\n",
    "\n",
    "# def open_file_json(path):\n",
    "#     with open(path, \"r\") as f:\n",
    "#         return json.load(f)\n",
    "\n",
    "# class LoadDicts:\n",
    "#     def __init__(self, dict_path: DictsPathType = \"./data\"):\n",
    "#         Dicts_glob = glob(f\"{dict_path}/*.json\")\n",
    "#         self.List = []\n",
    "#         self.Dict = {}\n",
    "#         for path_json in Dicts_glob:\n",
    "#             name = path_json.split(\"/\")[-1].replace(\".json\", \"\")\n",
    "#             self.List.append(name)\n",
    "#             self.Dict[name] = open_file_json(path_json)\n",
    "#             setattr(self, name, self.Dict[name])\n"
   ]
  },
  {
   "cell_type": "code",
   "execution_count": 9,
   "metadata": {
    "execution": {
     "iopub.execute_input": "2021-09-12T14:34:18.352424Z",
     "iopub.status.busy": "2021-09-12T14:34:18.351530Z",
     "iopub.status.idle": "2021-09-12T14:34:19.650184Z",
     "shell.execute_reply": "2021-09-12T14:34:19.649462Z",
     "shell.execute_reply.started": "2021-09-12T14:34:18.352314Z"
    },
    "tags": []
   },
   "outputs": [
    {
     "name": "stdout",
     "output_type": "stream",
     "text": [
      "Python implementation: CPython\n",
      "Python version       : 3.9.7\n",
      "IPython version      : 7.27.0\n",
      "\n",
      "Compiler    : GCC 10.2.1 20210110\n",
      "OS          : Linux\n",
      "Release     : 5.11.0-7633-generic\n",
      "Machine     : x86_64\n",
      "Processor   : \n",
      "CPU cores   : 4\n",
      "Architecture: 64bit\n",
      "\n",
      "Git hash: 34890f35d32c845e702fcb36274c3244c4ba4344\n",
      "\n",
      "Git repo: https://github.com/ysraell/random-forest-mc.git\n",
      "\n",
      "Git branch: main\n",
      "\n",
      "CPU\t: Intel(R) Core(TM) i7-7500U CPU @ 2.70GHz\n",
      "Mem:            15G\n",
      "Swap:          4.0G\n"
     ]
    }
   ],
   "source": [
    "# Run this cell before close.\n",
    "%watermark -d --iversion -b -r -g -m -v\n",
    "!cat /proc/cpuinfo |grep 'model name'|head -n 1 |sed -e 's/model\\ name/CPU/'\n",
    "!free -h |cut -d'i' -f1  |grep -v total"
   ]
  },
  {
   "cell_type": "code",
   "execution_count": 12,
   "metadata": {
    "execution": {
     "iopub.execute_input": "2021-09-12T14:34:59.862064Z",
     "iopub.status.busy": "2021-09-12T14:34:59.858326Z",
     "iopub.status.idle": "2021-09-12T14:35:00.023873Z",
     "shell.execute_reply": "2021-09-12T14:35:00.023247Z",
     "shell.execute_reply.started": "2021-09-12T14:34:59.861857Z"
    }
   },
   "outputs": [
    {
     "data": {
      "text/plain": [
       "dict_keys(['target_col', 'batch_train_pclass', 'batch_val_pclass', '_N', 'min_feature', 'max_feature', 'th_start', 'delta_th', 'max_discard_trees', 'n_trees', 'class_vals', 'Forest', 'survived_scores', 'version'])"
      ]
     },
     "execution_count": 12,
     "metadata": {},
     "output_type": "execute_result"
    }
   ],
   "source": [
    "modeldict = load_file_json('/work/data/cls_rfmc_v030.json')\n",
    "modeldict.keys()"
   ]
  },
  {
   "cell_type": "code",
   "execution_count": 17,
   "metadata": {
    "execution": {
     "iopub.execute_input": "2021-09-12T14:35:55.985145Z",
     "iopub.status.busy": "2021-09-12T14:35:55.983907Z",
     "iopub.status.idle": "2021-09-12T14:35:55.994020Z",
     "shell.execute_reply": "2021-09-12T14:35:55.992884Z",
     "shell.execute_reply.started": "2021-09-12T14:35:55.985059Z"
    },
    "tags": []
   },
   "outputs": [],
   "source": [
    "cls = RandomForestMC()"
   ]
  },
  {
   "cell_type": "code",
   "execution_count": 20,
   "metadata": {
    "execution": {
     "iopub.execute_input": "2021-09-12T14:38:25.672141Z",
     "iopub.status.busy": "2021-09-12T14:38:25.671756Z",
     "iopub.status.idle": "2021-09-12T14:38:25.677126Z",
     "shell.execute_reply": "2021-09-12T14:38:25.676000Z",
     "shell.execute_reply.started": "2021-09-12T14:38:25.672097Z"
    },
    "tags": []
   },
   "outputs": [],
   "source": [
    "cls.dict2model(modeldict)"
   ]
  },
  {
   "cell_type": "code",
   "execution_count": 22,
   "metadata": {
    "execution": {
     "iopub.execute_input": "2021-09-12T14:38:57.776214Z",
     "iopub.status.busy": "2021-09-12T14:38:57.774500Z",
     "iopub.status.idle": "2021-09-12T14:38:57.782307Z",
     "shell.execute_reply": "2021-09-12T14:38:57.781042Z",
     "shell.execute_reply.started": "2021-09-12T14:38:57.776129Z"
    },
    "tags": []
   },
   "outputs": [],
   "source": [
    "cls.feature_cols"
   ]
  },
  {
   "cell_type": "code",
   "execution_count": null,
   "metadata": {},
   "outputs": [],
   "source": []
  }
 ],
 "metadata": {
  "kernelspec": {
   "display_name": "Python 3 (ipykernel)",
   "language": "python",
   "name": "python3"
  },
  "language_info": {
   "codemirror_mode": {
    "name": "ipython",
    "version": 3
   },
   "file_extension": ".py",
   "mimetype": "text/x-python",
   "name": "python",
   "nbconvert_exporter": "python",
   "pygments_lexer": "ipython3",
   "version": "3.9.7"
  }
 },
 "nbformat": 4,
 "nbformat_minor": 4
}
