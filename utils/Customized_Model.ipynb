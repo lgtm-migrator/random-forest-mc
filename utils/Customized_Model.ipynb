{
 "cells": [
  {
   "cell_type": "markdown",
   "metadata": {},
   "source": [
    "# Customized Random Forest Classifier Model \n",
    "\n",
    "- TODO: implement tqdm.contrib.concurrent for build trees in parallel.\n",
    "\n",
    "## Fundamentals:\n",
    "\n",
    "- Based on Random Forest method principles: ensemble of models (decision trees).\n",
    "\n",
    "- In bootstrap process:\n",
    "\n",
    "    - the data sampled ensure the balance between classes, for training and validation;\n",
    "\n",
    "    - the list of features used are randomly sampled (with random number of features and order).\n",
    "    \n",
    "- For each tree:\n",
    "\n",
    "    - fallowing the sequence of a given list of features, the data is splited half/half based on meadian value;\n",
    "    \n",
    "    - the splitting process ends when the samples have one only class;\n",
    "    \n",
    "    - validation process based on dynamic threshold can discard the tree.\n",
    "    \n",
    "- For use the forest:\n",
    "\n",
    "    - all trees predictions are combined as a vote;\n",
    "    \n",
    "    - it is possible to use soft or hard-voting.\n",
    "    \n",
    "- Positive side-effects:\n",
    "\n",
    "    - possible more generalization caused by the combination of overfitted trees, each tree is highly specialized in a smallest and different set of feature;\n",
    "    \n",
    "    - robustness for unbalanced and missing data, in case of missing data, the feature could be skipped without degrade the optimization process;\n",
    "    \n",
    "    - in prediction process, a missing value could be dealt with a tree replication considering the two possible paths;\n",
    "    \n",
    "    - the survived trees have a potential information about feature importance.\n",
    "\n",
    "### Premises: \n",
    "- all features must be numeric.\n",
    "   \n",
    "- Is case of categorical data, the splitting is done for each categorical value, creating one branch for each value.\n",
    "\n",
    "- Author: Israel Oliveira [\\[e-mail\\]](mailto:'Israel%20Oliveira%20'<prof.israel@gmail.com>)"
   ]
  },
  {
   "cell_type": "code",
   "execution_count": 1,
   "metadata": {
    "execution": {
     "iopub.execute_input": "2021-09-08T20:28:11.664793Z",
     "iopub.status.busy": "2021-09-08T20:28:11.663355Z",
     "iopub.status.idle": "2021-09-08T20:28:27.960474Z",
     "shell.execute_reply": "2021-09-08T20:28:27.959855Z",
     "shell.execute_reply.started": "2021-09-08T20:28:11.664631Z"
    },
    "tags": []
   },
   "outputs": [
    {
     "name": "stdout",
     "output_type": "stream",
     "text": [
      "Collecting random-forest-mc\n",
      "  Downloading random_forest_mc-0.2.1-py3-none-any.whl (9.0 kB)\n",
      "Collecting poetry-version<0.2.0,>=0.1.5\n",
      "  Downloading poetry_version-0.1.5-py2.py3-none-any.whl (13 kB)\n",
      "Requirement already satisfied: tqdm<5.0.0,>=4.62.1 in /usr/local/lib/python3.9/site-packages (from random-forest-mc) (4.62.2)\n",
      "Requirement already satisfied: pandas<2.0.0,>=1.3.2 in /usr/local/lib/python3.9/site-packages (from random-forest-mc) (1.3.2)\n",
      "Collecting numpy<2.0.0,>=1.21.2\n",
      "  Downloading numpy-1.21.2-cp39-cp39-manylinux_2_12_x86_64.manylinux2010_x86_64.whl (15.8 MB)\n",
      "\u001b[K     |████████████████████████████████| 15.8 MB 2.0 MB/s eta 0:00:01\n",
      "\u001b[?25hRequirement already satisfied: python-dateutil>=2.7.3 in /usr/local/lib/python3.9/site-packages (from pandas<2.0.0,>=1.3.2->random-forest-mc) (2.8.2)\n",
      "Requirement already satisfied: pytz>=2017.3 in /usr/local/lib/python3.9/site-packages (from pandas<2.0.0,>=1.3.2->random-forest-mc) (2021.1)\n",
      "Collecting tomlkit<0.6.0,>=0.4.6\n",
      "  Downloading tomlkit-0.5.11-py2.py3-none-any.whl (31 kB)\n",
      "Requirement already satisfied: six>=1.5 in /usr/local/lib/python3.9/site-packages (from python-dateutil>=2.7.3->pandas<2.0.0,>=1.3.2->random-forest-mc) (1.16.0)\n",
      "Installing collected packages: tomlkit, numpy, poetry-version, random-forest-mc\n",
      "  Attempting uninstall: numpy\n",
      "    Found existing installation: numpy 1.20.3\n",
      "    Uninstalling numpy-1.20.3:\n",
      "      Successfully uninstalled numpy-1.20.3\n",
      "\u001b[31mERROR: pip's dependency resolver does not currently take into account all the packages that are installed. This behaviour is the source of the following dependency conflicts.\n",
      "numba 0.54.0 requires numpy<1.21,>=1.17, but you have numpy 1.21.2 which is incompatible.\u001b[0m\n",
      "Successfully installed numpy-1.21.2 poetry-version-0.1.5 random-forest-mc-0.2.1 tomlkit-0.5.11\n",
      "\u001b[33mWARNING: Running pip as the 'root' user can result in broken permissions and conflicting behaviour with the system package manager. It is recommended to use a virtual environment instead: https://pip.pypa.io/warnings/venv\u001b[0m\n"
     ]
    }
   ],
   "source": [
    "!pip3 install random-forest-mc"
   ]
  },
  {
   "cell_type": "code",
   "execution_count": 2,
   "metadata": {
    "execution": {
     "iopub.execute_input": "2021-09-08T20:28:27.962180Z",
     "iopub.status.busy": "2021-09-08T20:28:27.961751Z",
     "iopub.status.idle": "2021-09-08T20:28:27.992040Z",
     "shell.execute_reply": "2021-09-08T20:28:27.991506Z",
     "shell.execute_reply.started": "2021-09-08T20:28:27.962152Z"
    },
    "tags": []
   },
   "outputs": [],
   "source": [
    "%load_ext watermark"
   ]
  },
  {
   "cell_type": "code",
   "execution_count": 3,
   "metadata": {
    "execution": {
     "iopub.execute_input": "2021-09-08T20:28:27.993016Z",
     "iopub.status.busy": "2021-09-08T20:28:27.992861Z",
     "iopub.status.idle": "2021-09-08T20:28:28.729094Z",
     "shell.execute_reply": "2021-09-08T20:28:28.728555Z",
     "shell.execute_reply.started": "2021-09-08T20:28:27.992995Z"
    },
    "tags": []
   },
   "outputs": [],
   "source": [
    "import pandas as pd\n",
    "import numpy as np\n",
    "from random_forest_mc.model import RandomForestMC\n",
    "from sklearn.model_selection import train_test_split\n",
    "from sklearn.metrics import f1_score, roc_auc_score"
   ]
  },
  {
   "cell_type": "code",
   "execution_count": 4,
   "metadata": {
    "execution": {
     "iopub.execute_input": "2021-09-08T20:28:28.730697Z",
     "iopub.status.busy": "2021-09-08T20:28:28.730487Z",
     "iopub.status.idle": "2021-09-08T20:28:28.778260Z",
     "shell.execute_reply": "2021-09-08T20:28:28.777685Z",
     "shell.execute_reply.started": "2021-09-08T20:28:28.730675Z"
    },
    "tags": []
   },
   "outputs": [],
   "source": [
    "# from tqdm import tqdm\n",
    "\n",
    "# from glob import glob\n",
    "\n",
    "# import matplotlib.pyplot as plt\n",
    "# %matplotlib inline\n",
    "# from matplotlib import rcParams\n",
    "# from cycler import cycler\n",
    "\n",
    "# rcParams['figure.figsize'] = 12, 8 # 18, 5\n",
    "# rcParams['axes.spines.top'] = False\n",
    "# rcParams['axes.spines.right'] = False\n",
    "# rcParams['axes.grid'] = True\n",
    "# rcParams['axes.prop_cycle'] = cycler(color=['#365977'])\n",
    "# rcParams['lines.linewidth'] = 2.5\n",
    "\n",
    "# import seaborn as sns\n",
    "# sns.set_theme()\n",
    "\n",
    "# pd.set_option(\"max_columns\", None)\n",
    "# pd.set_option(\"max_rows\", None)\n",
    "# pd.set_option('display.max_colwidth', None)\n",
    "\n",
    "# from IPython.display import Markdown, display\n",
    "# def md(arg):\n",
    "#     display(Markdown(arg))\n",
    "\n",
    "# from pandas_profiling import ProfileReport\n",
    "# #report = ProfileReport(#DataFrame here#, minimal=True)\n",
    "# #report.to\n",
    "\n",
    "# import pyarrow.parquet as pq\n",
    "# #df = pq.ParquetDataset(path_to_folder_with_parquets, filesystem=None).read_pandas().to_pandas()\n",
    "\n",
    "# import json\n",
    "# def open_file_json(path,mode='r',var=None):\n",
    "#     if mode == 'w':\n",
    "#         with open(path,'w') as f:\n",
    "#             json.dump(var, f)\n",
    "#     if mode == 'r':\n",
    "#         with open(path,'r') as f:\n",
    "#             return json.load(f)\n",
    "\n",
    "# import functools\n",
    "# import operator\n",
    "# def flat(a):\n",
    "#     return functools.reduce(operator.iconcat, a, [])\n",
    "\n",
    "# import json\n",
    "# from glob import glob\n",
    "# from typing import NewType\n",
    "\n",
    "\n",
    "# DictsPathType = NewType(\"DictsPath\", str)\n",
    "\n",
    "\n",
    "# def open_file_json(path):\n",
    "#     with open(path, \"r\") as f:\n",
    "#         return json.load(f)\n",
    "\n",
    "# class LoadDicts:\n",
    "#     def __init__(self, dict_path: DictsPathType = \"./data\"):\n",
    "#         Dicts_glob = glob(f\"{dict_path}/*.json\")\n",
    "#         self.List = []\n",
    "#         self.Dict = {}\n",
    "#         for path_json in Dicts_glob:\n",
    "#             name = path_json.split(\"/\")[-1].replace(\".json\", \"\")\n",
    "#             self.List.append(name)\n",
    "#             self.Dict[name] = open_file_json(path_json)\n",
    "#             setattr(self, name, self.Dict[name])\n"
   ]
  },
  {
   "cell_type": "code",
   "execution_count": 5,
   "metadata": {
    "execution": {
     "iopub.execute_input": "2021-09-08T20:28:28.779232Z",
     "iopub.status.busy": "2021-09-08T20:28:28.778971Z",
     "iopub.status.idle": "2021-09-08T20:28:30.002884Z",
     "shell.execute_reply": "2021-09-08T20:28:30.002270Z",
     "shell.execute_reply.started": "2021-09-08T20:28:28.779209Z"
    },
    "tags": []
   },
   "outputs": [
    {
     "name": "stdout",
     "output_type": "stream",
     "text": [
      "Python implementation: CPython\n",
      "Python version       : 3.9.6\n",
      "IPython version      : 7.27.0\n",
      "\n",
      "Compiler    : GCC 8.3.0\n",
      "OS          : Linux\n",
      "Release     : 5.11.0-7620-generic\n",
      "Machine     : x86_64\n",
      "Processor   : \n",
      "CPU cores   : 8\n",
      "Architecture: 64bit\n",
      "\n",
      "Git hash: 29724d477e7d6c4e10857da4fa9cc6b343edba9f\n",
      "\n",
      "Git repo: https://github.com/ysraell/random-forest-mc.git\n",
      "\n",
      "Git branch: main\n",
      "\n",
      "numpy : 1.21.2\n",
      "pandas: 1.3.2\n",
      "\n",
      "CPU\t: Intel(R) Xeon(R) CPU E3-1241 v3 @ 3.50GHz\n",
      "Mem:           31G\n",
      "Swap:         4.0G\n"
     ]
    }
   ],
   "source": [
    "# Run this cell before close.\n",
    "%watermark -d --iversion -b -r -g -m -v\n",
    "!cat /proc/cpuinfo |grep 'model name'|head -n 1 |sed -e 's/model\\ name/CPU/'\n",
    "!free -h |cut -d'i' -f1  |grep -v total"
   ]
  },
  {
   "cell_type": "code",
   "execution_count": 6,
   "metadata": {
    "execution": {
     "iopub.execute_input": "2021-09-08T20:28:30.004021Z",
     "iopub.status.busy": "2021-09-08T20:28:30.003840Z",
     "iopub.status.idle": "2021-09-08T20:28:31.190004Z",
     "shell.execute_reply": "2021-09-08T20:28:31.189462Z",
     "shell.execute_reply.started": "2021-09-08T20:28:30.003989Z"
    },
    "tags": []
   },
   "outputs": [],
   "source": [
    "df = pd.read_csv('/work/data/creditcard_trans_int.csv')\n",
    "target_col = 'Class'\n",
    "ds_cols = ['V1', 'V2', 'V3', 'V4', 'V5', 'V6', 'V7', 'V8', 'V9', 'V10', 'V11', 'V12', 'V13', 'V14', 'V15', 'V16', 'V17', 'V18', 'V19', 'V20', 'V21', 'V22', 'V23', 'V24', 'V25', 'V26', 'V27', 'V28', 'Amount']"
   ]
  },
  {
   "cell_type": "markdown",
   "metadata": {},
   "source": [
    "## How much data for each class:"
   ]
  },
  {
   "cell_type": "code",
   "execution_count": 7,
   "metadata": {
    "execution": {
     "iopub.execute_input": "2021-09-08T20:28:31.191017Z",
     "iopub.status.busy": "2021-09-08T20:28:31.190848Z",
     "iopub.status.idle": "2021-09-08T20:28:31.205460Z",
     "shell.execute_reply": "2021-09-08T20:28:31.204771Z",
     "shell.execute_reply.started": "2021-09-08T20:28:31.190995Z"
    },
    "tags": []
   },
   "outputs": [
    {
     "data": {
      "text/plain": [
       "0    284315\n",
       "1       492\n",
       "Name: Class, dtype: int64"
      ]
     },
     "execution_count": 7,
     "metadata": {},
     "output_type": "execute_result"
    }
   ],
   "source": [
    "df[target_col].value_counts()"
   ]
  },
  {
   "cell_type": "code",
   "execution_count": 8,
   "metadata": {
    "execution": {
     "iopub.execute_input": "2021-09-08T20:28:31.206806Z",
     "iopub.status.busy": "2021-09-08T20:28:31.206535Z",
     "iopub.status.idle": "2021-09-08T20:28:31.241173Z",
     "shell.execute_reply": "2021-09-08T20:28:31.240299Z",
     "shell.execute_reply.started": "2021-09-08T20:28:31.206775Z"
    },
    "tags": []
   },
   "outputs": [],
   "source": [
    "# How much for test step:\n",
    "N_fraud_test = 200\n",
    "N_truth_test = int(2e4)\n",
    "\n",
    "# How much for training step:\n",
    "N_truth_train = int(2e5)\n",
    "# The remaing data for fraud is all used.\n",
    "\n",
    "# How much (survived) trees:\n",
    "T = 128\n",
    "\n",
    "# Parameters for bootstrap\n",
    "\n",
    "# Data for each tree:\n",
    "N_T = int((df[target_col].value_counts()[1] - N_fraud_test)/2) # remaing data for fraud.\n",
    "N_V = N_T # keep balanced amount for each classe.\n",
    "\n",
    "# How much features:\n",
    "n_F_max = len(ds_cols)\n",
    "n_F_min = n_F_max//2\n",
    "# From EDA: decision trees with small amount of features could be not so efficient.\n",
    "\n",
    "# Droped trees limit:\n",
    "D = 16\n",
    "# When a total of D trees are dropped, the validation threshold decreases delta_Th, restarting the counting.\n",
    "\n",
    "# Delta Threshold\n",
    "delta_th = 0.01\n",
    "th_start = 0.98\n",
    "# The validation threshold decreases dynamically as need to selection more specialized tree.\n",
    "\n",
    "# Metric in validation\n",
    "M = 'Accuracy'\n",
    "# This parameter have no effect, only to say which metric is used in validation process.\n",
    "\n",
    "#Seeds\n",
    "#split_seeds = [43, 47, 53, 59]\n",
    "split_seeds = [43]\n",
    "# One for each experiment."
   ]
  },
  {
   "cell_type": "code",
   "execution_count": 9,
   "metadata": {
    "execution": {
     "iopub.execute_input": "2021-09-08T20:28:31.242401Z",
     "iopub.status.busy": "2021-09-08T20:28:31.242169Z",
     "iopub.status.idle": "2021-09-08T20:28:31.292578Z",
     "shell.execute_reply": "2021-09-08T20:28:31.292136Z",
     "shell.execute_reply.started": "2021-09-08T20:28:31.242373Z"
    },
    "tags": []
   },
   "outputs": [
    {
     "data": {
      "text/plain": [
       "146"
      ]
     },
     "execution_count": 9,
     "metadata": {},
     "output_type": "execute_result"
    }
   ],
   "source": [
    "N_T"
   ]
  },
  {
   "cell_type": "code",
   "execution_count": 10,
   "metadata": {
    "execution": {
     "iopub.execute_input": "2021-09-08T20:28:31.294847Z",
     "iopub.status.busy": "2021-09-08T20:28:31.294679Z",
     "iopub.status.idle": "2021-09-08T21:20:35.294037Z",
     "shell.execute_reply": "2021-09-08T21:20:35.293464Z",
     "shell.execute_reply.started": "2021-09-08T20:28:31.294826Z"
    },
    "tags": []
   },
   "outputs": [
    {
     "data": {
      "application/vnd.jupyter.widget-view+json": {
       "model_id": "78b3069d80f34b7cbfef6344502044c5",
       "version_major": 2,
       "version_minor": 0
      },
      "text/plain": [
       "Planting the forest:   0%|          | 0/128 [00:00<?, ?it/s]"
      ]
     },
     "metadata": {},
     "output_type": "display_data"
    }
   ],
   "source": [
    "# Splitting by unique values of the classes.\n",
    "df = df[ds_cols+[target_col]]\n",
    "df_fraud = df.query('Class == 1').reset_index(drop=True).copy()\n",
    "df_truth = df.query('Class == 0').reset_index(drop=True).copy()\n",
    "\n",
    "Results = {}\n",
    "    \n",
    "# Each seed is a experiment.\n",
    "for seed in split_seeds:\n",
    "\n",
    "    # Start the experiment\n",
    "    df_fraud_train, df_fraud_test = train_test_split(df_fraud, test_size=N_fraud_test, random_state=seed)\n",
    "    df_truth_train, df_truth_test = train_test_split(df_truth, train_size=N_truth_train, test_size=N_truth_test, random_state=seed)\n",
    "    df_train = pd.concat([df_fraud_train, df_truth_train]).reset_index(drop=True)\n",
    "    df_test = pd.concat([df_fraud_test, df_truth_test]).reset_index(drop=True)\n",
    "    del df_fraud_test, df_truth_test, df_fraud_train, df_truth_train\n",
    "    \n",
    "    # Training step\n",
    "    cls = RandomForestMC(\n",
    "        n_trees=T, target_col='Class', max_discard_trees=D,\n",
    "        delta_th=delta_th, th_start=th_start,\n",
    "        batch_train_pclass=N_T, batch_val_pclass=N_V\n",
    "    )\n",
    "    cls.process_dataset(df_train)\n",
    "    cls.fitParallel(max_workers=16, thread_parallel_method=False)\n",
    "    #cls.fit()\n",
    "    \n",
    "    # Test step\n",
    "    probs = cls.testForestProbs(df_test)\n",
    "\n",
    "    # Save results\n",
    "    target_test = df_test.Class.to_list()\n",
    "    Results[seed] = {\n",
    "        'probs': probs,\n",
    "        'target_test': target_test\n",
    "    }"
   ]
  },
  {
   "cell_type": "markdown",
   "metadata": {},
   "source": [
    "16 threads: `128/128 [50:28<00:00, 14.24s/it]`"
   ]
  },
  {
   "cell_type": "code",
   "execution_count": 18,
   "metadata": {
    "execution": {
     "iopub.execute_input": "2021-09-08T21:22:23.146860Z",
     "iopub.status.busy": "2021-09-08T21:22:23.146573Z",
     "iopub.status.idle": "2021-09-08T21:22:23.151490Z",
     "shell.execute_reply": "2021-09-08T21:22:23.150824Z",
     "shell.execute_reply.started": "2021-09-08T21:22:23.146830Z"
    },
    "tags": []
   },
   "outputs": [
    {
     "data": {
      "text/plain": [
       "'With 16 threads: 23.66s/tree'"
      ]
     },
     "execution_count": 18,
     "metadata": {},
     "output_type": "execute_result"
    }
   ],
   "source": [
    "\"With 16 threads: {:.2f}s/tree\".format((50*60+28)/128)"
   ]
  },
  {
   "cell_type": "code",
   "execution_count": 11,
   "metadata": {
    "execution": {
     "iopub.execute_input": "2021-09-08T21:20:35.295121Z",
     "iopub.status.busy": "2021-09-08T21:20:35.294904Z",
     "iopub.status.idle": "2021-09-08T21:20:36.822048Z",
     "shell.execute_reply": "2021-09-08T21:20:36.821510Z",
     "shell.execute_reply.started": "2021-09-08T21:20:35.295094Z"
    },
    "tags": []
   },
   "outputs": [],
   "source": [
    "\n",
    "# Generates the metrics\n",
    "data = []\n",
    "for seed,exp in Results.items():\n",
    "    target_test = exp['target_test']\n",
    "    rf_classes = [0, 1]\n",
    "    df_exp = pd.DataFrame([(d['0'], d['1']) for d in exp['probs']], columns=rf_classes)\n",
    "    df_exp['pred'] = df_exp[[0, 1]].apply(lambda x: rf_classes[np.argmax(x)], axis=1)\n",
    "    df_exp['target'] = target_test\n",
    "    Fraud_True_Sum = df_exp.loc[(df_exp.pred == 1) & (df_exp.target == 1)][1].sum()/sum(df_exp.target == 1)\n",
    "    Truth_False_Sum = df_exp.loc[(df_exp.pred == 0) & (df_exp.target == 1)][0].sum()/sum(df_exp.target == 1)\n",
    "    Fraud_False_Sum = df_exp.loc[(df_exp.pred == 1) & (df_exp.target == 0)][1].sum()/sum(df_exp.target == 0)\n",
    "    F1_M = f1_score(target_test, df_exp['pred'].to_numpy(), average='macro')\n",
    "    AUC_ROC_M = roc_auc_score(target_test, df_exp['pred'].to_numpy(), average='macro')\n",
    "    TP_0 = df_exp.loc[(df_exp.pred == 0) & (df_exp.target == 0)].shape[0]/sum(df_exp.target == 0)\n",
    "    TP_1 = df_exp.loc[(df_exp.pred == 1) & (df_exp.target == 1)].shape[0]/sum(df_exp.target == 1)\n",
    "\n",
    "\n",
    "    data.append([\n",
    "        seed, Fraud_True_Sum, Truth_False_Sum, Fraud_False_Sum, F1_M, AUC_ROC_M, TP_0, TP_1\n",
    "    ])"
   ]
  },
  {
   "cell_type": "code",
   "execution_count": 12,
   "metadata": {
    "execution": {
     "iopub.execute_input": "2021-09-08T21:20:36.823063Z",
     "iopub.status.busy": "2021-09-08T21:20:36.822790Z",
     "iopub.status.idle": "2021-09-08T21:20:36.829612Z",
     "shell.execute_reply": "2021-09-08T21:20:36.828905Z",
     "shell.execute_reply.started": "2021-09-08T21:20:36.823040Z"
    },
    "tags": []
   },
   "outputs": [],
   "source": [
    "columns = ['seed', 'Fraud_True_Sum','Truth_False_Sum', 'Fraud_False_Sum', 'F1_M', 'AUC_ROC_M', 'TP_0', 'TP_1']\n",
    "df_Results = pd.DataFrame(data, columns=columns)\n",
    "df_Results.to_csv('/work/data/Results_creditcard_RFMC_3.csv', index=False)"
   ]
  },
  {
   "cell_type": "markdown",
   "metadata": {},
   "source": [
    "# Results"
   ]
  },
  {
   "cell_type": "code",
   "execution_count": 13,
   "metadata": {
    "execution": {
     "iopub.execute_input": "2021-09-08T21:20:36.830898Z",
     "iopub.status.busy": "2021-09-08T21:20:36.830659Z",
     "iopub.status.idle": "2021-09-08T21:20:36.860016Z",
     "shell.execute_reply": "2021-09-08T21:20:36.859409Z",
     "shell.execute_reply.started": "2021-09-08T21:20:36.830868Z"
    },
    "tags": []
   },
   "outputs": [
    {
     "data": {
      "text/html": [
       "<div>\n",
       "<style scoped>\n",
       "    .dataframe tbody tr th:only-of-type {\n",
       "        vertical-align: middle;\n",
       "    }\n",
       "\n",
       "    .dataframe tbody tr th {\n",
       "        vertical-align: top;\n",
       "    }\n",
       "\n",
       "    .dataframe thead th {\n",
       "        text-align: right;\n",
       "    }\n",
       "</style>\n",
       "<table border=\"1\" class=\"dataframe\">\n",
       "  <thead>\n",
       "    <tr style=\"text-align: right;\">\n",
       "      <th></th>\n",
       "      <th>seed</th>\n",
       "      <th>Fraud_True_Sum</th>\n",
       "      <th>Truth_False_Sum</th>\n",
       "      <th>Fraud_False_Sum</th>\n",
       "      <th>F1_M</th>\n",
       "      <th>AUC_ROC_M</th>\n",
       "      <th>TP_0</th>\n",
       "      <th>TP_1</th>\n",
       "    </tr>\n",
       "  </thead>\n",
       "  <tbody>\n",
       "    <tr>\n",
       "      <th>0</th>\n",
       "      <td>43</td>\n",
       "      <td>0.818633</td>\n",
       "      <td>0.109258</td>\n",
       "      <td>0.006044</td>\n",
       "      <td>0.797678</td>\n",
       "      <td>0.92255</td>\n",
       "      <td>0.9901</td>\n",
       "      <td>0.855</td>\n",
       "    </tr>\n",
       "  </tbody>\n",
       "</table>\n",
       "</div>"
      ],
      "text/plain": [
       "   seed  Fraud_True_Sum  Truth_False_Sum  Fraud_False_Sum      F1_M  \\\n",
       "0    43        0.818633         0.109258         0.006044  0.797678   \n",
       "\n",
       "   AUC_ROC_M    TP_0   TP_1  \n",
       "0    0.92255  0.9901  0.855  "
      ]
     },
     "execution_count": 13,
     "metadata": {},
     "output_type": "execute_result"
    }
   ],
   "source": [
    "df_Results"
   ]
  },
  {
   "cell_type": "markdown",
   "metadata": {},
   "source": [
    "### Basic statistics for all experiments"
   ]
  },
  {
   "cell_type": "code",
   "execution_count": 14,
   "metadata": {
    "execution": {
     "iopub.execute_input": "2021-09-08T21:20:36.861466Z",
     "iopub.status.busy": "2021-09-08T21:20:36.861079Z",
     "iopub.status.idle": "2021-09-08T21:20:36.922119Z",
     "shell.execute_reply": "2021-09-08T21:20:36.921677Z",
     "shell.execute_reply.started": "2021-09-08T21:20:36.861431Z"
    },
    "tags": []
   },
   "outputs": [
    {
     "data": {
      "text/html": [
       "<div>\n",
       "<style scoped>\n",
       "    .dataframe tbody tr th:only-of-type {\n",
       "        vertical-align: middle;\n",
       "    }\n",
       "\n",
       "    .dataframe tbody tr th {\n",
       "        vertical-align: top;\n",
       "    }\n",
       "\n",
       "    .dataframe thead th {\n",
       "        text-align: right;\n",
       "    }\n",
       "</style>\n",
       "<table border=\"1\" class=\"dataframe\">\n",
       "  <thead>\n",
       "    <tr style=\"text-align: right;\">\n",
       "      <th></th>\n",
       "      <th>Fraud_True_Sum</th>\n",
       "      <th>Truth_False_Sum</th>\n",
       "      <th>Fraud_False_Sum</th>\n",
       "      <th>F1_M</th>\n",
       "      <th>AUC_ROC_M</th>\n",
       "      <th>TP_0</th>\n",
       "      <th>TP_1</th>\n",
       "    </tr>\n",
       "  </thead>\n",
       "  <tbody>\n",
       "    <tr>\n",
       "      <th>mean</th>\n",
       "      <td>0.818633</td>\n",
       "      <td>0.109258</td>\n",
       "      <td>0.006044</td>\n",
       "      <td>0.797678</td>\n",
       "      <td>0.92255</td>\n",
       "      <td>0.9901</td>\n",
       "      <td>0.855</td>\n",
       "    </tr>\n",
       "    <tr>\n",
       "      <th>std</th>\n",
       "      <td>NaN</td>\n",
       "      <td>NaN</td>\n",
       "      <td>NaN</td>\n",
       "      <td>NaN</td>\n",
       "      <td>NaN</td>\n",
       "      <td>NaN</td>\n",
       "      <td>NaN</td>\n",
       "    </tr>\n",
       "    <tr>\n",
       "      <th>min</th>\n",
       "      <td>0.818633</td>\n",
       "      <td>0.109258</td>\n",
       "      <td>0.006044</td>\n",
       "      <td>0.797678</td>\n",
       "      <td>0.92255</td>\n",
       "      <td>0.9901</td>\n",
       "      <td>0.855</td>\n",
       "    </tr>\n",
       "    <tr>\n",
       "      <th>max</th>\n",
       "      <td>0.818633</td>\n",
       "      <td>0.109258</td>\n",
       "      <td>0.006044</td>\n",
       "      <td>0.797678</td>\n",
       "      <td>0.92255</td>\n",
       "      <td>0.9901</td>\n",
       "      <td>0.855</td>\n",
       "    </tr>\n",
       "  </tbody>\n",
       "</table>\n",
       "</div>"
      ],
      "text/plain": [
       "      Fraud_True_Sum  Truth_False_Sum  Fraud_False_Sum      F1_M  AUC_ROC_M  \\\n",
       "mean        0.818633         0.109258         0.006044  0.797678    0.92255   \n",
       "std              NaN              NaN              NaN       NaN        NaN   \n",
       "min         0.818633         0.109258         0.006044  0.797678    0.92255   \n",
       "max         0.818633         0.109258         0.006044  0.797678    0.92255   \n",
       "\n",
       "        TP_0   TP_1  \n",
       "mean  0.9901  0.855  \n",
       "std      NaN    NaN  \n",
       "min   0.9901  0.855  \n",
       "max   0.9901  0.855  "
      ]
     },
     "execution_count": 14,
     "metadata": {},
     "output_type": "execute_result"
    }
   ],
   "source": [
    "df_Results[df_Results.columns[1:]].describe().loc[['mean', 'std', 'min', 'max']]"
   ]
  },
  {
   "cell_type": "markdown",
   "metadata": {
    "execution": {
     "iopub.execute_input": "2021-08-15T17:06:53.458722Z",
     "iopub.status.busy": "2021-08-15T17:06:53.458205Z",
     "iopub.status.idle": "2021-08-15T17:06:53.463759Z",
     "shell.execute_reply": "2021-08-15T17:06:53.462601Z",
     "shell.execute_reply.started": "2021-08-15T17:06:53.458680Z"
    }
   },
   "source": [
    "# Baseline model metrics"
   ]
  },
  {
   "cell_type": "code",
   "execution_count": 15,
   "metadata": {
    "collapsed": true,
    "execution": {
     "iopub.execute_input": "2021-08-25T20:15:36.771711Z",
     "iopub.status.busy": "2021-08-25T20:15:36.771467Z",
     "iopub.status.idle": "2021-08-25T20:15:36.907535Z",
     "shell.execute_reply": "2021-08-25T20:15:36.906816Z",
     "shell.execute_reply.started": "2021-08-25T20:15:36.771680Z"
    },
    "jupyter": {
     "outputs_hidden": true
    },
    "tags": []
   },
   "outputs": [
    {
     "ename": "FileNotFoundError",
     "evalue": "[Errno 2] No such file or directory: 'Results_creditcard_Baseline.csv'",
     "output_type": "error",
     "traceback": [
      "\u001b[0;31m---------------------------------------------------------------------------\u001b[0m",
      "\u001b[0;31mFileNotFoundError\u001b[0m                         Traceback (most recent call last)",
      "\u001b[0;32m/tmp/ipykernel_52/3242790453.py\u001b[0m in \u001b[0;36m<module>\u001b[0;34m\u001b[0m\n\u001b[0;32m----> 1\u001b[0;31m \u001b[0mdf_Baseline\u001b[0m \u001b[0;34m=\u001b[0m \u001b[0mpd\u001b[0m\u001b[0;34m.\u001b[0m\u001b[0mread_csv\u001b[0m\u001b[0;34m(\u001b[0m\u001b[0;34m'Results_creditcard_Baseline.csv'\u001b[0m\u001b[0;34m)\u001b[0m\u001b[0;34m\u001b[0m\u001b[0;34m\u001b[0m\u001b[0m\n\u001b[0m",
      "\u001b[0;32m/usr/local/lib/python3.9/site-packages/pandas/util/_decorators.py\u001b[0m in \u001b[0;36mwrapper\u001b[0;34m(*args, **kwargs)\u001b[0m\n\u001b[1;32m    309\u001b[0m                     \u001b[0mstacklevel\u001b[0m\u001b[0;34m=\u001b[0m\u001b[0mstacklevel\u001b[0m\u001b[0;34m,\u001b[0m\u001b[0;34m\u001b[0m\u001b[0;34m\u001b[0m\u001b[0m\n\u001b[1;32m    310\u001b[0m                 )\n\u001b[0;32m--> 311\u001b[0;31m             \u001b[0;32mreturn\u001b[0m \u001b[0mfunc\u001b[0m\u001b[0;34m(\u001b[0m\u001b[0;34m*\u001b[0m\u001b[0margs\u001b[0m\u001b[0;34m,\u001b[0m \u001b[0;34m**\u001b[0m\u001b[0mkwargs\u001b[0m\u001b[0;34m)\u001b[0m\u001b[0;34m\u001b[0m\u001b[0;34m\u001b[0m\u001b[0m\n\u001b[0m\u001b[1;32m    312\u001b[0m \u001b[0;34m\u001b[0m\u001b[0m\n\u001b[1;32m    313\u001b[0m         \u001b[0;32mreturn\u001b[0m \u001b[0mwrapper\u001b[0m\u001b[0;34m\u001b[0m\u001b[0;34m\u001b[0m\u001b[0m\n",
      "\u001b[0;32m/usr/local/lib/python3.9/site-packages/pandas/io/parsers/readers.py\u001b[0m in \u001b[0;36mread_csv\u001b[0;34m(filepath_or_buffer, sep, delimiter, header, names, index_col, usecols, squeeze, prefix, mangle_dupe_cols, dtype, engine, converters, true_values, false_values, skipinitialspace, skiprows, skipfooter, nrows, na_values, keep_default_na, na_filter, verbose, skip_blank_lines, parse_dates, infer_datetime_format, keep_date_col, date_parser, dayfirst, cache_dates, iterator, chunksize, compression, thousands, decimal, lineterminator, quotechar, quoting, doublequote, escapechar, comment, encoding, encoding_errors, dialect, error_bad_lines, warn_bad_lines, on_bad_lines, delim_whitespace, low_memory, memory_map, float_precision, storage_options)\u001b[0m\n\u001b[1;32m    584\u001b[0m     \u001b[0mkwds\u001b[0m\u001b[0;34m.\u001b[0m\u001b[0mupdate\u001b[0m\u001b[0;34m(\u001b[0m\u001b[0mkwds_defaults\u001b[0m\u001b[0;34m)\u001b[0m\u001b[0;34m\u001b[0m\u001b[0;34m\u001b[0m\u001b[0m\n\u001b[1;32m    585\u001b[0m \u001b[0;34m\u001b[0m\u001b[0m\n\u001b[0;32m--> 586\u001b[0;31m     \u001b[0;32mreturn\u001b[0m \u001b[0m_read\u001b[0m\u001b[0;34m(\u001b[0m\u001b[0mfilepath_or_buffer\u001b[0m\u001b[0;34m,\u001b[0m \u001b[0mkwds\u001b[0m\u001b[0;34m)\u001b[0m\u001b[0;34m\u001b[0m\u001b[0;34m\u001b[0m\u001b[0m\n\u001b[0m\u001b[1;32m    587\u001b[0m \u001b[0;34m\u001b[0m\u001b[0m\n\u001b[1;32m    588\u001b[0m \u001b[0;34m\u001b[0m\u001b[0m\n",
      "\u001b[0;32m/usr/local/lib/python3.9/site-packages/pandas/io/parsers/readers.py\u001b[0m in \u001b[0;36m_read\u001b[0;34m(filepath_or_buffer, kwds)\u001b[0m\n\u001b[1;32m    480\u001b[0m \u001b[0;34m\u001b[0m\u001b[0m\n\u001b[1;32m    481\u001b[0m     \u001b[0;31m# Create the parser.\u001b[0m\u001b[0;34m\u001b[0m\u001b[0;34m\u001b[0m\u001b[0;34m\u001b[0m\u001b[0m\n\u001b[0;32m--> 482\u001b[0;31m     \u001b[0mparser\u001b[0m \u001b[0;34m=\u001b[0m \u001b[0mTextFileReader\u001b[0m\u001b[0;34m(\u001b[0m\u001b[0mfilepath_or_buffer\u001b[0m\u001b[0;34m,\u001b[0m \u001b[0;34m**\u001b[0m\u001b[0mkwds\u001b[0m\u001b[0;34m)\u001b[0m\u001b[0;34m\u001b[0m\u001b[0;34m\u001b[0m\u001b[0m\n\u001b[0m\u001b[1;32m    483\u001b[0m \u001b[0;34m\u001b[0m\u001b[0m\n\u001b[1;32m    484\u001b[0m     \u001b[0;32mif\u001b[0m \u001b[0mchunksize\u001b[0m \u001b[0;32mor\u001b[0m \u001b[0miterator\u001b[0m\u001b[0;34m:\u001b[0m\u001b[0;34m\u001b[0m\u001b[0;34m\u001b[0m\u001b[0m\n",
      "\u001b[0;32m/usr/local/lib/python3.9/site-packages/pandas/io/parsers/readers.py\u001b[0m in \u001b[0;36m__init__\u001b[0;34m(self, f, engine, **kwds)\u001b[0m\n\u001b[1;32m    809\u001b[0m             \u001b[0mself\u001b[0m\u001b[0;34m.\u001b[0m\u001b[0moptions\u001b[0m\u001b[0;34m[\u001b[0m\u001b[0;34m\"has_index_names\"\u001b[0m\u001b[0;34m]\u001b[0m \u001b[0;34m=\u001b[0m \u001b[0mkwds\u001b[0m\u001b[0;34m[\u001b[0m\u001b[0;34m\"has_index_names\"\u001b[0m\u001b[0;34m]\u001b[0m\u001b[0;34m\u001b[0m\u001b[0;34m\u001b[0m\u001b[0m\n\u001b[1;32m    810\u001b[0m \u001b[0;34m\u001b[0m\u001b[0m\n\u001b[0;32m--> 811\u001b[0;31m         \u001b[0mself\u001b[0m\u001b[0;34m.\u001b[0m\u001b[0m_engine\u001b[0m \u001b[0;34m=\u001b[0m \u001b[0mself\u001b[0m\u001b[0;34m.\u001b[0m\u001b[0m_make_engine\u001b[0m\u001b[0;34m(\u001b[0m\u001b[0mself\u001b[0m\u001b[0;34m.\u001b[0m\u001b[0mengine\u001b[0m\u001b[0;34m)\u001b[0m\u001b[0;34m\u001b[0m\u001b[0;34m\u001b[0m\u001b[0m\n\u001b[0m\u001b[1;32m    812\u001b[0m \u001b[0;34m\u001b[0m\u001b[0m\n\u001b[1;32m    813\u001b[0m     \u001b[0;32mdef\u001b[0m \u001b[0mclose\u001b[0m\u001b[0;34m(\u001b[0m\u001b[0mself\u001b[0m\u001b[0;34m)\u001b[0m\u001b[0;34m:\u001b[0m\u001b[0;34m\u001b[0m\u001b[0;34m\u001b[0m\u001b[0m\n",
      "\u001b[0;32m/usr/local/lib/python3.9/site-packages/pandas/io/parsers/readers.py\u001b[0m in \u001b[0;36m_make_engine\u001b[0;34m(self, engine)\u001b[0m\n\u001b[1;32m   1038\u001b[0m             )\n\u001b[1;32m   1039\u001b[0m         \u001b[0;31m# error: Too many arguments for \"ParserBase\"\u001b[0m\u001b[0;34m\u001b[0m\u001b[0;34m\u001b[0m\u001b[0;34m\u001b[0m\u001b[0m\n\u001b[0;32m-> 1040\u001b[0;31m         \u001b[0;32mreturn\u001b[0m \u001b[0mmapping\u001b[0m\u001b[0;34m[\u001b[0m\u001b[0mengine\u001b[0m\u001b[0;34m]\u001b[0m\u001b[0;34m(\u001b[0m\u001b[0mself\u001b[0m\u001b[0;34m.\u001b[0m\u001b[0mf\u001b[0m\u001b[0;34m,\u001b[0m \u001b[0;34m**\u001b[0m\u001b[0mself\u001b[0m\u001b[0;34m.\u001b[0m\u001b[0moptions\u001b[0m\u001b[0;34m)\u001b[0m  \u001b[0;31m# type: ignore[call-arg]\u001b[0m\u001b[0;34m\u001b[0m\u001b[0;34m\u001b[0m\u001b[0m\n\u001b[0m\u001b[1;32m   1041\u001b[0m \u001b[0;34m\u001b[0m\u001b[0m\n\u001b[1;32m   1042\u001b[0m     \u001b[0;32mdef\u001b[0m \u001b[0m_failover_to_python\u001b[0m\u001b[0;34m(\u001b[0m\u001b[0mself\u001b[0m\u001b[0;34m)\u001b[0m\u001b[0;34m:\u001b[0m\u001b[0;34m\u001b[0m\u001b[0;34m\u001b[0m\u001b[0m\n",
      "\u001b[0;32m/usr/local/lib/python3.9/site-packages/pandas/io/parsers/c_parser_wrapper.py\u001b[0m in \u001b[0;36m__init__\u001b[0;34m(self, src, **kwds)\u001b[0m\n\u001b[1;32m     49\u001b[0m \u001b[0;34m\u001b[0m\u001b[0m\n\u001b[1;32m     50\u001b[0m         \u001b[0;31m# open handles\u001b[0m\u001b[0;34m\u001b[0m\u001b[0;34m\u001b[0m\u001b[0;34m\u001b[0m\u001b[0m\n\u001b[0;32m---> 51\u001b[0;31m         \u001b[0mself\u001b[0m\u001b[0;34m.\u001b[0m\u001b[0m_open_handles\u001b[0m\u001b[0;34m(\u001b[0m\u001b[0msrc\u001b[0m\u001b[0;34m,\u001b[0m \u001b[0mkwds\u001b[0m\u001b[0;34m)\u001b[0m\u001b[0;34m\u001b[0m\u001b[0;34m\u001b[0m\u001b[0m\n\u001b[0m\u001b[1;32m     52\u001b[0m         \u001b[0;32massert\u001b[0m \u001b[0mself\u001b[0m\u001b[0;34m.\u001b[0m\u001b[0mhandles\u001b[0m \u001b[0;32mis\u001b[0m \u001b[0;32mnot\u001b[0m \u001b[0;32mNone\u001b[0m\u001b[0;34m\u001b[0m\u001b[0;34m\u001b[0m\u001b[0m\n\u001b[1;32m     53\u001b[0m \u001b[0;34m\u001b[0m\u001b[0m\n",
      "\u001b[0;32m/usr/local/lib/python3.9/site-packages/pandas/io/parsers/base_parser.py\u001b[0m in \u001b[0;36m_open_handles\u001b[0;34m(self, src, kwds)\u001b[0m\n\u001b[1;32m    220\u001b[0m         \u001b[0mLet\u001b[0m \u001b[0mthe\u001b[0m \u001b[0mreaders\u001b[0m \u001b[0mopen\u001b[0m \u001b[0mIOHandles\u001b[0m \u001b[0mafter\u001b[0m \u001b[0mthey\u001b[0m \u001b[0mare\u001b[0m \u001b[0mdone\u001b[0m \u001b[0;32mwith\u001b[0m \u001b[0mtheir\u001b[0m \u001b[0mpotential\u001b[0m \u001b[0mraises\u001b[0m\u001b[0;34m.\u001b[0m\u001b[0;34m\u001b[0m\u001b[0;34m\u001b[0m\u001b[0m\n\u001b[1;32m    221\u001b[0m         \"\"\"\n\u001b[0;32m--> 222\u001b[0;31m         self.handles = get_handle(\n\u001b[0m\u001b[1;32m    223\u001b[0m             \u001b[0msrc\u001b[0m\u001b[0;34m,\u001b[0m\u001b[0;34m\u001b[0m\u001b[0;34m\u001b[0m\u001b[0m\n\u001b[1;32m    224\u001b[0m             \u001b[0;34m\"r\"\u001b[0m\u001b[0;34m,\u001b[0m\u001b[0;34m\u001b[0m\u001b[0;34m\u001b[0m\u001b[0m\n",
      "\u001b[0;32m/usr/local/lib/python3.9/site-packages/pandas/io/common.py\u001b[0m in \u001b[0;36mget_handle\u001b[0;34m(path_or_buf, mode, encoding, compression, memory_map, is_text, errors, storage_options)\u001b[0m\n\u001b[1;32m    699\u001b[0m         \u001b[0;32mif\u001b[0m \u001b[0mioargs\u001b[0m\u001b[0;34m.\u001b[0m\u001b[0mencoding\u001b[0m \u001b[0;32mand\u001b[0m \u001b[0;34m\"b\"\u001b[0m \u001b[0;32mnot\u001b[0m \u001b[0;32min\u001b[0m \u001b[0mioargs\u001b[0m\u001b[0;34m.\u001b[0m\u001b[0mmode\u001b[0m\u001b[0;34m:\u001b[0m\u001b[0;34m\u001b[0m\u001b[0;34m\u001b[0m\u001b[0m\n\u001b[1;32m    700\u001b[0m             \u001b[0;31m# Encoding\u001b[0m\u001b[0;34m\u001b[0m\u001b[0;34m\u001b[0m\u001b[0;34m\u001b[0m\u001b[0m\n\u001b[0;32m--> 701\u001b[0;31m             handle = open(\n\u001b[0m\u001b[1;32m    702\u001b[0m                 \u001b[0mhandle\u001b[0m\u001b[0;34m,\u001b[0m\u001b[0;34m\u001b[0m\u001b[0;34m\u001b[0m\u001b[0m\n\u001b[1;32m    703\u001b[0m                 \u001b[0mioargs\u001b[0m\u001b[0;34m.\u001b[0m\u001b[0mmode\u001b[0m\u001b[0;34m,\u001b[0m\u001b[0;34m\u001b[0m\u001b[0;34m\u001b[0m\u001b[0m\n",
      "\u001b[0;31mFileNotFoundError\u001b[0m: [Errno 2] No such file or directory: 'Results_creditcard_Baseline.csv'"
     ]
    }
   ],
   "source": [
    "df_Baseline = pd.read_csv('Results_creditcard_Baseline.csv')"
   ]
  },
  {
   "cell_type": "code",
   "execution_count": null,
   "metadata": {
    "execution": {
     "iopub.status.busy": "2021-08-25T20:15:36.908203Z",
     "iopub.status.idle": "2021-08-25T20:15:36.908468Z",
     "shell.execute_reply": "2021-08-25T20:15:36.908339Z",
     "shell.execute_reply.started": "2021-08-25T20:15:36.908325Z"
    },
    "tags": []
   },
   "outputs": [],
   "source": [
    "columns = ['seed', 'n_estimators', 'Fraud_True_Sum','Truth_False_Sum', 'Fraud_False_Sum', 'F1_M', 'AUC_ROC_M', 'TP_0', 'TP_1']\n",
    "df_Baseline[columns].groupby(['seed','n_estimators']).mean()"
   ]
  },
  {
   "cell_type": "code",
   "execution_count": 23,
   "metadata": {
    "execution": {
     "iopub.execute_input": "2021-08-26T00:06:06.670194Z",
     "iopub.status.busy": "2021-08-26T00:06:06.669964Z",
     "iopub.status.idle": "2021-08-26T00:06:06.674941Z",
     "shell.execute_reply": "2021-08-26T00:06:06.674220Z",
     "shell.execute_reply.started": "2021-08-26T00:06:06.670168Z"
    },
    "tags": []
   },
   "outputs": [
    {
     "data": {
      "text/plain": [
       "[]"
      ]
     },
     "execution_count": 23,
     "metadata": {},
     "output_type": "execute_result"
    }
   ],
   "source": [
    "cls.survived_scores"
   ]
  },
  {
   "cell_type": "code",
   "execution_count": 19,
   "metadata": {
    "execution": {
     "iopub.execute_input": "2021-08-25T23:54:41.693754Z",
     "iopub.status.busy": "2021-08-25T23:54:41.693436Z",
     "iopub.status.idle": "2021-08-25T23:54:41.743471Z",
     "shell.execute_reply": "2021-08-25T23:54:41.742866Z",
     "shell.execute_reply.started": "2021-08-25T23:54:41.693718Z"
    },
    "tags": []
   },
   "outputs": [
    {
     "data": {
      "text/plain": [
       "{'V12': {'split': {'feat_type': 'numeric',\n",
       "   'split_val': 1783555388,\n",
       "   '>=': {'V22': {'split': {'feat_type': 'numeric',\n",
       "      'split_val': 1086423201,\n",
       "      '>=': {'V4': {'split': {'feat_type': 'numeric',\n",
       "         'split_val': 605622932,\n",
       "         '>=': {'V19': {'split': {'feat_type': 'numeric',\n",
       "            'split_val': 738258662,\n",
       "            '>=': {'V16': {'split': {'feat_type': 'numeric',\n",
       "               'split_val': 1398400753,\n",
       "               '>=': {'V18': {'split': {'feat_type': 'numeric',\n",
       "                  'split_val': 1014049836,\n",
       "                  '>=': {'V27': {'split': {'feat_type': 'numeric',\n",
       "                     'split_val': 223298180,\n",
       "                     '>=': {'leaf': {'0': 1.0}},\n",
       "                     '<': {'V23': {'split': {'feat_type': 'numeric',\n",
       "                        'split_val': 462561420,\n",
       "                        '>=': {'leaf': {'0': 1.0}},\n",
       "                        '<': {'leaf': {'1': 1.0}}}}}}}},\n",
       "                  '<': {'leaf': {'0': 1.0}}}}},\n",
       "               '<': {'V18': {'split': {'feat_type': 'numeric',\n",
       "                  'split_val': 954256202,\n",
       "                  '>=': {'V27': {'split': {'feat_type': 'numeric',\n",
       "                     'split_val': 226392275,\n",
       "                     '>=': {'leaf': {'0': 1.0}},\n",
       "                     '<': {'V23': {'split': {'feat_type': 'numeric',\n",
       "                        'split_val': 455853945,\n",
       "                        '>=': {'leaf': {'1': 1.0}},\n",
       "                        '<': {'leaf': {'0': 1.0}}}}}}}},\n",
       "                  '<': {'V27': {'split': {'feat_type': 'numeric',\n",
       "                     'split_val': 224990699,\n",
       "                     '>=': {'V23': {'split': {'feat_type': 'numeric',\n",
       "                        'split_val': 447372683,\n",
       "                        '>=': {'leaf': {'0': 1.0}},\n",
       "                        '<': {'leaf': {'1': 1.0}}}}},\n",
       "                     '<': {'leaf': {'0': 1.0}}}}}}}}}}},\n",
       "            '<': {'V16': {'split': {'feat_type': 'numeric',\n",
       "               'split_val': 1402597606,\n",
       "               '>=': {'V18': {'split': {'feat_type': 'numeric',\n",
       "                  'split_val': 963865375,\n",
       "                  '>=': {'V27': {'split': {'feat_type': 'numeric',\n",
       "                     'split_val': 226065332,\n",
       "                     '>=': {'V23': {'split': {'feat_type': 'numeric',\n",
       "                        'split_val': 448807162,\n",
       "                        '>=': {'V24': {'split': {'feat_type': 'numeric',\n",
       "                           'split_val': 268132808,\n",
       "                           '>=': {'leaf': {'1': 1.0}},\n",
       "                           '<': {'leaf': {'0': 1.0}}}}},\n",
       "                        '<': {'leaf': {'0': 1.0}}}}},\n",
       "                     '<': {'V23': {'split': {'feat_type': 'numeric',\n",
       "                        'split_val': 446958193,\n",
       "                        '>=': {'leaf': {'1': 1.0}},\n",
       "                        '<': {'leaf': {'0': 1.0}}}}}}}},\n",
       "                  '<': {'leaf': {'0': 1.0}}}}},\n",
       "               '<': {'leaf': {'0': 1.0}}}}}}}},\n",
       "         '<': {'V19': {'split': {'feat_type': 'numeric',\n",
       "            'split_val': 708819100,\n",
       "            '>=': {'V16': {'split': {'feat_type': 'numeric',\n",
       "               'split_val': 1434415609,\n",
       "               '>=': {'leaf': {'0': 1.0}},\n",
       "               '<': {'V18': {'split': {'feat_type': 'numeric',\n",
       "                  'split_val': 977112300,\n",
       "                  '>=': {'V27': {'split': {'feat_type': 'numeric',\n",
       "                     'split_val': 225370083,\n",
       "                     '>=': {'V23': {'split': {'feat_type': 'numeric',\n",
       "                        'split_val': 449784733,\n",
       "                        '>=': {'leaf': {'0': 1.0}},\n",
       "                        '<': {'leaf': {'1': 1.0}}}}},\n",
       "                     '<': {'leaf': {'0': 1.0}}}}},\n",
       "                  '<': {'leaf': {'0': 1.0}}}}}}}},\n",
       "            '<': {'V16': {'split': {'feat_type': 'numeric',\n",
       "               'split_val': 1364346491,\n",
       "               '>=': {'V18': {'split': {'feat_type': 'numeric',\n",
       "                  'split_val': 988326050,\n",
       "                  '>=': {'V27': {'split': {'feat_type': 'numeric',\n",
       "                     'split_val': 224852810,\n",
       "                     '>=': {'V23': {'split': {'feat_type': 'numeric',\n",
       "                        'split_val': 445665365,\n",
       "                        '>=': {'V24': {'split': {'feat_type': 'numeric',\n",
       "                           'split_val': 324819932,\n",
       "                           '>=': {'leaf': {'1': 1.0}},\n",
       "                           '<': {'leaf': {'0': 1.0}}}}},\n",
       "                        '<': {'leaf': {'0': 1.0}}}}},\n",
       "                     '<': {'leaf': {'0': 1.0}}}}},\n",
       "                  '<': {'leaf': {'0': 1.0}}}}},\n",
       "               '<': {'leaf': {'0': 1.0}}}}}}}}}}},\n",
       "      '<': {'V4': {'split': {'feat_type': 'numeric',\n",
       "         'split_val': 577710609,\n",
       "         '>=': {'V19': {'split': {'feat_type': 'numeric',\n",
       "            'split_val': 742043330,\n",
       "            '>=': {'leaf': {'0': 1.0}},\n",
       "            '<': {'V16': {'split': {'feat_type': 'numeric',\n",
       "               'split_val': 1458306862,\n",
       "               '>=': {'V18': {'split': {'feat_type': 'numeric',\n",
       "                  'split_val': 1006006864,\n",
       "                  '>=': {'V27': {'split': {'feat_type': 'numeric',\n",
       "                     'split_val': 224478218,\n",
       "                     '>=': {'V23': {'split': {'feat_type': 'numeric',\n",
       "                        'split_val': 444347217,\n",
       "                        '>=': {'leaf': {'1': 1.0}},\n",
       "                        '<': {'leaf': {'0': 1.0}}}}},\n",
       "                     '<': {'leaf': {'0': 1.0}}}}},\n",
       "                  '<': {'V27': {'split': {'feat_type': 'numeric',\n",
       "                     'split_val': 225556001,\n",
       "                     '>=': {'V23': {'split': {'feat_type': 'numeric',\n",
       "                        'split_val': 452745757,\n",
       "                        '>=': {'leaf': {'0': 1.0}},\n",
       "                        '<': {'leaf': {'1': 1.0}}}}},\n",
       "                     '<': {'V23': {'split': {'feat_type': 'numeric',\n",
       "                        'split_val': 449357847,\n",
       "                        '>=': {'leaf': {'0': 1.0}},\n",
       "                        '<': {'leaf': {'1': 1.0}}}}}}}}}}},\n",
       "               '<': {'V18': {'split': {'feat_type': 'numeric',\n",
       "                  'split_val': 904191269,\n",
       "                  '>=': {'V27': {'split': {'feat_type': 'numeric',\n",
       "                     'split_val': 225985175,\n",
       "                     '>=': {'leaf': {'1': 1.0}},\n",
       "                     '<': {'V23': {'split': {'feat_type': 'numeric',\n",
       "                        'split_val': 446320305,\n",
       "                        '>=': {'leaf': {'0': 1.0}},\n",
       "                        '<': {'leaf': {'1': 1.0}}}}}}}},\n",
       "                  '<': {'leaf': {'0': 1.0}}}}}}}}}}},\n",
       "         '<': {'V19': {'split': {'feat_type': 'numeric',\n",
       "            'split_val': 713681692,\n",
       "            '>=': {'V16': {'split': {'feat_type': 'numeric',\n",
       "               'split_val': 1439106005,\n",
       "               '>=': {'leaf': {'0': 1.0}},\n",
       "               '<': {'V18': {'split': {'feat_type': 'numeric',\n",
       "                  'split_val': 910966734,\n",
       "                  '>=': {'V27': {'split': {'feat_type': 'numeric',\n",
       "                     'split_val': 225872063,\n",
       "                     '>=': {'V23': {'split': {'feat_type': 'numeric',\n",
       "                        'split_val': 447347442,\n",
       "                        '>=': {'V24': {'split': {'feat_type': 'numeric',\n",
       "                           'split_val': 385476290,\n",
       "                           '>=': {'leaf': {'0': 1.0}},\n",
       "                           '<': {'leaf': {'1': 1.0}}}}},\n",
       "                        '<': {'leaf': {'0': 1.0}}}}},\n",
       "                     '<': {'leaf': {'0': 1.0}}}}},\n",
       "                  '<': {'leaf': {'0': 1.0}}}}}}}},\n",
       "            '<': {'V16': {'split': {'feat_type': 'numeric',\n",
       "               'split_val': 1366183799,\n",
       "               '>=': {'leaf': {'0': 1.0}},\n",
       "               '<': {'V18': {'split': {'feat_type': 'numeric',\n",
       "                  'split_val': 1001949177,\n",
       "                  '>=': {'V27': {'split': {'feat_type': 'numeric',\n",
       "                     'split_val': 225973120,\n",
       "                     '>=': {'V23': {'split': {'feat_type': 'numeric',\n",
       "                        'split_val': 447013953,\n",
       "                        '>=': {'leaf': {'0': 1.0}},\n",
       "                        '<': {'leaf': {'1': 1.0}}}}},\n",
       "                     '<': {'leaf': {'0': 1.0}}}}},\n",
       "                  '<': {'leaf': {'0': 1.0}}}}}}}}}}}}}}}}},\n",
       "   '<': {'V22': {'split': {'feat_type': 'numeric',\n",
       "      'split_val': 1074615663,\n",
       "      '>=': {'V4': {'split': {'feat_type': 'numeric',\n",
       "         'split_val': 1013675078,\n",
       "         '>=': {'V19': {'split': {'feat_type': 'numeric',\n",
       "            'split_val': 871777765,\n",
       "            '>=': {'leaf': {'1': 1.0}},\n",
       "            '<': {'V16': {'split': {'feat_type': 'numeric',\n",
       "               'split_val': 739811238,\n",
       "               '>=': {'V18': {'split': {'feat_type': 'numeric',\n",
       "                  'split_val': 609119739,\n",
       "                  '>=': {'V27': {'split': {'feat_type': 'numeric',\n",
       "                     'split_val': 231840032,\n",
       "                     '>=': {'leaf': {'1': 1.0}},\n",
       "                     '<': {'V23': {'split': {'feat_type': 'numeric',\n",
       "                        'split_val': 447630314,\n",
       "                        '>=': {'leaf': {'1': 1.0}},\n",
       "                        '<': {'leaf': {'0': 1.0}}}}}}}},\n",
       "                  '<': {'leaf': {'1': 1.0}}}}},\n",
       "               '<': {'leaf': {'1': 1.0}}}}}}}},\n",
       "         '<': {'V19': {'split': {'feat_type': 'numeric',\n",
       "            'split_val': 819613373,\n",
       "            '>=': {'V16': {'split': {'feat_type': 'numeric',\n",
       "               'split_val': 997924472,\n",
       "               '>=': {'V18': {'split': {'feat_type': 'numeric',\n",
       "                  'split_val': 837729177,\n",
       "                  '>=': {'V27': {'split': {'feat_type': 'numeric',\n",
       "                     'split_val': 228447897,\n",
       "                     '>=': {'V23': {'split': {'feat_type': 'numeric',\n",
       "                        'split_val': 445227322,\n",
       "                        '>=': {'V24': {'split': {'feat_type': 'numeric',\n",
       "                           'split_val': 233062699,\n",
       "                           '>=': {'leaf': {'1': 1.0}},\n",
       "                           '<': {'leaf': {'0': 1.0}}}}},\n",
       "                        '<': {'leaf': {'1': 1.0}}}}},\n",
       "                     '<': {'leaf': {'1': 1.0}}}}},\n",
       "                  '<': {'V27': {'split': {'feat_type': 'numeric',\n",
       "                     'split_val': 228914944,\n",
       "                     '>=': {'leaf': {'1': 1.0}},\n",
       "                     '<': {'V23': {'split': {'feat_type': 'numeric',\n",
       "                        'split_val': 464645353,\n",
       "                        '>=': {'leaf': {'1': 1.0}},\n",
       "                        '<': {'leaf': {'0': 1.0}}}}}}}}}}},\n",
       "               '<': {'leaf': {'1': 1.0}}}}},\n",
       "            '<': {'V16': {'split': {'feat_type': 'numeric',\n",
       "               'split_val': 1173328710,\n",
       "               '>=': {'V18': {'split': {'feat_type': 'numeric',\n",
       "                  'split_val': 959142460,\n",
       "                  '>=': {'V27': {'split': {'feat_type': 'numeric',\n",
       "                     'split_val': 225023731,\n",
       "                     '>=': {'V23': {'split': {'feat_type': 'numeric',\n",
       "                        'split_val': 446274803,\n",
       "                        '>=': {'V24': {'split': {'feat_type': 'numeric',\n",
       "                           'split_val': 255490781,\n",
       "                           '>=': {'leaf': {'1': 1.0}},\n",
       "                           '<': {'leaf': {'0': 1.0}}}}},\n",
       "                        '<': {'leaf': {'1': 1.0}}}}},\n",
       "                     '<': {'V23': {'split': {'feat_type': 'numeric',\n",
       "                        'split_val': 453159022,\n",
       "                        '>=': {'leaf': {'1': 1.0}},\n",
       "                        '<': {'leaf': {'0': 1.0}}}}}}}},\n",
       "                  '<': {'V27': {'split': {'feat_type': 'numeric',\n",
       "                     'split_val': 225351663,\n",
       "                     '>=': {'leaf': {'1': 1.0}},\n",
       "                     '<': {'V23': {'split': {'feat_type': 'numeric',\n",
       "                        'split_val': 450635479,\n",
       "                        '>=': {'leaf': {'0': 1.0}},\n",
       "                        '<': {'leaf': {'1': 1.0}}}}}}}}}}},\n",
       "               '<': {'leaf': {'1': 1.0}}}}}}}}}}},\n",
       "      '<': {'V4': {'split': {'feat_type': 'numeric',\n",
       "         'split_val': 1098770553,\n",
       "         '>=': {'leaf': {'1': 1.0}},\n",
       "         '<': {'V19': {'split': {'feat_type': 'numeric',\n",
       "            'split_val': 726263849,\n",
       "            '>=': {'V16': {'split': {'feat_type': 'numeric',\n",
       "               'split_val': 1085067258,\n",
       "               '>=': {'V18': {'split': {'feat_type': 'numeric',\n",
       "                  'split_val': 935436728,\n",
       "                  '>=': {'V27': {'split': {'feat_type': 'numeric',\n",
       "                     'split_val': 226685128,\n",
       "                     '>=': {'V23': {'split': {'feat_type': 'numeric',\n",
       "                        'split_val': 449651713,\n",
       "                        '>=': {'V24': {'split': {'feat_type': 'numeric',\n",
       "                           'split_val': 323277080,\n",
       "                           '>=': {'leaf': {'0': 1.0}},\n",
       "                           '<': {'leaf': {'1': 1.0}}}}},\n",
       "                        '<': {'leaf': {'0': 1.0}}}}},\n",
       "                     '<': {'leaf': {'0': 1.0}}}}},\n",
       "                  '<': {'leaf': {'1': 1.0}}}}},\n",
       "               '<': {'leaf': {'1': 1.0}}}}},\n",
       "            '<': {'V16': {'split': {'feat_type': 'numeric',\n",
       "               'split_val': 1421360064,\n",
       "               '>=': {'V18': {'split': {'feat_type': 'numeric',\n",
       "                  'split_val': 962641400,\n",
       "                  '>=': {'V27': {'split': {'feat_type': 'numeric',\n",
       "                     'split_val': 225748257,\n",
       "                     '>=': {'V23': {'split': {'feat_type': 'numeric',\n",
       "                        'split_val': 448555436,\n",
       "                        '>=': {'V24': {'split': {'feat_type': 'numeric',\n",
       "                           'split_val': 270634457,\n",
       "                           '>=': {'leaf': {'0': 1.0}},\n",
       "                           '<': {'leaf': {'1': 1.0}}}}},\n",
       "                        '<': {'leaf': {'1': 1.0}}}}},\n",
       "                     '<': {'V23': {'split': {'feat_type': 'numeric',\n",
       "                        'split_val': 451780867,\n",
       "                        '>=': {'leaf': {'0': 1.0}},\n",
       "                        '<': {'leaf': {'1': 1.0}}}}}}}},\n",
       "                  '<': {'V27': {'split': {'feat_type': 'numeric',\n",
       "                     'split_val': 225253843,\n",
       "                     '>=': {'V23': {'split': {'feat_type': 'numeric',\n",
       "                        'split_val': 463611032,\n",
       "                        '>=': {'leaf': {'0': 1.0}},\n",
       "                        '<': {'leaf': {'1': 1.0}}}}},\n",
       "                     '<': {'V23': {'split': {'feat_type': 'numeric',\n",
       "                        'split_val': 462051888,\n",
       "                        '>=': {'leaf': {'0': 1.0}},\n",
       "                        '<': {'leaf': {'1': 1.0}}}}}}}}}}},\n",
       "               '<': {'V18': {'split': {'feat_type': 'numeric',\n",
       "                  'split_val': 886230901,\n",
       "                  '>=': {'V27': {'split': {'feat_type': 'numeric',\n",
       "                     'split_val': 226394750,\n",
       "                     '>=': {'V23': {'split': {'feat_type': 'numeric',\n",
       "                        'split_val': 447761859,\n",
       "                        '>=': {'V24': {'split': {'feat_type': 'numeric',\n",
       "                           'split_val': 243046100,\n",
       "                           '>=': {'leaf': {'1': 1.0}},\n",
       "                           '<': {'leaf': {'0': 1.0}}}}},\n",
       "                        '<': {'leaf': {'1': 1.0}}}}},\n",
       "                     '<': {'leaf': {'0': 1.0}}}}},\n",
       "                  '<': {'leaf': {'1': 1.0}}}}}}}}}}}}}}}}}}}}"
      ]
     },
     "execution_count": 19,
     "metadata": {},
     "output_type": "execute_result"
    }
   ],
   "source": [
    "cls.Forest[0]"
   ]
  },
  {
   "cell_type": "code",
   "execution_count": null,
   "metadata": {},
   "outputs": [],
   "source": []
  }
 ],
 "metadata": {
  "kernelspec": {
   "display_name": "Python 3 (ipykernel)",
   "language": "python",
   "name": "python3"
  },
  "language_info": {
   "codemirror_mode": {
    "name": "ipython",
    "version": 3
   },
   "file_extension": ".py",
   "mimetype": "text/x-python",
   "name": "python",
   "nbconvert_exporter": "python",
   "pygments_lexer": "ipython3",
   "version": "3.9.6"
  }
 },
 "nbformat": 4,
 "nbformat_minor": 4
}
