{
 "cells": [
  {
   "cell_type": "markdown",
   "metadata": {},
   "source": [
    "# Customized Random Forest Classifier Model \n",
    "\n",
    "- TODO: implement tqdm.contrib.concurrent for build trees in parallel.\n",
    "\n",
    "## Fundamentals:\n",
    "\n",
    "- Based on Random Forest method principles: ensemble of models (decision trees).\n",
    "\n",
    "- In bootstrap process:\n",
    "\n",
    "    - the data sampled ensure the balance between classes, for training and validation;\n",
    "\n",
    "    - the list of features used are randomly sampled (with random number of features and order).\n",
    "    \n",
    "- For each tree:\n",
    "\n",
    "    - fallowing the sequence of a given list of features, the data is splited half/half based on meadian value;\n",
    "    \n",
    "    - the splitting process ends when the samples have one only class;\n",
    "    \n",
    "    - validation process based on dynamic threshold can discard the tree.\n",
    "    \n",
    "- For use the forest:\n",
    "\n",
    "    - all trees predictions are combined as a vote;\n",
    "    \n",
    "    - it is possible to use soft or hard-voting.\n",
    "    \n",
    "- Positive side-effects:\n",
    "\n",
    "    - possible more generalization caused by the combination of overfitted trees, each tree is highly specialized in a smallest and different set of feature;\n",
    "    \n",
    "    - robustness for unbalanced and missing data, in case of missing data, the feature could be skipped without degrade the optimization process;\n",
    "    \n",
    "    - in prediction process, a missing value could be dealt with a tree replication considering the two possible paths;\n",
    "    \n",
    "    - the survived trees have a potential information about feature importance.\n",
    "\n",
    "### Premises: \n",
    "- all features must be numeric.\n",
    "   \n",
    "- Is case of categorical data, the splitting is done for each categorical value, creating one branch for each value.\n",
    "\n",
    "- Author: Israel Oliveira [\\[e-mail\\]](mailto:'Israel%20Oliveira%20'<prof.israel@gmail.com>)"
   ]
  },
  {
   "cell_type": "code",
   "execution_count": 1,
   "metadata": {
    "execution": {
     "iopub.execute_input": "2021-09-11T00:16:43.856813Z",
     "iopub.status.busy": "2021-09-11T00:16:43.855517Z",
     "iopub.status.idle": "2021-09-11T00:16:46.077295Z",
     "shell.execute_reply": "2021-09-11T00:16:46.075070Z",
     "shell.execute_reply.started": "2021-09-11T00:16:43.856492Z"
    },
    "tags": []
   },
   "outputs": [
    {
     "name": "stdout",
     "output_type": "stream",
     "text": [
      "Requirement already satisfied: random-forest-mc in /usr/local/lib/python3.9/site-packages (0.2.1)\n",
      "Requirement already satisfied: poetry-version<0.2.0,>=0.1.5 in /usr/local/lib/python3.9/site-packages (from random-forest-mc) (0.1.5)\n",
      "Requirement already satisfied: tqdm>=4.60 in /usr/local/lib/python3.9/site-packages (from random-forest-mc) (4.62.2)\n",
      "Requirement already satisfied: pandas>=1.3 in /usr/local/lib/python3.9/site-packages (from random-forest-mc) (1.3.2)\n",
      "Requirement already satisfied: numpy>=1.20 in /usr/local/lib/python3.9/site-packages (from random-forest-mc) (1.20.3)\n",
      "Requirement already satisfied: pytz>=2017.3 in /usr/local/lib/python3.9/site-packages (from pandas>=1.3->random-forest-mc) (2021.1)\n",
      "Requirement already satisfied: python-dateutil>=2.7.3 in /usr/local/lib/python3.9/site-packages (from pandas>=1.3->random-forest-mc) (2.8.2)\n",
      "Requirement already satisfied: tomlkit<0.6.0,>=0.4.6 in /usr/local/lib/python3.9/site-packages (from poetry-version<0.2.0,>=0.1.5->random-forest-mc) (0.5.11)\n",
      "Requirement already satisfied: six>=1.5 in /usr/local/lib/python3.9/site-packages (from python-dateutil>=2.7.3->pandas>=1.3->random-forest-mc) (1.16.0)\n",
      "\u001b[33mWARNING: Running pip as the 'root' user can result in broken permissions and conflicting behaviour with the system package manager. It is recommended to use a virtual environment instead: https://pip.pypa.io/warnings/venv\u001b[0m\n"
     ]
    }
   ],
   "source": [
    "!pip3 install random-forest-mc"
   ]
  },
  {
   "cell_type": "code",
   "execution_count": 2,
   "metadata": {
    "execution": {
     "iopub.execute_input": "2021-09-11T00:16:47.092011Z",
     "iopub.status.busy": "2021-09-11T00:16:47.090858Z",
     "iopub.status.idle": "2021-09-11T00:16:47.150858Z",
     "shell.execute_reply": "2021-09-11T00:16:47.148410Z",
     "shell.execute_reply.started": "2021-09-11T00:16:47.091900Z"
    },
    "tags": []
   },
   "outputs": [],
   "source": [
    "%load_ext watermark"
   ]
  },
  {
   "cell_type": "code",
   "execution_count": 3,
   "metadata": {
    "execution": {
     "iopub.execute_input": "2021-09-11T00:16:51.410025Z",
     "iopub.status.busy": "2021-09-11T00:16:51.409715Z",
     "iopub.status.idle": "2021-09-11T00:16:52.166452Z",
     "shell.execute_reply": "2021-09-11T00:16:52.165906Z",
     "shell.execute_reply.started": "2021-09-11T00:16:51.409994Z"
    },
    "tags": []
   },
   "outputs": [],
   "source": [
    "import pandas as pd\n",
    "import numpy as np\n",
    "from random_forest_mc.model import RandomForestMC\n",
    "from sklearn.model_selection import train_test_split\n",
    "from sklearn.metrics import f1_score, roc_auc_score\n",
    "from collections import Counter\n",
    "import hashlib\n",
    "import joblib"
   ]
  },
  {
   "cell_type": "code",
   "execution_count": 4,
   "metadata": {
    "execution": {
     "iopub.execute_input": "2021-09-11T00:16:53.549138Z",
     "iopub.status.busy": "2021-09-11T00:16:53.547559Z",
     "iopub.status.idle": "2021-09-11T00:16:53.652291Z",
     "shell.execute_reply": "2021-09-11T00:16:53.651071Z",
     "shell.execute_reply.started": "2021-09-11T00:16:53.548986Z"
    },
    "tags": []
   },
   "outputs": [],
   "source": [
    "# from tqdm import tqdm\n",
    "\n",
    "# from glob import glob\n",
    "\n",
    "# import matplotlib.pyplot as plt\n",
    "# %matplotlib inline\n",
    "# from matplotlib import rcParams\n",
    "# from cycler import cycler\n",
    "\n",
    "# rcParams['figure.figsize'] = 12, 8 # 18, 5\n",
    "# rcParams['axes.spines.top'] = False\n",
    "# rcParams['axes.spines.right'] = False\n",
    "# rcParams['axes.grid'] = True\n",
    "# rcParams['axes.prop_cycle'] = cycler(color=['#365977'])\n",
    "# rcParams['lines.linewidth'] = 2.5\n",
    "\n",
    "# import seaborn as sns\n",
    "# sns.set_theme()\n",
    "\n",
    "# pd.set_option(\"max_columns\", None)\n",
    "# pd.set_option(\"max_rows\", None)\n",
    "# pd.set_option('display.max_colwidth', None)\n",
    "\n",
    "from IPython.display import Markdown, display\n",
    "def md(arg):\n",
    "    display(Markdown(arg))\n",
    "\n",
    "# from pandas_profiling import ProfileReport\n",
    "# #report = ProfileReport(#DataFrame here#, minimal=True)\n",
    "# #report.to\n",
    "\n",
    "# import pyarrow.parquet as pq\n",
    "# #df = pq.ParquetDataset(path_to_folder_with_parquets, filesystem=None).read_pandas().to_pandas()\n",
    "\n",
    "# import json\n",
    "# def open_file_json(path,mode='r',var=None):\n",
    "#     if mode == 'w':\n",
    "#         with open(path,'w') as f:\n",
    "#             json.dump(var, f)\n",
    "#     if mode == 'r':\n",
    "#         with open(path,'r') as f:\n",
    "#             return json.load(f)\n",
    "\n",
    "# import functools\n",
    "# import operator\n",
    "# def flat(a):\n",
    "#     return functools.reduce(operator.iconcat, a, [])\n",
    "\n",
    "# import json\n",
    "# from glob import glob\n",
    "# from typing import NewType\n",
    "\n",
    "\n",
    "# DictsPathType = NewType(\"DictsPath\", str)\n",
    "\n",
    "\n",
    "# def open_file_json(path):\n",
    "#     with open(path, \"r\") as f:\n",
    "#         return json.load(f)\n",
    "\n",
    "# class LoadDicts:\n",
    "#     def __init__(self, dict_path: DictsPathType = \"./data\"):\n",
    "#         Dicts_glob = glob(f\"{dict_path}/*.json\")\n",
    "#         self.List = []\n",
    "#         self.Dict = {}\n",
    "#         for path_json in Dicts_glob:\n",
    "#             name = path_json.split(\"/\")[-1].replace(\".json\", \"\")\n",
    "#             self.List.append(name)\n",
    "#             self.Dict[name] = open_file_json(path_json)\n",
    "#             setattr(self, name, self.Dict[name])\n"
   ]
  },
  {
   "cell_type": "code",
   "execution_count": 5,
   "metadata": {
    "execution": {
     "iopub.execute_input": "2021-09-11T00:16:54.385154Z",
     "iopub.status.busy": "2021-09-11T00:16:54.383541Z",
     "iopub.status.idle": "2021-09-11T00:16:55.653902Z",
     "shell.execute_reply": "2021-09-11T00:16:55.652422Z",
     "shell.execute_reply.started": "2021-09-11T00:16:54.385015Z"
    },
    "tags": []
   },
   "outputs": [
    {
     "name": "stdout",
     "output_type": "stream",
     "text": [
      "Python implementation: CPython\n",
      "Python version       : 3.9.7\n",
      "IPython version      : 7.27.0\n",
      "\n",
      "Compiler    : GCC 10.2.1 20210110\n",
      "OS          : Linux\n",
      "Release     : 5.11.0-7633-generic\n",
      "Machine     : x86_64\n",
      "Processor   : \n",
      "CPU cores   : 4\n",
      "Architecture: 64bit\n",
      "\n",
      "Git hash: f6c2cdc447f172d77bd072a12023d47b346c69ca\n",
      "\n",
      "Git repo: https://github.com/ysraell/random-forest-mc.git\n",
      "\n",
      "Git branch: main\n",
      "\n",
      "joblib: 1.0.1\n",
      "numpy : 1.20.3\n",
      "pandas: 1.3.2\n",
      "\n",
      "CPU\t: Intel(R) Core(TM) i7-7500U CPU @ 2.70GHz\n",
      "Mem:            15G\n",
      "Swap:          4.0G\n"
     ]
    }
   ],
   "source": [
    "# Run this cell before close.\n",
    "%watermark -d --iversion -b -r -g -m -v\n",
    "!cat /proc/cpuinfo |grep 'model name'|head -n 1 |sed -e 's/model\\ name/CPU/'\n",
    "!free -h |cut -d'i' -f1  |grep -v total"
   ]
  },
  {
   "cell_type": "code",
   "execution_count": 6,
   "metadata": {
    "execution": {
     "iopub.execute_input": "2021-09-11T00:16:55.657926Z",
     "iopub.status.busy": "2021-09-11T00:16:55.657324Z",
     "iopub.status.idle": "2021-09-11T00:16:56.939708Z",
     "shell.execute_reply": "2021-09-11T00:16:56.939109Z",
     "shell.execute_reply.started": "2021-09-11T00:16:55.657863Z"
    },
    "tags": []
   },
   "outputs": [],
   "source": [
    "df = pd.read_csv('/work/data/creditcard_trans_int.csv')\n",
    "target_col = 'Class'\n",
    "ds_cols = ['V1', 'V2', 'V3', 'V4', 'V5', 'V6', 'V7', 'V8', 'V9', 'V10', 'V11', 'V12', 'V13', 'V14', 'V15', 'V16', 'V17', 'V18', 'V19', 'V20', 'V21', 'V22', 'V23', 'V24', 'V25', 'V26', 'V27', 'V28', 'Amount']"
   ]
  },
  {
   "cell_type": "markdown",
   "metadata": {},
   "source": [
    "## How much data for each class:"
   ]
  },
  {
   "cell_type": "code",
   "execution_count": 7,
   "metadata": {
    "execution": {
     "iopub.execute_input": "2021-09-11T00:16:58.195113Z",
     "iopub.status.busy": "2021-09-11T00:16:58.194593Z",
     "iopub.status.idle": "2021-09-11T00:16:58.211900Z",
     "shell.execute_reply": "2021-09-11T00:16:58.211250Z",
     "shell.execute_reply.started": "2021-09-11T00:16:58.195058Z"
    },
    "tags": []
   },
   "outputs": [
    {
     "data": {
      "text/plain": [
       "0    284315\n",
       "1       492\n",
       "Name: Class, dtype: int64"
      ]
     },
     "execution_count": 7,
     "metadata": {},
     "output_type": "execute_result"
    }
   ],
   "source": [
    "df[target_col].value_counts()"
   ]
  },
  {
   "cell_type": "code",
   "execution_count": 8,
   "metadata": {
    "execution": {
     "iopub.execute_input": "2021-09-11T00:17:00.711399Z",
     "iopub.status.busy": "2021-09-11T00:17:00.709635Z",
     "iopub.status.idle": "2021-09-11T00:17:00.731317Z",
     "shell.execute_reply": "2021-09-11T00:17:00.730327Z",
     "shell.execute_reply.started": "2021-09-11T00:17:00.711323Z"
    },
    "tags": []
   },
   "outputs": [],
   "source": [
    "# How much for test step:\n",
    "N_fraud_test = 200\n",
    "N_truth_test = int(2e4)\n",
    "\n",
    "# How much for training step:\n",
    "N_truth_train = int(2e5)\n",
    "# The remaing data for fraud is all used.\n",
    "\n",
    "# How much (survived) trees:\n",
    "T = 64\n",
    "\n",
    "# Parameters for bootstrap\n",
    "\n",
    "# Data for each tree:\n",
    "N_T = int((df[target_col].value_counts()[1] - N_fraud_test)/2) # remaing data for fraud.\n",
    "N_V = N_T # keep balanced amount for each classe.\n",
    "\n",
    "# How much features:\n",
    "n_F_max = len(ds_cols)\n",
    "n_F_min = n_F_max//2\n",
    "# From EDA: decision trees with small amount of features could be not so efficient.\n",
    "\n",
    "# Droped trees limit:\n",
    "D = 64\n",
    "# When a total of D trees are dropped, the validation threshold decreases delta_Th, restarting the counting.\n",
    "\n",
    "# Delta Threshold\n",
    "delta_th = 0.001\n",
    "th_start = 0.96\n",
    "# The validation threshold decreases dynamically as need to selection more specialized tree.\n",
    "\n",
    "# Metric in validation\n",
    "M = 'Accuracy'\n",
    "# This parameter have no effect, only to say which metric is used in validation process.\n",
    "\n",
    "#Seeds\n",
    "#split_seeds = [43, 47, 53, 59]\n",
    "split_seeds = [43]\n",
    "# One for each experiment."
   ]
  },
  {
   "cell_type": "code",
   "execution_count": 8,
   "metadata": {
    "execution": {
     "iopub.execute_input": "2021-09-10T03:43:56.994584Z",
     "iopub.status.busy": "2021-09-10T03:43:56.993856Z",
     "iopub.status.idle": "2021-09-10T03:43:57.000543Z",
     "shell.execute_reply": "2021-09-10T03:43:56.999776Z",
     "shell.execute_reply.started": "2021-09-10T03:43:56.994542Z"
    },
    "tags": []
   },
   "outputs": [
    {
     "data": {
      "text/plain": [
       "146"
      ]
     },
     "execution_count": 8,
     "metadata": {},
     "output_type": "execute_result"
    }
   ],
   "source": [
    "N_T"
   ]
  },
  {
   "cell_type": "code",
   "execution_count": 9,
   "metadata": {
    "execution": {
     "iopub.execute_input": "2021-09-10T03:44:07.970168Z",
     "iopub.status.busy": "2021-09-10T03:44:07.969637Z",
     "iopub.status.idle": "2021-09-10T11:18:28.597435Z",
     "shell.execute_reply": "2021-09-10T11:18:28.596846Z",
     "shell.execute_reply.started": "2021-09-10T03:44:07.970135Z"
    },
    "tags": []
   },
   "outputs": [
    {
     "data": {
      "application/vnd.jupyter.widget-view+json": {
       "model_id": "151610f92e2749c49d9852d5f729da6c",
       "version_major": 2,
       "version_minor": 0
      },
      "text/plain": [
       "Planting the forest:   0%|          | 0/64 [00:00<?, ?it/s]"
      ]
     },
     "metadata": {},
     "output_type": "display_data"
    }
   ],
   "source": [
    "# Splitting by unique values of the classes.\n",
    "df = df[ds_cols+[target_col]]\n",
    "df_fraud = df.query('Class == 1').reset_index(drop=True).copy()\n",
    "df_truth = df.query('Class == 0').reset_index(drop=True).copy()\n",
    "\n",
    "Results = {}\n",
    "    \n",
    "# Each seed is a experiment.\n",
    "for seed in split_seeds:\n",
    "\n",
    "    # Start the experiment\n",
    "    df_fraud_train, df_fraud_test = train_test_split(df_fraud, test_size=N_fraud_test, random_state=seed)\n",
    "    df_truth_train, df_truth_test = train_test_split(df_truth, train_size=N_truth_train, test_size=N_truth_test, random_state=seed)\n",
    "    df_train = pd.concat([df_fraud_train, df_truth_train]).reset_index(drop=True)\n",
    "    df_test = pd.concat([df_fraud_test, df_truth_test]).reset_index(drop=True)\n",
    "    del df_fraud_test, df_truth_test, df_fraud_train, df_truth_train\n",
    "    \n",
    "    # Training step\n",
    "    cls = RandomForestMC(\n",
    "        n_trees=T, target_col='Class', max_discard_trees=D,\n",
    "        delta_th=delta_th, th_start=th_start,\n",
    "        batch_train_pclass=N_T, batch_val_pclass=N_V,\n",
    "        th_decease_verbose = False\n",
    "    )\n",
    "    cls.process_dataset(df_train)\n",
    "    cls.fitParallel(max_workers=16, thread_parallel_method=False)\n",
    "    #cls.fit()\n",
    "    \n",
    "    # Test step\n",
    "    probs = cls.testForestProbs(df_test)\n",
    "\n",
    "    # Save results\n",
    "    target_test = df_test.Class.to_list()\n",
    "    Results[seed] = {\n",
    "        'probs': probs,\n",
    "        'target_test': target_test\n",
    "    }"
   ]
  },
  {
   "cell_type": "code",
   "execution_count": 10,
   "metadata": {
    "execution": {
     "iopub.execute_input": "2021-09-10T11:18:28.598922Z",
     "iopub.status.busy": "2021-09-10T11:18:28.598643Z",
     "iopub.status.idle": "2021-09-10T19:09:33.973020Z",
     "shell.execute_reply": "2021-09-10T19:09:33.972453Z",
     "shell.execute_reply.started": "2021-09-10T11:18:28.598898Z"
    }
   },
   "outputs": [
    {
     "data": {
      "application/vnd.jupyter.widget-view+json": {
       "model_id": "b73e77983661469ab959a2709e8c9a9b",
       "version_major": 2,
       "version_minor": 0
      },
      "text/plain": [
       "Planting the forest:   0%|          | 0/64 [00:00<?, ?it/s]"
      ]
     },
     "metadata": {},
     "output_type": "display_data"
    }
   ],
   "source": [
    "cls.fitParallel(max_workers=16, thread_parallel_method=False)\n",
    "#cls.fit()\n",
    "\n",
    "# Test step\n",
    "probs = cls.testForestProbs(df_test)\n",
    "\n",
    "# Save results\n",
    "target_test = df_test.Class.to_list()\n",
    "Results[seed] = {\n",
    "    'probs': probs,\n",
    "    'target_test': target_test\n",
    "}"
   ]
  },
  {
   "cell_type": "code",
   "execution_count": 20,
   "metadata": {
    "collapsed": true,
    "execution": {
     "iopub.execute_input": "2021-09-10T19:42:10.582791Z",
     "iopub.status.busy": "2021-09-10T19:42:10.581731Z",
     "iopub.status.idle": "2021-09-10T19:42:10.607799Z",
     "shell.execute_reply": "2021-09-10T19:42:10.606052Z",
     "shell.execute_reply.started": "2021-09-10T19:42:10.582647Z"
    },
    "jupyter": {
     "outputs_hidden": true
    },
    "tags": []
   },
   "outputs": [
    {
     "data": {
      "text/plain": [
       "[0.9239999999999999,\n",
       " 0.9089999999999999,\n",
       " 0.9239999999999999,\n",
       " 0.9059999999999999,\n",
       " 0.9129999999999999,\n",
       " 0.9189999999999999,\n",
       " 0.9019999999999999,\n",
       " 0.9049999999999999,\n",
       " 0.9049999999999999,\n",
       " 0.9079999999999999,\n",
       " 0.9159999999999999,\n",
       " 0.9059999999999999,\n",
       " 0.9059999999999999,\n",
       " 0.9049999999999999,\n",
       " 0.9109999999999999,\n",
       " 0.9059999999999999,\n",
       " 0.9219999999999999,\n",
       " 0.9289999999999999,\n",
       " 0.9229999999999999,\n",
       " 0.946,\n",
       " 0.9169999999999999,\n",
       " 0.9309999999999999,\n",
       " 0.9309999999999999,\n",
       " 0.9279999999999999,\n",
       " 0.9299999999999999,\n",
       " 0.9309999999999999,\n",
       " 0.9309999999999999,\n",
       " 0.9339999999999999,\n",
       " 0.9329999999999999,\n",
       " 0.9339999999999999,\n",
       " 0.946,\n",
       " 0.9239999999999999,\n",
       " 0.9019999999999999,\n",
       " 0.8999999999999999,\n",
       " 0.9119999999999999,\n",
       " 0.9139999999999999,\n",
       " 0.9159999999999999,\n",
       " 0.9149999999999999,\n",
       " 0.9239999999999999,\n",
       " 0.9049999999999999,\n",
       " 0.9009999999999999,\n",
       " 0.9119999999999999,\n",
       " 0.8959999999999999,\n",
       " 0.9029999999999999,\n",
       " 0.9049999999999999,\n",
       " 0.9029999999999999,\n",
       " 0.9069999999999999,\n",
       " 0.9079999999999999,\n",
       " 0.9279999999999999,\n",
       " 0.94,\n",
       " 0.9239999999999999,\n",
       " 0.9209999999999999,\n",
       " 0.9229999999999999,\n",
       " 0.9189999999999999,\n",
       " 0.9369999999999999,\n",
       " 0.9219999999999999,\n",
       " 0.9209999999999999,\n",
       " 0.9219999999999999,\n",
       " 0.9139999999999999,\n",
       " 0.9229999999999999,\n",
       " 0.9289999999999999,\n",
       " 0.9269999999999999,\n",
       " 0.9189999999999999,\n",
       " 0.9219999999999999,\n",
       " 0.9119999999999999,\n",
       " 0.9279999999999999,\n",
       " 0.9219999999999999,\n",
       " 0.9049999999999999,\n",
       " 0.9129999999999999,\n",
       " 0.9099999999999999,\n",
       " 0.9199999999999999,\n",
       " 0.9109999999999999,\n",
       " 0.9069999999999999,\n",
       " 0.9129999999999999,\n",
       " 0.9059999999999999,\n",
       " 0.9049999999999999,\n",
       " 0.9089999999999999,\n",
       " 0.9139999999999999,\n",
       " 0.9029999999999999,\n",
       " 0.9129999999999999,\n",
       " 0.9319999999999999,\n",
       " 0.9329999999999999,\n",
       " 0.9279999999999999,\n",
       " 0.9169999999999999,\n",
       " 0.9309999999999999,\n",
       " 0.9309999999999999,\n",
       " 0.9209999999999999,\n",
       " 0.9209999999999999,\n",
       " 0.9279999999999999,\n",
       " 0.9339999999999999,\n",
       " 0.9249999999999999,\n",
       " 0.9349999999999999,\n",
       " 0.9299999999999999,\n",
       " 0.94,\n",
       " 0.9299999999999999,\n",
       " 0.9319999999999999,\n",
       " 0.9009999999999999,\n",
       " 0.9049999999999999,\n",
       " 0.9089999999999999,\n",
       " 0.9089999999999999,\n",
       " 0.8989999999999999,\n",
       " 0.9039999999999999,\n",
       " 0.9099999999999999,\n",
       " 0.9069999999999999,\n",
       " 0.9069999999999999,\n",
       " 0.9119999999999999,\n",
       " 0.8959999999999999,\n",
       " 0.9059999999999999,\n",
       " 0.9129999999999999,\n",
       " 0.9009999999999999,\n",
       " 0.9089999999999999,\n",
       " 0.9069999999999999,\n",
       " 0.9219999999999999,\n",
       " 0.9289999999999999,\n",
       " 0.9219999999999999,\n",
       " 0.9229999999999999,\n",
       " 0.9169999999999999,\n",
       " 0.9189999999999999,\n",
       " 0.9299999999999999,\n",
       " 0.9199999999999999,\n",
       " 0.9239999999999999,\n",
       " 0.9199999999999999,\n",
       " 0.9169999999999999,\n",
       " 0.9199999999999999,\n",
       " 0.9199999999999999,\n",
       " 0.9249999999999999,\n",
       " 0.9309999999999999,\n",
       " 0.9159999999999999]"
      ]
     },
     "execution_count": 20,
     "metadata": {},
     "output_type": "execute_result"
    }
   ],
   "source": [
    "cls.survived_scores"
   ]
  },
  {
   "cell_type": "code",
   "execution_count": 18,
   "metadata": {
    "execution": {
     "iopub.execute_input": "2021-09-10T19:39:33.578163Z",
     "iopub.status.busy": "2021-09-10T19:39:33.577411Z",
     "iopub.status.idle": "2021-09-10T19:39:34.514192Z",
     "shell.execute_reply": "2021-09-10T19:39:34.513694Z",
     "shell.execute_reply.started": "2021-09-10T19:39:33.578068Z"
    },
    "tags": []
   },
   "outputs": [
    {
     "data": {
      "text/plain": [
       "['/work/data/cls_rfmc.joblib']"
      ]
     },
     "execution_count": 18,
     "metadata": {},
     "output_type": "execute_result"
    }
   ],
   "source": [
    "joblib.dump(cls,'/work/data/cls_rfmc.joblib')"
   ]
  },
  {
   "cell_type": "code",
   "execution_count": 19,
   "metadata": {
    "execution": {
     "iopub.execute_input": "2021-09-10T19:39:49.981742Z",
     "iopub.status.busy": "2021-09-10T19:39:49.981020Z",
     "iopub.status.idle": "2021-09-10T19:39:50.549090Z",
     "shell.execute_reply": "2021-09-10T19:39:50.548436Z",
     "shell.execute_reply.started": "2021-09-10T19:39:49.981710Z"
    }
   },
   "outputs": [
    {
     "name": "stdout",
     "output_type": "stream",
     "text": [
      "49M\t/work/data/cls_rfmc.joblib\n"
     ]
    }
   ],
   "source": [
    "!du -sh /work/data/cls_rfmc.joblib"
   ]
  },
  {
   "cell_type": "code",
   "execution_count": 20,
   "metadata": {
    "execution": {
     "iopub.execute_input": "2021-09-11T00:27:28.722205Z",
     "iopub.status.busy": "2021-09-11T00:27:28.721787Z",
     "iopub.status.idle": "2021-09-11T00:27:28.728000Z",
     "shell.execute_reply": "2021-09-11T00:27:28.727192Z",
     "shell.execute_reply.started": "2021-09-11T00:27:28.722161Z"
    },
    "tags": []
   },
   "outputs": [
    {
     "data": {
      "text/plain": [
       "128"
      ]
     },
     "execution_count": 20,
     "metadata": {},
     "output_type": "execute_result"
    }
   ],
   "source": [
    "len(cls.survived_scores)"
   ]
  },
  {
   "cell_type": "code",
   "execution_count": 9,
   "metadata": {
    "execution": {
     "iopub.execute_input": "2021-09-11T00:18:12.715525Z",
     "iopub.status.busy": "2021-09-11T00:18:12.713910Z",
     "iopub.status.idle": "2021-09-11T00:20:00.741969Z",
     "shell.execute_reply": "2021-09-11T00:20:00.741307Z",
     "shell.execute_reply.started": "2021-09-11T00:18:12.715442Z"
    },
    "tags": []
   },
   "outputs": [],
   "source": [
    "# Splitting by unique values of the classes.\n",
    "df = df[ds_cols+[target_col]]\n",
    "df_fraud = df.query('Class == 1').reset_index(drop=True).copy()\n",
    "df_truth = df.query('Class == 0').reset_index(drop=True).copy()\n",
    "\n",
    "Results = {}\n",
    "cls = joblib.load('/work/data/cls_rfmc.joblib')\n",
    "    \n",
    "# Each seed is a experiment.\n",
    "for seed in tqdm(split_seeds):\n",
    "\n",
    "    # Start the experiment\n",
    "    df_fraud_train, df_fraud_test = train_test_split(df_fraud, test_size=N_fraud_test, random_state=seed)\n",
    "    df_truth_train, df_truth_test = train_test_split(df_truth, train_size=N_truth_train, test_size=N_truth_test, random_state=seed)\n",
    "    df_train = pd.concat([df_fraud_train, df_truth_train]).reset_index(drop=True)\n",
    "    df_test = pd.concat([df_fraud_test, df_truth_test]).reset_index(drop=True)\n",
    "    del df_fraud_test, df_truth_test, df_fraud_train, df_truth_train"
   ]
  },
  {
   "cell_type": "code",
   "execution_count": 24,
   "metadata": {
    "execution": {
     "iopub.execute_input": "2021-09-11T00:46:39.022925Z",
     "iopub.status.busy": "2021-09-11T00:46:39.022475Z",
     "iopub.status.idle": "2021-09-11T00:48:23.944681Z",
     "shell.execute_reply": "2021-09-11T00:48:23.944130Z",
     "shell.execute_reply.started": "2021-09-11T00:46:39.022880Z"
    },
    "tags": []
   },
   "outputs": [],
   "source": [
    "    # Test step\n",
    "    probs = cls.testForestProbs(df_test, soft_voting=False)\n",
    "\n",
    "    # Save results\n",
    "    target_test = df_test.Class.to_list()\n",
    "    Results[seed] = {\n",
    "        'probs': probs,\n",
    "        'target_test': target_test\n",
    "    }"
   ]
  },
  {
   "cell_type": "code",
   "execution_count": 25,
   "metadata": {
    "execution": {
     "iopub.execute_input": "2021-09-11T00:48:23.946254Z",
     "iopub.status.busy": "2021-09-11T00:48:23.945945Z",
     "iopub.status.idle": "2021-09-11T00:48:25.443879Z",
     "shell.execute_reply": "2021-09-11T00:48:25.443305Z",
     "shell.execute_reply.started": "2021-09-11T00:48:23.946221Z"
    },
    "tags": []
   },
   "outputs": [],
   "source": [
    "\n",
    "# Generates the metrics\n",
    "data = []\n",
    "for seed,exp in Results.items():\n",
    "    target_test = exp['target_test']\n",
    "    rf_classes = [0, 1]\n",
    "    df_exp = pd.DataFrame([(d['0'], d['1']) for d in exp['probs']], columns=rf_classes)\n",
    "    df_exp['pred'] = df_exp[[0, 1]].apply(lambda x: rf_classes[np.argmax(x)], axis=1)\n",
    "    df_exp['target'] = target_test\n",
    "    Fraud_True_Sum = df_exp.loc[(df_exp.pred == 1) & (df_exp.target == 1)][1].sum()/sum(df_exp.target == 1)\n",
    "    Truth_False_Sum = df_exp.loc[(df_exp.pred == 0) & (df_exp.target == 1)][0].sum()/sum(df_exp.target == 1)\n",
    "    Fraud_False_Sum = df_exp.loc[(df_exp.pred == 1) & (df_exp.target == 0)][1].sum()/sum(df_exp.target == 0)\n",
    "    F1_M = f1_score(target_test, df_exp['pred'].to_numpy(), average='macro')\n",
    "    AUC_ROC_M = roc_auc_score(target_test, df_exp['pred'].to_numpy(), average='macro')\n",
    "    TP_0 = df_exp.loc[(df_exp.pred == 0) & (df_exp.target == 0)].shape[0]/sum(df_exp.target == 0)\n",
    "    TP_1 = df_exp.loc[(df_exp.pred == 1) & (df_exp.target == 1)].shape[0]/sum(df_exp.target == 1)\n",
    "\n",
    "\n",
    "    data.append([\n",
    "        seed, Fraud_True_Sum, Truth_False_Sum, Fraud_False_Sum, F1_M, AUC_ROC_M, TP_0, TP_1\n",
    "    ])"
   ]
  },
  {
   "cell_type": "code",
   "execution_count": 26,
   "metadata": {
    "execution": {
     "iopub.execute_input": "2021-09-11T00:48:25.444839Z",
     "iopub.status.busy": "2021-09-11T00:48:25.444679Z",
     "iopub.status.idle": "2021-09-11T00:48:25.461398Z",
     "shell.execute_reply": "2021-09-11T00:48:25.460596Z",
     "shell.execute_reply.started": "2021-09-11T00:48:25.444818Z"
    }
   },
   "outputs": [
    {
     "data": {
      "text/html": [
       "<div>\n",
       "<style scoped>\n",
       "    .dataframe tbody tr th:only-of-type {\n",
       "        vertical-align: middle;\n",
       "    }\n",
       "\n",
       "    .dataframe tbody tr th {\n",
       "        vertical-align: top;\n",
       "    }\n",
       "\n",
       "    .dataframe thead th {\n",
       "        text-align: right;\n",
       "    }\n",
       "</style>\n",
       "<table border=\"1\" class=\"dataframe\">\n",
       "  <thead>\n",
       "    <tr style=\"text-align: right;\">\n",
       "      <th></th>\n",
       "      <th>seed</th>\n",
       "      <th>Fraud_True_Sum</th>\n",
       "      <th>Truth_False_Sum</th>\n",
       "      <th>Fraud_False_Sum</th>\n",
       "      <th>F1_M</th>\n",
       "      <th>AUC_ROC_M</th>\n",
       "      <th>TP_0</th>\n",
       "      <th>TP_1</th>\n",
       "    </tr>\n",
       "  </thead>\n",
       "  <tbody>\n",
       "    <tr>\n",
       "      <th>0</th>\n",
       "      <td>43</td>\n",
       "      <td>0.834805</td>\n",
       "      <td>0.102344</td>\n",
       "      <td>0.007626</td>\n",
       "      <td>0.779571</td>\n",
       "      <td>0.928975</td>\n",
       "      <td>0.98795</td>\n",
       "      <td>0.87</td>\n",
       "    </tr>\n",
       "  </tbody>\n",
       "</table>\n",
       "</div>"
      ],
      "text/plain": [
       "   seed  Fraud_True_Sum  Truth_False_Sum  Fraud_False_Sum      F1_M  \\\n",
       "0    43        0.834805         0.102344         0.007626  0.779571   \n",
       "\n",
       "   AUC_ROC_M     TP_0  TP_1  \n",
       "0   0.928975  0.98795  0.87  "
      ]
     },
     "execution_count": 26,
     "metadata": {},
     "output_type": "execute_result"
    }
   ],
   "source": [
    "columns = ['seed', 'Fraud_True_Sum','Truth_False_Sum', 'Fraud_False_Sum', 'F1_M', 'AUC_ROC_M', 'TP_0', 'TP_1']\n",
    "df_Results = pd.DataFrame(data, columns=columns)\n",
    "df_Results.to_csv('/work/data/Results_creditcard_RFMC_6.csv', index=False)\n",
    "df_Results"
   ]
  },
  {
   "cell_type": "code",
   "execution_count": 23,
   "metadata": {
    "execution": {
     "iopub.execute_input": "2021-09-11T00:46:21.095615Z",
     "iopub.status.busy": "2021-09-11T00:46:21.095386Z",
     "iopub.status.idle": "2021-09-11T00:46:21.109675Z",
     "shell.execute_reply": "2021-09-11T00:46:21.108958Z",
     "shell.execute_reply.started": "2021-09-11T00:46:21.095586Z"
    },
    "tags": []
   },
   "outputs": [
    {
     "data": {
      "text/html": [
       "<div>\n",
       "<style scoped>\n",
       "    .dataframe tbody tr th:only-of-type {\n",
       "        vertical-align: middle;\n",
       "    }\n",
       "\n",
       "    .dataframe tbody tr th {\n",
       "        vertical-align: top;\n",
       "    }\n",
       "\n",
       "    .dataframe thead th {\n",
       "        text-align: right;\n",
       "    }\n",
       "</style>\n",
       "<table border=\"1\" class=\"dataframe\">\n",
       "  <thead>\n",
       "    <tr style=\"text-align: right;\">\n",
       "      <th></th>\n",
       "      <th>seed</th>\n",
       "      <th>Fraud_True_Sum</th>\n",
       "      <th>Truth_False_Sum</th>\n",
       "      <th>Fraud_False_Sum</th>\n",
       "      <th>F1_M</th>\n",
       "      <th>AUC_ROC_M</th>\n",
       "      <th>TP_0</th>\n",
       "      <th>TP_1</th>\n",
       "    </tr>\n",
       "  </thead>\n",
       "  <tbody>\n",
       "    <tr>\n",
       "      <th>0</th>\n",
       "      <td>43</td>\n",
       "      <td>0.834805</td>\n",
       "      <td>0.102344</td>\n",
       "      <td>0.007626</td>\n",
       "      <td>0.779571</td>\n",
       "      <td>0.928975</td>\n",
       "      <td>0.98795</td>\n",
       "      <td>0.87</td>\n",
       "    </tr>\n",
       "  </tbody>\n",
       "</table>\n",
       "</div>"
      ],
      "text/plain": [
       "   seed  Fraud_True_Sum  Truth_False_Sum  Fraud_False_Sum      F1_M  \\\n",
       "0    43        0.834805         0.102344         0.007626  0.779571   \n",
       "\n",
       "   AUC_ROC_M     TP_0  TP_1  \n",
       "0   0.928975  0.98795  0.87  "
      ]
     },
     "execution_count": 23,
     "metadata": {},
     "output_type": "execute_result"
    }
   ],
   "source": [
    "columns = ['seed', 'Fraud_True_Sum','Truth_False_Sum', 'Fraud_False_Sum', 'F1_M', 'AUC_ROC_M', 'TP_0', 'TP_1']\n",
    "df_Results = pd.DataFrame(data, columns=columns)\n",
    "df_Results.to_csv('/work/data/Results_creditcard_RFMC_6.csv', index=False)\n",
    "df_Results"
   ]
  },
  {
   "cell_type": "markdown",
   "metadata": {},
   "source": [
    "# Results"
   ]
  },
  {
   "cell_type": "code",
   "execution_count": null,
   "metadata": {},
   "outputs": [],
   "source": [
    "md('# T = 128 e D = 512 (delta_th = 0.002)')\n",
    "#md(\"With 16 threads: {:.2f}s/tree\".format((6*3600+16*60+13)/512))\n",
    "df_Results"
   ]
  },
  {
   "cell_type": "code",
   "execution_count": null,
   "metadata": {
    "tags": []
   },
   "outputs": [],
   "source": [
    "md('# T = 512 e D = 32')\n",
    "md(\"With 16 threads: {:.2f}s/tree\".format((6*3600+16*60+13)/512))\n",
    "df_Results"
   ]
  },
  {
   "cell_type": "code",
   "execution_count": null,
   "metadata": {
    "tags": []
   },
   "outputs": [],
   "source": [
    "md('# T = 128 e D = 16')\n",
    "md(\"With 16 threads: {:.2f}s/tree\".format((50*60+28)/128))\n",
    "df_Results = pd.read_csv('/work/data/Results_creditcard_RFMC_3.csv')\n",
    "df_Results"
   ]
  },
  {
   "cell_type": "markdown",
   "metadata": {},
   "source": [
    "### Basic statistics for all experiments"
   ]
  },
  {
   "cell_type": "code",
   "execution_count": null,
   "metadata": {
    "tags": []
   },
   "outputs": [],
   "source": [
    "df_Results[df_Results.columns[1:]].describe().loc[['mean', 'std', 'min', 'max']]"
   ]
  },
  {
   "cell_type": "markdown",
   "metadata": {
    "execution": {
     "iopub.execute_input": "2021-08-15T17:06:53.458722Z",
     "iopub.status.busy": "2021-08-15T17:06:53.458205Z",
     "iopub.status.idle": "2021-08-15T17:06:53.463759Z",
     "shell.execute_reply": "2021-08-15T17:06:53.462601Z",
     "shell.execute_reply.started": "2021-08-15T17:06:53.458680Z"
    }
   },
   "source": [
    "# Baseline model metrics"
   ]
  },
  {
   "cell_type": "code",
   "execution_count": null,
   "metadata": {
    "tags": []
   },
   "outputs": [],
   "source": [
    "df_Baseline = pd.read_csv('Results_creditcard_Baseline.csv')"
   ]
  },
  {
   "cell_type": "code",
   "execution_count": null,
   "metadata": {
    "tags": []
   },
   "outputs": [],
   "source": [
    "columns = ['seed', 'n_estimators', 'Fraud_True_Sum','Truth_False_Sum', 'Fraud_False_Sum', 'F1_M', 'AUC_ROC_M', 'TP_0', 'TP_1']\n",
    "df_Baseline[columns].groupby(['seed','n_estimators']).mean()"
   ]
  },
  {
   "cell_type": "code",
   "execution_count": 21,
   "metadata": {
    "execution": {
     "iopub.execute_input": "2021-09-10T19:42:28.892603Z",
     "iopub.status.busy": "2021-09-10T19:42:28.892041Z",
     "iopub.status.idle": "2021-09-10T19:42:28.910027Z",
     "shell.execute_reply": "2021-09-10T19:42:28.908463Z",
     "shell.execute_reply.started": "2021-09-10T19:42:28.892534Z"
    },
    "tags": []
   },
   "outputs": [
    {
     "data": {
      "text/plain": [
       "Counter({0.924: 6,\n",
       "         0.909: 5,\n",
       "         0.906: 6,\n",
       "         0.913: 5,\n",
       "         0.919: 4,\n",
       "         0.902: 2,\n",
       "         0.905: 8,\n",
       "         0.908: 2,\n",
       "         0.916: 3,\n",
       "         0.911: 2,\n",
       "         0.922: 7,\n",
       "         0.929: 3,\n",
       "         0.923: 4,\n",
       "         0.946: 2,\n",
       "         0.917: 4,\n",
       "         0.931: 7,\n",
       "         0.928: 5,\n",
       "         0.93: 4,\n",
       "         0.934: 3,\n",
       "         0.933: 2,\n",
       "         0.9: 1,\n",
       "         0.912: 4,\n",
       "         0.914: 3,\n",
       "         0.915: 1,\n",
       "         0.901: 3,\n",
       "         0.896: 2,\n",
       "         0.903: 3,\n",
       "         0.907: 5,\n",
       "         0.94: 2,\n",
       "         0.921: 4,\n",
       "         0.937: 1,\n",
       "         0.927: 1,\n",
       "         0.91: 2,\n",
       "         0.92: 5,\n",
       "         0.932: 2,\n",
       "         0.925: 2,\n",
       "         0.935: 1,\n",
       "         0.899: 1,\n",
       "         0.904: 1})"
      ]
     },
     "execution_count": 21,
     "metadata": {},
     "output_type": "execute_result"
    }
   ],
   "source": [
    "Counter([round(x,8) for x in cls.survived_scores])"
   ]
  },
  {
   "cell_type": "code",
   "execution_count": 51,
   "metadata": {
    "execution": {
     "iopub.execute_input": "2021-09-11T01:32:54.706074Z",
     "iopub.status.busy": "2021-09-11T01:32:54.705181Z",
     "iopub.status.idle": "2021-09-11T01:32:54.790323Z",
     "shell.execute_reply": "2021-09-11T01:32:54.789003Z",
     "shell.execute_reply.started": "2021-09-11T01:32:54.706028Z"
    },
    "tags": []
   },
   "outputs": [
    {
     "name": "stdout",
     "output_type": "stream",
     "text": [
      "256\n",
      "128\n"
     ]
    },
    {
     "ename": "NameError",
     "evalue": "name 'survived_scores' is not defined",
     "output_type": "error",
     "traceback": [
      "\u001b[0;31m---------------------------------------------------------------------------\u001b[0m",
      "\u001b[0;31mNameError\u001b[0m                                 Traceback (most recent call last)",
      "\u001b[0;32m/tmp/ipykernel_134/1020157726.py\u001b[0m in \u001b[0;36m<module>\u001b[0;34m\u001b[0m\n\u001b[1;32m      4\u001b[0m \u001b[0mForest\u001b[0m \u001b[0;34m=\u001b[0m \u001b[0;34m[\u001b[0m\u001b[0mTree\u001b[0m \u001b[0;32mfor\u001b[0m \u001b[0mTree\u001b[0m\u001b[0;34m,\u001b[0m \u001b[0mcond\u001b[0m \u001b[0;32min\u001b[0m \u001b[0mzip\u001b[0m\u001b[0;34m(\u001b[0m\u001b[0mForest\u001b[0m\u001b[0;34m,\u001b[0m\u001b[0mconds\u001b[0m\u001b[0;34m)\u001b[0m \u001b[0;32mif\u001b[0m \u001b[0mcond\u001b[0m\u001b[0;34m]\u001b[0m\u001b[0;34m\u001b[0m\u001b[0;34m\u001b[0m\u001b[0m\n\u001b[1;32m      5\u001b[0m \u001b[0mprint\u001b[0m\u001b[0;34m(\u001b[0m\u001b[0mlen\u001b[0m\u001b[0;34m(\u001b[0m\u001b[0mForest\u001b[0m\u001b[0;34m)\u001b[0m\u001b[0;34m)\u001b[0m\u001b[0;34m\u001b[0m\u001b[0;34m\u001b[0m\u001b[0m\n\u001b[0;32m----> 6\u001b[0;31m \u001b[0mForest\u001b[0m \u001b[0;34m=\u001b[0m \u001b[0;34m[\u001b[0m\u001b[0mscore\u001b[0m \u001b[0;32mfor\u001b[0m \u001b[0mscore\u001b[0m\u001b[0;34m,\u001b[0m \u001b[0mcond\u001b[0m \u001b[0;32min\u001b[0m \u001b[0mzip\u001b[0m\u001b[0;34m(\u001b[0m\u001b[0msurvived_scores\u001b[0m\u001b[0;34m,\u001b[0m\u001b[0mconds\u001b[0m\u001b[0;34m)\u001b[0m \u001b[0;32mif\u001b[0m \u001b[0mcond\u001b[0m\u001b[0;34m]\u001b[0m\u001b[0;34m\u001b[0m\u001b[0;34m\u001b[0m\u001b[0m\n\u001b[0m\u001b[1;32m      7\u001b[0m \u001b[0mprint\u001b[0m\u001b[0;34m(\u001b[0m\u001b[0mlen\u001b[0m\u001b[0;34m(\u001b[0m\u001b[0mForest\u001b[0m\u001b[0;34m)\u001b[0m\u001b[0;34m)\u001b[0m\u001b[0;34m\u001b[0m\u001b[0;34m\u001b[0m\u001b[0m\n",
      "\u001b[0;31mNameError\u001b[0m: name 'survived_scores' is not defined"
     ]
    }
   ],
   "source": [
    "Forest = cls.Forest+cls.Forest\n",
    "print(len(Forest))\n",
    "conds = pd.DataFrame([hashlib.md5(str(Tree).encode('utf-8')).hexdigest() for Tree in Forest]).duplicated().to_list()\n",
    "Forest = [Tree for Tree, cond in zip(Forest,conds) if cond]\n",
    "print(len(Forest))\n",
    "Forest = [score for score, cond in zip(survived_scores,conds) if cond]\n",
    "print(len(Forest))"
   ]
  },
  {
   "cell_type": "code",
   "execution_count": 35,
   "metadata": {
    "execution": {
     "iopub.execute_input": "2021-09-11T01:20:50.750100Z",
     "iopub.status.busy": "2021-09-11T01:20:50.747470Z",
     "iopub.status.idle": "2021-09-11T01:20:50.771469Z",
     "shell.execute_reply": "2021-09-11T01:20:50.769920Z",
     "shell.execute_reply.started": "2021-09-11T01:20:50.749919Z"
    }
   },
   "outputs": [
    {
     "data": {
      "text/plain": [
       "0"
      ]
     },
     "execution_count": 35,
     "metadata": {},
     "output_type": "execute_result"
    }
   ],
   "source": [
    "i"
   ]
  },
  {
   "cell_type": "code",
   "execution_count": 36,
   "metadata": {
    "execution": {
     "iopub.execute_input": "2021-09-11T01:20:58.756330Z",
     "iopub.status.busy": "2021-09-11T01:20:58.755241Z",
     "iopub.status.idle": "2021-09-11T01:20:58.765431Z",
     "shell.execute_reply": "2021-09-11T01:20:58.764460Z",
     "shell.execute_reply.started": "2021-09-11T01:20:58.756262Z"
    }
   },
   "outputs": [
    {
     "data": {
      "text/plain": [
       "'37f4348ff86b2fc5486ef88873d9363e'"
      ]
     },
     "execution_count": 36,
     "metadata": {},
     "output_type": "execute_result"
    }
   ],
   "source": [
    "hashlib.md5(str(Tree).encode('utf-8')).hexdigest()"
   ]
  },
  {
   "cell_type": "code",
   "execution_count": null,
   "metadata": {},
   "outputs": [],
   "source": []
  }
 ],
 "metadata": {
  "kernelspec": {
   "display_name": "Python 3 (ipykernel)",
   "language": "python",
   "name": "python3"
  },
  "language_info": {
   "codemirror_mode": {
    "name": "ipython",
    "version": 3
   },
   "file_extension": ".py",
   "mimetype": "text/x-python",
   "name": "python",
   "nbconvert_exporter": "python",
   "pygments_lexer": "ipython3",
   "version": "3.9.7"
  }
 },
 "nbformat": 4,
 "nbformat_minor": 4
}
