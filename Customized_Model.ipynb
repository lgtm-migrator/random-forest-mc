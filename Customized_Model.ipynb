{
 "cells": [
  {
   "cell_type": "markdown",
   "metadata": {},
   "source": [
    "# Customized Random Forest Classifier Model \n",
    "\n",
    "## Base algorithm\n",
    "\n",
    "Premises: all features must be numeric of type integer.\n",
    "\n",
    "1. Build a decision tree.\n",
    "\n",
    "    1.1. Randomized bootstrap.\n",
    "    \n",
    "    1.1.1. Sample from training dataset: $X_T$ wiht size $N_T$.\n",
    "    \n",
    "    1.1.2. Sample from training dataset: $X_V$ wiht size $N_V \\geq N_T$ .\n",
    "        \n",
    "    1.1.3. Set randomly the number of features to use: $n_F$.\n",
    "    \n",
    "    1.1.4. Set randomly witch features to use: $F$.\n",
    "    \n",
    "    1.1.5. Set a metric type (Ac., F1, FPR etc.): $M$.\n",
    "    \n",
    "    1.1.6. Set the limit for drop trees: $D$.\n",
    "    \n",
    "    1.1.7. Set how much trees: $T$\n",
    "    \n",
    "    1.1.8. Set decrease step to threshold for drop: $\\Delta Th$\n",
    "    \n",
    "2. Forest creation algorithm:\n",
    "    \n",
    "```text\n",
    "\n",
    "function splitData(feat,dataset):\n",
    "    *Split the data by median.\n",
    "    Ensuring: half/half split.\n",
    "        Blanced calsses*\n",
    "    return ds_a, ds_b, median\n",
    "    \n",
    "function validationTree(tree,ds,metric):\n",
    "    *Test the tree with given datset ds.\n",
    "    Return the score based on given metric*\n",
    "    return score\n",
    "\n",
    "function sampleFeats(n_F_min,n_F_max):\n",
    "    n_F = random(n_F_min,n_F_max)\n",
    "    return sample(Feature_List,n_F)\n",
    "    \n",
    "function genLeaf(target_col):\n",
    "    return {\n",
    "        'leaf' : {\n",
    "            'Class_0': target_col.rate('Class_0'),\n",
    "            'Class_1': target_col.rate('Class_1')\n",
    "        }\n",
    "    }\n",
    "\n",
    "function growTree(F,ds):\n",
    "\n",
    "    if size(ds.target.unique) == 1:\n",
    "        return genLeaf(ds.target)\n",
    "        \n",
    "    feat = F.pop(0)\n",
    "    ds_a, ds_b, split_val = splitData(feat,ds)\n",
    "\n",
    "    return {\n",
    "            feat: {\n",
    "                'split': {\n",
    "                    'split_val': split_val,\n",
    "                    'A' : genLeaf(ds_a.target),\n",
    "                    'B' : genLeaf(ds_b.target)\n",
    "                } if F is null else {\n",
    "                    'split_val': split_val,\n",
    "                    'A' : drowTree(F,ds_a),\n",
    "                    'B' : growTree(F,ds_b)\n",
    "                }\n",
    "            }\n",
    "        }\n",
    "\n",
    "Forest = []\n",
    "for t in T:\n",
    "    X_T, X_V = split_train_test(dataset, train_size=N_T, test_size=N_V)\n",
    "    droped_trees = 0\n",
    "    Threshold_for_drop = 1 - delta_Th\n",
    "    Pass = False\n",
    "    while not Pass:\n",
    "        F = sampleFeats(n_F_min,n_F_max)\n",
    "        Tree = growTree(F,X_T)\n",
    "        if validationTree(Tree,X_V,M) < Threshold_for_drop:\n",
    "            droped_trees += 1\n",
    "        else:\n",
    "            Pass = True\n",
    "        if droped_trees >= D:\n",
    "            Threshold_for_drop -= delta_Th\n",
    "            droped_trees = 0\n",
    "    Forest.append(Tree)\n",
    "\n",
    "```\n",
    "\n",
    "3. Notes.\n",
    "\n",
    "    3.1. Need some adjustments for inbalanced dataset.\n",
    "\n",
    "- Author: Israel Oliveira [\\[e-mail\\]](mailto:'Israel%20Oliveira%20'<prof.israel@gmail.com>)"
   ]
  },
  {
   "cell_type": "code",
   "execution_count": 2,
   "metadata": {
    "execution": {
     "iopub.execute_input": "2021-08-14T21:23:10.441868Z",
     "iopub.status.busy": "2021-08-14T21:23:10.441477Z",
     "iopub.status.idle": "2021-08-14T21:23:10.501622Z",
     "shell.execute_reply": "2021-08-14T21:23:10.500689Z",
     "shell.execute_reply.started": "2021-08-14T21:23:10.441835Z"
    }
   },
   "outputs": [],
   "source": [
    "%load_ext watermark"
   ]
  },
  {
   "cell_type": "code",
   "execution_count": 3,
   "metadata": {
    "execution": {
     "iopub.execute_input": "2021-08-14T21:23:10.589786Z",
     "iopub.status.busy": "2021-08-14T21:23:10.589450Z",
     "iopub.status.idle": "2021-08-14T21:23:11.754492Z",
     "shell.execute_reply": "2021-08-14T21:23:11.753611Z",
     "shell.execute_reply.started": "2021-08-14T21:23:10.589757Z"
    }
   },
   "outputs": [],
   "source": [
    "import pandas as pd"
   ]
  },
  {
   "cell_type": "code",
   "execution_count": 4,
   "metadata": {
    "execution": {
     "iopub.execute_input": "2021-08-14T21:23:11.758708Z",
     "iopub.status.busy": "2021-08-14T21:23:11.758308Z",
     "iopub.status.idle": "2021-08-14T21:23:11.776100Z",
     "shell.execute_reply": "2021-08-14T21:23:11.774949Z",
     "shell.execute_reply.started": "2021-08-14T21:23:11.758671Z"
    }
   },
   "outputs": [],
   "source": [
    "# from tqdm import tqdm\n",
    "\n",
    "# from glob import glob\n",
    "\n",
    "# import matplotlib.pyplot as plt\n",
    "# %matplotlib inline\n",
    "# from matplotlib import rcParams\n",
    "# from cycler import cycler\n",
    "\n",
    "# rcParams['figure.figsize'] = 12, 8 # 18, 5\n",
    "# rcParams['axes.spines.top'] = False\n",
    "# rcParams['axes.spines.right'] = False\n",
    "# rcParams['axes.grid'] = True\n",
    "# rcParams['axes.prop_cycle'] = cycler(color=['#365977'])\n",
    "# rcParams['lines.linewidth'] = 2.5\n",
    "\n",
    "# import seaborn as sns\n",
    "# sns.set_theme()\n",
    "\n",
    "# pd.set_option(\"max_columns\", None)\n",
    "# pd.set_option(\"max_rows\", None)\n",
    "# pd.set_option('display.max_colwidth', None)\n",
    "\n",
    "# from IPython.display import Markdown, display\n",
    "# def md(arg):\n",
    "#     display(Markdown(arg))\n",
    "\n",
    "# from pandas_profiling import ProfileReport\n",
    "# #report = ProfileReport(#DataFrame here#, minimal=True)\n",
    "# #report.to\n",
    "\n",
    "# import pyarrow.parquet as pq\n",
    "# #df = pq.ParquetDataset(path_to_folder_with_parquets, filesystem=None).read_pandas().to_pandas()\n",
    "\n",
    "# import json\n",
    "# def open_file_json(path,mode='r',var=None):\n",
    "#     if mode == 'w':\n",
    "#         with open(path,'w') as f:\n",
    "#             json.dump(var, f)\n",
    "#     if mode == 'r':\n",
    "#         with open(path,'r') as f:\n",
    "#             return json.load(f)\n",
    "\n",
    "# import functools\n",
    "# import operator\n",
    "# def flat(a):\n",
    "#     return functools.reduce(operator.iconcat, a, [])\n",
    "\n",
    "# import json\n",
    "# from glob import glob\n",
    "# from typing import NewType\n",
    "\n",
    "\n",
    "# DictsPathType = NewType(\"DictsPath\", str)\n",
    "\n",
    "\n",
    "# def open_file_json(path):\n",
    "#     with open(path, \"r\") as f:\n",
    "#         return json.load(f)\n",
    "\n",
    "# class LoadDicts:\n",
    "#     def __init__(self, dict_path: DictsPathType = \"./data\"):\n",
    "#         Dicts_glob = glob(f\"{dict_path}/*.json\")\n",
    "#         self.List = []\n",
    "#         self.Dict = {}\n",
    "#         for path_json in Dicts_glob:\n",
    "#             name = path_json.split(\"/\")[-1].replace(\".json\", \"\")\n",
    "#             self.List.append(name)\n",
    "#             self.Dict[name] = open_file_json(path_json)\n",
    "#             setattr(self, name, self.Dict[name])\n"
   ]
  },
  {
   "cell_type": "code",
   "execution_count": 5,
   "metadata": {
    "execution": {
     "iopub.execute_input": "2021-08-14T21:23:11.780835Z",
     "iopub.status.busy": "2021-08-14T21:23:11.780459Z",
     "iopub.status.idle": "2021-08-14T21:23:14.729744Z",
     "shell.execute_reply": "2021-08-14T21:23:14.728740Z",
     "shell.execute_reply.started": "2021-08-14T21:23:11.780805Z"
    }
   },
   "outputs": [
    {
     "name": "stdout",
     "output_type": "stream",
     "text": [
      "Python implementation: CPython\n",
      "Python version       : 3.9.6\n",
      "IPython version      : 7.25.0\n",
      "\n",
      "Compiler    : GCC 8.3.0\n",
      "OS          : Linux\n",
      "Release     : 5.11.0-7620-generic\n",
      "Machine     : x86_64\n",
      "Processor   : \n",
      "CPU cores   : 4\n",
      "Architecture: 64bit\n",
      "\n",
      "Git hash: ed3aba7692c8a9756f12bca72c13a990d76a3939\n",
      "\n",
      "Git repo: https://github.com/ysraell/creditcardfraud.git\n",
      "\n",
      "Git branch: main\n",
      "\n",
      "pandas: 1.3.1\n",
      "\n",
      "CPU\t: Intel(R) Core(TM) i7-7500U CPU @ 2.70GHz\n",
      "Mem:           15G\n",
      "Swap:         4.0G\n"
     ]
    }
   ],
   "source": [
    "# Run this cell before close.\n",
    "%watermark -d --iversion -b -r -g -m -v\n",
    "!cat /proc/cpuinfo |grep 'model name'|head -n 1 |sed -e 's/model\\ name/CPU/'\n",
    "!free -h |cut -d'i' -f1  |grep -v total"
   ]
  },
  {
   "cell_type": "code",
   "execution_count": 6,
   "metadata": {
    "execution": {
     "iopub.execute_input": "2021-08-14T21:24:09.498289Z",
     "iopub.status.busy": "2021-08-14T21:24:09.497958Z",
     "iopub.status.idle": "2021-08-14T21:24:13.734947Z",
     "shell.execute_reply": "2021-08-14T21:24:13.734172Z",
     "shell.execute_reply.started": "2021-08-14T21:24:09.498260Z"
    }
   },
   "outputs": [],
   "source": [
    "ds = pd.read_csv('/work/data/creditcard_trans_int.csv')\n",
    "target_col = 'Class'\n",
    "ds_cols = ['V1', 'V2', 'V3', 'V4', 'V5', 'V6', 'V7', 'V8', 'V9', 'V10', 'V11', 'V12', 'V13', 'V14', 'V15', 'V16', 'V17', 'V18', 'V19', 'V20', 'V21', 'V22', 'V23', 'V24', 'V25', 'V26', 'V27', 'V28', 'Amount']"
   ]
  },
  {
   "cell_type": "code",
   "execution_count": 11,
   "metadata": {
    "execution": {
     "iopub.execute_input": "2021-08-14T21:59:51.366731Z",
     "iopub.status.busy": "2021-08-14T21:59:51.366106Z",
     "iopub.status.idle": "2021-08-14T21:59:51.380093Z",
     "shell.execute_reply": "2021-08-14T21:59:51.379102Z",
     "shell.execute_reply.started": "2021-08-14T21:59:51.366675Z"
    },
    "tags": []
   },
   "outputs": [
    {
     "data": {
      "text/plain": [
       "492"
      ]
     },
     "execution_count": 11,
     "metadata": {},
     "output_type": "execute_result"
    }
   ],
   "source": [
    "ds[target_col].value_counts()[1]"
   ]
  },
  {
   "cell_type": "code",
   "execution_count": 14,
   "metadata": {
    "execution": {
     "iopub.execute_input": "2021-08-14T22:01:40.078549Z",
     "iopub.status.busy": "2021-08-14T22:01:40.077638Z",
     "iopub.status.idle": "2021-08-14T22:01:40.093717Z",
     "shell.execute_reply": "2021-08-14T22:01:40.092310Z",
     "shell.execute_reply.started": "2021-08-14T22:01:40.078477Z"
    },
    "tags": []
   },
   "outputs": [],
   "source": [
    "#\n",
    "N_fraud_test = 200\n",
    "N_truth_test = int(2e4)\n",
    "N_truth_train = int(2e5)\n",
    "\n",
    "# How much trees:\n",
    "T = 100\n",
    "\n",
    "# Parameters for bootstrap\n",
    "\n",
    "# Data for each tree:\n",
    "ds_size = 11*(ds[target_col].value_counts()[1] - N_fraud_test)\n",
    "\n",
    "# How much features:\n",
    "n_F_max = len(ds_cols)\n",
    "n_F_min = n_F_max//2\n",
    "\n",
    "# Droped trees limit:\n",
    "D = 100\n",
    "\n",
    "# Delta Threshold\n",
    "delta_Th = 0.02\n",
    "\n",
    "# Metric"
   ]
  },
  {
   "cell_type": "code",
   "execution_count": 13,
   "metadata": {
    "execution": {
     "iopub.execute_input": "2021-08-14T22:00:25.211105Z",
     "iopub.status.busy": "2021-08-14T22:00:25.210692Z",
     "iopub.status.idle": "2021-08-14T22:00:25.217335Z",
     "shell.execute_reply": "2021-08-14T22:00:25.216439Z",
     "shell.execute_reply.started": "2021-08-14T22:00:25.211069Z"
    }
   },
   "outputs": [
    {
     "data": {
      "text/plain": [
       "3212"
      ]
     },
     "execution_count": 13,
     "metadata": {},
     "output_type": "execute_result"
    }
   ],
   "source": []
  },
  {
   "cell_type": "code",
   "execution_count": 15,
   "metadata": {
    "execution": {
     "iopub.execute_input": "2021-08-14T22:01:43.434098Z",
     "iopub.status.busy": "2021-08-14T22:01:43.433426Z",
     "iopub.status.idle": "2021-08-14T22:01:43.439564Z",
     "shell.execute_reply": "2021-08-14T22:01:43.438674Z",
     "shell.execute_reply.started": "2021-08-14T22:01:43.434057Z"
    }
   },
   "outputs": [
    {
     "data": {
      "text/plain": [
       "14"
      ]
     },
     "execution_count": 15,
     "metadata": {},
     "output_type": "execute_result"
    }
   ],
   "source": [
    "n_F_min"
   ]
  },
  {
   "cell_type": "code",
   "execution_count": null,
   "metadata": {},
   "outputs": [],
   "source": []
  }
 ],
 "metadata": {
  "kernelspec": {
   "display_name": "Python 3 (ipykernel)",
   "language": "python",
   "name": "python3"
  },
  "language_info": {
   "codemirror_mode": {
    "name": "ipython",
    "version": 3
   },
   "file_extension": ".py",
   "mimetype": "text/x-python",
   "name": "python",
   "nbconvert_exporter": "python",
   "pygments_lexer": "ipython3",
   "version": "3.9.6"
  }
 },
 "nbformat": 4,
 "nbformat_minor": 4
}
